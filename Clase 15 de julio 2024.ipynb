{
 "cells": [
  {
   "cell_type": "code",
   "execution_count": 128,
   "metadata": {},
   "outputs": [
    {
     "name": "stdout",
     "output_type": "stream",
     "text": [
      "['1', '2', '3', '4', '5']\n",
      "['1', '2', '3', '4', '5']\n",
      "[2, 3, 4]\n"
     ]
    }
   ],
   "source": [
    "#Repaso Tema 3\n",
    "\n",
    "l = [1,2,3,4,5]\n",
    "\n",
    "# Convertir una función a cadena\n",
    "print(list(map(lambda x: str(x),l)))\n",
    "print(list(map(str,l)))\n",
    "\n",
    "# Quedarse con aquellos elementos que estén a una distancia menor o igual a 1 respecto a 3\n",
    "print(list(filter(lambda x: abs(x-3) <= 1, l)))\n",
    "\n",
    "#Mirar los apuntes del profe"
   ]
  },
  {
   "cell_type": "code",
   "execution_count": 157,
   "metadata": {},
   "outputs": [
    {
     "name": "stdin",
     "output_type": "stream",
     "text": [
      "Dame un número: 10\n"
     ]
    },
    {
     "name": "stdout",
     "output_type": "stream",
     "text": [
      "3840\n"
     ]
    }
   ],
   "source": [
    "# Función recursiva que obtenfa el producto de los valores entre 1 y n\n",
    "\n",
    "def multNumPares(x):\n",
    "    if x == 1:\n",
    "        return 1\n",
    "    else:\n",
    "        if x%2 == 0:\n",
    "            return x * multNumPares(x-1)\n",
    "        else:\n",
    "            return multNumPares(x-1)\n",
    "\n",
    "print(multNumPares(int(input(\"Dame un número:\"))))            "
   ]
  },
  {
   "cell_type": "code",
   "execution_count": 2,
   "metadata": {},
   "outputs": [],
   "source": [
    "from copy import deepcopy\n",
    "\n",
    "class Student:\n",
    "    def __init__(\n",
    "        self, name, student_id,\n",
    "        eng_quiz = None, math_quiz = None,\n",
    "        science_quiz = None\n",
    "    ):\n",
    "        self.name = name\n",
    "\n",
    "        if (\n",
    "            not isinstance(student_id, int) or\n",
    "            len(str(student_id)) != 8\n",
    "        ):\n",
    "            raise ValueError(\"El identificador del estudiante debe de ser un entero de 8 dígitos\")\n",
    "        \n",
    "        self.student_id = student_id    \n",
    "        self.eng_quiz = eng_quiz\n",
    "        self.math_quiz = math_quiz\n",
    "        self.science_quiz = science_quiz\n",
    "\n",
    "    def __str__(self):\n",
    "        return (\n",
    "            f\"Name : {self.name}, ID : {self.student_id}\\n\\n\"\n",
    "            f\"English quiz score : {self.eng_quiz if self.eng_quiz is not None else 'No score'}\\n\"\n",
    "            f\"Mathematics quiz score : {self.math_quiz if self.math_quiz is not None else 'No score'}\\n\"\n",
    "            f\"Science quiz score : {self.science_quiz if self.science_quiz is not None else 'No score'}\"\n",
    "        )\n",
    "\n",
    "    # Métodos de asignación\n",
    "    def set_eng_quiz(self, score):\n",
    "        self.eng_quiz = score\n",
    "\n",
    "    def set_math_quiz(self, score):\n",
    "        self.math_quiz = score\n",
    "\n",
    "    def set_science_quiz(self, score):\n",
    "        self.science_quiz = score\n",
    "\n",
    "    # Métodos de recuperación de información\n",
    "    def get_name(self):\n",
    "        return self.name\n",
    "\n",
    "    def get_student_id(self):\n",
    "        return self.student_id\n",
    "    \n",
    "    def get_eng_quiz(self):\n",
    "        return self.eng_quiz\n",
    "\n",
    "    def get_math_quiz(self):\n",
    "        return self.math_quiz\n",
    "\n",
    "    def get_science_quiz(self):\n",
    "        return self.science_quiz\n",
    "\n",
    "    # Métodos agregados\n",
    "    def get_total_score(self):\n",
    "        if (\n",
    "            self.eng_quiz is None or\n",
    "            self.math_quiz is None or\n",
    "            self.science_quiz is None\n",
    "        ):\n",
    "            return None\n",
    "\n",
    "        return (\n",
    "            self.eng_quiz +\n",
    "            self.math_quiz +\n",
    "            self.science_quiz\n",
    "        )\n",
    "\n",
    "    def get_avg_score(self):\n",
    "        total = self.get_total_score()\n",
    "\n",
    "        if total is None:\n",
    "            return None\n",
    "\n",
    "        return total / 3"
   ]
  },
  {
   "cell_type": "markdown",
   "metadata": {},
   "source": [
    "### Ejercicio 0\n",
    "\n",
    "Copia de la sesión anterior la clase `Student`.\n",
    "\n",
    "Implementa el método `__hash__` para que el hash del estudiante sea el `student_id`"
   ]
  },
  {
   "cell_type": "code",
   "execution_count": 79,
   "metadata": {},
   "outputs": [],
   "source": [
    "from copy import deepcopy\n",
    "\n",
    "class Student:\n",
    "    def __init__(\n",
    "        self, name, student_id,\n",
    "        eng_quiz = None, math_quiz = None,\n",
    "        science_quiz = None\n",
    "    ):\n",
    "        self.name = name\n",
    "\n",
    "        if (\n",
    "            not isinstance(student_id, int) or\n",
    "            len(str(student_id)) != 8\n",
    "        ):\n",
    "            raise ValueError(\"El identificador del estudiante debe de ser un entero de 8 dígitos\")\n",
    "        \n",
    "        self.student_id = student_id    \n",
    "        self.eng_quiz = eng_quiz\n",
    "        self.math_quiz = math_quiz\n",
    "        self.science_quiz = science_quiz\n",
    "\n",
    "    def __str__(self): # Está pensado para el usuario, para cuando hagamos un print\n",
    "        return (\n",
    "            f\"Name : {self.name}, ID : {self.student_id}\\n\\n\"\n",
    "            f\"English quiz score : {self.eng_quiz if self.eng_quiz is not None else 'No score'}\\n\"\n",
    "            f\"Mathematics quiz score : {self.math_quiz if self.math_quiz is not None else 'No score'}\\n\"\n",
    "            f\"Science quiz score : {self.science_quiz if self.science_quiz is not None else 'No score'}\"\n",
    "        )\n",
    "\n",
    "    \n",
    "    def to_dict(self):\n",
    "        return {\n",
    "            \"name\": self.name,\n",
    "            \"student_id\": self.student_id,\n",
    "            \"eng_quiz\": self.eng_quiz,\n",
    "            \"math_quiz\": self.math_quiz,\n",
    "            \"science_quiz\": self.science_quiz\n",
    "        }\n",
    "\n",
    "    def __repr__(self): # Está pensado para la máquina\n",
    "        return str(self.to_dict())\n",
    "    \n",
    "    def __hash__(self):\n",
    "        return hash((self.student_id)) ## identificamos al estudiant por el id\n",
    "        \n",
    "\n",
    "    # Métodos de asignación\n",
    "    def set_eng_quiz(self, score):\n",
    "        self.eng_quiz = score\n",
    "\n",
    "    def set_math_quiz(self, score):\n",
    "        self.math_quiz = score\n",
    "\n",
    "    def set_science_quiz(self, score):\n",
    "        self.science_quiz = score\n",
    "\n",
    "    # Métodos de recuperación de información\n",
    "    def get_name(self):\n",
    "        return self.name\n",
    "\n",
    "    def get_student_id(self):\n",
    "        return self.student_id\n",
    "    \n",
    "    def get_eng_quiz(self):\n",
    "        return self.eng_quiz\n",
    "\n",
    "    def get_math_quiz(self):\n",
    "        return self.math_quiz\n",
    "\n",
    "    def get_science_quiz(self):\n",
    "        return self.science_quiz\n",
    "\n",
    "    # Métodos agregados\n",
    "    def get_total_score(self):\n",
    "        if (\n",
    "            self.eng_quiz is None or\n",
    "            self.math_quiz is None or\n",
    "            self.science_quiz is None\n",
    "        ):\n",
    "            return None\n",
    "\n",
    "        return (\n",
    "            self.eng_quiz +\n",
    "            self.math_quiz +\n",
    "            self.science_quiz\n",
    "        )\n",
    "\n",
    "    def get_avg_score(self):\n",
    "        total = self.get_total_score()\n",
    "\n",
    "        if total is None:\n",
    "            return None\n",
    "\n",
    "        return total / 3"
   ]
  },
  {
   "cell_type": "code",
   "execution_count": 4,
   "metadata": {},
   "outputs": [
    {
     "data": {
      "text/plain": [
       "12345678"
      ]
     },
     "execution_count": 4,
     "metadata": {},
     "output_type": "execute_result"
    }
   ],
   "source": [
    "hash(Student('John Doe',12345678))"
   ]
  },
  {
   "cell_type": "code",
   "execution_count": 82,
   "metadata": {},
   "outputs": [
    {
     "data": {
      "text/plain": [
       "{{'name': 'Student 1', 'student_id': 11111111, 'eng_quiz': 8, 'math_quiz': 9.5, 'science_quiz': 5.5},\n",
       " {'name': 'Student 2', 'student_id': 11111112, 'eng_quiz': 10, 'math_quiz': 8.5, 'science_quiz': 8.5},\n",
       " {'name': 'Student 3', 'student_id': 11111113, 'eng_quiz': 0, 'math_quiz': 0.5, 'science_quiz': 0.5},\n",
       " {'name': 'Student 4', 'student_id': 11111114, 'eng_quiz': 6, 'math_quiz': 6.5, 'science_quiz': 7.5},\n",
       " {'name': 'Student 5', 'student_id': 11111115, 'eng_quiz': 6.5, 'math_quiz': 6.5, 'science_quiz': 7.5},\n",
       " {'name': 'Student 6', 'student_id': 11111116, 'eng_quiz': 8.5, 'math_quiz': 8.5, 'science_quiz': 10},\n",
       " {'name': 'Student 7', 'student_id': 11111117, 'eng_quiz': 8.0, 'math_quiz': 7.5, 'science_quiz': 4},\n",
       " {'name': 'Student 8', 'student_id': 11111118, 'eng_quiz': 7.0, 'math_quiz': 7.5, 'science_quiz': 7}}"
      ]
     },
     "execution_count": 82,
     "metadata": {},
     "output_type": "execute_result"
    }
   ],
   "source": [
    "students = {\n",
    "    Student('Student 1', 11111111, 8, 9.5, 5.5),\n",
    "    Student('Student 2', 11111112, 10, 8.5, 8.5),\n",
    "    Student('Student 3', 11111113, 0, 0.5, 0.5),\n",
    "    Student('Student 4', 11111114, 6, 6.5, 7.5),\n",
    "    Student('Student 5', 11111115, 6.5, 6.5, 7.5),\n",
    "    Student('Student 6', 11111116, 8.5, 8.5, 10),\n",
    "    Student('Student 7', 11111117, 8.0, 7.5, 4),\n",
    "    Student('Student 8', 11111118, 7.0, 7.5, 7),\n",
    "}\n",
    "students"
   ]
  },
  {
   "cell_type": "code",
   "execution_count": 81,
   "metadata": {},
   "outputs": [
    {
     "data": {
      "text/plain": [
       "{'name': 'Student 1', 'student_id': 11111111, 'eng_quiz': 8, 'math_quiz': 9.5, 'science_quiz': 5.5}"
      ]
     },
     "execution_count": 81,
     "metadata": {},
     "output_type": "execute_result"
    }
   ],
   "source": [
    "student1 =  Student('Student 1', 11111111, 8, 9.5, 5.5)\n",
    "ds1 = student1.to_dict()\n",
    "\n",
    "Student(**ds1) #--> esto es como se pasa un diccionario por parámetro\n",
    "\n",
    "# Sería lo mismo hacer\n",
    "# Student(name='Student1', student_id= 11111111,eng_quiz= 8 , math_quiz=9.5,science_quiz=5.5 )\n",
    "#"
   ]
  },
  {
   "cell_type": "code",
   "execution_count": 83,
   "metadata": {},
   "outputs": [
    {
     "data": {
      "text/plain": [
       "\"{'name': 'Student 1', 'student_id': 11111111, 'eng_quiz': 8, 'math_quiz': 9.5, 'science_quiz': 5.5}\""
      ]
     },
     "execution_count": 83,
     "metadata": {},
     "output_type": "execute_result"
    }
   ],
   "source": [
    "# Representación legible para la maquina\n",
    "repr(student1.to_dict())"
   ]
  },
  {
   "cell_type": "code",
   "execution_count": 47,
   "metadata": {},
   "outputs": [
    {
     "data": {
      "text/plain": [
       "\"{'name': 'Student 1', 'student_id': 11111111, 'eng_quiz': 8, 'math_quiz': 9.5, 'science_quiz': 5.5}\""
      ]
     },
     "execution_count": 47,
     "metadata": {},
     "output_type": "execute_result"
    }
   ],
   "source": [
    "str(student1.to_dict())"
   ]
  },
  {
   "cell_type": "code",
   "execution_count": 84,
   "metadata": {},
   "outputs": [
    {
     "name": "stdout",
     "output_type": "stream",
     "text": [
      "{{'name': 'Student 1', 'student_id': 11111111, 'eng_quiz': 8, 'math_quiz': 9.5, 'science_quiz': 5.5}, {'name': 'Student 2', 'student_id': 11111112, 'eng_quiz': 10, 'math_quiz': 8.5, 'science_quiz': 8.5}, {'name': 'Student 3', 'student_id': 11111113, 'eng_quiz': 0, 'math_quiz': 0.5, 'science_quiz': 0.5}, {'name': 'Student 4', 'student_id': 11111114, 'eng_quiz': 6, 'math_quiz': 6.5, 'science_quiz': 7.5}, {'name': 'Student 5', 'student_id': 11111115, 'eng_quiz': 6.5, 'math_quiz': 6.5, 'science_quiz': 7.5}, {'name': 'Student 6', 'student_id': 11111116, 'eng_quiz': 8.5, 'math_quiz': 8.5, 'science_quiz': 10}, {'name': 'Student 7', 'student_id': 11111117, 'eng_quiz': 8.0, 'math_quiz': 7.5, 'science_quiz': 4}, {'name': 'Student 8', 'student_id': 11111118, 'eng_quiz': 7.0, 'math_quiz': 7.5, 'science_quiz': 7}}\n"
     ]
    }
   ],
   "source": [
    "print(students) # está llamando al str"
   ]
  },
  {
   "cell_type": "code",
   "execution_count": 86,
   "metadata": {},
   "outputs": [
    {
     "data": {
      "text/plain": [
       "{{'name': 'Student 1', 'student_id': 11111111, 'eng_quiz': 8, 'math_quiz': 9.5, 'science_quiz': 5.5},\n",
       " {'name': 'Student 2', 'student_id': 11111112, 'eng_quiz': 10, 'math_quiz': 8.5, 'science_quiz': 8.5},\n",
       " {'name': 'Student 3', 'student_id': 11111113, 'eng_quiz': 0, 'math_quiz': 0.5, 'science_quiz': 0.5},\n",
       " {'name': 'Student 4', 'student_id': 11111114, 'eng_quiz': 6, 'math_quiz': 6.5, 'science_quiz': 7.5},\n",
       " {'name': 'Student 5', 'student_id': 11111115, 'eng_quiz': 6.5, 'math_quiz': 6.5, 'science_quiz': 7.5},\n",
       " {'name': 'Student 6', 'student_id': 11111116, 'eng_quiz': 8.5, 'math_quiz': 8.5, 'science_quiz': 10},\n",
       " {'name': 'Student 7', 'student_id': 11111117, 'eng_quiz': 8.0, 'math_quiz': 7.5, 'science_quiz': 4},\n",
       " {'name': 'Student 8', 'student_id': 11111118, 'eng_quiz': 7.0, 'math_quiz': 7.5, 'science_quiz': 7}}"
      ]
     },
     "execution_count": 86,
     "metadata": {},
     "output_type": "execute_result"
    }
   ],
   "source": [
    "students # está llamando al método de representación"
   ]
  },
  {
   "cell_type": "markdown",
   "metadata": {},
   "source": [
    "### Ejercicio 1\n",
    "\n",
    "Definir clase `Classroom` que cuenta con el atributo `students`. Un conjunto (`set`) de elementos `Student`.\n",
    "\n",
    "Al constructor se le podrá pasar un conjunto de estudiantes o no (`None`)."
   ]
  },
  {
   "cell_type": "code",
   "execution_count": 89,
   "metadata": {},
   "outputs": [
    {
     "data": {
      "text/plain": [
       "{{'name': 'Student 1', 'student_id': 11111111, 'eng_quiz': 8, 'math_quiz': 9.5, 'science_quiz': 5.5}, {'name': 'Student 2', 'student_id': 11111112, 'eng_quiz': 10, 'math_quiz': 8.5, 'science_quiz': 8.5}, {'name': 'Student 3', 'student_id': 11111113, 'eng_quiz': 0, 'math_quiz': 0.5, 'science_quiz': 0.5}, {'name': 'Student 4', 'student_id': 11111114, 'eng_quiz': 6, 'math_quiz': 6.5, 'science_quiz': 7.5}, {'name': 'Student 5', 'student_id': 11111115, 'eng_quiz': 6.5, 'math_quiz': 6.5, 'science_quiz': 7.5}, {'name': 'Student 6', 'student_id': 11111116, 'eng_quiz': 8.5, 'math_quiz': 8.5, 'science_quiz': 10}, {'name': 'Student 7', 'student_id': 11111117, 'eng_quiz': 8.0, 'math_quiz': 7.5, 'science_quiz': 4}, {'name': 'Student 8', 'student_id': 11111118, 'eng_quiz': 7.0, 'math_quiz': 7.5, 'science_quiz': 7}}"
      ]
     },
     "execution_count": 89,
     "metadata": {},
     "output_type": "execute_result"
    }
   ],
   "source": [
    "class Classroom():\n",
    "    def __init__(\n",
    "        self, students = None\n",
    "    ):\n",
    "        self.students = set() if students is None else students\n",
    "\n",
    "    def __repr__(self):\n",
    "        return repr(self.students) # si queremos que nos devuelva la representación de los estudiantes forzaremos a utilizar su repr\n",
    "\n",
    "classroom1 = Classroom(students)\n",
    "classroom1"
   ]
  },
  {
   "cell_type": "code",
   "execution_count": null,
   "metadata": {},
   "outputs": [],
   "source": []
  },
  {
   "cell_type": "markdown",
   "metadata": {},
   "source": [
    "### Ejercicio 2\n",
    "\n",
    "Método `student_in`, que dado un identificador o nombre completo, devuelve si el estudiante está en la clase"
   ]
  },
  {
   "cell_type": "code",
   "execution_count": 102,
   "metadata": {},
   "outputs": [
    {
     "data": {
      "text/plain": [
       "True"
      ]
     },
     "execution_count": 102,
     "metadata": {},
     "output_type": "execute_result"
    }
   ],
   "source": [
    "class Classroom():\n",
    "    def __init__(\n",
    "        self, students = None\n",
    "    ):\n",
    "        self.students = students\n",
    "\n",
    "    def __repr__(self): ## --> el notebok llama por defecto a repr sino tenemos el método __str__\n",
    "        return repr(self.students)\n",
    "\n",
    "    #def student_in(self, identifier):\n",
    "        #print(self.students)\n",
    "        #for student in self.students:\n",
    "            #if student.student_id == identifier or student.name == identifier:\n",
    "                #return True\n",
    "        #return False\n",
    "    \n",
    "    def student_in(self, student_id= None, name = None):\n",
    "        for student in self.students:\n",
    "            if student_id is not None and student.student_id == student_id:\n",
    "                return True\n",
    "            elif name is not None and student.name == name:\n",
    "                return True\n",
    "            else:\n",
    "                return False\n",
    "\n",
    "classroom1 = Classroom(students)\n",
    "classroom1.student_in(student_id=11111111)\n",
    "\n"
   ]
  },
  {
   "cell_type": "markdown",
   "metadata": {},
   "source": [
    "### Ejercicio 3\n",
    "\n",
    "Añadir método `add_student` para añadir estudiante, el cual podrá recibir lo siguiente:\n",
    "\n",
    "**Un**\n",
    "\n",
    "- `student`: Objeto de la clase `Student`\n",
    "\n",
    "**O**\n",
    "\n",
    "- `name`: Nombre del estudiante (obligatorio)\n",
    "- `student_id`: Identificator del estudiante (obligatorio)\n",
    "- `eng_quiz`: Nota de inglés (opcional, None)\n",
    "- `math_quiz`: Nota de matemáticas (opcional, None)\n",
    "- `science_quiz`: Nota de ciencias (opcional, None)\n",
    "\n",
    "\n",
    "Si el estudiante ya existe (ID), devolver `False`, en caso contrario `True`"
   ]
  },
  {
   "cell_type": "code",
   "execution_count": 120,
   "metadata": {},
   "outputs": [
    {
     "name": "stdout",
     "output_type": "stream",
     "text": [
      "{{'name': 'Student 1', 'student_id': 11111111, 'eng_quiz': 8, 'math_quiz': 9.5, 'science_quiz': 5.5}, {'name': 'Student 2', 'student_id': 11111112, 'eng_quiz': 10, 'math_quiz': 8.5, 'science_quiz': 8.5}, {'name': 'Student 3', 'student_id': 11111113, 'eng_quiz': 0, 'math_quiz': 0.5, 'science_quiz': 0.5}, {'name': 'Student 4', 'student_id': 11111114, 'eng_quiz': 6, 'math_quiz': 6.5, 'science_quiz': 7.5}, {'name': 'Student 5', 'student_id': 11111115, 'eng_quiz': 6.5, 'math_quiz': 6.5, 'science_quiz': 7.5}, {'name': 'Student 6', 'student_id': 11111116, 'eng_quiz': 8.5, 'math_quiz': 8.5, 'science_quiz': 10}, {'name': 'Student 7', 'student_id': 11111117, 'eng_quiz': 8.0, 'math_quiz': 7.5, 'science_quiz': 4}, {'name': 'Student 8', 'student_id': 11111118, 'eng_quiz': 7.0, 'math_quiz': 7.5, 'science_quiz': 7}}\n"
     ]
    },
    {
     "data": {
      "text/plain": [
       "{{'name': 'Student 1', 'student_id': 11111111, 'eng_quiz': 8, 'math_quiz': 9.5, 'science_quiz': 5.5}, {'name': 'Student 2', 'student_id': 11111112, 'eng_quiz': 10, 'math_quiz': 8.5, 'science_quiz': 8.5}, {'name': 'Student 3', 'student_id': 11111113, 'eng_quiz': 0, 'math_quiz': 0.5, 'science_quiz': 0.5}, {'name': 'Student 4', 'student_id': 11111114, 'eng_quiz': 6, 'math_quiz': 6.5, 'science_quiz': 7.5}, {'name': 'Student 5', 'student_id': 11111115, 'eng_quiz': 6.5, 'math_quiz': 6.5, 'science_quiz': 7.5}, {'name': 'Student 6', 'student_id': 11111116, 'eng_quiz': 8.5, 'math_quiz': 8.5, 'science_quiz': 10}, {'name': 'Student 7', 'student_id': 11111117, 'eng_quiz': 8.0, 'math_quiz': 7.5, 'science_quiz': 4}, {'name': 'Student 8', 'student_id': 11111118, 'eng_quiz': 7.0, 'math_quiz': 7.5, 'science_quiz': 7}}"
      ]
     },
     "execution_count": 120,
     "metadata": {},
     "output_type": "execute_result"
    }
   ],
   "source": [
    "class Classroom():\n",
    "    def __init__(\n",
    "        self, students = None\n",
    "    ):\n",
    "        self.students = students\n",
    "\n",
    "    def __repr__(self): ## --> el notebok llama por defecto a repr sino tenemos el método __str__\n",
    "        return repr(self.students)\n",
    "    \n",
    "    def student_in(self, student_id= None, name = None):\n",
    "        for student in self.students:\n",
    "            if student_id is not None and student.student_id == student_id and name is not None and student.name == name:\n",
    "                return True\n",
    "            elif student_id is not None and student.student_id == student_id:\n",
    "                return True\n",
    "            elif name is not None and student.name == name:\n",
    "                return True\n",
    "            else:\n",
    "                return False\n",
    "    \n",
    "    def add_student(self, student):\n",
    "        list(self.students).append(student)\n",
    "        print(self.students)\n",
    "\n",
    "\n",
    "classroom1 = Classroom(students)    \n",
    "classroom1.add_student(student={\n",
    "    \"name\": \"Stella\",\n",
    "    \"student_id\": 4\n",
    "})\n",
    "\n",
    "classroom1\n",
    "\n"
   ]
  },
  {
   "cell_type": "markdown",
   "metadata": {},
   "source": [
    "### Ejercicio 4\n",
    "\n",
    "Método `remove_student`. Dado un ID de estudiante lo borra de la clase y devuelve el estudiante. En caso de no estar devuelve `None`"
   ]
  },
  {
   "cell_type": "markdown",
   "metadata": {},
   "source": []
  },
  {
   "cell_type": "markdown",
   "metadata": {},
   "source": [
    "### Ejercicio 5\n",
    "\n",
    "Implementar método `set_score`. Este método recibirá la asignatura (`english`, `math` or `science`), el identificador del estudiante y la puntuación de dicha asignatura. Si el estudiante no existe devolverá `False`, en caso contrario `True`."
   ]
  },
  {
   "cell_type": "code",
   "execution_count": null,
   "metadata": {},
   "outputs": [],
   "source": []
  },
  {
   "cell_type": "markdown",
   "metadata": {},
   "source": [
    "### Ejercicio 6\n",
    "\n",
    "Implementar método `get_score`. Este método recibirá la asignatura (`english`, `math` or `science`), el identificador del estudiante. Si el estudiante devolverá `None`."
   ]
  },
  {
   "cell_type": "code",
   "execution_count": null,
   "metadata": {},
   "outputs": [],
   "source": []
  },
  {
   "cell_type": "markdown",
   "metadata": {},
   "source": [
    "### Ejercicio 7\n",
    "\n",
    "Implementa método `set_scores`. Este método recibirá la asignatura (`english`, `math` or `science`), y un diccionario con el `student_id` como clave y la nota como valor. Asigna la nota a cada studiante."
   ]
  },
  {
   "cell_type": "code",
   "execution_count": null,
   "metadata": {},
   "outputs": [],
   "source": []
  },
  {
   "cell_type": "markdown",
   "metadata": {},
   "source": [
    "### Ejercicio 8\n",
    "\n",
    "Implementa método `get_scores`. Este método recibirá la asignatura (`english`, `math` or `science`), y una lista de identificadores de studiante. Devuelve un diccionario con `student_id` como clave y la nota como valor."
   ]
  },
  {
   "cell_type": "code",
   "execution_count": null,
   "metadata": {},
   "outputs": [],
   "source": []
  }
 ],
 "metadata": {
  "kernelspec": {
   "display_name": "Python 3 (ipykernel)",
   "language": "python",
   "name": "python3"
  },
  "language_info": {
   "codemirror_mode": {
    "name": "ipython",
    "version": 3
   },
   "file_extension": ".py",
   "mimetype": "text/x-python",
   "name": "python",
   "nbconvert_exporter": "python",
   "pygments_lexer": "ipython3",
   "version": "3.11.7"
  }
 },
 "nbformat": 4,
 "nbformat_minor": 4
}
