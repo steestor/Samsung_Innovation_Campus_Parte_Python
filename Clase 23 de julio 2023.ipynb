{
 "cells": [
  {
   "cell_type": "code",
   "execution_count": 1,
   "id": "c99619fa-2a1e-4f2e-9356-ea71f01d593d",
   "metadata": {},
   "outputs": [
    {
     "name": "stdout",
     "output_type": "stream",
     "text": [
      "<class 'float'> 1.0\n"
     ]
    }
   ],
   "source": [
    "# Ejercicio 1\n",
    "x = float(\"1\")\n",
    "print(type(x),x)"
   ]
  },
  {
   "cell_type": "code",
   "execution_count": 2,
   "id": "56427850-43f4-43a0-9512-08fd26f3b45c",
   "metadata": {},
   "outputs": [
    {
     "name": "stdin",
     "output_type": "stream",
     "text": [
      "Introduzca una cadena: abc\n",
      "Introduzca una cadena: def\n",
      "Introduzca una cadena: ghi\n"
     ]
    },
    {
     "name": "stdout",
     "output_type": "stream",
     "text": [
      "['abc', 'def', 'ghi']\n"
     ]
    }
   ],
   "source": [
    "# Ejercicio 2\n",
    "x = []\n",
    "for i in range(3):\n",
    "    cadena = input(\"Introduzca una cadena:\")\n",
    "    x.append(cadena)\n",
    "print(x)"
   ]
  },
  {
   "cell_type": "code",
   "execution_count": 4,
   "id": "64627414-aa93-4107-b477-992154e0b10e",
   "metadata": {},
   "outputs": [
    {
     "name": "stdin",
     "output_type": "stream",
     "text": [
      "Introduzca un número entero: abc\n"
     ]
    },
    {
     "name": "stdout",
     "output_type": "stream",
     "text": [
      "El input introducido abc, no es un número\n"
     ]
    },
    {
     "name": "stdin",
     "output_type": "stream",
     "text": [
      "Introduzca un número entero: 123\n"
     ]
    },
    {
     "name": "stdout",
     "output_type": "stream",
     "text": [
      "123\n"
     ]
    }
   ],
   "source": [
    "# Ejercicio 3\n",
    "def function3():\n",
    "    num = None\n",
    "    while num == None:\n",
    "        user_input = input(\"Introduzca un número entero:\")\n",
    "        try:\n",
    "            num= int(user_input)\n",
    "        except ValueError:\n",
    "            print(f'El input introducido {user_input}, no es un número')\n",
    "    return num    \n",
    "\n",
    "print(function3())"
   ]
  },
  {
   "cell_type": "code",
   "execution_count": 8,
   "id": "1bc441f1-ffe0-4a33-b60e-159d57ad7821",
   "metadata": {},
   "outputs": [
    {
     "name": "stdin",
     "output_type": "stream",
     "text": [
      "Introduzca un número entero: 12\n",
      "Introduzca un número entero: 15\n",
      "Introduzca un número entero: 8\n"
     ]
    },
    {
     "name": "stdout",
     "output_type": "stream",
     "text": [
      "12 es múltiplo de 3 pero no de 5\n",
      "15 no es múltiplo de 3 o es de 5\n",
      "8 no es múltiplo de 3 o es de 5\n"
     ]
    }
   ],
   "source": [
    "# Ejercicio 4\n",
    "nums = [function3() for i in range(3)]\n",
    "for x in nums:\n",
    "    if x%3 == 0 and x%5 != 0:\n",
    "        print(x, \"es múltiplo de 3 pero no de 5\")\n",
    "    else:\n",
    "        print(x, \"no es múltiplo de 3 o es de 5\")"
   ]
  },
  {
   "cell_type": "code",
   "execution_count": 9,
   "id": "23021a51-63bf-4de9-869a-2cc559c96cdf",
   "metadata": {},
   "outputs": [
    {
     "name": "stdin",
     "output_type": "stream",
     "text": [
      "Longitud máxima: 5\n"
     ]
    },
    {
     "name": "stdout",
     "output_type": "stream",
     "text": [
      "U\n",
      "n\n",
      "a\n",
      " \n",
      "f\n"
     ]
    }
   ],
   "source": [
    "# Ejercicio 5\n",
    "x = \"Una fabulosa cadena\"\n",
    "long_max = int(input(\"Longitud máxima:\"))\n",
    "pos = 0\n",
    "\n",
    "while pos < long_max:\n",
    "    print(x[pos])\n",
    "    pos +=1"
   ]
  },
  {
   "cell_type": "code",
   "execution_count": 11,
   "id": "47323107-ea3c-4c09-b503-812ad275a3d5",
   "metadata": {},
   "outputs": [
    {
     "name": "stdin",
     "output_type": "stream",
     "text": [
      "Introduce una cadena: Hola mundo, mundano\n"
     ]
    },
    {
     "name": "stdout",
     "output_type": "stream",
     "text": [
      "Se ha encontrado una 'a' en la posición 3\n",
      "Se ha encontrado una 'a' en la posición 16\n"
     ]
    }
   ],
   "source": [
    "# Ejercicio 6\n",
    "user_input = input(\"Introduce una cadena:\")\n",
    "for i, letter in enumerate(user_input):\n",
    "    if letter == 'a':\n",
    "        print(\"Se ha encontrado una 'a' en la posición\", i)"
   ]
  },
  {
   "cell_type": "code",
   "execution_count": 12,
   "id": "116ac821-d1e1-412b-9d88-b2c98e106fdc",
   "metadata": {},
   "outputs": [
    {
     "name": "stdin",
     "output_type": "stream",
     "text": [
      "Introduce una cadena para contar la aparición de los caracteres: Mi mejor moda\n"
     ]
    },
    {
     "name": "stdout",
     "output_type": "stream",
     "text": [
      "{'M': 1, 'i': 1, ' ': 2, 'm': 2, 'e': 1, 'j': 1, 'o': 2, 'r': 1, 'd': 1, 'a': 1}\n"
     ]
    }
   ],
   "source": [
    "# Ejercicio 7\n",
    "user_input = input(\"Introduce una cadena para contar la aparición de los caracteres:\")\n",
    "\n",
    "x = {}\n",
    "for c in user_input:\n",
    "    if c not in x:\n",
    "        x[c] = 1\n",
    "    else:\n",
    "        x[c] +=1\n",
    "print(x)"
   ]
  },
  {
   "cell_type": "code",
   "execution_count": 19,
   "id": "a065e3fe-591d-4f5c-9370-14da2c476af5",
   "metadata": {},
   "outputs": [
    {
     "name": "stdout",
     "output_type": "stream",
     "text": [
      "'x' e 'y' tienen los siguientes elementos en común: {2}\n",
      "'y' tiene los siguientes elementos que 'x' no: {5}\n",
      "'z' junto con 'y' forman el siguiente grupo: {2, 3, 5}\n",
      "'z' junto con 'y' tienen los siguientes elementos que 'x' no: {5}\n",
      "Todos los elementos de 'z' están en 'x'\n",
      "No todos los elementos de 'z' están en 'y'\n"
     ]
    }
   ],
   "source": [
    "# Ejercicio 8\n",
    "x = {1,2,3}\n",
    "y = {2,5}\n",
    "z = {2,3}\n",
    "\n",
    "print(\"'x' e 'y' tienen los siguientes elementos en común:\", x.intersection(y))\n",
    "print(\"'y' tiene los siguientes elementos que 'x' no:\", y.difference(x))\n",
    "print(\"'z' junto con 'y' forman el siguiente grupo:\", z.union(y))\n",
    "print(\"'z' junto con 'y' tienen los siguientes elementos que 'x' no:\", (z.union(y)).difference(x)) \n",
    "\n",
    "if z.issuperset(z):\n",
    "    print(\"Todos los elementos de 'z' están en 'x'\")\n",
    "if not z.issuperset(y):\n",
    "    print(\"No todos los elementos de 'z' están en 'y'\")"
   ]
  },
  {
   "cell_type": "code",
   "execution_count": 49,
   "id": "6c974877-e52c-4342-98ff-a461672b3b23",
   "metadata": {},
   "outputs": [
    {
     "name": "stdin",
     "output_type": "stream",
     "text": [
      "Introduzca una cadena: Hola MunDO\n"
     ]
    },
    {
     "name": "stdout",
     "output_type": "stream",
     "text": [
      "Vocales: ('o', 'a', 'u', 'O')\n",
      "Resto: ('H', 'l', ' ', 'M', 'n', 'D')\n"
     ]
    }
   ],
   "source": [
    "# Ejercicio 9 -> Tiene truqui\n",
    "\n",
    "user_input = input(\"Introduzca una cadena:\")\n",
    "vocales = {'a', 'e', 'i', 'o', 'u'}\n",
    "\n",
    "ui_vocales = tuple(c for c in user_input if c.lower() in vocales) # Si no ponemos la palabra tuple devolvería un generador\n",
    "ui_resto = tuple(c for c in user_input if c.lower() not in vocales) \n",
    "\n",
    "print(\"Vocales:\", ui_vocales)\n",
    "print(\"Resto:\", ui_resto)"
   ]
  },
  {
   "cell_type": "code",
   "execution_count": 27,
   "id": "2d7d94ef-46d9-449f-92b8-b5b0bcd61e41",
   "metadata": {},
   "outputs": [
    {
     "name": "stdin",
     "output_type": "stream",
     "text": [
      "Introduzca la cadena: Hello, world\n"
     ]
    },
    {
     "name": "stdout",
     "output_type": "stream",
     "text": [
      "Hello dlrow \n"
     ]
    }
   ],
   "source": [
    "# Ejercicio 10\n",
    "x = input(\"Introduzca la cadena:\")\n",
    "print(x.split(',')[0], (x.split(',')[1])[::-1])"
   ]
  },
  {
   "cell_type": "code",
   "execution_count": 30,
   "id": "f2bc8694-a1b2-4f7c-8b3a-7dc3054f72ec",
   "metadata": {},
   "outputs": [
    {
     "name": "stdout",
     "output_type": "stream",
     "text": [
      "[5, 6, 7, 8, 9, 10, 11, 12, 13, 14, 15, 16, 17, 18, 19, 20, 21, 22, 23, 24, 25, 26, 27, 28, 29, 30, 31, 32, 33, 34]\n",
      "[6, 7, 8, 9, 10, 26, 27, 28, 29, 30]\n"
     ]
    }
   ],
   "source": [
    "# Ejercicio 11\n",
    "x = list(range(5,35))\n",
    "y = []\n",
    "\n",
    "for i in x:\n",
    "    if i in range(6,11) or i in range(26,31):\n",
    "        y.append(i)\n",
    "        \n",
    "print(x)\n",
    "print(y)"
   ]
  },
  {
   "cell_type": "code",
   "execution_count": 68,
   "id": "e06f999e-a768-457b-b922-8908e4558fd7",
   "metadata": {},
   "outputs": [
    {
     "name": "stdout",
     "output_type": "stream",
     "text": [
      "[1, 2, 3, 4, 5, 6, 7, 8, 9]\n",
      "[1, 3, 5, 7, 9, 11, 13, 15, 17]\n"
     ]
    }
   ],
   "source": [
    "# Ejercicio 12 \n",
    "f = lambda x: x*2-1\n",
    "x = list(range(1,10))\n",
    "y = list(map(f,x))\n",
    "\n",
    "print(x)\n",
    "print(y)"
   ]
  },
  {
   "cell_type": "code",
   "execution_count": 71,
   "id": "f59397d0-32a2-4716-824d-be1e3de43d36",
   "metadata": {},
   "outputs": [
    {
     "name": "stdout",
     "output_type": "stream",
     "text": [
      "[5, 6, 7, 8, 9, 10, 11, 12, 13, 14, 15, 16, 17, 18, 19, 20, 21, 22, 23, 24, 25, 26, 27, 28, 29, 30, 31, 32, 33, 34]\n",
      "[6, 7, 8, 9, 10, 26, 27, 28, 29, 30]\n"
     ]
    }
   ],
   "source": [
    "# Ejercicio 13\n",
    "f= lambda x: x in range(6,11) or x in range(26,31) \n",
    "x= list(range(5,35))\n",
    "y= list(filter(f, x))\n",
    "\n",
    "print(x)\n",
    "print(y)"
   ]
  },
  {
   "cell_type": "code",
   "execution_count": 46,
   "id": "04c376fe-458c-414f-bdd7-e1797c0f8b1a",
   "metadata": {},
   "outputs": [
    {
     "name": "stdout",
     "output_type": "stream",
     "text": [
      "A\n",
      "A\n",
      "A\n",
      "A\n",
      "C\n",
      "B\n",
      "B\n",
      "B\n",
      "B\n",
      "(2, 4)\n"
     ]
    }
   ],
   "source": [
    "def function14(l):\n",
    "    if len(l) == 0:\n",
    "        print(\"C\")\n",
    "        return (0,0)\n",
    "        \n",
    "    print(\"A\")\n",
    "    x = l[-1]\n",
    "    c = int(x % 2 == 0) + function14(l[:-1])[0]  # Aquí se corrige el slicing.\n",
    "    print(\"B\")\n",
    "    return(c, len(l))\n",
    "    \n",
    "print(function14(list(range(4))))\n"
   ]
  },
  {
   "cell_type": "code",
   "execution_count": 51,
   "id": "7fa5d7e5-f1a8-4822-ae9e-2ce1f9edb101",
   "metadata": {},
   "outputs": [
    {
     "name": "stdout",
     "output_type": "stream",
     "text": [
      "x=0 y=3\n",
      "x=3 y=0\n",
      "x=3 y=0\n"
     ]
    }
   ],
   "source": [
    "# Ejercicio 15\n",
    "x=0\n",
    "def function15(y):\n",
    "    global x\n",
    "    print(f'{x=} {y=}')\n",
    "    x,y = y,x\n",
    "    print(f'{x=} {y=}')\n",
    "    return 0\n",
    "    \n",
    "y=function15(3)\n",
    "print(f'{x=} {y=}')"
   ]
  },
  {
   "cell_type": "code",
   "execution_count": 52,
   "id": "b48c1d90-3acc-4dd5-b0c3-20f050cf8009",
   "metadata": {},
   "outputs": [],
   "source": [
    "# Ejercicio 16\n",
    "\n",
    "def function16(x, *y):\n",
    "    print(f'{x=}', x, y)"
   ]
  },
  {
   "cell_type": "code",
   "execution_count": 53,
   "id": "1f10205f-3629-4643-b0be-91f8465fdb15",
   "metadata": {},
   "outputs": [
    {
     "ename": "TypeError",
     "evalue": "function16() missing 1 required positional argument: 'x'",
     "output_type": "error",
     "traceback": [
      "\u001b[1;31m---------------------------------------------------------------------------\u001b[0m",
      "\u001b[1;31mTypeError\u001b[0m                                 Traceback (most recent call last)",
      "Cell \u001b[1;32mIn[53], line 1\u001b[0m\n\u001b[1;32m----> 1\u001b[0m function16()\n",
      "\u001b[1;31mTypeError\u001b[0m: function16() missing 1 required positional argument: 'x'"
     ]
    }
   ],
   "source": [
    "function16()"
   ]
  },
  {
   "cell_type": "code",
   "execution_count": 54,
   "id": "f6c33782-9aa7-4ea5-a189-6ad90b73ee44",
   "metadata": {},
   "outputs": [
    {
     "name": "stdout",
     "output_type": "stream",
     "text": [
      "x=1 1 ()\n"
     ]
    }
   ],
   "source": [
    "function16(1)"
   ]
  },
  {
   "cell_type": "code",
   "execution_count": 55,
   "id": "300b2a47-fd55-4cac-a376-f97fa11113bb",
   "metadata": {},
   "outputs": [
    {
     "name": "stdout",
     "output_type": "stream",
     "text": [
      "x=1 1 (2,)\n"
     ]
    }
   ],
   "source": [
    "function16(1,2)"
   ]
  },
  {
   "cell_type": "code",
   "execution_count": 56,
   "id": "8dd77718-b3fa-46ff-b4f2-f1d7f8862f75",
   "metadata": {},
   "outputs": [
    {
     "name": "stdout",
     "output_type": "stream",
     "text": [
      "x=1 1 (2, 3, 4, 5)\n"
     ]
    }
   ],
   "source": [
    "function16(1,2,3,4,5)"
   ]
  },
  {
   "cell_type": "code",
   "execution_count": 63,
   "id": "7dc1a890-df48-4b2f-9523-e6b14e7bf35d",
   "metadata": {},
   "outputs": [],
   "source": [
    "# Ejercicio 17\n",
    "def function17(*x, /, y,*, z, **u):\n",
    "    print(f'{x=}',f'{y=}',f'{z=}',f'{u=}' )"
   ]
  },
  {
   "cell_type": "code",
   "execution_count": 59,
   "id": "145235e0-fd18-4199-9cf0-a52f6454e275",
   "metadata": {},
   "outputs": [
    {
     "ename": "TypeError",
     "evalue": "function17() missing 2 required keyword-only arguments: 'y' and 'z'",
     "output_type": "error",
     "traceback": [
      "\u001b[1;31m---------------------------------------------------------------------------\u001b[0m",
      "\u001b[1;31mTypeError\u001b[0m                                 Traceback (most recent call last)",
      "Cell \u001b[1;32mIn[59], line 1\u001b[0m\n\u001b[1;32m----> 1\u001b[0m function17(\u001b[38;5;241m2\u001b[39m,\u001b[38;5;241m3\u001b[39m,\u001b[38;5;241m4\u001b[39m)\n",
      "\u001b[1;31mTypeError\u001b[0m: function17() missing 2 required keyword-only arguments: 'y' and 'z'"
     ]
    }
   ],
   "source": [
    "function17(2,3,4)"
   ]
  },
  {
   "cell_type": "code",
   "execution_count": 60,
   "id": "e9bac39b-9e64-43be-b353-ff2b9b951644",
   "metadata": {},
   "outputs": [
    {
     "ename": "TypeError",
     "evalue": "function17() missing 1 required keyword-only argument: 'y'",
     "output_type": "error",
     "traceback": [
      "\u001b[1;31m---------------------------------------------------------------------------\u001b[0m",
      "\u001b[1;31mTypeError\u001b[0m                                 Traceback (most recent call last)",
      "Cell \u001b[1;32mIn[60], line 1\u001b[0m\n\u001b[1;32m----> 1\u001b[0m function17(\u001b[38;5;241m2\u001b[39m,\u001b[38;5;241m3\u001b[39m,z\u001b[38;5;241m=\u001b[39m\u001b[38;5;241m4\u001b[39m)\n",
      "\u001b[1;31mTypeError\u001b[0m: function17() missing 1 required keyword-only argument: 'y'"
     ]
    }
   ],
   "source": [
    "function17(2,3,z=4)"
   ]
  },
  {
   "cell_type": "code",
   "execution_count": 64,
   "id": "02e47f4e-34f0-48dc-8cf8-2f19e13bff9b",
   "metadata": {},
   "outputs": [
    {
     "name": "stdout",
     "output_type": "stream",
     "text": [
      "x=(2,) y=3 z=4 u={'u': 4}\n"
     ]
    }
   ],
   "source": [
    "function17(2,y=3,z=4, u=4)"
   ]
  },
  {
   "cell_type": "code",
   "execution_count": 67,
   "id": "159029a5-7c14-4d24-8df9-1fd97607761e",
   "metadata": {},
   "outputs": [
    {
     "name": "stdout",
     "output_type": "stream",
     "text": [
      "['1a', '2a']\n"
     ]
    }
   ],
   "source": [
    "# Ejercicio 21\n",
    "import re\n",
    "print(re.findall(r\"\\d?a+\", \"121a12a\"))"
   ]
  },
  {
   "cell_type": "code",
   "execution_count": 77,
   "id": "df5de455-0e6c-47b5-8f29-7b9c11b7946f",
   "metadata": {},
   "outputs": [
    {
     "name": "stdout",
     "output_type": "stream",
     "text": [
      "['Curso', 'continua']\n",
      "['cc', 'Ca', 'CA']\n"
     ]
    }
   ],
   "source": [
    "# Ejercicio 22\n",
    "exp = re.compile(r\"\\b[cC]\\w+\")\n",
    "\n",
    "print(exp.findall(\"El Curso de Python continua\"))\n",
    "print(exp.findall(\"C cc c Ca CA\"))\n",
    "\n",
    "# Salida\n",
    "#  ['Curso', 'continua']\n",
    "# ['cc', 'Ca', 'CA']"
   ]
  }
 ],
 "metadata": {
  "kernelspec": {
   "display_name": "Python 3 (ipykernel)",
   "language": "python",
   "name": "python3"
  },
  "language_info": {
   "codemirror_mode": {
    "name": "ipython",
    "version": 3
   },
   "file_extension": ".py",
   "mimetype": "text/x-python",
   "name": "python",
   "nbconvert_exporter": "python",
   "pygments_lexer": "ipython3",
   "version": "3.11.7"
  }
 },
 "nbformat": 4,
 "nbformat_minor": 5
}
