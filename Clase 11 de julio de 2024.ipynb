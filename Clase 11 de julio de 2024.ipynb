{
 "cells": [
  {
   "cell_type": "markdown",
   "id": "9edb2431-d1ec-46af-8f71-bad99d1f7cb6",
   "metadata": {},
   "source": [
    "### Recursiva con clausura"
   ]
  },
  {
   "cell_type": "code",
   "execution_count": 5,
   "id": "42487f49-206a-443a-8170-7e8b075c1263",
   "metadata": {},
   "outputs": [],
   "source": [
    "# La pega de esta aproximación, es que en cada llamada\n",
    "# comienza de nuevo.\n",
    "\n",
    "def fibonnacci(n):\n",
    "    dic = {0:0, 1:1}\n",
    "\n",
    "    def fibonnacci_recu(n):\n",
    "        if n in dic:\n",
    "            return dic[n]\n",
    "            \n",
    "        a = dic[n-1] if n-1 in dic else fibonnacci_recu(n-1)    \n",
    "        b = dic[n-2] if n-2 in dic else fibonnacci_recu(n-2)\n",
    "    \n",
    "        dic[n] = a + b\n",
    "        return dic[n]\n",
    "\n",
    "    return fibonnacci_recu(n)"
   ]
  },
  {
   "cell_type": "code",
   "execution_count": 3,
   "id": "4e79dd31-cf54-4adf-beeb-7ad406623e32",
   "metadata": {},
   "outputs": [
    {
     "data": {
      "text/plain": [
       "34"
      ]
     },
     "execution_count": 3,
     "metadata": {},
     "output_type": "execute_result"
    }
   ],
   "source": [
    "fibonnacci(9)"
   ]
  },
  {
   "cell_type": "code",
   "execution_count": 9,
   "id": "fbb1f262-8cda-4a30-a87d-e01db58a2858",
   "metadata": {},
   "outputs": [],
   "source": [
    "# Al devolver función, preservamos contexto\n",
    "\n",
    "def fibonnacci():\n",
    "    dic = {0:0, 1:1}\n",
    "\n",
    "    def fibonnacci_recu(n):\n",
    "        if n in dic:\n",
    "            return dic[n]\n",
    "            \n",
    "        a = dic[n-1] if n-1 in dic else fibonnacci_recu(n-1)    \n",
    "        b = dic[n-2] if n-2 in dic else fibonnacci_recu(n-2)\n",
    "    \n",
    "        dic[n] = a + b\n",
    "        return dic[n]\n",
    "\n",
    "    return fibonnacci_recu"
   ]
  },
  {
   "cell_type": "code",
   "execution_count": 8,
   "id": "462e0d67-55ed-4950-9368-c75d9e802818",
   "metadata": {},
   "outputs": [
    {
     "data": {
      "text/plain": [
       "34"
      ]
     },
     "execution_count": 8,
     "metadata": {},
     "output_type": "execute_result"
    }
   ],
   "source": [
    "fn = fibonnacci()\n",
    "fn(9)"
   ]
  },
  {
   "cell_type": "markdown",
   "id": "41a3b3c4-bb8a-4eb3-ac6e-edf2825b5778",
   "metadata": {},
   "source": [
    "## Unit 21: Clases"
   ]
  },
  {
   "cell_type": "code",
   "execution_count": 50,
   "id": "991761b2-cc27-4660-8ccb-2211826ea3f0",
   "metadata": {},
   "outputs": [],
   "source": [
    "from datetime import date\n",
    "\n",
    "class Persona(object):\n",
    "    def __init__(self, name, year=date.today().year):\n",
    "        self.name = name\n",
    "        self.year = year\n",
    "\n",
    "    def info(self):\n",
    "        print(f\"{self = }\")\n",
    "        print(f\"{self.name = }\")\n",
    "        print(f\"{self.year = }\")\n",
    "\n",
    "        try:\n",
    "            print(f\"{self.month = }\")\n",
    "        except:\n",
    "            print(\"self.month no existe!\")\n",
    "        \n",
    "    def hello(self):\n",
    "        print(f\"Hello, I'm {self.name}. I born in {self.year}.\")\n",
    "        self.month = 1\n",
    "\n",
    "    @staticmethod\n",
    "    def hi():\n",
    "        print(\"Hi!\")\n",
    "\n",
    "    def bye(self, message):\n",
    "        print(message)"
   ]
  },
  {
   "cell_type": "code",
   "execution_count": 33,
   "id": "97fd4b09-3d92-45f8-b171-498a10cae6c2",
   "metadata": {},
   "outputs": [
    {
     "data": {
      "text/plain": [
       "['__class__',\n",
       " '__delattr__',\n",
       " '__dict__',\n",
       " '__dir__',\n",
       " '__doc__',\n",
       " '__eq__',\n",
       " '__format__',\n",
       " '__ge__',\n",
       " '__getattribute__',\n",
       " '__getstate__',\n",
       " '__gt__',\n",
       " '__hash__',\n",
       " '__init__',\n",
       " '__init_subclass__',\n",
       " '__le__',\n",
       " '__lt__',\n",
       " '__module__',\n",
       " '__ne__',\n",
       " '__new__',\n",
       " '__reduce__',\n",
       " '__reduce_ex__',\n",
       " '__repr__',\n",
       " '__setattr__',\n",
       " '__sizeof__',\n",
       " '__str__',\n",
       " '__subclasshook__',\n",
       " '__weakref__',\n",
       " 'hello',\n",
       " 'hi',\n",
       " 'info',\n",
       " 'name',\n",
       " 'year']"
      ]
     },
     "execution_count": 33,
     "metadata": {},
     "output_type": "execute_result"
    }
   ],
   "source": [
    "me = Persona(\"Jane\")\n",
    "\n",
    "dir(me)"
   ]
  },
  {
   "cell_type": "code",
   "execution_count": 39,
   "id": "593ddfac-f6fe-4279-8a79-0730bb0f3661",
   "metadata": {},
   "outputs": [
    {
     "name": "stdout",
     "output_type": "stream",
     "text": [
      "<__main__.Persona object at 0x000002B0C4873E90>\n",
      "self = <__main__.Persona object at 0x000002B0C4873E90>\n",
      "self.name = 'John'\n",
      "self.year = 2024\n",
      "Hello, I'm John. I born in 2024.\n",
      "Hi!\n"
     ]
    }
   ],
   "source": [
    "me = Persona(\"John\")\n",
    "\n",
    "print(me)\n",
    "me.info()\n",
    "me.hello()\n",
    "me.hi()"
   ]
  },
  {
   "cell_type": "code",
   "execution_count": 27,
   "id": "3ff8930a-b88a-4526-95bb-498e6aca7621",
   "metadata": {},
   "outputs": [
    {
     "name": "stdout",
     "output_type": "stream",
     "text": [
      "Hi!\n"
     ]
    }
   ],
   "source": [
    "Persona.hi()"
   ]
  },
  {
   "cell_type": "code",
   "execution_count": 28,
   "id": "a8999fc3-1054-4aad-babf-e1892597da58",
   "metadata": {},
   "outputs": [
    {
     "ename": "TypeError",
     "evalue": "Persona.hello() missing 1 required positional argument: 'self'",
     "output_type": "error",
     "traceback": [
      "\u001b[1;31m---------------------------------------------------------------------------\u001b[0m",
      "\u001b[1;31mTypeError\u001b[0m                                 Traceback (most recent call last)",
      "Cell \u001b[1;32mIn[28], line 1\u001b[0m\n\u001b[1;32m----> 1\u001b[0m Persona\u001b[38;5;241m.\u001b[39mhello()\n",
      "\u001b[1;31mTypeError\u001b[0m: Persona.hello() missing 1 required positional argument: 'self'"
     ]
    }
   ],
   "source": [
    "Persona.hello()"
   ]
  },
  {
   "cell_type": "code",
   "execution_count": 41,
   "id": "1d8c626d-649f-4b18-9365-99b1fd07c091",
   "metadata": {},
   "outputs": [
    {
     "name": "stdout",
     "output_type": "stream",
     "text": [
      "Hello, I'm Jane. I born in 2024.\n"
     ]
    }
   ],
   "source": [
    "me = Persona(\"John\")\n",
    "\n",
    "me.name = \"Jane\"\n",
    "\n",
    "me.hello()"
   ]
  },
  {
   "cell_type": "code",
   "execution_count": 44,
   "id": "d1ee3651-2265-4704-9294-4370f4e6b193",
   "metadata": {},
   "outputs": [
    {
     "name": "stdout",
     "output_type": "stream",
     "text": [
      "<__main__.Persona object at 0x000002B0C37F04D0>\n",
      "self = <__main__.Persona object at 0x000002B0C37F04D0>\n",
      "self.name = 'John'\n",
      "self.year = 2024\n",
      "self.month no existe!\n",
      "\n",
      "Hello, I'm John. I born in 2024.\n",
      "\n",
      "self = <__main__.Persona object at 0x000002B0C37F04D0>\n",
      "self.name = 'John'\n",
      "self.year = 2024\n",
      "self.month = 1\n"
     ]
    }
   ],
   "source": [
    "me = Persona(\"John\")\n",
    "\n",
    "print(me)\n",
    "me.info()\n",
    "print(\"\")\n",
    "me.hello()\n",
    "print(\"\")\n",
    "me.info()"
   ]
  },
  {
   "cell_type": "code",
   "execution_count": 51,
   "id": "f2a0ea9c-8925-4773-ba93-9dcad78cdc72",
   "metadata": {},
   "outputs": [
    {
     "name": "stdout",
     "output_type": "stream",
     "text": [
      "Adios!\n"
     ]
    }
   ],
   "source": [
    "me = Persona(\"John\")\n",
    "me.bye(\"Adios!\")"
   ]
  },
  {
   "cell_type": "code",
   "execution_count": 111,
   "id": "eaaf2d0e-4b75-401f-9fd8-c846341b8569",
   "metadata": {},
   "outputs": [],
   "source": [
    "### Q1 (p. 377) Con cambios (valores por defecto)\n",
    "\n",
    "from copy import deepcopy\n",
    "\n",
    "class Student:\n",
    "    def __init__(\n",
    "        self, name, student_id,\n",
    "        eng_quiz = None, math_quiz = None,\n",
    "        science_quiz = None\n",
    "    ):\n",
    "        self.name = name\n",
    "\n",
    "        if (\n",
    "            not isinstance(student_id, int) or\n",
    "            len(str(student_id)) != 8\n",
    "        ):\n",
    "            raise ValueError(\"El identificador del estudiante debe de ser un entero de 8 dígitos\")\n",
    "        \n",
    "        self.student_id = student_id    \n",
    "        self.eng_quiz = eng_quiz\n",
    "        self.math_quiz = math_quiz\n",
    "        self.science_quiz = science_quiz\n",
    "\n",
    "    def __str__(self):\n",
    "        return (\n",
    "            f\"Name : {self.name}, ID : {self.student_id}\\n\\n\"\n",
    "            f\"English quiz score : {self.eng_quiz if self.eng_quiz is not None else 'No score'}\\n\"\n",
    "            f\"Mathematics quiz score : {self.math_quiz if self.math_quiz is not None else 'No score'}\\n\"\n",
    "            f\"Science quiz score : {self.science_quiz if self.science_quiz is not None else 'No score'}\"\n",
    "        )\n",
    "\n",
    "    # Métodos de asignación\n",
    "    def set_eng_quiz(self, score):\n",
    "        self.eng_quiz = score\n",
    "\n",
    "    def set_math_quiz(self, score):\n",
    "        self.math_quiz = score\n",
    "\n",
    "    def set_science_quiz(self, score):\n",
    "        self.science_quiz = score\n",
    "\n",
    "    # Métodos de recuperación de información\n",
    "    def get_name(self):\n",
    "        return self.name\n",
    "\n",
    "    def get_student_id(self):\n",
    "        return self.student_id\n",
    "    \n",
    "    def get_eng_quiz(self):\n",
    "        return self.eng_quiz\n",
    "\n",
    "    def get_math_quiz(self):\n",
    "        return self.math_quiz\n",
    "\n",
    "    def get_science_quiz(self):\n",
    "        return self.science_quiz\n",
    "\n",
    "    # Métodos agregados\n",
    "    def get_total_score(self):\n",
    "        if (\n",
    "            self.eng_quiz is None or\n",
    "            self.math_quiz is None or\n",
    "            self.science_quiz is None\n",
    "        ):\n",
    "            return None\n",
    "\n",
    "        return (\n",
    "            self.eng_quiz +\n",
    "            self.math_quiz +\n",
    "            self.science_quiz\n",
    "        )\n",
    "\n",
    "    def get_avg_score(self):\n",
    "        total = self.get_total_score()\n",
    "\n",
    "        if total is None:\n",
    "            return None\n",
    "\n",
    "        return total / 3\n",
    "\n",
    "    # Métodos para ampliación\n",
    "    def __truediv__(self, other):\n",
    "        if (\n",
    "            not isinstance(other, int) and\n",
    "            not isinstance(other, float)\n",
    "        ):\n",
    "            raise ValueError(\"Debe de ser un valor entero o real\")\n",
    "\n",
    "        new = deepcopy(self)\n",
    "        new.eng_quiz /= other\n",
    "        new.math_quiz /= other\n",
    "        new.science_quiz /= other\n",
    "\n",
    "        return new\n",
    "\n",
    "    def __add__(self, other):\n",
    "        if (\n",
    "            not isinstance(other, Student)\n",
    "        ):\n",
    "            raise ValueError(\"Debe de ser otro estudiante\")\n",
    "\n",
    "        new = deepcopy(self)\n",
    "        new.eng_quiz += other.eng_quiz\n",
    "        new.math_quiz += other.math_quiz\n",
    "        new.science_quiz += other.science_quiz\n",
    "        \n",
    "        return new"
   ]
  },
  {
   "cell_type": "code",
   "execution_count": 89,
   "id": "da35eb45-56f1-4fd3-901c-e9d5d9cd8e32",
   "metadata": {},
   "outputs": [
    {
     "name": "stdout",
     "output_type": "stream",
     "text": [
      "Name : John, ID : 12345678\n",
      "\n",
      "English quiz score : No score\n",
      "Mathematics quiz score : No score\n",
      "Science quiz score : No score\n"
     ]
    }
   ],
   "source": [
    "stud = Student(\"John\", 12345678)\n",
    "\n",
    "print(stud)"
   ]
  },
  {
   "cell_type": "code",
   "execution_count": 64,
   "id": "36f2fb27-8588-4280-a4f4-2a5d40420a3b",
   "metadata": {},
   "outputs": [
    {
     "name": "stdout",
     "output_type": "stream",
     "text": [
      "Algo ha ido mal: El identificador del estudiante debe de ser un entero de 8 dígitos\n"
     ]
    }
   ],
   "source": [
    "try:\n",
    "    stud = Student(\"John\", 1234567)\n",
    "\n",
    "except ValueError as err:\n",
    "    print(\"Algo ha ido mal:\", err)"
   ]
  },
  {
   "cell_type": "code",
   "execution_count": 53,
   "id": "e20ba689-64fd-469b-b4a5-9a8759c20936",
   "metadata": {},
   "outputs": [
    {
     "data": {
      "text/plain": [
       "'Hello'"
      ]
     },
     "execution_count": 53,
     "metadata": {},
     "output_type": "execute_result"
    }
   ],
   "source": [
    "\"Hello\" if True else \"Bye\""
   ]
  },
  {
   "cell_type": "code",
   "execution_count": 54,
   "id": "5b08f9b4-3886-4a41-ae05-12b93713307f",
   "metadata": {},
   "outputs": [
    {
     "data": {
      "text/plain": [
       "'Bye'"
      ]
     },
     "execution_count": 54,
     "metadata": {},
     "output_type": "execute_result"
    }
   ],
   "source": [
    "\"Hello\" if False else \"Bye\""
   ]
  },
  {
   "cell_type": "code",
   "execution_count": 56,
   "id": "9007bce7-eba8-4642-a389-b320bcd084bb",
   "metadata": {},
   "outputs": [
    {
     "data": {
      "text/plain": [
       "'Name : John, ID : 20213093\\n'"
      ]
     },
     "execution_count": 56,
     "metadata": {},
     "output_type": "execute_result"
    }
   ],
   "source": [
    "name = \"John\"\n",
    "student_id = 20213093\n",
    "\n",
    "f\"Name : {name}, ID : {student_id}\\n\""
   ]
  },
  {
   "cell_type": "markdown",
   "id": "6290b91c-a802-4469-9449-10feb8ad0557",
   "metadata": {},
   "source": [
    "### Ampliación aula de estudiantes\n",
    "\n",
    "Dada una lista de estudiantes (una clase), crear una instancia `Student` que represente el promedio del aula.\n",
    "\n",
    "```python\n",
    "aula = [\n",
    "    Student('Student 1', 11111111, 8, 9.5, 5.5),\n",
    "    Student('Student 2', 11111112, 10, 8.5, 8.5),\n",
    "    Student('Student 3', 11111113, 0, 0.5, 0.5),\n",
    "    Student('Student 4', 11111114, 6, 6.5, 7.5),\n",
    "    Student('Student 5', 11111115, 6.5, 6.5, 7.5),\n",
    "    Student('Student 6', 11111116, 8.5, 8.5, 10),\n",
    "    Student('Student 7', 11111117, 8.0, 7.5, 4),\n",
    "    Student('Student 8', 11111118, 7.0, 7.5, 7),\n",
    "]\n",
    "```"
   ]
  },
  {
   "cell_type": "code",
   "execution_count": 109,
   "id": "fe7da572-e827-45e1-867c-2bd67865b4d7",
   "metadata": {},
   "outputs": [
    {
     "name": "stdout",
     "output_type": "stream",
     "text": [
      "Name : Aula, ID : 99999999\n",
      "\n",
      "English quiz score : 6.75\n",
      "Mathematics quiz score : 6.875\n",
      "Science quiz score : 6.3125\n"
     ]
    }
   ],
   "source": [
    "aula = [\n",
    "    Student('Student 1', 11111111, 8, 9.5, 5.5),\n",
    "    Student('Student 2', 11111112, 10, 8.5, 8.5),\n",
    "    Student('Student 3', 11111113, 0, 0.5, 0.5),\n",
    "    Student('Student 4', 11111114, 6, 6.5, 7.5),\n",
    "    Student('Student 5', 11111115, 6.5, 6.5, 7.5),\n",
    "    Student('Student 6', 11111116, 8.5, 8.5, 10),\n",
    "    Student('Student 7', 11111117, 8.0, 7.5, 4),\n",
    "    Student('Student 8', 11111118, 7.0, 7.5, 7),\n",
    "]\n",
    "\n",
    "\n",
    "print( \n",
    "   sum(aula, Student(\"Aula\", 99999999, 0, 0, 0)) / len(aula)\n",
    ")"
   ]
  },
  {
   "cell_type": "code",
   "execution_count": 112,
   "id": "125de854-e158-4560-bd27-2fce5fab5e52",
   "metadata": {},
   "outputs": [
    {
     "name": "stdout",
     "output_type": "stream",
     "text": [
      "Help on built-in function sum in module builtins:\n",
      "\n",
      "sum(iterable, /, start=0)\n",
      "    Return the sum of a 'start' value (default: 0) plus an iterable of numbers\n",
      "    \n",
      "    When the iterable is empty, return the start value.\n",
      "    This function is intended specifically for use with numeric values and may\n",
      "    reject non-numeric types.\n",
      "\n"
     ]
    }
   ],
   "source": [
    "help(sum)"
   ]
  }
 ],
 "metadata": {
  "kernelspec": {
   "display_name": "Python 3 (ipykernel)",
   "language": "python",
   "name": "python3"
  },
  "language_info": {
   "codemirror_mode": {
    "name": "ipython",
    "version": 3
   },
   "file_extension": ".py",
   "mimetype": "text/x-python",
   "name": "python",
   "nbconvert_exporter": "python",
   "pygments_lexer": "ipython3",
   "version": "3.11.7"
  }
 },
 "nbformat": 4,
 "nbformat_minor": 5
}
