{
 "cells": [
  {
   "cell_type": "code",
   "execution_count": 1,
   "id": "979d8ccc-2fea-457b-b4b0-b727be219610",
   "metadata": {},
   "outputs": [
    {
     "name": "stdout",
     "output_type": "stream",
     "text": [
      "[0, 1, 2, 3, 4, 5, 6, 7, 8, 9]\n"
     ]
    }
   ],
   "source": [
    "# Recordatorio: Creamos una lista de índices\n",
    "a = list(range(10)) \n",
    "print(a)"
   ]
  },
  {
   "cell_type": "code",
   "execution_count": 2,
   "id": "b807e2eb-5583-4981-a4f8-50711f1631ea",
   "metadata": {},
   "outputs": [
    {
     "name": "stdout",
     "output_type": "stream",
     "text": [
      "[0, 1, 2, 1000, 7, 8, 9]\n"
     ]
    }
   ],
   "source": [
    "# en una lista yo puedo sustituir un trozo por otra cosa, por ejemplo,\n",
    "# puedo coger la lista anterior y puedo cambiar 3 posiciones por un una sola posición\n",
    "a[3:7] = [1000]\n",
    "print(a)"
   ]
  },
  {
   "cell_type": "code",
   "execution_count": 7,
   "id": "852a8d43-3503-4ffe-97e3-520f19b6dc71",
   "metadata": {},
   "outputs": [
    {
     "name": "stdout",
     "output_type": "stream",
     "text": [
      "¿Cuantas tuplas vacías hay en la lista? 3\n"
     ]
    }
   ],
   "source": [
    "# Eliminar todas las tuplas que aparezcan en una lista \n",
    "lista = [(), (1,), [], 'abc', (), (), (1,), ('a',), ('a','b'), ((),), '']\n",
    "\n",
    "print(\"¿Cuantas tuplas vacías hay en la lista?\", lista.count(()))\n",
    "\n"
   ]
  },
  {
   "cell_type": "code",
   "execution_count": 9,
   "id": "eebb3346-2dc6-492b-83d2-2fc64e1b5700",
   "metadata": {},
   "outputs": [
    {
     "name": "stdout",
     "output_type": "stream",
     "text": [
      "[0, 1, 4, 9, 16, 25, 36, 49, 64, 81]\n",
      "[0, 4, 16, 36, 64]\n"
     ]
    }
   ],
   "source": [
    "# Listas intensionales: hacer que todos los elementos cumplan una expresión y devolverá todos aquellos\n",
    "# que cumplan la condicion\n",
    "\n",
    "# SINTAXIS: [ expresion for variable in iterable ]\n",
    "a= [2,7,12]\n",
    "b= [x**2 for x in range(10)]\n",
    "print(b)\n",
    "\n",
    "# SINTAXIS 2: [expresion for variable in iterable if condicion]\n",
    "a= [2,7,12]\n",
    "b= [x**2 for x in range(10) if x%2 == 0]\n",
    "print(b)"
   ]
  },
  {
   "cell_type": "code",
   "execution_count": 13,
   "id": "34b39a5e-c066-4c91-9ab6-a33b4f92dca1",
   "metadata": {},
   "outputs": [
    {
     "data": {
      "text/plain": [
       "[(1,), 'abc', (1,), ('a',), ('a', 'b'), ((),)]"
      ]
     },
     "execution_count": 13,
     "metadata": {},
     "output_type": "execute_result"
    }
   ],
   "source": [
    "# Devuelve las que sean de longitud mayor que 0: SEGUNDA FORMA DE HACERLO\n",
    "list = [(), (1,), [], 'abc', (), (), (1,), ('a',), ('a','b'), ((),), '']\n",
    "# En este caso elem es como una copia\n",
    "listResult = [elem for elem in list if len(elem) > 0]\n",
    "print(f'{listResult}')"
   ]
  },
  {
   "cell_type": "code",
   "execution_count": 16,
   "id": "88b044c4-508e-4a58-8e65-9c48c7154522",
   "metadata": {},
   "outputs": [
    {
     "name": "stdout",
     "output_type": "stream",
     "text": [
      "True\n"
     ]
    }
   ],
   "source": [
    "## EJERCICIO REPASO COSAS YA VISTAS\n",
    "\n",
    "# Cómo se crean funciones en python:\n",
    "# def nombre_funcion(argumentos):\n",
    "    # instrucciones de la función\n",
    "    # return valor\n",
    "\n",
    "# Ejemplo de función: Tiene el comentario que es la documentación de la funcióm, cuando hagamos tab mostrará la \n",
    "# docu del comentario escrito\n",
    "def estoy_aprobado (nota):\n",
    "    \"\"\"\n",
    "    Esta función devuelve True si la nota es mayor que 5\n",
    "    \"\"\"\n",
    "    return nota > 5\n",
    "\n",
    "print(estoy_aprobado(7.2))\n",
    "\n",
    "# Las funciones suelen devolver cosas y no printearlas\n"
   ]
  },
  {
   "cell_type": "code",
   "execution_count": 38,
   "id": "9407ca13-3898-491b-a3cb-99e22a9c0585",
   "metadata": {},
   "outputs": [
    {
     "name": "stdin",
     "output_type": "stream",
     "text": [
      "Escribe la nota 2.5\n"
     ]
    },
    {
     "name": "stdout",
     "output_type": "stream",
     "text": [
      "Tu calificación es de Suspenso\n"
     ]
    }
   ],
   "source": [
    "def nota_categoria(nota):\n",
    "    \"\"\"\n",
    "    Recibe una nota numérica y devuelve:\n",
    "        Suspenso: si nota <5\n",
    "        Aprobado:  si nota entre 5 y 7\n",
    "        Notable: si nota entre 7 y 9\n",
    "        Sobresaliente: si nota <=9\n",
    "    \"\"\"\n",
    "    if nota < 5:\n",
    "        return \"Suspenso\"\n",
    "    elif nota < 7: # No hace falta poner la parte del 5 xk se sobreentiende\n",
    "        return \"Aprobado\"\n",
    "    elif  nota < 9:\n",
    "        return \"Notable\"\n",
    "    else:\n",
    "        return \"Sobresaliente\"\n",
    "\n",
    "nota = float(input(\"Escribe la nota\"))\n",
    "print(f'Tu calificación es de {nota_categoria(nota)}')\n",
    "    "
   ]
  },
  {
   "cell_type": "code",
   "execution_count": 56,
   "id": "029f952d-10b9-4eb2-b573-e04db0583bc6",
   "metadata": {},
   "outputs": [
    {
     "name": "stdout",
     "output_type": "stream",
     "text": [
      "[9.96, 6.86, 7.81, 4.1, 5.99, 7.89, 5.55, 7.91, 9.39, 7.75]\n",
      "{'Suspenso': 1, 'Aprobado': 3, 'Notable': 4, 'Sobresaliente': 2}\n",
      " 1 alumnos han obtenido la nota Suspenso\n",
      " 3 alumnos han obtenido la nota Aprobado\n",
      " 4 alumnos han obtenido la nota Notable\n",
      " 2 alumnos han obtenido la nota Sobresaliente\n"
     ]
    }
   ],
   "source": [
    "# Dada una lista de notas devuelveme aquellas que sean aprobadas\n",
    "import random\n",
    "notas = [round(random.uniform(3,10),2) for i in range(10)]\n",
    "print(notas)\n",
    "\n",
    "\n",
    "# si no definimos por defecto el diccionario, si no hubiesen suspensos no los mostraría ya que no se crearía la categoria\n",
    "estadistica = {\n",
    "    'Suspenso':0,\n",
    "    'Aprobado':0,\n",
    "    'Notable':0,\n",
    "    'Sobresaliente':0\n",
    "}\n",
    "\n",
    "for nota in notas:\n",
    "    calificacion = nota_categoria(nota)\n",
    "    estadistica[calificacion] += 1\n",
    "\n",
    "print(estadistica)\n",
    "\n",
    "for key, value in estadistica.items():\n",
    "    print(f'{value:2} alumnos han obtenido la nota {key}')"
   ]
  },
  {
   "cell_type": "code",
   "execution_count": 44,
   "id": "1b9957cc-b764-4ce3-a9b9-826ec80be1ec",
   "metadata": {},
   "outputs": [
    {
     "name": "stdout",
     "output_type": "stream",
     "text": [
      "defaultdict(<class 'float'>, {'Suspenso': 2})\n",
      "0.0\n"
     ]
    }
   ],
   "source": [
    "import collections\n",
    "\n",
    "diccionario = collections.defaultdict(float) # -> Cuando este diccionario no encuentre valor me devolverá 0.0\n",
    "diccionario['Suspenso'] = 2\n",
    "\n",
    "print(diccionario)\n",
    "print(diccionario['Notable'])"
   ]
  },
  {
   "cell_type": "code",
   "execution_count": 92,
   "id": "5609dfd6-961c-47f1-a51f-7b63079c8de6",
   "metadata": {},
   "outputs": [
    {
     "name": "stdin",
     "output_type": "stream",
     "text": [
      "Dame un número 11\n"
     ]
    },
    {
     "name": "stdout",
     "output_type": "stream",
     "text": [
      "El número que has proporcionado no es primo\n"
     ]
    }
   ],
   "source": [
    "# Ejercicio\n",
    "\n",
    "\n",
    "def es_primo(numero): \n",
    "    \"\"\"\n",
    "    numero es un numero entero\n",
    "    devuelve True si numero es primo (únicamente) divisible entre él mismo y la unidad\n",
    "    \"\"\"\n",
    "    for num in range(1,numero +1): # Se puede sustituir por range(2,numero) y dejariamos las dos condiciones and de abajo\n",
    "        esPrimo = numero%num != 0 and numero != num and num != 1\n",
    "    return esPrimo\n",
    "\n",
    "\n",
    "num = int(input(\"Dame un número\"))\n",
    "\n",
    "if es_primo(num):\n",
    "    print(\"El número que has proporcionado es primo\")\n",
    "else:\n",
    "    print(\"El número que has proporcionado no es primo\")        "
   ]
  },
  {
   "cell_type": "code",
   "execution_count": 99,
   "id": "a2f4bff5-c8b4-4883-b6e5-0fffe54386cb",
   "metadata": {},
   "outputs": [
    {
     "name": "stdout",
     "output_type": "stream",
     "text": [
      "[2, 3, 5, 7, 11, 13, 17, 19, 23, 29, 31, 37, 41, 43, 47, 53, 59, 61, 67, 71, 73, 79, 83, 89, 97]\n"
     ]
    }
   ],
   "source": [
    "# Devuelveme todos los primos del 1 al 100\n",
    "\n",
    "def es_primo(numero):\n",
    "    for i in range(2,numero):\n",
    "        if numero % i == 0:\n",
    "            return False\n",
    "    return True\n",
    "\n",
    "print([x for x in range(2,100) if es_primo(x)])"
   ]
  },
  {
   "cell_type": "code",
   "execution_count": 34,
   "id": "7dcdb06c-f84d-48b9-87d0-9357c6d86a1e",
   "metadata": {},
   "outputs": [
    {
     "name": "stdin",
     "output_type": "stream",
     "text": [
      "Dame un número entero a: 10\n",
      "Dame un número entero b: 1\n"
     ]
    },
    {
     "name": "stdout",
     "output_type": "stream",
     "text": [
      "[10, 9, 8, 7, 6, 5, 4, 3, 2, 1]\n",
      "[10, 9, 8, 7, 6, 5, 4, 3, 2, 1]\n",
      "[10, 9, 8, 7, 6, 5, 4, 3, 2, 1]\n"
     ]
    }
   ],
   "source": [
    "# Ejercicio \n",
    "# pedir un numero entero a\n",
    "# pedir otro número entero b\n",
    "# si a<b imprimir por pantalla los números ascendentes desde a hasta b\n",
    "# si a>b imprimir lo números descendentes desde a hasta b\n",
    "\n",
    "a = int(input(\"Dame un número entero a:\"))\n",
    "b = int(input(\"Dame un número entero b:\"))\n",
    "\n",
    "if a<b:\n",
    "    print(list(range(a,b+1)))\n",
    "else:\n",
    "    # Opción 1\n",
    "    list1 = list(range(b,a+1))\n",
    "    list1.reverse()\n",
    "    print(list1)\n",
    "\n",
    "    # Opción 2\n",
    "    list2 = list(range(b,a+1))\n",
    "    list2.sort(reverse=True)\n",
    "    print(list2)\n",
    "\n",
    "    # Opción 3: Acordarse del step negativo\n",
    "    print(list(range(a,b-1, -1)))"
   ]
  },
  {
   "cell_type": "code",
   "execution_count": 36,
   "id": "adf4e447-5329-4f4f-9278-446dbcb65c05",
   "metadata": {},
   "outputs": [
    {
     "name": "stdout",
     "output_type": "stream",
     "text": [
      "[10, 9, 8, 7, 6, 5, 4, 3, 2, 1]\n"
     ]
    }
   ],
   "source": [
    "# Solución profesor\n",
    "step = 1 if a<=b else -1\n",
    "print(list(range(a, b+step, step)))"
   ]
  },
  {
   "cell_type": "code",
   "execution_count": 65,
   "id": "85f41c58-f512-4009-9c9d-55c007cae5e1",
   "metadata": {},
   "outputs": [],
   "source": [
    "# Ejercicios\n",
    "# Haz una función es_creciente que recibe una lista con números enteros y devuelve True si es una \n",
    "# secuencia creciente (cada valor es mayor o igual al anterior) o False si no lo es\n",
    "\n",
    "# Por ejemplo, es_creciente ([10, 14, 14, 30]) devuelve True\n",
    "# pero es_creciente([10,12,11,30]) devolverá False\n",
    "\n",
    "def es_creciente(list):\n",
    "    ant = None\n",
    "    result = False\n",
    "\n",
    "    for act in list:\n",
    "       if ant == None:\n",
    "           ant=act\n",
    "       else:\n",
    "            if ant<=act:\n",
    "               ant=act\n",
    "               result = True   \n",
    "            else: \n",
    "                result = False\n",
    "                break\n",
    "    return result"
   ]
  },
  {
   "cell_type": "code",
   "execution_count": 63,
   "id": "99a23525-9a01-488a-a40d-506d39d513c9",
   "metadata": {},
   "outputs": [
    {
     "data": {
      "text/plain": [
       "True"
      ]
     },
     "execution_count": 63,
     "metadata": {},
     "output_type": "execute_result"
    }
   ],
   "source": [
    "es_creciente([10, 14, 14, 30])"
   ]
  },
  {
   "cell_type": "code",
   "execution_count": 62,
   "id": "63b699b9-7abf-40c9-a5cf-cfebcdcd5c18",
   "metadata": {},
   "outputs": [
    {
     "data": {
      "text/plain": [
       "False"
      ]
     },
     "execution_count": 62,
     "metadata": {},
     "output_type": "execute_result"
    }
   ],
   "source": [
    "es_creciente([10, 12, 11, 30])"
   ]
  },
  {
   "cell_type": "code",
   "execution_count": 69,
   "id": "3602771e-3788-430e-b0c4-54bec43a0365",
   "metadata": {},
   "outputs": [
    {
     "name": "stdout",
     "output_type": "stream",
     "text": [
      "True\n",
      "False\n"
     ]
    }
   ],
   "source": [
    "# mismo problema resuelto por el profe\n",
    "def es_creciente(lista):\n",
    "    return all(lista[i] <=lista[i+1] for i in range(len(lista)-1))\n",
    "\n",
    "print(es_creciente([10, 14, 14, 30]))\n",
    "print(es_creciente([10, 12, 11, 30]))\n"
   ]
  },
  {
   "cell_type": "code",
   "execution_count": 90,
   "id": "e236c14c-2c66-4b22-8628-9568e1734430",
   "metadata": {},
   "outputs": [
    {
     "name": "stdout",
     "output_type": "stream",
     "text": [
      "Eres el jugador 1, Inserte valores entre 'piedra', 'papel', 'tijeras'\n"
     ]
    },
    {
     "name": "stdin",
     "output_type": "stream",
     "text": [
      "Jugador 1: piedra\n"
     ]
    },
    {
     "name": "stdout",
     "output_type": "stream",
     "text": [
      "Eres el jugador 2, Inserte valores entre 'piedra', 'papel', 'tijeras'\n"
     ]
    },
    {
     "name": "stdin",
     "output_type": "stream",
     "text": [
      "Jugador 2: papel\n"
     ]
    },
    {
     "name": "stdout",
     "output_type": "stream",
     "text": [
      "piedra papel\n",
      "El jugador1 pierde y el jugador2 None\n"
     ]
    }
   ],
   "source": [
    "# Ejercicio:\n",
    "#\n",
    "# Haz una función pedir que pida al usuario escribir un valor entre piedra, papel, tijera. Si el valor es incorrecto le avisará de que está mal\n",
    "# y lo volverá a pedir unas cuantas veces si es necesario\n",
    "#\n",
    "# Haz otra función quien_gana que reciba las elecciones de 2 jugares y devuelva gana si gana el primero, pierde si gana el segundo o empata\n",
    "# si ambos empatan\n",
    "# \n",
    "# Haz una función jugar que haga uso de las dos funciones anteriores para que dos jugadores jueguen al piedra, paple o tijeras\n",
    "\n",
    "def pedir():\n",
    "    valorJugador1 = None\n",
    "    valorJugador2 = None\n",
    "    valoresValidos = [\"piedra\", \"papel\", \"tijeras\"]\n",
    "\n",
    "    print(\"Eres el jugador 1, Inserte valores entre 'piedra', 'papel', 'tijeras'\")\n",
    "    valorJugador1 = input(\"Jugador 1:\")\n",
    "    while valorJugador1 not in valoresValidos:\n",
    "        print(\"El valor insertado no es correcto, inserte valores entre 'piedra', 'papel', 'tijeras'\")\n",
    "        valorJugador1 = input(\"Jugador 1:\")\n",
    "\n",
    "    print(\"Eres el jugador 2, Inserte valores entre 'piedra', 'papel', 'tijeras'\")\n",
    "    valorJugador2 = input(\"Jugador 2:\")\n",
    "    while valorJugador2 not in valoresValidos:\n",
    "        print(\"El valor insertado no es correcto, inserte valores entre 'piedra', 'papel', 'tijeras'\")\n",
    "        valorJugador2 = input(\"Jugador 2:\")\n",
    "        \n",
    "    return valorJugador1, valorJugador2\n",
    "        \n",
    "\n",
    "def quien_gana(yo, otro):\n",
    "    ganaJugador1 = None\n",
    "    ganaJugador2 = None\n",
    "    # piedra gana tijeras, papel gana a piedra, tijeras gana a papel\n",
    "    # Resuelto por el profe\n",
    "\n",
    "        \n",
    "        \n",
    "\n",
    "def jugar():\n",
    "    yo , otro = pedir()\n",
    "    ganaJugador1, ganaJugador2 = quien_gana(yo, otro)\n",
    "    print(f'El jugador1 {ganaJugador1} y el jugador2 {ganajugador2}')\n",
    "\n",
    "jugar()\n"
   ]
  },
  {
   "cell_type": "code",
   "execution_count": null,
   "id": "cd5f22b1-c4b5-4e85-8421-5a4ce45d61f9",
   "metadata": {},
   "outputs": [],
   "source": [
    "#Ahorcado propuesta por el profe"
   ]
  },
  {
   "cell_type": "code",
   "execution_count": 94,
   "id": "74400b90-ab45-4f8f-a832-3efaa8c27b3e",
   "metadata": {},
   "outputs": [
    {
     "name": "stdout",
     "output_type": "stream",
     "text": [
      "[[1, 2, 3], [4, 5, 6], [7, 8, 9]]\n",
      "5\n",
      "1 2 3\n",
      "4 5 6\n",
      "7 8 9\n"
     ]
    }
   ],
   "source": [
    "# MATRICES\n",
    "matriz = [\n",
    "    [1,2,3],\n",
    "    [4,5,6],\n",
    "    [7,8,9]\n",
    "]\n",
    "print(matriz)\n",
    "print(matriz[1][1])\n",
    "\n",
    "#Python nos deja desempaquetar\n",
    "for i,j,k in matriz:\n",
    "    print(i,j,k)"
   ]
  },
  {
   "cell_type": "code",
   "execution_count": 97,
   "id": "edbc288b-db37-493b-b614-84c9b9c55bb7",
   "metadata": {},
   "outputs": [
    {
     "name": "stdout",
     "output_type": "stream",
     "text": [
      "m[0][0] = 1\n",
      "m[0][1] = 2\n",
      "m[0][2] = 3\n",
      "m[1][0] = 4\n",
      "m[1][1] = 5\n",
      "m[1][2] = 6\n",
      "m[2][0] = 7\n",
      "m[2][1] = 8\n",
      "m[2][2] = 9\n"
     ]
    }
   ],
   "source": [
    "# Saber las coordenadas de una matriz\n",
    "for i, fila in enumerate(matriz):\n",
    "    for j,valor in enumerate(fila):\n",
    "        print(f'm[{i}][{j}] = {valor}')"
   ]
  },
  {
   "cell_type": "code",
   "execution_count": 101,
   "id": "91ba7c86-b8ca-470a-ad84-db8dc8e62780",
   "metadata": {},
   "outputs": [
    {
     "name": "stdout",
     "output_type": "stream",
     "text": [
      "True\n",
      "True\n",
      "[[1, 2, 3], [4, 5, 6], [7, 8, 9]]\n",
      "False\n",
      "True\n"
     ]
    }
   ],
   "source": [
    "# Las listas cuando yo hago una copia se hace una shallow copy, es decir copia los elementos, pero si esos elementos son \n",
    "# listas que en su interior tienen sus elementos, cada uno de los elementos del interior se copia la referencia. Es decir la copia\n",
    "# de la lista es sin referencia pero los elementos de dentro si que tienen referencia list.copy()\n",
    "\n",
    "# Si queremos una copia deep copy, es decir una copia de la lista en profundidad deberemos utilizar una librería\n",
    "\n",
    "matriz = [\n",
    "    [1,2,3],\n",
    "    [4,5,6],\n",
    "    [7,8,9]\n",
    "]\n",
    "\n",
    "nueva = matriz.copy() #shallow copy\n",
    "print(matriz[0] is nueva[0])\n",
    "print(matriz[1][1] is nueva[1][1])\n",
    "\n",
    "import copy\n",
    "otra = copy.deepcopy(matriz)\n",
    "print(otra)\n",
    "print(matriz[0] is otra[0])\n",
    "print(matriz[1][1] is otra[1][1])"
   ]
  }
 ],
 "metadata": {
  "kernelspec": {
   "display_name": "Python 3 (ipykernel)",
   "language": "python",
   "name": "python3"
  },
  "language_info": {
   "codemirror_mode": {
    "name": "ipython",
    "version": 3
   },
   "file_extension": ".py",
   "mimetype": "text/x-python",
   "name": "python",
   "nbconvert_exporter": "python",
   "pygments_lexer": "ipython3",
   "version": "3.11.7"
  }
 },
 "nbformat": 4,
 "nbformat_minor": 5
}
