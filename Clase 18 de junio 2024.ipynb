{
 "cells": [
  {
   "cell_type": "code",
   "execution_count": 28,
   "id": "5c91f83c-628c-4bdc-9470-ee9d9dc24a65",
   "metadata": {},
   "outputs": [
    {
     "name": "stdin",
     "output_type": "stream",
     "text": [
      "Escribe el número 2\n"
     ]
    },
    {
     "name": "stdout",
     "output_type": "stream",
     "text": [
      "La condición se cumple: True\n"
     ]
    }
   ],
   "source": [
    "# Número que no esté entre 0 y 100 o sea par\n",
    "\n",
    "number = int(input(\"Escribe el número\"))\n",
    "condIntervalo = number >=0 and number <=100\n",
    "condPar = number % 2 == 0\n",
    "\n",
    "if((not condIntervalo) or condPar):\n",
    "    #print(\"El número\", number, \" no está entre 0 y 100 o es par\")\n",
    "    result = True\n",
    "else:\n",
    "    #print(\"El número\", number, \" está en cualquier otro de los casos\")\n",
    "    result = False\n",
    "    \n",
    "print(\"La condición se cumple:\", result)\n"
   ]
  },
  {
   "cell_type": "code",
   "execution_count": 29,
   "id": "e76bb6bb-d234-4c27-a315-14f9fe8fc9d5",
   "metadata": {},
   "outputs": [
    {
     "name": "stdin",
     "output_type": "stream",
     "text": [
      "Escribe un número 15\n"
     ]
    },
    {
     "name": "stdout",
     "output_type": "stream",
     "text": [
      "¿Es el número multiplo de 3 y de 5? True\n"
     ]
    }
   ],
   "source": [
    "# Número que sea múltiplo de 3 o múltiplo de 5\n",
    "\n",
    "number = int(input(\"Escribe un número\"))\n",
    "\n",
    "multiplo3 = number % 3 == 0 \n",
    "multiplo5 = number %5 == 0\n",
    "\n",
    "print(\"¿Es el número multiplo de 3 y de 5?\", multiplo3 and multiplo5)"
   ]
  },
  {
   "cell_type": "code",
   "execution_count": null,
   "id": "a58e62de-6fdc-4715-873e-af8c88de3995",
   "metadata": {},
   "outputs": [],
   "source": [
    "# Palabra reservada pass\n",
    "x= 3\n",
    "if(x > 10):\n",
    "    pass\n",
    "# Esto compilaría"
   ]
  },
  {
   "cell_type": "code",
   "execution_count": 33,
   "id": "4d1e426e-d091-4fae-8fb7-dc588a48c80f",
   "metadata": {},
   "outputs": [
    {
     "name": "stdin",
     "output_type": "stream",
     "text": [
      "Enter game score 22332\n"
     ]
    },
    {
     "name": "stdout",
     "output_type": "stream",
     "text": [
      "game_score =  22332\n",
      "You are a master.\n"
     ]
    }
   ],
   "source": [
    "# Si el número insertado es mayor que 1000, print \"You are a master.\"\n",
    "number = int(input(\"Enter game score\"));\n",
    "\n",
    "print(\"game_score = \", number)\n",
    "\n",
    "if number > 1000 :\n",
    "    print(\"You are a master.\")\n"
   ]
  },
  {
   "cell_type": "code",
   "execution_count": 37,
   "id": "71998879-beb6-4112-9dee-b7dc4741a59c",
   "metadata": {},
   "outputs": [
    {
     "name": "stdin",
     "output_type": "stream",
     "text": [
      "Enter an integer: 1232\n"
     ]
    },
    {
     "name": "stdout",
     "output_type": "stream",
     "text": [
      "El número esta fuera de rango\n"
     ]
    }
   ],
   "source": [
    "# Recibe un número entre -100 y 100 \n",
    "# pinta x en la pantalla\n",
    "# pinta \"is a natural number\" si es mayor que 0\n",
    "# sino pinta -10\n",
    "\n",
    "number= (int(input(\"Enter an integer:\")))\n",
    "\n",
    "cond100 = number >= -100 and number <= 100\n",
    "condMayor0 = number > 0\n",
    "\n",
    "if(cond100):\n",
    "    print(\"x = \", number)\n",
    "    if(condMayor0):\n",
    "        print(number, \"is a natural number\")\n",
    "else:\n",
    "    print(\"El número esta fuera de rango\")"
   ]
  },
  {
   "cell_type": "code",
   "execution_count": 54,
   "id": "23edc0be-fb88-433a-95c9-75c114d0faaf",
   "metadata": {},
   "outputs": [
    {
     "name": "stdout",
     "output_type": "stream",
     "text": [
      "['Esto', 'es', 'un', 'test']\n",
      "['Esto', 'es', 'un', 'test']\n",
      "test\n",
      "un\n"
     ]
    },
    {
     "data": {
      "text/plain": [
       "'un'"
      ]
     },
     "execution_count": 54,
     "metadata": {},
     "output_type": "execute_result"
    }
   ],
   "source": [
    "test = \"Esto es un test\"\n",
    "test2 = \"Esto.es.un.test\"\n",
    "\n",
    "print(test.split())\n",
    "print(test2.split(\".\"))\n",
    "print(test2.split(\".\")[-1])\n",
    "\n",
    "x, y, z, d = test2.split(\".\") # Si son 3 variables en vez de 4, daría un error\n",
    "\n",
    "# Apuntes adicionales si imprimimos z devuelve \"z\" si imprimimos print(z) imprimiria z\n",
    "print(z)\n",
    "z"
   ]
  },
  {
   "cell_type": "code",
   "execution_count": 51,
   "id": "d62007ff-ae86-4a80-b494-62c99c62684b",
   "metadata": {},
   "outputs": [
    {
     "name": "stdin",
     "output_type": "stream",
     "text": [
      "Enter age: 30\n"
     ]
    },
    {
     "data": {
      "text/plain": [
       "'Adult'"
      ]
     },
     "execution_count": 51,
     "metadata": {},
     "output_type": "execute_result"
    }
   ],
   "source": [
    "# Imprime \"Adult\" si es mayor 20\n",
    "# Imprime \"Youth\" si es menor 20 y => de 10\n",
    "# Imprime \"Kid\" menor que 10\n",
    "\n",
    "age = int(input(\"Enter age:\"))\n",
    "\n",
    "if age > 20:\n",
    "    result = \"Adult\"\n",
    "if age < 20 and age >= 10:\n",
    "    result = \"Youth\"\n",
    "if age < 10:\n",
    "    result = \"Kid\"\n",
    "\n",
    "result"
   ]
  },
  {
   "cell_type": "code",
   "execution_count": 56,
   "id": "9a916855-4f44-4638-a53e-aa326cce5765",
   "metadata": {},
   "outputs": [
    {
     "name": "stdin",
     "output_type": "stream",
     "text": [
      "Enter age: 2\n"
     ]
    },
    {
     "data": {
      "text/plain": [
       "'Kid'"
      ]
     },
     "execution_count": 56,
     "metadata": {},
     "output_type": "execute_result"
    }
   ],
   "source": [
    "# Imprime \"Adult\" si es mayor 20\n",
    "# Imprime \"Youth\" si es menor 20 y => de 10\n",
    "# Imprime \"Kid\" menor que 10\n",
    "\n",
    "# ELIF\n",
    "\n",
    "age = int(input(\"Enter age:\"))\n",
    "\n",
    "if age > 20:\n",
    "    result = \"Adult\"\n",
    "    #print(\"Adult\")\n",
    "elif age < 20 and age >= 10:\n",
    "    result = \"Youth\"\n",
    "    # ...\n",
    "else:\n",
    "    result = \"Kid\"\n",
    "    # ...\n",
    "result"
   ]
  },
  {
   "cell_type": "code",
   "execution_count": 60,
   "id": "f3f69ed3-0dbc-402b-9b3f-9baab0517624",
   "metadata": {},
   "outputs": [
    {
     "name": "stdout",
     "output_type": "stream",
     "text": [
      "1\n"
     ]
    }
   ],
   "source": [
    "import random\n",
    "# Función números aleatorios entre el 1 y el 3 ambos incluidos\n",
    "print(random.randint(1,3))\n"
   ]
  },
  {
   "cell_type": "code",
   "execution_count": 75,
   "id": "7d083af2-dba0-4470-9fbc-dba12b7782fa",
   "metadata": {},
   "outputs": [
    {
     "name": "stdout",
     "output_type": "stream",
     "text": [
      "0\n"
     ]
    }
   ],
   "source": [
    "import random\n",
    "\n",
    "# [0,2[\n",
    "print(random.randrange(2))"
   ]
  },
  {
   "cell_type": "code",
   "execution_count": 62,
   "id": "c86478bb-9f52-44aa-8251-2bcf5527767b",
   "metadata": {},
   "outputs": [
    {
     "name": "stdin",
     "output_type": "stream",
     "text": [
      "Enter the alphabet s\n"
     ]
    },
    {
     "name": "stdout",
     "output_type": "stream",
     "text": [
      "s  is a consonant\n"
     ]
    }
   ],
   "source": [
    "# Recibe una letra del abecedario y comprueba si es vocal o consonante\n",
    "\n",
    "letter = input(\"Enter the alphabet\")\n",
    " \n",
    "if letter == 'a' or letter == 'e' or letter == 'i' or letter == 'o' or letter == 'u':\n",
    "    print(letter, \" is a vowel\")\n",
    "else:\n",
    "    print(letter, \" is a consonant\")"
   ]
  },
  {
   "cell_type": "code",
   "execution_count": 64,
   "id": "d6044e03-eaaa-4ab9-8f73-64fe503274b7",
   "metadata": {},
   "outputs": [
    {
     "name": "stdin",
     "output_type": "stream",
     "text": [
      "Enter the alphabet s\n"
     ]
    },
    {
     "name": "stdout",
     "output_type": "stream",
     "text": [
      "s is a consonant\n"
     ]
    }
   ],
   "source": [
    "# Recibe una letra del abecedario y comprueba si es vocal o consonante\n",
    "\n",
    "letter = input(\"Enter the alphabet\")\n",
    "\n",
    "vowels = [\"a\", \"e\", \"i\", \"o\", \"u\"]\n",
    "\n",
    "if letter in vowels:  # if letter in \"AEIOU\" ->> pero podría ocurrir un error ya que si introducimos \"AE\" daría resultado\n",
    "    print(letter, \" is a vowel\")\n",
    "else:\n",
    "    print(letter, \"is a consonant\")\n",
    "          \n"
   ]
  },
  {
   "cell_type": "code",
   "execution_count": 65,
   "id": "ba3294ba-bc59-4200-a460-44fa440179ad",
   "metadata": {},
   "outputs": [
    {
     "name": "stdout",
     "output_type": "stream",
     "text": [
      "PROBANDO ESTO\n",
      "probando esto\n"
     ]
    }
   ],
   "source": [
    "# Uppercase\n",
    "cadena = \"Probando esto\"\n",
    "\n",
    "print(cadena.upper())\n",
    "print(cadena.lower())"
   ]
  },
  {
   "cell_type": "code",
   "execution_count": 73,
   "id": "6555523c-ddb9-4c41-a301-c05b349e91c8",
   "metadata": {},
   "outputs": [
    {
     "name": "stdin",
     "output_type": "stream",
     "text": [
      "write two integers:  15 5\n"
     ]
    },
    {
     "name": "stdout",
     "output_type": "stream",
     "text": [
      "15 is a multiple of 5\n"
     ]
    }
   ],
   "source": [
    "# recibimos dos números a y , verifica si a es multiplo de b y pinta el resultado\n",
    "a, b = input(\"write two integers: \").split() # necesario el split\n",
    "\n",
    "if(int(a) % int(b) == 0):\n",
    "    print(a, \"is a multiple of\", b)\n"
   ]
  },
  {
   "cell_type": "code",
   "execution_count": 82,
   "id": "6bafde31-e7cc-4248-bd6e-82bd07bb6ba8",
   "metadata": {},
   "outputs": [
    {
     "name": "stdin",
     "output_type": "stream",
     "text": [
      "Enter x,y coordinates:  20 0\n"
     ]
    },
    {
     "name": "stdout",
     "output_type": "stream",
     "text": [
      "Alguna de las coordenadas es 0\n"
     ]
    }
   ],
   "source": [
    "# Di en que cuadrante se encuentran las coordenadas\n",
    "\n",
    "x,y = input(\"Enter x,y coordinates: \").split()\n",
    "\n",
    "#quadrant1 = x > 0 and y > 0\n",
    "#quadrant2 = x < 0 and y > 0\n",
    "#quadrant3 = x < 0 and y < 0\n",
    "#quadrant4 = x > 0 and y < 0\n",
    "\n",
    "# x, y = int(x), int(y)\n",
    "x = int(x)\n",
    "y = int(y)\n",
    "\n",
    "if x > 0 and y > 0:\n",
    "    print(\"In the firts quadrant\")\n",
    "elif x < 0 and y > 0:\n",
    "    print(\"In the second quadrant\")\n",
    "elif x < 0 and y < 0:\n",
    "    print(\"In third quadrant\")    \n",
    "elif x > 0 and y < 0:\n",
    "    print (\"In quarter quadrant\")\n",
    "else: \n",
    "    print(\"Alguna de las coordenadas es 0\")"
   ]
  },
  {
   "cell_type": "code",
   "execution_count": null,
   "id": "bea66489-3924-4025-b8d4-2e47d1e1bceb",
   "metadata": {},
   "outputs": [],
   "source": [
    "# KeyWord\n",
    "# for, in, iterator, range"
   ]
  },
  {
   "cell_type": "code",
   "execution_count": 83,
   "id": "d55b007d-6d00-4804-aeba-3c8045bfe52a",
   "metadata": {},
   "outputs": [
    {
     "data": {
      "text/plain": [
       "[0, 1, 2, 3, 4, 5, 6, 7]"
      ]
     },
     "execution_count": 83,
     "metadata": {},
     "output_type": "execute_result"
    }
   ],
   "source": [
    "list(range(8))"
   ]
  },
  {
   "cell_type": "code",
   "execution_count": 91,
   "id": "069075f3-75fd-45ac-827d-d423d65f036d",
   "metadata": {},
   "outputs": [
    {
     "name": "stdout",
     "output_type": "stream",
     "text": [
      "índice: - 0 - iteración: - 1\n",
      "índice: - 1 - iteración: - 2\n",
      "índice: - 2 - iteración: - 3\n"
     ]
    }
   ],
   "source": [
    "for i in range(3):\n",
    "    print(\"índice:\", i, \"iteración:\", i+1, sep=\" - \")\n",
    "    #sep -> dice entre coma y coma del print que va a poner, si lo definimos con sep=\"\" significa que no ará el comportamiento por defecto que es añadir un espacio"
   ]
  },
  {
   "cell_type": "code",
   "execution_count": 94,
   "id": "664c6cc2-b478-4fb9-870b-24eb2ba3905e",
   "metadata": {},
   "outputs": [
    {
     "name": "stdout",
     "output_type": "stream",
     "text": [
      "0 índice iteración 1!!1 índice iteración 2!!2 índice iteración 3!!"
     ]
    }
   ],
   "source": [
    "for i in range(3):\n",
    "    print(i, \"índice\", \"iteración\", i+1, end=\"!!\")"
   ]
  },
  {
   "cell_type": "code",
   "execution_count": 97,
   "id": "571d54d1-ff66-4d79-b717-b4b86c3cbc31",
   "metadata": {},
   "outputs": [
    {
     "name": "stdin",
     "output_type": "stream",
     "text": [
      "dame una lista de números 1 2 3 4 5 6\n"
     ]
    },
    {
     "name": "stdout",
     "output_type": "stream",
     "text": [
      "Resultado final 21\n"
     ]
    }
   ],
   "source": [
    "# vamos a sumar la lista que le pasamos por parametro\n",
    "\n",
    "numbers = input(\"dame una lista de números\").split()\n",
    "result = 0\n",
    "\n",
    "for num in numbers:\n",
    "    result += int(num)\n",
    "\n",
    "print(\"Resultado final\", result)"
   ]
  },
  {
   "cell_type": "code",
   "execution_count": 108,
   "id": "01d33e70-eeb2-4a47-9fe9-8e2efa5612fe",
   "metadata": {},
   "outputs": [
    {
     "name": "stdout",
     "output_type": "stream",
     "text": [
      "range(0, 10, 2)\n",
      "[0, 2, 4, 6, 8]\n",
      "[8, 6, 4, 2, 0]\n",
      "[7, 6, 5, 4, 3, 2, 1]\n",
      "[1, 2, 3, 4, 5, 6, 7]\n"
     ]
    }
   ],
   "source": [
    "# range(start=0, stop, step=1)\n",
    "\n",
    "# start: de donde partimos\n",
    "# stop: hasta donde llegamos (se excluye)\n",
    "# step: de cuanto en cuanto iteramos\n",
    "\n",
    "print(range(0,10,2))\n",
    "print(list(range(0,10,2)))\n",
    "print(list(range(8,-1,-2)))\n",
    "\n",
    "print(list(range(7, 0, -1)))\n",
    "print(list(range(1,8, 1)))"
   ]
  },
  {
   "cell_type": "code",
   "execution_count": 110,
   "id": "495e631c-65a4-4d34-804a-ca7ca83830e1",
   "metadata": {},
   "outputs": [
    {
     "data": {
      "text/plain": [
       "10"
      ]
     },
     "execution_count": 110,
     "metadata": {},
     "output_type": "execute_result"
    }
   ],
   "source": [
    "sum([1,2,3,4])"
   ]
  },
  {
   "cell_type": "code",
   "execution_count": 1,
   "id": "a0c84850-bac2-4870-898b-c89187bd1d76",
   "metadata": {},
   "outputs": [
    {
     "name": "stdout",
     "output_type": "stream",
     "text": [
      "V\n",
      "J-Hope\n",
      "RM\n",
      "Jungkook\n"
     ]
    }
   ],
   "source": [
    "listWords= ['V', 'J-Hope', 'RM', 'Jungkook']\n",
    "\n",
    "for item in listWords:\n",
    "    print(item)"
   ]
  },
  {
   "cell_type": "code",
   "execution_count": 3,
   "id": "e07ea0ba-9c18-4ef9-b265-84d96067cf42",
   "metadata": {},
   "outputs": [
    {
     "name": "stdout",
     "output_type": "stream",
     "text": [
      "5050\n"
     ]
    }
   ],
   "source": [
    "# Suma todos los números del 1 al 100\n",
    "result = 0\n",
    "\n",
    "listOfNumbers = list(range(1,101,1))\n",
    "\n",
    "for number in listOfNumbers:\n",
    "    result += number\n",
    "    \n",
    "print(result)"
   ]
  },
  {
   "cell_type": "code",
   "execution_count": 131,
   "id": "4cde4952-7564-49a1-906f-d1d5b5f841ee",
   "metadata": {},
   "outputs": [
    {
     "name": "stdout",
     "output_type": "stream",
     "text": [
      "5050\n"
     ]
    }
   ],
   "source": [
    "# Suma todos los números del 1 al 100\n",
    "print(sum(range(1,101,1)))"
   ]
  },
  {
   "cell_type": "code",
   "execution_count": 4,
   "id": "b82c9786-5d1d-4a2b-9a7d-dc84d9afdb00",
   "metadata": {},
   "outputs": [
    {
     "name": "stdout",
     "output_type": "stream",
     "text": [
      "2500\n"
     ]
    }
   ],
   "source": [
    "# Suma los pares del 1 a 101\n",
    "print(sum(range(1,101,2)))"
   ]
  },
  {
   "cell_type": "code",
   "execution_count": 6,
   "id": "5dfd37e0-dc56-4999-954e-13a424edb7b6",
   "metadata": {},
   "outputs": [
    {
     "name": "stdout",
     "output_type": "stream",
     "text": [
      "4950\n"
     ]
    }
   ],
   "source": [
    "# Suma los impares del 1 al 100\n",
    "print(sum(range(1,100,1)))"
   ]
  },
  {
   "cell_type": "code",
   "execution_count": 10,
   "id": "9bdfdab4-c41b-45a2-92f2-0c6535b27588",
   "metadata": {},
   "outputs": [
    {
     "name": "stdout",
     "output_type": "stream",
     "text": [
      "H\n",
      "e\n",
      "l\n",
      "l\n",
      "o\n",
      "-----------\n",
      "H\n",
      "e\n",
      "l\n",
      "l\n",
      "o\n"
     ]
    }
   ],
   "source": [
    "# es lo mismo\n",
    "\n",
    "word=\"Hello\"\n",
    "\n",
    "for letter in word:\n",
    "    print(letter)\n",
    "\n",
    "print(\"-----------\")\n",
    "\n",
    "for i in range(5):\n",
    "    print(word[i])\n"
   ]
  },
  {
   "cell_type": "code",
   "execution_count": 12,
   "id": "8da83203-2edb-43bd-87e0-d0a59570edcb",
   "metadata": {},
   "outputs": [
    {
     "name": "stdout",
     "output_type": "stream",
     "text": [
      "5\n",
      "5\n"
     ]
    }
   ],
   "source": [
    "#Longitud de una lista\n",
    "word = \"Hello\"\n",
    "print(len(word))\n",
    "\n",
    "listWord= [\"H\",\"e\", \"l\", \"l\", \"o\"]\n",
    "print(len(listWord))"
   ]
  },
  {
   "cell_type": "code",
   "execution_count": 13,
   "id": "9cbadea0-345e-4a63-8c20-05afe74355ec",
   "metadata": {},
   "outputs": [
    {
     "data": {
      "text/plain": [
       "2"
      ]
     },
     "execution_count": 13,
     "metadata": {},
     "output_type": "execute_result"
    }
   ],
   "source": [
    "range(5)[2]"
   ]
  },
  {
   "cell_type": "code",
   "execution_count": 25,
   "id": "4f9b82b8-57f8-4f5d-af30-32b522f302bd",
   "metadata": {},
   "outputs": [
    {
     "name": "stdout",
     "output_type": "stream",
     "text": [
      "Hola mundo! 500.12\n",
      "Hola mundo! test testeo\n",
      "Recomendaciones: 1: el libro se llama 'Blancanieves'\n"
     ]
    }
   ],
   "source": [
    "# Cadenas f\n",
    "print(f\"Hola mundo! {500.1234:0.2f}\")\n",
    "\n",
    "# Ejemplo 2 es igual que lo de abajo pero este ejemplo es más cómodo\n",
    "var1= 'test'\n",
    "var2= 'testeo'\n",
    "print(f\"Hola mundo! {var1} {var2}\")\n",
    "\n",
    "#Ejemplo 3\n",
    "var= \"el libro se llama 'Blancanieves'\"\n",
    "print(f\"Recomendaciones: 1: {var}\" )\n"
   ]
  },
  {
   "cell_type": "code",
   "execution_count": 16,
   "id": "6de854be-949c-4da3-9e02-3b7fcbf7e0a2",
   "metadata": {},
   "outputs": [
    {
     "data": {
      "text/plain": [
       "'Hola mundo! 1, 2'"
      ]
     },
     "execution_count": 16,
     "metadata": {},
     "output_type": "execute_result"
    }
   ],
   "source": [
    "# Cadenas f\n",
    "\"Hola mundo! {}, {}\".format(1,2)"
   ]
  },
  {
   "cell_type": "code",
   "execution_count": 5,
   "id": "b6bb2792-e692-4913-a23a-bad1fe3a9a0f",
   "metadata": {},
   "outputs": [],
   "source": [
    "# Haz una matriz de números\n",
    "# Diapositiva 393 Chapter 1\n",
    "\n",
    "for a in [1,2,3,4,5]:\n",
    "    for b in [1,2,3,4,5]:\n",
    "        pass\n"
   ]
  },
  {
   "cell_type": "code",
   "execution_count": 12,
   "id": "2d4a1298-8c1f-42d9-8acd-0ecf920cc186",
   "metadata": {},
   "outputs": [
    {
     "name": "stdout",
     "output_type": "stream",
     "text": [
      "[0, 1, 2]\n",
      "[3, 4, 5]\n",
      "[6, 7, 8]\n"
     ]
    }
   ],
   "source": [
    "matriz = [\n",
    "    ['a', 'b', 'c'], \n",
    "    ['d', 'e', 'f'], \n",
    "    ['g', 'h', 'i']\n",
    "]\n",
    "contador = 0\n",
    "\n",
    "for i in range(len(matriz)):\n",
    "    for j in range(len(matriz[i])):\n",
    "        matriz[i][j] = contador\n",
    "        contador += 1\n",
    "\n",
    "for fila in matriz:\n",
    "    print(fila)"
   ]
  },
  {
   "cell_type": "code",
   "execution_count": 51,
   "id": "025b7f78-dda1-4ecb-bf6c-4ce5bfecaac2",
   "metadata": {},
   "outputs": [
    {
     "name": "stdout",
     "output_type": "stream",
     "text": [
      "1 1 1 1 1\n",
      "2 2 2 2 2\n",
      "3 3 3 3 3\n",
      "4 4 4 4 4\n",
      "5 5 5 5 5\n"
     ]
    }
   ],
   "source": [
    "for i in [1,2,3,4,5]:\n",
    "    for j in range(4):\n",
    "        #print(f'{i+j}', end=' ')\n",
    "        print(f'{i}', end=' ')\n",
    "    print(f'{i}' )"
   ]
  }
 ],
 "metadata": {
  "kernelspec": {
   "display_name": "Python 3 (ipykernel)",
   "language": "python",
   "name": "python3"
  },
  "language_info": {
   "codemirror_mode": {
    "name": "ipython",
    "version": 3
   },
   "file_extension": ".py",
   "mimetype": "text/x-python",
   "name": "python",
   "nbconvert_exporter": "python",
   "pygments_lexer": "ipython3",
   "version": "3.11.7"
  }
 },
 "nbformat": 4,
 "nbformat_minor": 5
}
