{
 "cells": [
  {
   "cell_type": "code",
   "execution_count": 4,
   "id": "4056871e-5e4e-4a5a-a114-dae2a3a1cc95",
   "metadata": {},
   "outputs": [
    {
     "name": "stdout",
     "output_type": "stream",
     "text": [
      "Estoy dentro de la funcion 5\n",
      "Estoy fuera de la funcion 10\n"
     ]
    }
   ],
   "source": [
    "# Ámbito de las variables si no encuentra valor fuera de la función buscaremos fuera\n",
    "\n",
    "x = 10 # es global porque está fuera de la función\n",
    "\n",
    "def funcion():\n",
    "    x = 5 # creo una variable local que hace \"sombra\" (impide el acceso) a la variable global\n",
    "    print(\"Estoy dentro de la funcion\", x)\n",
    "\n",
    "funcion()\n",
    "print(\"Estoy fuera de la funcion\",x)\n"
   ]
  },
  {
   "cell_type": "code",
   "execution_count": 5,
   "id": "e0ef891a-b257-4ef0-8384-4eed604000c3",
   "metadata": {},
   "outputs": [
    {
     "name": "stdout",
     "output_type": "stream",
     "text": [
      "Estoy dentro de la funcion 5\n",
      "Estoy fuera de la funcion 5\n"
     ]
    }
   ],
   "source": [
    "# Ámbito de las variables si no encuentra valor fuera de la función buscaremos fuera\n",
    "\n",
    "x = 10 # es global porque está fuera de la función\n",
    "\n",
    "def funcion():\n",
    "    global x # Le estoy diciendo que quiero acceder a la variable local x\n",
    "    x = 5 # creo una variable local que hace \"sombra\" (impide el acceso) a la variable global\n",
    "    print(\"Estoy dentro de la funcion\", x)\n",
    "\n",
    "funcion()\n",
    "print(\"Estoy fuera de la funcion\",x)\n"
   ]
  },
  {
   "cell_type": "code",
   "execution_count": 8,
   "id": "34fc1a57-86cd-4ce9-9705-075049a6b334",
   "metadata": {},
   "outputs": [],
   "source": [
    "# Funciones anidadas\n",
    "def funcion(x):\n",
    "    def otra_funcion():\n",
    "        print(\"Esto es otra_funcion, x=\", x)\n",
    "    return otra_funcion()"
   ]
  },
  {
   "cell_type": "code",
   "execution_count": 13,
   "id": "c695044c-88a6-4543-8832-a18959e0b101",
   "metadata": {},
   "outputs": [
    {
     "name": "stdout",
     "output_type": "stream",
     "text": [
      "Esto es otra_funcion, x= 3\n"
     ]
    }
   ],
   "source": [
    "a = funcion(3) # a guarda una ref. a lo que devuelve funcion(3), eso es una CLOUSURE o clausura"
   ]
  },
  {
   "cell_type": "code",
   "execution_count": 14,
   "id": "3310eaa8-bb11-40a6-9733-d3d7e1bff994",
   "metadata": {},
   "outputs": [
    {
     "data": {
      "text/plain": [
       "14"
      ]
     },
     "execution_count": 14,
     "metadata": {},
     "output_type": "execute_result"
    }
   ],
   "source": [
    "def multiplicar_por(n):\n",
    "    def aux(x):\n",
    "        return x*n\n",
    "    return aux\n",
    "duplicar= multiplicar_por(2)\n",
    "duplicar(7)"
   ]
  },
  {
   "cell_type": "code",
   "execution_count": 15,
   "id": "f91c7791-99e7-4aed-8591-c391780f6b5c",
   "metadata": {},
   "outputs": [
    {
     "name": "stdout",
     "output_type": "stream",
     "text": [
      "desde otra 10\n",
      "desde una 100\n",
      "desde fuera 5\n"
     ]
    }
   ],
   "source": [
    "a = 5\n",
    "def una(): \n",
    "    a = 10 # LOCAL a una\n",
    "    def otra():\n",
    "        nonlocal a # significa que esta a la podemos modificar y cambiaría en ambas partes\n",
    "        print(\"desde otra\", a)\n",
    "        a = 100\n",
    "    otra()\n",
    "    print(\"desde una\", a)\n",
    "una()\n",
    "print(\"desde fuera\", a)"
   ]
  },
  {
   "cell_type": "code",
   "execution_count": 22,
   "id": "ebcd712a-1ef0-4a40-8975-f9e2104cda66",
   "metadata": {},
   "outputs": [],
   "source": [
    "# CLASES\n",
    "\n",
    "class Contador:\n",
    "    def __init__(self): # lo que se ejecuta cuando hago Contador\n",
    "        self.cuenta = 0 # Crear un atributo llamado cuenta\n",
    "        cuenta = 5 # una variable LOCAL, que luego desaparece (hago el tonto)\n",
    "\n",
    "    def consultar(self):\n",
    "        return self.cuenta\n",
    "        \n",
    "    def incrementar(self, incremento=1):\n",
    "        self.cuenta += incremento\n",
    "\n",
    "    def __repr__(self):\n",
    "        return \"Hola soy una instancia de contador\""
   ]
  },
  {
   "cell_type": "code",
   "execution_count": 20,
   "id": "cf9ba5ac-d560-4d64-91f4-5a424f548713",
   "metadata": {},
   "outputs": [],
   "source": [
    "c = Contador()"
   ]
  },
  {
   "cell_type": "code",
   "execution_count": 21,
   "id": "e8877d10-042e-457f-8669-8d841c7ef174",
   "metadata": {},
   "outputs": [
    {
     "data": {
      "text/plain": [
       "0"
      ]
     },
     "execution_count": 21,
     "metadata": {},
     "output_type": "execute_result"
    }
   ],
   "source": [
    "c.consultar()"
   ]
  },
  {
   "cell_type": "code",
   "execution_count": null,
   "id": "cf0bf6f6-0962-48d4-a290-50325867707d",
   "metadata": {},
   "outputs": [],
   "source": [
    "for i in range(5):\n",
    "    c.incrementar(10)\n",
    "c.consultar()"
   ]
  },
  {
   "cell_type": "code",
   "execution_count": 26,
   "id": "4e277fff-dde8-4423-8ba6-ffb5548be4cd",
   "metadata": {},
   "outputs": [
    {
     "data": {
      "text/plain": [
       "Hola soy una instancia de contador"
      ]
     },
     "execution_count": 26,
     "metadata": {},
     "output_type": "execute_result"
    }
   ],
   "source": [
    "Contador()"
   ]
  },
  {
   "cell_type": "code",
   "execution_count": 44,
   "id": "c042f680-0e33-4c0f-b9d8-e8584ffdd1ec",
   "metadata": {},
   "outputs": [
    {
     "data": {
      "text/plain": [
       "Soy una mascota"
      ]
     },
     "execution_count": 44,
     "metadata": {},
     "output_type": "execute_result"
    }
   ],
   "source": [
    "class Mascota():\n",
    "    def __repr__(self):\n",
    "        return \"Soy una mascota\"\n",
    "        \n",
    "class Gato(Mascota): # La forma de hacer herencia\n",
    "    def talk(self):\n",
    "        return \"miau\"\n",
    "    def __add__(self, otro):\n",
    "        print(\"Intentan sumar algo a un gato: \", otro)\n",
    "class Perro(Mascota):\n",
    "    def __init__(self, otro):\n",
    "        self.nombre= otro\n",
    "        return f'Soy un perro llamado {self.nombre}'\n",
    "        \n",
    "g = Gato()\n",
    "g\n"
   ]
  },
  {
   "cell_type": "code",
   "execution_count": 35,
   "id": "18184aa0-8e02-47fa-995b-421c8e777d87",
   "metadata": {},
   "outputs": [
    {
     "name": "stdout",
     "output_type": "stream",
     "text": [
      "Intentan sumar algo a un gato:  algo\n"
     ]
    }
   ],
   "source": [
    "g + \"algo\""
   ]
  },
  {
   "cell_type": "code",
   "execution_count": 45,
   "id": "dfccfb25-22ea-4fc9-aad9-e7a919838126",
   "metadata": {},
   "outputs": [
    {
     "ename": "TypeError",
     "evalue": "__init__() should return None, not 'str'",
     "output_type": "error",
     "traceback": [
      "\u001b[1;31m---------------------------------------------------------------------------\u001b[0m",
      "\u001b[1;31mTypeError\u001b[0m                                 Traceback (most recent call last)",
      "Cell \u001b[1;32mIn[45], line 1\u001b[0m\n\u001b[1;32m----> 1\u001b[0m p \u001b[38;5;241m=\u001b[39m Perro(\u001b[38;5;124m'\u001b[39m\u001b[38;5;124mR\u001b[39m\u001b[38;5;124m'\u001b[39m)\n",
      "\u001b[1;31mTypeError\u001b[0m: __init__() should return None, not 'str'"
     ]
    }
   ],
   "source": [
    "p = Perro('R')"
   ]
  }
 ],
 "metadata": {
  "kernelspec": {
   "display_name": "Python 3 (ipykernel)",
   "language": "python",
   "name": "python3"
  },
  "language_info": {
   "codemirror_mode": {
    "name": "ipython",
    "version": 3
   },
   "file_extension": ".py",
   "mimetype": "text/x-python",
   "name": "python",
   "nbconvert_exporter": "python",
   "pygments_lexer": "ipython3",
   "version": "3.11.7"
  }
 },
 "nbformat": 4,
 "nbformat_minor": 5
}
