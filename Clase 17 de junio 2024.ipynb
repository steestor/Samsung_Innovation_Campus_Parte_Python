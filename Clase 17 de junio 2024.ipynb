{
 "cells": [
  {
   "cell_type": "code",
   "execution_count": 1,
   "id": "97c2d84f-c394-4830-9e8b-178cde1d2482",
   "metadata": {},
   "outputs": [
    {
     "name": "stdout",
     "output_type": "stream",
     "text": [
      "Hola mundo\n"
     ]
    }
   ],
   "source": [
    "print('Hola mundo')"
   ]
  },
  {
   "cell_type": "code",
   "execution_count": 2,
   "id": "cac6a097-ad45-4fdd-8349-ca6f0673df7e",
   "metadata": {},
   "outputs": [
    {
     "name": "stdout",
     "output_type": "stream",
     "text": [
      "5\n"
     ]
    }
   ],
   "source": [
    "print(5)"
   ]
  },
  {
   "cell_type": "code",
   "execution_count": 4,
   "id": "af1a8082-a94c-46da-a73d-0360dc186334",
   "metadata": {},
   "outputs": [
    {
     "name": "stdout",
     "output_type": "stream",
     "text": [
      "Esto es una prueba \n",
      "esto va en la siguiente línea\n"
     ]
    }
   ],
   "source": [
    "print('Esto es una prueba \\nesto va en la siguiente línea')"
   ]
  },
  {
   "cell_type": "code",
   "execution_count": 5,
   "id": "edd47a7d-e4a1-4dab-9091-54ae7743531f",
   "metadata": {},
   "outputs": [
    {
     "name": "stdout",
     "output_type": "stream",
     "text": [
      "Esto va en una línea y \n",
      "\t tabulado\n"
     ]
    }
   ],
   "source": [
    "print('Esto va en una línea y \\n\\t tabulado')"
   ]
  },
  {
   "cell_type": "code",
   "execution_count": 6,
   "id": "36755112-8d09-44e6-94b9-b3c3ec498fff",
   "metadata": {},
   "outputs": [
    {
     "name": "stdout",
     "output_type": "stream",
     "text": [
      " Esto es una prueba sin\n",
      "las barras ni nada\n",
      "esta guapo\n",
      "\n"
     ]
    }
   ],
   "source": [
    "print(''' Esto es una prueba sin\n",
    "las barras ni nada\n",
    "esta guapo\n",
    "''')"
   ]
  },
  {
   "cell_type": "code",
   "execution_count": 7,
   "id": "30f87d2a-d828-4d7a-b477-5a70f52517e8",
   "metadata": {},
   "outputs": [
    {
     "name": "stdout",
     "output_type": "stream",
     "text": [
      "vamos a probar los decimales:  4.6\n"
     ]
    }
   ],
   "source": [
    "print('vamos a probar los decimales: ', 2*2.3)"
   ]
  },
  {
   "cell_type": "code",
   "execution_count": 11,
   "id": "9754a6af-d621-4284-875a-3a7e2127359e",
   "metadata": {},
   "outputs": [
    {
     "name": "stdout",
     "output_type": "stream",
     "text": [
      "testtesttest\n"
     ]
    }
   ],
   "source": [
    "# Pero esto no funciona\n",
    "# print('test' + 7)\n",
    "\n",
    "# Esto funciona\n",
    "print('test' * 3)"
   ]
  },
  {
   "cell_type": "code",
   "execution_count": 18,
   "id": "e4700c94-04cb-496d-85c7-1f3cc037475a",
   "metadata": {},
   "outputs": [
    {
     "name": "stdout",
     "output_type": "stream",
     "text": [
      "Nombre_del_ficherozzzzzzzzzzeoeoeoe.xls"
     ]
    }
   ],
   "source": [
    "#print('Nombre_del_fichero', end='.xls')\n",
    "\n",
    "#Prueba\n",
    "print('Nombre_del_fichero', 'eoeoeoe', end='.xls', sep='zzzzzzzzzz')"
   ]
  },
  {
   "cell_type": "code",
   "execution_count": 21,
   "id": "3d7c8172-5093-4425-8a6c-617172e88914",
   "metadata": {},
   "outputs": [
    {
     "name": "stdin",
     "output_type": "stream",
     "text": [
      "Introduce fruit Apple\n"
     ]
    },
    {
     "data": {
      "text/plain": [
       "'I love Apple'"
      ]
     },
     "execution_count": 21,
     "metadata": {},
     "output_type": "execute_result"
    }
   ],
   "source": [
    "fruit = input('Introduce fruit')\n",
    "'I love ' + fruit\n"
   ]
  },
  {
   "cell_type": "code",
   "execution_count": 22,
   "id": "44f303ef-6386-4cba-9681-44fc67a27557",
   "metadata": {},
   "outputs": [
    {
     "data": {
      "text/plain": [
       "int"
      ]
     },
     "execution_count": 22,
     "metadata": {},
     "output_type": "execute_result"
    }
   ],
   "source": [
    "type(int(\"10\"))"
   ]
  },
  {
   "cell_type": "code",
   "execution_count": 33,
   "id": "a62794a9-88da-41e3-adc1-60ce51d8b8e2",
   "metadata": {},
   "outputs": [
    {
     "name": "stdout",
     "output_type": "stream",
     "text": [
      "100 \n",
      " 5050\n"
     ]
    }
   ],
   "source": [
    "# print(int(100)) \n",
    "# print(str(50) * 2)\n",
    "\n",
    "print(int(100),'\\n',str(50)*2)"
   ]
  },
  {
   "cell_type": "code",
   "execution_count": 38,
   "id": "f34a11fa-4b87-4977-9b2d-ccbc03bd5636",
   "metadata": {},
   "outputs": [
    {
     "data": {
      "text/plain": [
       "1000"
      ]
     },
     "execution_count": 38,
     "metadata": {},
     "output_type": "execute_result"
    }
   ],
   "source": [
    "cadenaUno = '1'\n",
    "cadenaCero = '0'\n",
    "int(cadenaUno + cadenaCero * 3)\n"
   ]
  },
  {
   "cell_type": "code",
   "execution_count": 39,
   "id": "5e2d3cc0-c31a-43c3-9870-90a362d9a14b",
   "metadata": {},
   "outputs": [
    {
     "name": "stdout",
     "output_type": "stream",
     "text": [
      "<class 'int'>\n"
     ]
    }
   ],
   "source": [
    "print(type(8))"
   ]
  },
  {
   "cell_type": "code",
   "execution_count": 43,
   "id": "a381f151-a514-4aaa-b646-e225fe121bb5",
   "metadata": {},
   "outputs": [
    {
     "data": {
      "text/plain": [
       "\"'Hello World!'\""
      ]
     },
     "execution_count": 43,
     "metadata": {},
     "output_type": "execute_result"
    }
   ],
   "source": [
    "\"'Hello World!'\""
   ]
  },
  {
   "cell_type": "code",
   "execution_count": 45,
   "id": "db4b03c2-1e29-4e3e-93cf-aa29bd510030",
   "metadata": {},
   "outputs": [
    {
     "data": {
      "text/plain": [
       "'o'"
      ]
     },
     "execution_count": 45,
     "metadata": {},
     "output_type": "execute_result"
    }
   ],
   "source": [
    "\"Hello\"[-1]"
   ]
  },
  {
   "cell_type": "code",
   "execution_count": 49,
   "id": "50659ad5-f7bf-4111-bbae-b4f97901023e",
   "metadata": {},
   "outputs": [],
   "source": [
    "a =10\n",
    "del a\n"
   ]
  },
  {
   "cell_type": "code",
   "execution_count": 52,
   "id": "f6e0497b-beb9-4c41-be15-33c39a9e0b11",
   "metadata": {},
   "outputs": [
    {
     "data": {
      "text/plain": [
       "(3, 2)"
      ]
     },
     "execution_count": 52,
     "metadata": {},
     "output_type": "execute_result"
    }
   ],
   "source": [
    "# intercambio de valores\n",
    "\n",
    "a= 2\n",
    "b=3\n",
    "\n",
    "\n",
    "aux = a\n",
    "a = b\n",
    "b = aux\n",
    "a, b\n",
    "\n"
   ]
  },
  {
   "cell_type": "code",
   "execution_count": 53,
   "id": "cb47509c-dce6-40a2-a9ae-cc5f43357ab8",
   "metadata": {},
   "outputs": [
    {
     "data": {
      "text/plain": [
       "(3, 2)"
      ]
     },
     "execution_count": 53,
     "metadata": {},
     "output_type": "execute_result"
    }
   ],
   "source": [
    "a =2\n",
    "b=3\n",
    "\n",
    "a, b = b, a\n",
    "a,b\n"
   ]
  },
  {
   "cell_type": "code",
   "execution_count": 57,
   "id": "2c40c285-75c9-44bd-af1f-3069fd184005",
   "metadata": {},
   "outputs": [
    {
     "name": "stdin",
     "output_type": "stream",
     "text": [
      "dame la nota de mi examen: 10\n"
     ]
    }
   ],
   "source": [
    "nota = int(input(\"dame la nota de mi examen:\"))"
   ]
  },
  {
   "cell_type": "code",
   "execution_count": 64,
   "id": "199ce093-867e-4d84-b04c-b663b62ed4b3",
   "metadata": {},
   "outputs": [
    {
     "name": "stdout",
     "output_type": "stream",
     "text": [
      "Area of rectangle: 1800.\n"
     ]
    }
   ],
   "source": [
    "a =30\n",
    "b =60\n",
    "\n",
    "area= a * b\n",
    "print(\"Area of rectangle: \" + str(area) + \".\" )\n"
   ]
  },
  {
   "cell_type": "code",
   "execution_count": 77,
   "id": "fc3cf820-50b2-4cbe-aeb5-5471e48fa4fb",
   "metadata": {},
   "outputs": [
    {
     "name": "stdin",
     "output_type": "stream",
     "text": [
      " 3\n",
      " 4\n"
     ]
    },
    {
     "name": "stdout",
     "output_type": "stream",
     "text": [
      "La hipotenusa es: 5.0\n"
     ]
    }
   ],
   "source": [
    "a = int(input())\n",
    "b = int(input())\n",
    "\n",
    "c = (a**2 + b**2)**0.5\n",
    "print(\"La hipotenusa es: \" + str(c))"
   ]
  },
  {
   "cell_type": "code",
   "execution_count": 78,
   "id": "db3fd958-aa0b-4829-bb1b-c4fa6d42ffc7",
   "metadata": {},
   "outputs": [
    {
     "name": "stdin",
     "output_type": "stream",
     "text": [
      " 3\n"
     ]
    },
    {
     "data": {
      "text/plain": [
       "True"
      ]
     },
     "execution_count": 78,
     "metadata": {},
     "output_type": "execute_result"
    }
   ],
   "source": [
    "a = input()\n",
    "a.isdigit()"
   ]
  },
  {
   "cell_type": "code",
   "execution_count": 97,
   "id": "90b67efd-529f-4b1c-844a-5351deadee16",
   "metadata": {},
   "outputs": [
    {
     "name": "stdin",
     "output_type": "stream",
     "text": [
      "Introduce radio: 11\n"
     ]
    },
    {
     "name": "stdout",
     "output_type": "stream",
     "text": [
      "La circunferencia es: 69.115024\n",
      "El área es: 380.13263200000006\n"
     ]
    }
   ],
   "source": [
    "radio = input('Introduce radio:')\n",
    "pi= 3.141592\n",
    "\n",
    "if(radio.isdigit()):\n",
    "    circunferencia = 2*float(radio)*pi\n",
    "    area = pi * float(radio) * float(radio)\n",
    "    print('La circunferencia es: ' + str(circunferencia))\n",
    "    print('El área es: ' + str(area))\n",
    "\n",
    "else:\n",
    "    print('No es un número correcto')"
   ]
  },
  {
   "cell_type": "code",
   "execution_count": 98,
   "id": "4bdf0d01-3523-4030-8ea6-ca820ab1e646",
   "metadata": {},
   "outputs": [
    {
     "name": "stdout",
     "output_type": "stream",
     "text": [
      "False\n"
     ]
    }
   ],
   "source": [
    "print(5 == '5')"
   ]
  },
  {
   "cell_type": "code",
   "execution_count": 104,
   "id": "238a98b6-8269-46b2-b01a-7aa1d9669062",
   "metadata": {},
   "outputs": [
    {
     "name": "stdout",
     "output_type": "stream",
     "text": [
      "False\n",
      "True True True\n",
      "False\n",
      "True True True\n"
     ]
    }
   ],
   "source": [
    "print(bool(0)) # solo es False el 0\n",
    "print(bool(1), bool(-1), bool(300))\n",
    "print(bool(''))# solo es false la cadena vacía\n",
    "print(bool(\"True\"), bool(\"False\"), bool(\"0\"))"
   ]
  },
  {
   "cell_type": "code",
   "execution_count": 106,
   "id": "fa81c139-2f63-489b-a1cc-4c931362eb94",
   "metadata": {},
   "outputs": [
    {
     "name": "stdout",
     "output_type": "stream",
     "text": [
      "True\n",
      "False\n",
      "True\n"
     ]
    }
   ],
   "source": [
    "a = 1\n",
    "b = 1.0\n",
    "c = 1\n",
    "\n",
    "print(a == b)\n",
    "print(a is b)\n",
    "print(a is c)"
   ]
  },
  {
   "cell_type": "code",
   "execution_count": 122,
   "id": "fbe8e459-33c9-4aa1-8eff-d0e1fda44bf0",
   "metadata": {},
   "outputs": [
    {
     "name": "stdin",
     "output_type": "stream",
     "text": [
      "Introduce un entero: 21\n"
     ]
    },
    {
     "name": "stdout",
     "output_type": "stream",
     "text": [
      "Is the integer odd? True\n"
     ]
    }
   ],
   "source": [
    "x = int(input(\"Introduce un entero:\"))\n",
    "odd = x%2\n",
    "print(\"Is the integer odd?\", odd != 0) "
   ]
  },
  {
   "cell_type": "code",
   "execution_count": 128,
   "id": "76f7d950-0e47-4e8e-b66e-78ad8b587ec4",
   "metadata": {},
   "outputs": [
    {
     "name": "stdin",
     "output_type": "stream",
     "text": [
      "Enter an integer 200\n"
     ]
    },
    {
     "name": "stdout",
     "output_type": "stream",
     "text": [
      "False\n"
     ]
    }
   ],
   "source": [
    "x = int(input(\"Enter an integer\"))\n",
    "if(x >= 0 and x<=100): \n",
    "    result = True \n",
    "else:\n",
    "    result = False\n",
    "\n",
    "print(result)\n"
   ]
  },
  {
   "cell_type": "code",
   "execution_count": 10,
   "id": "bdbc9df5-b5d6-49f1-b90a-11b37b6044db",
   "metadata": {},
   "outputs": [
    {
     "name": "stdin",
     "output_type": "stream",
     "text": [
      "introduce un número 1234\n"
     ]
    },
    {
     "name": "stdout",
     "output_type": "stream",
     "text": [
      "Tiene 3 digitos? False\n"
     ]
    }
   ],
   "source": [
    "digit = int(input(\"introduce un número\"))\n",
    "print(\"Tiene 3 digitos?\" , digit//1000 == 0)"
   ]
  },
  {
   "cell_type": "code",
   "execution_count": null,
   "id": "8ab6b1e8-a646-4482-8bf4-dea995455899",
   "metadata": {},
   "outputs": [],
   "source": []
  },
  {
   "cell_type": "code",
   "execution_count": null,
   "id": "cf965dca-48e3-4920-9ff6-8b739df7bcfc",
   "metadata": {},
   "outputs": [],
   "source": []
  }
 ],
 "metadata": {
  "kernelspec": {
   "display_name": "Python 3 (ipykernel)",
   "language": "python",
   "name": "python3"
  },
  "language_info": {
   "codemirror_mode": {
    "name": "ipython",
    "version": 3
   },
   "file_extension": ".py",
   "mimetype": "text/x-python",
   "name": "python",
   "nbconvert_exporter": "python",
   "pygments_lexer": "ipython3",
   "version": "3.11.7"
  }
 },
 "nbformat": 4,
 "nbformat_minor": 5
}
