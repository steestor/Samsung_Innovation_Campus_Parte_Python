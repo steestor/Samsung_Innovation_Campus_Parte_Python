{
 "cells": [
  {
   "cell_type": "code",
   "execution_count": null,
   "id": "9e2d0786-2e90-453c-9a67-28c2d8b9cb11",
   "metadata": {},
   "outputs": [],
   "source": [
    "# Nombre: Stella Esparza Torregrosa"
   ]
  },
  {
   "cell_type": "markdown",
   "id": "5c55de18-0b3c-4e58-89ac-2a272e19ee4c",
   "metadata": {
    "jp-MarkdownHeadingCollapsed": true
   },
   "source": [
    "## Ejercicio 1\n",
    "\n",
    "Una compañía de ascensores ha decidido poner información acerca del tiempo que va a tardar en llegar de una planta a otra para que la gente permanezca tranquila. Asímismo, también lo aprovechará para concienciar el uso de las escaleras. \n",
    "\n",
    "Para calcular el tiempo que tarda el ascensor en llegar de una planta a otra, se tendrá en cuenta que para **cada planta** se tardan **7 segundos**. Además, el ascensor tarda **5 segundos** en el proceso de arrancar y parar (independientemente del número de plantas). Por último, se estima que una persona tarda alrededor de **9 segundos** por planta si sube **por las escaleras**.\n",
    "\n",
    "Se pide:\n",
    "\n",
    "- Recibir la planta de origen y destino (asumir que son enteros positivos)\n",
    "- Calcular el tiempo que tardará el ascensor\n",
    "- Mostrar uno de los siguientes mensajes:\n",
    "    - Si la planta de destino es la misma que la de origen `Ya está en la planta X`.\n",
    "    - Si el tiempo en ascensor es mayor al que tardaría andando `Por las escaleras tardaría M segundos menos. En N segundos estará en la planta X`\n",
    "    - En otro caso, `En N segundos estará en la planta X`.\n",
    "\n",
    "Pista:\n",
    "    La función `abs` devuelve el valor absoluto de una resta.\n",
    "\n",
    "\n",
    "Ejemplos de ejecución:\n",
    "\n",
    "```\n",
    "Planta de origen: 1\n",
    "Planta de origen: 5\n",
    "En 33 segundos estará en la planta 5\n",
    "```\n",
    "\n",
    "```\n",
    "Planta de origen: 1\n",
    "Planta de origen: 1\n",
    "Ya está en la planta 1\n",
    "```\n",
    "\n",
    "```\n",
    "Planta de origen: 1\n",
    "Planta de destino: 2\n",
    "Por las escaleras tardaría 3 segundos menos. En 12 segundos estará en la planta 2\n",
    "\n",
    "```"
   ]
  },
  {
   "cell_type": "code",
   "execution_count": 38,
   "id": "76e70773-053f-4038-91c7-e8d020d839bd",
   "metadata": {},
   "outputs": [
    {
     "name": "stdin",
     "output_type": "stream",
     "text": [
      "Planta origen: 1\n",
      "Planta destino: 2\n"
     ]
    },
    {
     "name": "stdout",
     "output_type": "stream",
     "text": [
      "Por las escaleras tardaría 3 segundos menos. En 12 segundos estará en la planta 2\n"
     ]
    }
   ],
   "source": [
    "pOrigen = int(input(\"Planta origen:\"))\n",
    "pDestino = int(input(\"Planta destino:\"))\n",
    "\n",
    "TIEMPO_ARRANQUE_PARADA = 5\n",
    "tiempoTotalAscensor = 0\n",
    "tiempoTotalPie = 0\n",
    "\n",
    "if pOrigen == pDestino:\n",
    "    print(f'Ya está en la planta {pOrigen}')\n",
    "elif pOrigen != pDestino:\n",
    "    # Tiempo en ascensor\n",
    "    diferencia = pOrigen - pDestino\n",
    "    if diferencia < 0:\n",
    "        diferencia = diferencia * -1\n",
    "    tiempoTotalAscensor = (diferencia * 7) + TIEMPO_ARRANQUE_PARADA\n",
    "\n",
    "    #Tiempo a pie\n",
    "    tiempoTotalPie = (diferencia * 9)\n",
    "\n",
    "    if tiempoTotalPie - tiempoTotalAscensor < 0:\n",
    "        print(f'Por las escaleras tardaría {(tiempoTotalPie - tiempoTotalAscensor) * -1} segundos menos. En {tiempoTotalAscensor} segundos estará en la planta 2')\n",
    "    else:\n",
    "        print(f'En {tiempoTotalAscensor} segundos estará en la planta {pDestino}')"
   ]
  },
  {
   "cell_type": "code",
   "execution_count": null,
   "id": "1c5a4d61-c484-4399-9155-735f17c76e33",
   "metadata": {},
   "outputs": [],
   "source": []
  },
  {
   "cell_type": "code",
   "execution_count": 13,
   "id": "99343438-9aea-4812-b9d7-16d4c2f4d503",
   "metadata": {},
   "outputs": [
    {
     "name": "stdout",
     "output_type": "stream",
     "text": [
      "Planta de origen: 1\n",
      "Planta de destino: 2\n"
     ]
    },
    {
     "name": "stdout",
     "output_type": "stream",
     "text": [
      "Por las escaleras tardaría 3 segundos menos. En 12 segundos estará en la planta 2\n"
     ]
    }
   ],
   "source": []
  },
  {
   "cell_type": "markdown",
   "id": "bd27663a-244d-4e21-89cc-0e664cf1e78a",
   "metadata": {
    "jp-MarkdownHeadingCollapsed": true
   },
   "source": [
    "## Ejercicio 2\n",
    "\n",
    "Realizar un programa que lea números de tipo `float` hasta que se introduzca un número negativo. Debes contar cuántos números se introducen y la suma de todos ellos **sin contar el negativo**. A continuación:\n",
    "\n",
    "- Si hay más de 0 números antes del negativo, se mostrará la media.\n",
    "- En otro caso, dirá que no puede calcular la media de 0 elementos.\n",
    "\n",
    "Ejemplo de ejecución:\n",
    "\n",
    "```\n",
    "Introduce un número (negativo para parar): -1\n",
    "No puedo calcular la media de 0 valores\n",
    "```\n",
    "\n",
    "Otro ejemplo de ejecución:\n",
    "\n",
    "```\n",
    "Introduce un número (negativo para parar): 20\n",
    "Introduce un número (negativo para parar): 0\n",
    "Introduce un número (negativo para parar): 10\n",
    "Introduce un número (negativo para parar): -1\n",
    "La media es: 10.00\n",
    "\n",
    "```"
   ]
  },
  {
   "cell_type": "code",
   "execution_count": 74,
   "id": "5ed1830c-70c7-4d2a-85c0-fbd3d5cde0bd",
   "metadata": {},
   "outputs": [
    {
     "name": "stdin",
     "output_type": "stream",
     "text": [
      "Introduce un número (negativo parar): a\n"
     ]
    },
    {
     "name": "stdout",
     "output_type": "stream",
     "text": [
      "Revisa el dato introducido, debe ser de tipo float\n"
     ]
    },
    {
     "name": "stdin",
     "output_type": "stream",
     "text": [
      "Introduce un número (negativo parar): -1\n"
     ]
    },
    {
     "name": "stdout",
     "output_type": "stream",
     "text": [
      "No puedo calcular la media de 0 valores\n"
     ]
    }
   ],
   "source": [
    "acumValores = 0\n",
    "contador = 0\n",
    "\n",
    "while True:\n",
    "    try:\n",
    "        numero = float(input(\"Introduce un número (negativo parar):\"))\n",
    "    \n",
    "        if numero < 0 and acumValores == 0:\n",
    "            print(\"No puedo calcular la media de 0 valores\")\n",
    "            break\n",
    "        if numero < 0 and acumValores > 0:\n",
    "            media = acumValores/contador\n",
    "            print(f'La media es: {media:0.2f} ')\n",
    "            break\n",
    "        else:\n",
    "            acumValores += numero \n",
    "            contador += 1\n",
    "    except ValueError:\n",
    "        print(\"Revisa el dato introducido, debe ser de tipo float\")\n",
    "        "
   ]
  },
  {
   "cell_type": "code",
   "execution_count": 16,
   "id": "af705fd8-f2fb-4ce6-9595-50b06f210cd5",
   "metadata": {},
   "outputs": [
    {
     "name": "stdout",
     "output_type": "stream",
     "text": [
      "Introduce un número (negativo para parar): 20\n",
      "Introduce un número (negativo para parar): 0\n",
      "Introduce un número (negativo para parar): 10\n",
      "Introduce un número (negativo para parar): -1\n",
      "La media es: 10.00\n"
     ]
    }
   ],
   "source": []
  },
  {
   "cell_type": "markdown",
   "id": "0f8ee82f-06fa-4639-9db0-7f840c1ecbae",
   "metadata": {},
   "source": [
    "## Ejercicio 3\n",
    "\n",
    "Escribe un programa que pida un número entero positivo `n` que supondremos que es par y mayor o igual a `2 ` (asumimos que el usuario introduce un entero y que éste es par y mayor o igual a `2`, no hace falta comprobarlo). A continuación, dibujará en la consola una secuencia de números entre `1` y `n**2` en filas de números pares e impares como en estos ejemplos:\n",
    "\n",
    "```\n",
    "Entrada: 2\n",
    "Salida:\n",
    "  1   3\n",
    "  2   4\n",
    "```\n",
    "\n",
    "```\n",
    "Entrada: 4\n",
    "Salida:\n",
    "  1   3   5   7 \n",
    "  2   4   6   8 \n",
    "  9  11  13  15 \n",
    " 10  12  14  16 \n",
    "```\n",
    "\n",
    "```\n",
    "Entrada: 6\n",
    "Salida:\n",
    "  1   3   5   7   9  11 \n",
    "  2   4   6   8  10  12 \n",
    " 13  15  17  19  21  23 \n",
    " 14  16  18  20  22  24 \n",
    " 25  27  29  31  33  35 \n",
    " 26  28  30  32  34  36\n",
    "```\n",
    "\n",
    "```\n",
    "Entrada: 8\n",
    "Salida:\n",
    "  1   3   5   7   9  11  13  15 \n",
    "  2   4   6   8  10  12  14  16 \n",
    " 17  19  21  23  25  27  29  31 \n",
    " 18  20  22  24  26  28  30  32 \n",
    " 33  35  37  39  41  43  45  47 \n",
    " 34  36  38  40  42  44  46  48 \n",
    " 49  51  53  55  57  59  61  63 \n",
    " 50  52  54  56  58  60  62  64 \n",
    "```\n",
    "\n",
    "```\n",
    "Entrada: 10\n",
    "Salida:\n",
    "  1   3   5   7   9  11  13  15  17  19 \n",
    "  2   4   6   8  10  12  14  16  18  20 \n",
    " 21  23  25  27  29  31  33  35  37  39 \n",
    " 22  24  26  28  30  32  34  36  38  40 \n",
    " 41  43  45  47  49  51  53  55  57  59 \n",
    " 42  44  46  48  50  52  54  56  58  60 \n",
    " 61  63  65  67  69  71  73  75  77  79 \n",
    " 62  64  66  68  70  72  74  76  78  80 \n",
    " 81  83  85  87  89  91  93  95  97  99 \n",
    " 82  84  86  88  90  92  94  96  98 100 \n",
    "```"
   ]
  },
  {
   "cell_type": "code",
   "execution_count": 288,
   "id": "251161a0-1a76-453e-9d97-a0d5c540f361",
   "metadata": {},
   "outputs": [
    {
     "name": "stdin",
     "output_type": "stream",
     "text": [
      "Entrada: 4\n"
     ]
    },
    {
     "name": "stdout",
     "output_type": "stream",
     "text": [
      "2 4 6 8 0\n",
      "1 3 5 7 1\n",
      "2 4 6 8 2\n",
      "1 3 5 7 3\n"
     ]
    }
   ],
   "source": [
    "numero = int(input(\"Entrada:\"))\n",
    "\n",
    "totalNumbers = numero * numero\n",
    "\n",
    "isPar = False\n",
    "iniPar = 2\n",
    "iniImpar = 1\n",
    "\n",
    "for i, n in enumerate(range(0, numero)):\n",
    "    # Fila par\n",
    "    if isPar:\n",
    "        isPar = False\n",
    "        for j in range(1, numero * 2, 2):\n",
    "            print(f'{j}' , end =' ')\n",
    "        \n",
    "    # Fila impar: ej 1ª\n",
    "    else:\n",
    "        isPar =True\n",
    "        for k in range(2, numero * 2 +2, 2):\n",
    "            print(f'{k}', end =' ')\n",
    "    print(n)"
   ]
  },
  {
   "cell_type": "code",
   "execution_count": 340,
   "id": "0377774d-688c-4bd6-9f74-a17a91641459",
   "metadata": {},
   "outputs": [
    {
     "name": "stdin",
     "output_type": "stream",
     "text": [
      "Entrada: 4\n"
     ]
    },
    {
     "name": "stdout",
     "output_type": "stream",
     "text": [
      "[1, 3, 5, 7]\n",
      "[2, 4, 6, 8]\n",
      "[9, 11, 13, 15]\n",
      "[10, 12, 14, 16]\n"
     ]
    }
   ],
   "source": [
    "numero = int(input(\"Entrada:\"))\n",
    "\n",
    "impares = list(range(1, numero * numero, 2))\n",
    "pares = list(range(2, numero * numero +2, 2))\n",
    "\n",
    "iniImp = 0\n",
    "finImp = 4\n",
    "\n",
    "iniPar = 0\n",
    "finPar = 4\n",
    "\n",
    "\n",
    "for i in range(1,5):\n",
    "    if i % 2 != 0:\n",
    "        print(impares[iniImp:finImp])\n",
    "        aux = finImp\n",
    "        iniImp = aux\n",
    "        finImp *= 4\n",
    "    else:\n",
    "        print(pares[iniPar:finPar])\n",
    "        aux = finPar\n",
    "        iniPar = aux\n",
    "        finPar *= 4\n",
    "    \n",
    "        "
   ]
  },
  {
   "cell_type": "code",
   "execution_count": 8,
   "id": "95189649-7392-47d7-af55-283f55fbf8b0",
   "metadata": {},
   "outputs": [
    {
     "name": "stdin",
     "output_type": "stream",
     "text": [
      "Entrada: 4\n"
     ]
    },
    {
     "name": "stdout",
     "output_type": "stream",
     "text": [
      "1 3 5 7 \n",
      "2 4 6 8 \n",
      "9 11 13 15 \n",
      "10 12 14 16 \n"
     ]
    }
   ],
   "source": [
    "# Solución\n",
    "\n",
    "n= int(input(\"Entrada:\"))\n",
    "\n",
    "for i in range(1,(n*n)+1, n*2):\n",
    "    for j in range(i, i+(n*2), 2):\n",
    "        print(f'{j} ', end=\"\")\n",
    "    print()\n",
    "    for j in range(i+1, i+(n*2)+1, 2):\n",
    "        print(f'{j} ', end=\"\")\n",
    "    print()"
   ]
  },
  {
   "cell_type": "code",
   "execution_count": 10,
   "id": "817017e2-99e3-420d-a38d-e2633184c562",
   "metadata": {},
   "outputs": [
    {
     "data": {
      "text/plain": [
       "['MAXYEAR',\n",
       " 'MINYEAR',\n",
       " 'UTC',\n",
       " '__all__',\n",
       " '__builtins__',\n",
       " '__cached__',\n",
       " '__doc__',\n",
       " '__file__',\n",
       " '__loader__',\n",
       " '__name__',\n",
       " '__package__',\n",
       " '__spec__',\n",
       " 'date',\n",
       " 'datetime',\n",
       " 'datetime_CAPI',\n",
       " 'sys',\n",
       " 'time',\n",
       " 'timedelta',\n",
       " 'timezone',\n",
       " 'tzinfo']"
      ]
     },
     "execution_count": 10,
     "metadata": {},
     "output_type": "execute_result"
    }
   ],
   "source": [
    "# IMPORT DATETIME\n",
    "# hay una forma distinta de hacer las importaciones de manera que no hace falta que llamemos\n",
    "# a la clase podriamos utilizar a piño today()\n",
    "import datetime\n",
    "\n",
    "# Podemos asignarle alias a los imports:\n",
    "# import datetime as dt\n",
    "\n",
    "dir(datetime)\n",
    "\n",
    "# Lista todas las propiedades, métodos... que hay dentro de la librería"
   ]
  },
  {
   "cell_type": "code",
   "execution_count": 9,
   "id": "8a025cc8-de06-480d-bbc6-cf3c5aeda124",
   "metadata": {},
   "outputs": [
    {
     "data": {
      "text/plain": [
       "['__add__',\n",
       " '__class__',\n",
       " '__contains__',\n",
       " '__delattr__',\n",
       " '__dir__',\n",
       " '__doc__',\n",
       " '__eq__',\n",
       " '__format__',\n",
       " '__ge__',\n",
       " '__getattribute__',\n",
       " '__getitem__',\n",
       " '__getnewargs__',\n",
       " '__getstate__',\n",
       " '__gt__',\n",
       " '__hash__',\n",
       " '__init__',\n",
       " '__init_subclass__',\n",
       " '__iter__',\n",
       " '__le__',\n",
       " '__len__',\n",
       " '__lt__',\n",
       " '__mod__',\n",
       " '__mul__',\n",
       " '__ne__',\n",
       " '__new__',\n",
       " '__reduce__',\n",
       " '__reduce_ex__',\n",
       " '__repr__',\n",
       " '__rmod__',\n",
       " '__rmul__',\n",
       " '__setattr__',\n",
       " '__sizeof__',\n",
       " '__str__',\n",
       " '__subclasshook__',\n",
       " 'capitalize',\n",
       " 'casefold',\n",
       " 'center',\n",
       " 'count',\n",
       " 'encode',\n",
       " 'endswith',\n",
       " 'expandtabs',\n",
       " 'find',\n",
       " 'format',\n",
       " 'format_map',\n",
       " 'index',\n",
       " 'isalnum',\n",
       " 'isalpha',\n",
       " 'isascii',\n",
       " 'isdecimal',\n",
       " 'isdigit',\n",
       " 'isidentifier',\n",
       " 'islower',\n",
       " 'isnumeric',\n",
       " 'isprintable',\n",
       " 'isspace',\n",
       " 'istitle',\n",
       " 'isupper',\n",
       " 'join',\n",
       " 'ljust',\n",
       " 'lower',\n",
       " 'lstrip',\n",
       " 'maketrans',\n",
       " 'partition',\n",
       " 'removeprefix',\n",
       " 'removesuffix',\n",
       " 'replace',\n",
       " 'rfind',\n",
       " 'rindex',\n",
       " 'rjust',\n",
       " 'rpartition',\n",
       " 'rsplit',\n",
       " 'rstrip',\n",
       " 'split',\n",
       " 'splitlines',\n",
       " 'startswith',\n",
       " 'strip',\n",
       " 'swapcase',\n",
       " 'title',\n",
       " 'translate',\n",
       " 'upper',\n",
       " 'zfill']"
      ]
     },
     "execution_count": 9,
     "metadata": {},
     "output_type": "execute_result"
    }
   ],
   "source": [
    "# ¿cómo puedo ver todas las funciones que tiene un tipo?\n",
    "dir(str)\n",
    "\n",
    "# Podemos hacer lo mismo así\n",
    "# a = \"Hola\"\n",
    "# dir(a)"
   ]
  },
  {
   "cell_type": "code",
   "execution_count": 12,
   "id": "10f53c6c-9de1-40fb-81cf-288b679398eb",
   "metadata": {},
   "outputs": [
    {
     "data": {
      "text/plain": [
       "datetime.datetime(2024, 7, 2, 18, 54, 8, 718807)"
      ]
     },
     "execution_count": 12,
     "metadata": {},
     "output_type": "execute_result"
    }
   ],
   "source": [
    "# Podemos hacer reemplazos de las fechas\n",
    "\n",
    "startTime = datetime.datetime.now()\n",
    "startTime.replace(month =12, day= 25)\n",
    "startTime"
   ]
  },
  {
   "cell_type": "code",
   "execution_count": 14,
   "id": "e3917800-7a1d-48ff-ac4f-0cd8b6cc9d75",
   "metadata": {},
   "outputs": [
    {
     "data": {
      "text/plain": [
       "['__doc__',\n",
       " '__loader__',\n",
       " '__name__',\n",
       " '__package__',\n",
       " '__spec__',\n",
       " 'acos',\n",
       " 'acosh',\n",
       " 'asin',\n",
       " 'asinh',\n",
       " 'atan',\n",
       " 'atan2',\n",
       " 'atanh',\n",
       " 'cbrt',\n",
       " 'ceil',\n",
       " 'comb',\n",
       " 'copysign',\n",
       " 'cos',\n",
       " 'cosh',\n",
       " 'degrees',\n",
       " 'dist',\n",
       " 'e',\n",
       " 'erf',\n",
       " 'erfc',\n",
       " 'exp',\n",
       " 'exp2',\n",
       " 'expm1',\n",
       " 'fabs',\n",
       " 'factorial',\n",
       " 'floor',\n",
       " 'fmod',\n",
       " 'frexp',\n",
       " 'fsum',\n",
       " 'gamma',\n",
       " 'gcd',\n",
       " 'hypot',\n",
       " 'inf',\n",
       " 'isclose',\n",
       " 'isfinite',\n",
       " 'isinf',\n",
       " 'isnan',\n",
       " 'isqrt',\n",
       " 'lcm',\n",
       " 'ldexp',\n",
       " 'lgamma',\n",
       " 'log',\n",
       " 'log10',\n",
       " 'log1p',\n",
       " 'log2',\n",
       " 'modf',\n",
       " 'nan',\n",
       " 'nextafter',\n",
       " 'perm',\n",
       " 'pi',\n",
       " 'pow',\n",
       " 'prod',\n",
       " 'radians',\n",
       " 'remainder',\n",
       " 'sin',\n",
       " 'sinh',\n",
       " 'sqrt',\n",
       " 'tan',\n",
       " 'tanh',\n",
       " 'tau',\n",
       " 'trunc',\n",
       " 'ulp']"
      ]
     },
     "execution_count": 14,
     "metadata": {},
     "output_type": "execute_result"
    }
   ],
   "source": [
    "# Modulo math\n",
    "import math as m\n",
    "\n",
    "dir(m)"
   ]
  },
  {
   "cell_type": "code",
   "execution_count": 18,
   "id": "a97f5b55-1010-4a60-9b4e-ccbc2d01c783",
   "metadata": {},
   "outputs": [
    {
     "name": "stdout",
     "output_type": "stream",
     "text": [
      "3\n",
      "0.6931471805599453\n",
      "Help on built-in function log in module math:\n",
      "\n",
      "log(...)\n",
      "    log(x, [base=math.e])\n",
      "    Return the logarithm of x to the given base.\n",
      "    \n",
      "    If the base not specified, returns the natural logarithm (base e) of x.\n",
      "\n"
     ]
    }
   ],
   "source": [
    "print(m.ceil(2.1))\n",
    "print(m.log(2))\n",
    "\n",
    "help(m.log)\n"
   ]
  },
  {
   "cell_type": "code",
   "execution_count": 38,
   "id": "0196a1b9-156f-481b-9c94-56fa7530f0a5",
   "metadata": {},
   "outputs": [
    {
     "name": "stdout",
     "output_type": "stream",
     "text": [
      "211101 : David Doe\n",
      "211102 : John Smith\n",
      "211103 : Jane Carter\n"
     ]
    },
    {
     "name": "stdin",
     "output_type": "stream",
     "text": [
      "Enter student ID number:  211101\n"
     ]
    },
    {
     "name": "stdout",
     "output_type": "stream",
     "text": [
      "211101 student is David Doe and phone number is 010-123-1111\n"
     ]
    }
   ],
   "source": [
    "# Ejercicio Diapo: 347\n",
    "\n",
    "student_tuple= [('211101', 'David Doe', '010-123-1111'),\n",
    "               ('211102', 'John Smith', '010-123-2222'),\n",
    "               ('211103', 'Jane Carter','010-123-3333')]\n",
    "diccionario={}\n",
    "\n",
    "\n",
    "for x, y, z in student_tuple:\n",
    "    diccionario[x] = { y : z }\n",
    "    print(f'{x} : {y}')\n",
    "    \n",
    "key = input(\"Enter student ID number: \")\n",
    "\n",
    "for keyN, valueN in  diccionario[key].items():\n",
    "    print(f'{key} student is {keyN} and phone number is {valueN}')    \n"
   ]
  },
  {
   "cell_type": "code",
   "execution_count": 39,
   "id": "9bca910d-55e5-4e93-82ac-35833fa62b40",
   "metadata": {},
   "outputs": [],
   "source": [
    "# Se puede hacer el mismo método con listas intensionales: Revisar propuesta del profe"
   ]
  },
  {
   "cell_type": "code",
   "execution_count": 46,
   "id": "3c907469-9ca1-489b-905d-aa4d2800c357",
   "metadata": {},
   "outputs": [
    {
     "name": "stdout",
     "output_type": "stream",
     "text": [
      "False\n",
      "False\n",
      "False\n"
     ]
    }
   ],
   "source": [
    "#Ejercicio diapo 381\n",
    "\n",
    "s1 = {10,20,30,40}\n",
    "s2 = {30,40,50,60,70}\n",
    "\n",
    "print(s1.issubset(s2))\n",
    "print(s1.issuperset(s2))\n",
    "print(s1.isdisjoint(s2))"
   ]
  },
  {
   "cell_type": "code",
   "execution_count": 51,
   "id": "d17cdd47-6cce-421f-b952-5dd5d07cb810",
   "metadata": {},
   "outputs": [
    {
     "name": "stdout",
     "output_type": "stream",
     "text": [
      "[(1, 1), (2, 2), (3, 3), (4, 4)]\n",
      "[]\n",
      "1 1 0\n"
     ]
    }
   ],
   "source": [
    "# Función zip: va haciendo tuplas a partir de la lista de menor valor\n",
    "\n",
    "a=[1,2,3,4,5] \n",
    "b=[1,2,3,4]\n",
    "\n",
    "print(list(zip(a,b)))\n",
    "\n",
    "a=[1,2,3,4,5] \n",
    "b=[1,2,3,4]\n",
    "c=[]\n",
    "\n",
    "print(list(zip(a,b,c)))\n",
    "\n",
    "a=[1,2,3,4,5] \n",
    "b=[1,2,3,4]\n",
    "c=[0]\n",
    "for x,y,z in zip(a,b,c):\n",
    "    print(x,y,z)"
   ]
  },
  {
   "cell_type": "code",
   "execution_count": 54,
   "id": "fdb8bf1d-f67a-4b4a-9204-cf411d1ccbb6",
   "metadata": {},
   "outputs": [
    {
     "data": {
      "text/plain": [
       "{1}"
      ]
     },
     "execution_count": 54,
     "metadata": {},
     "output_type": "execute_result"
    }
   ],
   "source": [
    "{x*y*x for x,y,z in zip(a,b,c)}"
   ]
  },
  {
   "cell_type": "code",
   "execution_count": 2,
   "id": "3ad2a72f-0fd1-45b5-91bf-161f2589f434",
   "metadata": {},
   "outputs": [
    {
     "name": "stdout",
     "output_type": "stream",
     "text": [
      "['Episodio I ', 'LA AMENAZA FANTASMA ', '  ', 'La República Galáctica está ', 'sumida en el caos. Los ', 'impuestos de las rutas ', 'comerciales a los sistemas ', 'estelares exteriores están en ', 'disputa. ', ' ', 'Esperando resolver el asunto ', 'con un bloqueo de poderosas ', 'naves de guerra, la codiciosa ', 'Federación de Comercio ha ', 'detenido todos los envíos al ', 'pequeño planeta de Naboo. ', ' ', 'Mientras el Congreso de la ', 'República debate ', 'interminablemente esta ', 'alarmante cadena de ', 'acontecimientos, el Canciller ', 'Supremo ha enviado en secreto ', 'a dos Caballeros Jedi, ', 'guardianes de la paz y la justicia ', 'en la galaxia, para resolver el ', 'conflicto.... ', '  ', '  ', 'Episodio II ', 'EL ATAQUE DE LOS CLONES ', '  ', 'En el Senado Galáctico. ', 'reina la inquietud. Varios ', 'miles de sistemas solares ', 'han declarado su intención ', 'de abandonar la República. ', ' ', 'Este movimiento separatista, ', 'liderado por el misterioso ', 'Conde Dooku, ha provocado ', 'que al limitado número de ', 'Caballeros Jedi les resulte ', 'difícil mantener la paz y el ', 'orden en la galaxia. ', ' ', 'La senadora Amidala, la ', 'antigua reina de Naboo, ', 'regresa al Senado Galáctico ', 'para dar su voto en la crítica ', 'cuestión de crear un ', 'EJÉRCITO DE LA REPÚBLICA ', 'que ayude a los desbordados ', 'Jedi.... ', ' ', ' ', 'Episodio III ', 'LA VENGANZA DE LOS SITH ', ' ', '¡Guerra! La República se ', 'desmorona bajo los ataques del ', 'despiadado Lord Sith, el Conde ', 'Dooku. Hay héroes en ambos ', 'bandos. El mal está por doquier.  ', ' ', 'En una contundente jugada, el ', 'diabólico líder droide, el General ', 'Grievous, ha irrumpido en la ', 'capital de la República y ha ', 'secuestrado al Canciller ', 'Palpatine, líder del Senado  ', 'Galáctico. ', ' ', 'Mientras el ejército droide ', 'separatista trata de huir de la ', 'capital sitiada con su valioso ', 'rehén, dos Caballeros Jedi ', 'lideran una misión desesperada ', 'para rescatar al Canciller ', 'cautivo.... ', ' ', ' ', 'Episodio IV ', 'UNA NUEVA ESPERANZA ', ' ', 'Nos encontramos en un ', 'periodo de guerra civil. Las ', 'naves espaciales rebeldes, ', 'atacando desde una base ', 'oculta, han logrado su  ', 'primera victoria contra ', 'el malvado Imperio ', 'Galáctico. ', ' ', 'Durante la batalla, los  ', 'espías rebeldes han ', 'conseguido apoderarse de  ', 'los planos secretos del ', 'arma total y definitiva del ', 'Imperio, la ESTRELLA ', 'DE LA MUERTE, ', 'una estación espacial ', 'acorazada, llevando en sí ', 'potencia suficiente para ', 'destruir a un planeta ', 'entero. ', ' ', 'Perseguida por los  ', 'siniestros agentes del  ', 'Imperio, la Princesa Leia  ', 'vuela hacia su patria, a ', 'bordo de su nave espacial, ', 'llevando consigo los ', 'planos robados, que ', 'pueden salvar a su pueblo ', 'y devolver la libertad a la ', 'galaxia.... ', ' ', ' ', 'Episodio V ', 'EL IMPERIO CONTRAATACA ', ' ', 'Son tiempos adversos para la ', 'rebelión. Aunque la Estrella de ', 'la Muerte ha sido destruida, ', 'las tropas imperiales han ', 'hecho salir a las fuerzas ', 'rebeldes de sus bases ocultas ', 'y las han persiguen a través de ', 'la galaxia. ', ' ', 'Tras escapar de la terrible ', 'Flota Imperial, un grupo de ', 'guerreros de la libertad, ', 'encabezados por Luke ', 'Skywalker, ha establecido ', 'una nueva base secreta ', 'en el remoto mundo helado ', 'de Hoth. ', ' ', 'El malvado Lord Darth Vader, ', 'obsesionado por encontrar al ', 'joven skywalker, ha eviado ', 'miles de sondas espaciales ', 'hacía las infinitas distancias ', 'del espacio.... ', ' ', ' ', 'Episodio VI ', 'EL RETORNO DEL JEDI ', ' ', 'Luke Skywalker ha regresado a ', 'Tatooine, su planeta de origen, ', 'para intentar rescatar a su ', 'amigo Han Solo de las garras ', 'del malvado Jabba, el Hutt. ', ' ', 'Pero Luke ignora que el IMPERIO ', 'GALÁCTICO ha comenzado en ', 'secreto la construcción de una ', 'nueva estación espacial armada, ', 'más poderosa que la temida ', 'Estrella de la Muerte. ', ' ', 'Una vez terminada, este ', 'arma suprema significará la ', 'aniquilación del pequeño grupo ', 'de rebeldes que lucha para ', 'restaurar la libertad en la ', 'galaxia... ', ' ', ' ', 'Episodio VII ', 'EL DESPERTAR DE LA FUERZA ', ' ', 'Luke Skywalker ha desaparecido. ', 'En su ausencia, la siniestra ', 'PRIMERA ORDEN ha surgido de ', 'las cenizas del Imperio y no ', 'descansará hasta que Skywalker, ', 'el último Jedi, haya sido ', 'destruido. ', ' ', 'Con el apoyo de la REPÚBLICA, ', 'la General Leia Organa dirige ', 'una valiente RESISTENCIA. ', 'Desesperadamente busca ', 'a su hermano Luke con el fin ', 'de obtener su ayuda para ', 'restaurar la paz y la justicia ', 'en la galaxia. ', ' ', 'Leia ha enviado a su piloto ', 'más audaz en una misión secreta ', 'a Jakku, donde un viejo aliado ', 'ha descubierto una pista ', 'del paradero de Luke.... ', ' ', ' ', 'Episodio VIII ', 'LOS ÚLTIMOS JEDI ', ' ', 'La PRIMERA ORDEN impera.  ', 'Luego de destruir a la pacífica  ', 'República, el Líder Supremo Snoke ', 'ahora envía a sus despiadadas  ', 'legiones a asumir el control ', 'militar de la galaxia. ', ' ', 'Sólo la general Leia Organa y  ', 'su grupo de combatientes de  ', 'la RESISTENCIA se oponen a la  ', 'creciente tiranía, convencidos ', 'de que el Maestro Jedi ', 'Luke Skywalker regresará  ', 'y restaurará la chispa de  ', 'esperanza en la lucha. ', ' ', 'Pero la Resistencia ha  ', 'sido expuesta. Mientras la ', 'Primera Orden se dirige  ', 'hacia la base rebelde, los  ', 'valientes héroes organizan un ', 'desesperado escape.... ', ' ', ' ', 'Episodio IX ', 'EL ASCENSO DE SKYWALKER ', ' ', '¡Los muertos hablan!  ', 'La galaxia ha escuchado ', 'una transmisión misteriosa, ', 'una amenaza de VENGANZA ', 'en la siniestra voz del fallecido ', 'EMPERADOR PALPATINE. ', ' ', 'LA GENERAL LEIA ORGANA ', 'envía agentes secretos a obtener ', 'información, mientras que REY, ', 'la última esperanza de los Jedi, ', 'entrena para luchar en contra  ', 'de la diabólica PRIMERA ORDEN. ', ' ', 'Mientras tanto, el Líder Supremo ', 'KYLO REN busca furiosamente ', 'al Emperador fantasma, ', 'dispuesto a destruir cualquier ', 'amenaza a su poder.... ', ' ', ' ']\n"
     ]
    }
   ],
   "source": [
    "def removeCharacters(line):\n",
    "    #print(line)\n",
    "    return line.replace('\\n', ' ')\n",
    "\n",
    "with open(\"star_wars_crawls.txt\", \"r\", encoding=\"utf-8\") as ifile:\n",
    "        sw_lines=[removeCharacters(line) for line in ifile]\n",
    "\n",
    "print(sw_lines)"
   ]
  }
 ],
 "metadata": {
  "kernelspec": {
   "display_name": "Python 3 (ipykernel)",
   "language": "python",
   "name": "python3"
  },
  "language_info": {
   "codemirror_mode": {
    "name": "ipython",
    "version": 3
   },
   "file_extension": ".py",
   "mimetype": "text/x-python",
   "name": "python",
   "nbconvert_exporter": "python",
   "pygments_lexer": "ipython3",
   "version": "3.11.7"
  }
 },
 "nbformat": 4,
 "nbformat_minor": 5
}
