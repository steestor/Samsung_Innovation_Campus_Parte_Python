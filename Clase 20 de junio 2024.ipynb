{
 "cells": [
  {
   "cell_type": "code",
   "execution_count": null,
   "id": "a3f4417b-f3a9-4913-9c6f-506878e7e59c",
   "metadata": {},
   "outputs": [],
   "source": [
    "# Se pueden hacer asignaciones múltiples\n",
    "pares, impares = 0\n",
    "pares, impares = 0, 0\n",
    "\n",
    "# Python o tiene indices en las listas:\n",
    "for i in range(len(list))\n",
    "    lista[i] = entero"
   ]
  },
  {
   "cell_type": "code",
   "execution_count": 5,
   "id": "b57c8427-927f-470b-89ee-bc39835628ae",
   "metadata": {},
   "outputs": [
    {
     "name": "stdout",
     "output_type": "stream",
     "text": [
      "1\n",
      "2\n",
      "casa\n",
      "gato\n",
      "--------------\n",
      "0 1\n",
      "1 2\n",
      "2 casa\n",
      "3 gato\n",
      "--------------\n",
      "0 1\n",
      "1 2\n",
      "2 casa\n",
      "3 gato\n"
     ]
    }
   ],
   "source": [
    "# Explicación de los índices\n",
    "lista=[1,2,'casa', 'gato']\n",
    "\n",
    "for x in lista:\n",
    "    print(x)\n",
    "    \n",
    "print('--------------')\n",
    "\n",
    "for i in range(len(lista)):\n",
    "    print(i, lista[i])\n",
    "    \n",
    "print('--------------')\n",
    "#Enumerar va devolviendo tuplas\n",
    "for i,x in enumerate(lista):\n",
    "    print(i,x)\n",
    "    "
   ]
  },
  {
   "cell_type": "code",
   "execution_count": 6,
   "id": "5e225abe-8cf1-4810-9f12-83ffe8cdad70",
   "metadata": {},
   "outputs": [
    {
     "name": "stdout",
     "output_type": "stream",
     "text": [
      "(0, 1)\n",
      "<class 'tuple'>\n"
     ]
    }
   ],
   "source": [
    "# Tupla\n",
    "# a la tupla le puedo preguntar por su len\n",
    "# a la tupla le puedo preguntar por un valor en concreto en una posición\n",
    "# una tupla no tiene métodos ni funciones que modifiquen sus valores\n",
    "a = (0,1)\n",
    "print(a)\n",
    "print(type(a))"
   ]
  },
  {
   "cell_type": "code",
   "execution_count": 7,
   "id": "c3ab7792-a6f0-48fa-bab4-920c930dd7d1",
   "metadata": {},
   "outputs": [
    {
     "name": "stdout",
     "output_type": "stream",
     "text": [
      "[0, 1]\n",
      "<class 'list'>\n"
     ]
    }
   ],
   "source": [
    "# Lista\n",
    "b= [0,1]\n",
    "print(b)\n",
    "print(type(b))"
   ]
  },
  {
   "cell_type": "code",
   "execution_count": null,
   "id": "8619d604-4ee8-4013-9c0b-00076e197595",
   "metadata": {},
   "outputs": [],
   "source": [
    "# OBSERVACIÓN: la diferencia entre ambos es los paréntesis, pero significa lo mismo. Las tuplas acepta que no se pongan paréntesis. \n",
    "# Esta nomenglatura sin paréntesis se llama \"desempaquetar/unpack\" \n",
    " for i,x in enumerate(lista):\n",
    "     pass\n",
    "\n",
    "for (i,x) in enumerate(lista):\n",
    "    pass"
   ]
  },
  {
   "cell_type": "code",
   "execution_count": null,
   "id": "b626aa17-e947-404c-a610-2c140233af1e",
   "metadata": {},
   "outputs": [],
   "source": [
    "# PROBLEMA MAL\n",
    "lista= [1,2,3,4]\n",
    "listaEnteros = []\n",
    "for i, cadena in lista\n",
    "    listaEnteros[i] = cadena # ESTA MAAAAAAAAAAAAAAAAAAAAAAL xk listaEnteros está vacía y no podemos acceder a una posición que no existe\n",
    "\n",
    "# PROBLEMA BIEN\n",
    "listaEnteros = [None] * len(lista) # Aquí como hemos creado una lista auxiliar con el mismo tamaño ya funcionaría\n",
    "for i, cadena in lista\n",
    "    listaEnteros[i] = cadena\n"
   ]
  },
  {
   "cell_type": "code",
   "execution_count": null,
   "id": "f417816b-3008-4905-9e89-02ff933367b0",
   "metadata": {},
   "outputs": [],
   "source": [
    "## OPCIÓN 1\n",
    "f = open('productos.txt')\n",
    "haces cosas con el fichero\n",
    "close(f)\n",
    "\n",
    "## OPCIÓN 2\n",
    "with open('productos.txt') as f:\n",
    "    for linea in f:\n",
    "        print(linea)"
   ]
  },
  {
   "cell_type": "code",
   "execution_count": 24,
   "id": "cb7e00c4-1cb6-4e30-87a5-616c7fe76b88",
   "metadata": {},
   "outputs": [
    {
     "name": "stdout",
     "output_type": "stream",
     "text": [
      " La compra sale por un precio de 33.19 €\n"
     ]
    }
   ],
   "source": [
    "# Ejercicio:\n",
    "# Lee el fichero productos.txt y calcula el precio total de los productos. El fichero es como sigue:\n",
    " # jamon iberico 12 euros\n",
    " # atún 5 euros\n",
    " # queso 4.5 dolares\n",
    " # patatas 12 euros\n",
    "# Factor de conversión 1€ -> 0,93 dolar\n",
    "\n",
    "DOLAR_IN_EURO = 0.93\n",
    "total = 0\n",
    "\n",
    "with open('productos.txt') as f:\n",
    "    for linea in f:\n",
    "        moneda = linea.split()[-1]\n",
    "        dineroProducto = float(linea.split()[-2])\n",
    "\n",
    "        if moneda == 'euro':\n",
    "            total += dineroProducto\n",
    "        else:\n",
    "            total += dineroProducto * DOLAR_IN_EURO\n",
    "            \n",
    "print(f' La compra sale por un precio de {round(total,2)} €')\n",
    "# print(f' La compra sale por un precio de {total:.2f} €)"
   ]
  },
  {
   "cell_type": "code",
   "execution_count": 34,
   "id": "a57e20d9-6b2c-4fc8-afbc-3bd7bdf5ddb9",
   "metadata": {},
   "outputs": [
    {
     "name": "stdout",
     "output_type": "stream",
     "text": [
      "hola\n",
      "casa hola casa\n",
      "casa hola hola\n",
      "hola gato gato hola\n",
      "-------------------\n",
      "Las lineas del fichero que cumplen con esa condición son: 2\n"
     ]
    }
   ],
   "source": [
    "# Tenemos una cadena formada por varias líneas. Nos gustaría saber cuántas líneas tienen más de una palabra y \n",
    "# la primera palabra y la últina palabra coinciden\n",
    "\n",
    "texto = \"\"\"\\\n",
    "hola\n",
    "casa hola casa\n",
    "casa hola hola\n",
    "hola gato gato hola\"\"\"\n",
    "\n",
    "print(texto)\n",
    "print(\"-------------------\")\n",
    "\n",
    "#print(texto.split(\"\\n\"))\n",
    "\n",
    "frasesInList = texto.split(\"\\n\")\n",
    "contador = 0\n",
    "\n",
    "for list in frasesInList:\n",
    "    if(len(list.split()) > 1):\n",
    "        palabras = list.split();\n",
    "        \n",
    "        primera = palabras[0]\n",
    "        ultima = palabras[len(palabras)-1]\n",
    "        if primera == ultima:\n",
    "            contador += 1\n",
    "            \n",
    "print(f\"Las lineas del fichero que cumplen con esa condición son: {contador}\")    "
   ]
  },
  {
   "cell_type": "code",
   "execution_count": 41,
   "id": "ca8301c3-d087-4e39-9a4c-43875d92ca0a",
   "metadata": {},
   "outputs": [
    {
     "name": "stdout",
     "output_type": "stream",
     "text": [
      "¿Cuantas líneas tienen estas palabras? 3\n"
     ]
    }
   ],
   "source": [
    "# Nos dan una cadena que tiene varias líneas. Queremos saber cuánttas líneas tienen alguna de estas palabras:\n",
    "# ['uno', 'dos', 'tres', 'cuatro']\n",
    "\n",
    "texto = \"\"\" el día tres\n",
    "a las dos o las cuatro\n",
    "vamos los dos en un fiat uno\n",
    "hasta luego Unamuno\"\"\"\n",
    "\n",
    "#print(texto.split(\"\\n\"))\n",
    "listaConTodasLasFrases = texto.split(\"\\n\")\n",
    "cadenaEspecial = ['uno', 'dos', 'tres', 'cuatro']\n",
    "contador = 0\n",
    "\n",
    "for frase in listaConTodasLasFrases:\n",
    "    listaPalabrasFraseActual = frase.split()\n",
    "    for palabra in listaPalabrasFraseActual:\n",
    "        if palabra in cadenaEspecial:\n",
    "            contador += 1\n",
    "            break\n",
    "            \n",
    "print(f'¿Cuantas líneas tienen estas palabras? {contador}')"
   ]
  },
  {
   "cell_type": "code",
   "execution_count": 42,
   "id": "a402302c-fecb-47a0-9fe7-495f7f19fee1",
   "metadata": {},
   "outputs": [
    {
     "data": {
      "text/plain": [
       "True"
      ]
     },
     "execution_count": 42,
     "metadata": {},
     "output_type": "execute_result"
    }
   ],
   "source": [
    "'uno' in 'Unamuno' # True porque aparece como subcadena"
   ]
  },
  {
   "cell_type": "code",
   "execution_count": 43,
   "id": "3aae83c1-fef0-4bef-965b-14bb3a430d43",
   "metadata": {},
   "outputs": [
    {
     "data": {
      "text/plain": [
       "False"
      ]
     },
     "execution_count": 43,
     "metadata": {},
     "output_type": "execute_result"
    }
   ],
   "source": [
    "'uno' in ['Unamuno'] # False porque aquí lo que se busca es que sea igual que un elemento de la lista"
   ]
  },
  {
   "cell_type": "code",
   "execution_count": 48,
   "id": "db5772f2-7f51-4e0b-b27c-8d239af58bdc",
   "metadata": {},
   "outputs": [
    {
     "name": "stdout",
     "output_type": "stream",
     "text": [
      "{'en', 'fiat', 'dos', 'los', 'uno', 'vamos', 'un'}\n",
      "{'en', 'fiat', 'uno', 'dos', 'los', 'vamos', 'un'}\n"
     ]
    }
   ],
   "source": [
    "# Conjunto de palabras; Cuando haces set() transformas una cadena en un cojunto pero no está necesariamente ordenado igual.\n",
    "# La peculiaridad de un conjunto es que los repetidos de una cadena desaparecen, de manera que si yo intersecto dos conjuntos\n",
    "# me devolverá el conjunto de las palabras en común\n",
    "lista = (\"vamos los dos en un fiat uno\").split()\n",
    "print(set(lista))\n",
    "print(set(lista) & set(lista)) # & -> intersectar; se puede intersectar uno o más conjuntos"
   ]
  },
  {
   "cell_type": "code",
   "execution_count": 63,
   "id": "3d0f85ad-2776-485a-b0a3-30072e872fdb",
   "metadata": {},
   "outputs": [
    {
     "name": "stdout",
     "output_type": "stream",
     "text": [
      "La menor de las palabras encontradas es: abc\n"
     ]
    }
   ],
   "source": [
    "# Hay una lista de palabras ['abc', 'bcd', 'dsdf', 'adasd', 'dsae', 'sdsadf'] Devuelve la de menor longitud y la primera que aparezca\n",
    "\n",
    "listaPalabras = ['abc', 'bcd', 'dsdf', 'adasd', 'dsae', 'sdsadf']\n",
    "longitudPalabraMenor = 0\n",
    "palabraMenor = ''\n",
    "\n",
    "for palabra in listaPalabras:\n",
    "    longitudPalabra = len(palabra)\n",
    "    if longitudPalabraMenor == 0:\n",
    "        palabraMenor = palabra\n",
    "        longitudPalabraMenor = len(palabra)\n",
    "    elif longitudPalabra < longitudPalabraMenor:\n",
    "        palabraMenor = palabra\n",
    "\n",
    "print(f'La menor de las palabras encontradas es: {palabraMenor}')"
   ]
  },
  {
   "cell_type": "code",
   "execution_count": 64,
   "id": "d78d0938-c6db-47ee-b55f-96419b36355b",
   "metadata": {},
   "outputs": [
    {
     "name": "stdout",
     "output_type": "stream",
     "text": [
      "Help on built-in function min in module builtins:\n",
      "\n",
      "min(...)\n",
      "    min(iterable, *[, default=obj, key=func]) -> value\n",
      "    min(arg1, arg2, *args, *[, key=func]) -> value\n",
      "    \n",
      "    With a single iterable argument, return its smallest item. The\n",
      "    default keyword-only argument specifies an object to return if\n",
      "    the provided iterable is empty.\n",
      "    With two or more arguments, return the smallest argument.\n",
      "\n"
     ]
    }
   ],
   "source": [
    "help(min)"
   ]
  },
  {
   "cell_type": "code",
   "execution_count": 69,
   "id": "76bb01e2-e5ba-46ff-a645-6e7d6a246103",
   "metadata": {},
   "outputs": [
    {
     "name": "stdout",
     "output_type": "stream",
     "text": [
      "acd\n",
      "sbc\n"
     ]
    }
   ],
   "source": [
    "listaPalabras = ['sbc', 'acd', 'dsdf', 'adasd', 'dsae', 'sdsadf']\n",
    "\n",
    "print(min(listaPalabras)) # Devuelve cual es la alfabeticamente menor\n",
    "print(min(listaPalabras, key=len)) # Devuelve la cadena con al longitud mas corta"
   ]
  },
  {
   "cell_type": "code",
   "execution_count": 67,
   "id": "8f5ecffb-2dfd-4980-9ecc-add0ca5aa492",
   "metadata": {},
   "outputs": [
    {
     "ename": "ValueError",
     "evalue": "min() arg is an empty sequence",
     "output_type": "error",
     "traceback": [
      "\u001b[1;31m---------------------------------------------------------------------------\u001b[0m",
      "\u001b[1;31mValueError\u001b[0m                                Traceback (most recent call last)",
      "Cell \u001b[1;32mIn[67], line 4\u001b[0m\n\u001b[0;32m      1\u001b[0m \u001b[38;5;66;03m# Sacar el mínimo de una lista vacía da ERROR por ello le podemos especoificar por defecto que debe de sacar\u001b[39;00m\n\u001b[0;32m      2\u001b[0m lista\u001b[38;5;241m=\u001b[39m[]\n\u001b[1;32m----> 4\u001b[0m \u001b[38;5;28mmin\u001b[39m(lista)\n\u001b[0;32m      5\u001b[0m \u001b[38;5;28mmin\u001b[39m(lista, default \u001b[38;5;241m=\u001b[39m \u001b[38;5;241m0\u001b[39m)\n",
      "\u001b[1;31mValueError\u001b[0m: min() arg is an empty sequence"
     ]
    }
   ],
   "source": [
    "# Sacar el mínimo de una lista vacía da ERROR por ello le podemos especoificar por defecto que debe de sacar\n",
    "lista=[]\n",
    "\n",
    "min(lista)\n",
    "min(lista, default = 0)"
   ]
  },
  {
   "cell_type": "code",
   "execution_count": 74,
   "id": "59a8996b-4d91-4c35-baf1-385b530ba306",
   "metadata": {},
   "outputs": [
    {
     "data": {
      "text/plain": [
       "'acd'"
      ]
     },
     "execution_count": 74,
     "metadata": {},
     "output_type": "execute_result"
    }
   ],
   "source": [
    "# Quedarme con la de menor longitud y en caso de empate la alfabeticamente menor\n",
    "listaPalabras = ['sbc', 'sdd', 'acd', 'dsdf', 'adasd', 'dsae', 'sdsadf']\n",
    "listaPalabras.sort()\n",
    "min(listaPalabras)"
   ]
  },
  {
   "cell_type": "code",
   "execution_count": null,
   "id": "1cc31376-0d9c-47df-83d4-bc40f11cdb59",
   "metadata": {},
   "outputs": [],
   "source": [
    "# Quedarme con la de menor longitud y en caso de empate la alfabeticamente menor\n",
    " def funcion(palabra):\n",
    "     return(len(palabra), palabra)\n",
    "\n",
    "listaPalabras = ['sbc', 'sdd', 'acd', 'dsdf', 'adasd', 'dsae', 'sdsadf']\n",
    "lista_palabra_longitud = [(3,'sbc'), (3,'sdd'), (3,'acd'), (4,'dsdf'), (5,'adasd'), (4,'dsae'), (6,'sdsadf')]"
   ]
  },
  {
   "cell_type": "code",
   "execution_count": 94,
   "id": "ce43091d-619e-429d-bb08-fb03b9e6aa3e",
   "metadata": {},
   "outputs": [
    {
     "name": "stdout",
     "output_type": "stream",
     "text": [
      "The shortest strings: abc, bcd, opq\n"
     ]
    }
   ],
   "source": [
    "# Dame todas las cadenas de la misma longitud y que sea la longitud menor de todas ellas y despues ordenamelas alfabeticamente\n",
    "lista = ['abc', 'bcd', 'bcdefg' ,'abba', 'cddc' ,'opq']\n",
    "listaOrdenada = sorted(lista, key=len)\n",
    "listaADevolver=[]\n",
    "#print(listaOrdenada)\n",
    "\n",
    "longitudMaxima = len(listaOrdenada[0])\n",
    "\n",
    "for palabra in listaOrdenada:\n",
    "    if(len(palabra) == longitudMaxima):\n",
    "        listaADevolver.append(palabra)\n",
    "    else:\n",
    "        break\n",
    "        \n",
    "print(f'The shortest strings: {\", \".join(listaADevolver)}')\n"
   ]
  },
  {
   "cell_type": "code",
   "execution_count": 113,
   "id": "6850435e-4a3a-41c9-bc14-2d7fc60b554a",
   "metadata": {},
   "outputs": [
    {
     "name": "stdout",
     "output_type": "stream",
     "text": [
      "The shortest strings: abc, bcd, opq\n"
     ]
    }
   ],
   "source": [
    "# Mismo ejercio que antes con un slice\n",
    "lista = ['abc', 'bcd', 'bcdefg' ,'abba', 'cddc' ,'opq']\n",
    "listaOrdenada = sorted(lista, key=len)\n",
    "i=0\n",
    "\n",
    "while i<len(listaOrdenada) and len(listaOrdenada[i]) == len(listaOrdenada[0]):\n",
    "      i+=1\n",
    "    \n",
    "print(f'The shortest strings: {\", \".join(listaOrdenada[:i])}') "
   ]
  },
  {
   "cell_type": "code",
   "execution_count": null,
   "id": "e0b7b9c1-65d1-4e79-b3fa-60fa8e603747",
   "metadata": {},
   "outputs": [],
   "source": [
    "# Podemos en python escribir los números grandes con barra baja para leerlos mejor \n",
    "\n",
    "# Ejemplo LENTORRO\n",
    "lista = []\n",
    "for i in range(100_000):\n",
    "    lista += [i]\n",
    "print(len(lista))\n",
    "\n",
    "# Ejemplo PUTOAMO (va mucho más rápido que el de arriba)\n",
    "lista = []\n",
    "for i in range(100_000):\n",
    "    lista.append(i)\n",
    "print(len(lista))"
   ]
  },
  {
   "cell_type": "code",
   "execution_count": 117,
   "id": "ca46c354-1fe8-4368-ace8-b58cb5519263",
   "metadata": {},
   "outputs": [
    {
     "name": "stdout",
     "output_type": "stream",
     "text": [
      "100000\n",
      "Ha tardado 34.375\n"
     ]
    }
   ],
   "source": [
    "# Ver lo que tarda en ejecutarse una función\n",
    "import time\n",
    "\n",
    "t1 = time.process_time()\n",
    "# Ejemplo LENTORRO\n",
    "lista = []\n",
    "for i in range(100_000):\n",
    "    lista = lista + [i] #Opción mejor: lista += [i]\n",
    "print(len(lista))\n",
    "\n",
    "t2= time.process_time()\n",
    "\n",
    "print(f'Ha tardado {t2-t1}')"
   ]
  },
  {
   "cell_type": "code",
   "execution_count": null,
   "id": "781778a0-49f5-485a-b8e7-e4d60f2fa272",
   "metadata": {},
   "outputs": [],
   "source": [
    "# lista.index(3) -> si no lo encutra da error\n",
    "# lista.insert(index, x) -> inserta un valor en una lista en un indice en concreto\n",
    "# lista[0:5:2] -> ves del 0 al 5 de dos en dos\n",
    "# si solo quieres ir de dos en dos: lista[::2]\n",
    "# otra forma de hacer el reverse() es lista[::-1]\n",
    "# del [1,2,3,4,5,6,7,8,9,10][1::2] -> me elimina todos los elementos pares de una lista"
   ]
  },
  {
   "cell_type": "code",
   "execution_count": 126,
   "id": "5ac2a51d-8b44-46c6-ad55-1e906b9ff78c",
   "metadata": {},
   "outputs": [
    {
     "name": "stdout",
     "output_type": "stream",
     "text": [
      "[1, 2, 8, 9]\n",
      "['a', 8, 9]\n"
     ]
    }
   ],
   "source": [
    "lista= [1,2,3,4,5,6,7,8,9]\n",
    "# si quiero eliminar de la posición 2 a la 7 puedo:\n",
    "lista[2:7] = []\n",
    "print(lista)\n",
    "\n",
    "# si quiero añadir en la posicion 0 a a 2 'a'\n",
    "lista[0:2] = 'a'\n",
    "print(lista)"
   ]
  },
  {
   "cell_type": "code",
   "execution_count": 135,
   "id": "b74196c9-c6eb-47de-ae00-1978e84b98ed",
   "metadata": {},
   "outputs": [
    {
     "name": "stdout",
     "output_type": "stream",
     "text": [
      "{'casa': 'grande', 'coche': 'rojo'}\n",
      "True\n",
      "-------------\n",
      "casa\n",
      "coche\n",
      "-----------------\n",
      "casa grande\n",
      "coche rojo\n"
     ]
    }
   ],
   "source": [
    "# DICCIONARIOS - EQ: OBJETO JSON\n",
    "d = dict()\n",
    "d['casa'] = 'grande'\n",
    "d['coche'] = 'rojo'\n",
    "\n",
    "print(d)\n",
    "print('casa' in d) # preguntar si hay una clave en un diccionario\n",
    "\n",
    "print('-------------')\n",
    "\n",
    "for key in d:\n",
    "    print(key)\n",
    "\n",
    "print('-----------------')\n",
    "\n",
    "for key, value in d.items():\n",
    "    print(key,value)"
   ]
  },
  {
   "cell_type": "code",
   "execution_count": 146,
   "id": "2f6e15a3-ec5e-4d8e-a5c3-5c722bc36d85",
   "metadata": {},
   "outputs": [
    {
     "name": "stdout",
     "output_type": "stream",
     "text": [
      "[4, 18, 7, 1, 19, 18, 4, 1, 16, 6, 18, 1, 20, 14, 5, 6, 4, 18, 19, 14, 5, 14, 1, 11, 3, 6, 19, 1, 18, 17, 1, 7, 7, 17, 9, 1, 13, 14, 8, 5, 15, 18, 2, 3, 3, 1, 1, 17, 18, 3, 18, 19, 12, 4, 7, 9, 18, 15, 14, 3, 17, 1, 14, 5, 19, 7, 10, 1, 9, 12, 3, 13, 20, 4, 7, 14, 11, 3, 16, 18, 10, 16, 8, 20, 9, 7, 8, 9, 9, 1, 19, 5, 17, 16, 5, 6, 10, 5, 11, 19, 20, 13, 12, 14, 13, 15, 17, 3, 18, 15, 10, 12, 14, 17, 14, 4, 15, 20, 7, 15, 10, 2, 6, 7, 6, 6, 20, 15, 5, 5, 12, 13, 2, 7, 14, 18, 19, 16, 10, 1, 13, 10, 19, 10, 13, 1, 15, 5, 8, 1, 7, 14, 3, 16, 14, 7, 18, 4, 6, 18, 4, 9, 16, 13, 6, 7, 16, 5, 15, 11, 18, 4, 13, 11, 9, 16, 3, 7, 3, 16, 17, 3, 13, 17, 15, 14, 17, 10, 3, 4, 3, 2, 8, 12, 2, 2, 2, 8, 6, 19, 2, 11, 12, 4, 4, 17, 11, 17, 13, 10, 20, 16, 1, 19, 9, 19, 17, 2, 2, 11, 17, 20, 14, 14, 15, 18, 17, 15, 14, 4, 20, 8, 16, 3, 2, 7, 11, 16, 8, 19, 14, 12, 4, 15, 18, 15, 13, 1, 6, 6, 19, 20, 7, 9, 19, 16, 7, 6, 16, 16, 6, 15, 12, 20, 10, 8, 13, 5, 16, 3, 9, 18, 7, 7, 20, 11, 12, 1, 20, 15, 16, 10, 3, 4, 13, 18, 1, 16, 1, 8, 11, 2, 20, 20, 19, 12, 18, 9, 6, 5, 18, 3, 7, 13, 15, 5, 7, 10, 3, 2, 20, 19, 5, 2, 16, 10, 3, 7, 11, 3, 14, 11, 15, 16, 5, 7, 4, 12, 5, 16, 9, 3, 12, 11, 18, 9, 13, 17, 2, 15, 2, 4, 19, 2, 18, 1, 11, 19, 12, 17, 9, 6, 15, 13, 11, 3, 11, 10, 14, 18, 20, 4, 6, 15, 3, 17, 12, 16, 4, 5, 8, 1, 2, 14, 11, 10, 14, 1, 14, 14, 2, 16, 18, 6, 5, 20, 5, 3, 16, 2, 1, 8, 16, 4, 4, 8, 8, 12, 12, 5, 11, 4, 14, 7, 1, 17, 20, 20, 9, 10, 9, 8, 1, 12, 12, 8, 10, 2, 19, 9, 14, 16, 16, 8, 16, 12, 3, 7, 13, 19, 8, 3, 7, 13, 7, 5, 3, 11, 3, 11, 13, 12, 13, 20, 17, 18, 3, 7, 12, 4, 12, 17, 15, 1, 11, 1, 16, 10, 11, 2, 20, 9, 4, 9, 20, 9, 11, 9, 12, 19, 16, 10, 7, 11, 18, 14, 3, 14, 7, 10, 15, 18, 17, 14, 18, 19, 9, 2, 12, 13, 17, 5, 6, 1, 1, 8, 2, 17, 3, 20, 16, 11, 20, 7, 8, 13, 4, 19, 9, 5, 4, 8, 13, 19, 17, 18, 10, 8, 4, 7, 6, 18, 4, 11, 12, 2, 18, 19, 1, 9, 7, 4, 5, 20, 6, 8, 15, 6, 14, 7, 1, 2, 13, 10, 18, 19, 16, 1, 7, 14, 1, 13, 12, 7, 9, 16, 19, 16, 17, 16, 10, 16, 4, 2, 6, 16, 18, 11, 1, 1, 6, 8, 14, 11, 18, 20, 4, 10, 19, 14, 17, 5, 9, 11, 19, 11, 7, 16, 4, 11, 8, 19, 13, 1, 20, 7, 19, 10, 16, 12, 1, 16, 6, 9, 9, 15, 20, 1, 13, 1, 9, 11, 13, 7, 20, 15, 12, 3, 19, 20, 2, 12, 3, 13, 14, 20, 15, 9, 18, 10, 4, 11, 5, 4, 15, 13, 5, 11, 6, 10, 13, 9, 20, 16, 1, 6, 10, 17, 10, 18, 17, 14, 16, 19, 11, 15, 3, 19, 4, 15, 20, 14, 1, 18, 3, 3, 13, 15, 6, 10, 16, 8, 6, 9, 13, 13, 3, 18, 8, 4, 1, 19, 1, 20, 13, 8, 10, 8, 13, 2, 18, 8, 11, 10, 1, 2, 3, 14, 20, 10, 2, 4, 15, 4, 13, 8, 15, 20, 9, 16, 12, 17, 14, 15, 12, 15, 18, 1, 10, 17, 14, 6, 15, 1, 4, 12, 13, 14, 5, 12, 9, 15, 16, 16, 11, 17, 11, 7, 10, 8, 5, 8, 18, 10, 9, 4, 15, 10, 16, 17, 10, 4, 6, 5, 10, 6, 20, 7, 19, 3, 5, 6, 16, 17, 15, 4, 11, 12, 7, 14, 5, 5, 7, 13, 4, 19, 8, 9, 8, 11, 19, 20, 11, 19, 17, 13, 11, 12, 2, 6, 7, 12, 16, 20, 2, 13, 15, 10, 14, 18, 7, 19, 20, 3, 1, 13, 11, 4, 17, 5, 4, 20, 6, 4, 16, 13, 11, 4, 16, 11, 7, 8, 7, 4, 6, 12, 2, 6, 16, 8, 7, 15, 2, 3, 16, 15, 18, 16, 4, 10, 7, 11, 14, 18, 7, 13, 14, 15, 6, 19, 16, 15, 19, 6, 2, 15, 15, 20, 14, 6, 6, 10, 8, 9, 4, 3, 18, 16, 5, 5, 6, 5, 10, 20, 8, 11, 7, 8, 11, 18, 17, 14, 12, 5, 8, 3, 3, 18, 20, 9, 6, 13, 13, 17, 13, 8, 5, 18, 14, 1, 1, 9, 10, 18, 15, 17, 14, 4, 2, 17, 14, 1, 8, 15, 8, 5, 12, 1, 20, 11, 13, 1, 11, 7, 11, 3, 2, 11, 2, 4, 17, 19, 13, 3, 18, 13, 5, 5, 7, 19, 16, 13, 11, 13, 8, 17, 18, 2, 18, 7, 17, 10, 4, 12, 6, 11, 9, 5, 13, 5, 18, 1, 6, 14, 19, 13, 20, 12, 9, 1, 5, 13, 2, 11, 9, 2, 8, 20, 15, 15, 6, 18, 18, 4, 13, 10, 13, 19, 12, 10, 1, 15, 5, 18, 19, 1, 20, 12, 3, 2]\n",
      "------------------------\n",
      "20\n"
     ]
    },
    {
     "data": {
      "text/plain": [
       "{4: 54,\n",
       " 18: 57,\n",
       " 7: 54,\n",
       " 1: 57,\n",
       " 19: 48,\n",
       " 16: 58,\n",
       " 6: 46,\n",
       " 20: 49,\n",
       " 14: 50,\n",
       " 5: 47,\n",
       " 11: 56,\n",
       " 3: 48,\n",
       " 17: 43,\n",
       " 9: 43,\n",
       " 13: 58,\n",
       " 8: 46,\n",
       " 15: 51,\n",
       " 2: 43,\n",
       " 12: 44,\n",
       " 10: 48}"
      ]
     },
     "execution_count": 146,
     "metadata": {},
     "output_type": "execute_result"
    }
   ],
   "source": [
    "import random\n",
    "# Generemos una lista de 1000 numeros generados aleatoriamente\n",
    "lista = []\n",
    "for i in range(1000):\n",
    "   lista.append(random.randint(1,20))\n",
    "print(lista)\n",
    "\n",
    "print('------------------------')\n",
    "\n",
    "# Queremos contar cuantas veces se ha repetido cada numero en la lista\n",
    "d = {}\n",
    "for numero in lista:\n",
    "    if numero in d:\n",
    "        d[numero] += 1\n",
    "    else:\n",
    "        d[numero] = 1\n",
    "\n",
    "print(len(d))\n",
    "d        \n",
    "        "
   ]
  },
  {
   "cell_type": "code",
   "execution_count": 145,
   "id": "45dba59d-1146-482a-a110-23b3cb23f703",
   "metadata": {},
   "outputs": [
    {
     "data": {
      "text/plain": [
       "{'coche': 'rojo'}"
      ]
     },
     "execution_count": 145,
     "metadata": {},
     "output_type": "execute_result"
    }
   ],
   "source": [
    "# ¿Cómo borramos un elemento del diccionario?\n",
    "d = {'casa': 'grande', 'coche': 'rojo'}\n",
    "del d['casa']\n",
    "d\n",
    "# Si intentamos eliminar algo que no existe va a dar error: SOLUCIÓN debemos preguntar antes de borrar si existe primero la clave que queremos\n",
    "# borrar, utilizar método \"in\""
   ]
  },
  {
   "cell_type": "code",
   "execution_count": 148,
   "id": "2d976d25-f8e7-47e0-8960-fc911b01378a",
   "metadata": {},
   "outputs": [
    {
     "name": "stdout",
     "output_type": "stream",
     "text": [
      "True\n",
      "False\n"
     ]
    }
   ],
   "source": [
    "d1 = {'casa' : 5, 'coche': 7}\n",
    "d2 = d1\n",
    "d3 = {'casa' : 5, 'coche': 7}\n",
    "\n",
    "print(d1 == d3)\n",
    "print(d1 is d3)\n",
    "\n",
    "# Si añado algo en d1 se va a reflejar el mismo cambio en d2"
   ]
  },
  {
   "cell_type": "code",
   "execution_count": null,
   "id": "3adfdba7-97d3-4fb4-aea9-4c37ce9abb3f",
   "metadata": {},
   "outputs": [],
   "source": [
    "# Como puedo vaciar un diccionario?\n",
    "# dic.clear() -> devuelve {}"
   ]
  },
  {
   "cell_type": "code",
   "execution_count": 149,
   "id": "f7816a3e-4729-406e-925e-7a9a6169efcf",
   "metadata": {},
   "outputs": [
    {
     "name": "stdout",
     "output_type": "stream",
     "text": [
      "[1, 2, 3]\n"
     ]
    }
   ],
   "source": [
    "# Ejemplo clear\n",
    "a = [1,2,3]\n",
    "b=a\n",
    "a =[]\n",
    "\n",
    "print(b) # LA REFERENCIA SE ACTUALIZA SI USAMOS MÉTODOS Y FUNCIONES SINO SE QUEDA CON EL VALOR ANTERIOR"
   ]
  },
  {
   "cell_type": "code",
   "execution_count": 154,
   "id": "a0699d52-571b-4093-a28f-89415c3865a8",
   "metadata": {},
   "outputs": [
    {
     "name": "stdout",
     "output_type": "stream",
     "text": [
      "5\n",
      "None\n",
      "NOSE\n"
     ]
    }
   ],
   "source": [
    "# Ejemplo get\n",
    "d1 = {'casa' : 5, 'coche': 7}\n",
    "\n",
    "print(d1.get('casa'))\n",
    "print(d1.get('ddd'))\n",
    "print(d1.get('ddd', \"NOSE\"))\n"
   ]
  },
  {
   "cell_type": "code",
   "execution_count": null,
   "id": "b5e4c8e2-b74d-4ef5-b7e6-ee4ec0f8425a",
   "metadata": {},
   "outputs": [],
   "source": []
  }
 ],
 "metadata": {
  "kernelspec": {
   "display_name": "Python 3 (ipykernel)",
   "language": "python",
   "name": "python3"
  },
  "language_info": {
   "codemirror_mode": {
    "name": "ipython",
    "version": 3
   },
   "file_extension": ".py",
   "mimetype": "text/x-python",
   "name": "python",
   "nbconvert_exporter": "python",
   "pygments_lexer": "ipython3",
   "version": "3.11.7"
  }
 },
 "nbformat": 4,
 "nbformat_minor": 5
}
