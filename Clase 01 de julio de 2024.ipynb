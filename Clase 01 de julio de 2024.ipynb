{
 "cells": [
  {
   "cell_type": "code",
   "execution_count": 99,
   "id": "8e81ce86-f83c-4040-835b-a8bf5ef59cde",
   "metadata": {},
   "outputs": [
    {
     "name": "stdin",
     "output_type": "stream",
     "text": [
      "Escribe un valor numérico 5\n"
     ]
    },
    {
     "name": "stdout",
     "output_type": "stream",
     "text": [
      "01 02 03 04 05 \n",
      "10 09 08 07 06 \n",
      "11 12 13 14 15 \n",
      "20 19 18 17 16 \n",
      "21 22 23 24 25 \n"
     ]
    }
   ],
   "source": [
    "# Ejercicio: diapositiva 393 Butacas de cine:\n",
    "\n",
    "n= int(input(\"Escribe un valor numérico\"))\n",
    "diccionario={}\n",
    "\n",
    "aux=[]\n",
    "for i in range(1,n**2 +1):\n",
    "    if i % 5 == 0:\n",
    "        #print(f'{i:02}')\n",
    "        aux.append(i)\n",
    "        diccionario[i] = aux\n",
    "        aux= []\n",
    "    else:\n",
    "        aux.append(i)\n",
    "        #print(f'{i:02}' , end=\" \")\n",
    "\n",
    "reverse = False\n",
    "for key, value in diccionario.items():\n",
    "    #print(key, value)\n",
    "    if not reverse:\n",
    "        #print(value)\n",
    "        reverse = True\n",
    "        for i in value:\n",
    "            print(f'{i:02}', end=\" \")\n",
    "\n",
    "        print()\n",
    "    else:\n",
    "        value.reverse()\n",
    "        reverse =False\n",
    "        #print(value)\n",
    "        for j in value:\n",
    "            print(f'{j:02}', end=\" \")\n",
    "        print()\n",
    "    "
   ]
  },
  {
   "cell_type": "code",
   "execution_count": 25,
   "id": "e3f1adec-053b-4a5d-bbde-cf772d7b508c",
   "metadata": {},
   "outputs": [
    {
     "name": "stdin",
     "output_type": "stream",
     "text": [
      "Escribe un valor numérico 5\n"
     ]
    },
    {
     "name": "stdout",
     "output_type": "stream",
     "text": [
      " 1  2  3  4  5 \n",
      " 6  7  8  9 10 \n",
      "11 12 13 14 15 \n",
      "16 17 18 19 20 \n",
      "21 22 23 24 25 \n"
     ]
    }
   ],
   "source": [
    "# Ejercicio: diapositiva 393 Butacas de cine:\n",
    "\n",
    "n= int(input(\"Escribe un valor numérico\"))\n",
    "\n",
    "for i in range(1,n**2 +1, 5):\n",
    "    for j in range(i, i+n):\n",
    "        # print(f'{j:<2}')\n",
    "        print(f'{j:>2} ', end=\"\")\n",
    "    print(\"\")"
   ]
  },
  {
   "cell_type": "code",
   "execution_count": 68,
   "id": "d447c364-37ec-4261-be9d-e39ba178654e",
   "metadata": {},
   "outputs": [
    {
     "name": "stdin",
     "output_type": "stream",
     "text": [
      "Enter a number: 134\n"
     ]
    },
    {
     "name": "stdout",
     "output_type": "stream",
     "text": [
      "No es palindromo\n"
     ]
    }
   ],
   "source": [
    "# Ejercicio: palindromo\n",
    "\n",
    "n = str(input(\"Enter a number:\"))\n",
    "list= []\n",
    "\n",
    "for letter in n:\n",
    "    list.append(letter)\n",
    "\n",
    "listReverse = list.copy()\n",
    "listReverse.reverse()\n",
    "\n",
    "if list == listReverse:\n",
    "    print(\"Es palindromo\")\n",
    "else:\n",
    "    print(\"No es palindromo\")\n",
    "    "
   ]
  },
  {
   "cell_type": "code",
   "execution_count": 101,
   "id": "37889029-1191-4a34-95de-2c8f302b287e",
   "metadata": {},
   "outputs": [
    {
     "name": "stdout",
     "output_type": "stream",
     "text": [
      "{'test': 'test', 'test2': 'test2'}\n"
     ]
    }
   ],
   "source": [
    "# Diccionarios función setdefault\n",
    "\n",
    "diccionario= {\"test\": \"test\"}\n",
    "diccionario.setdefault(\"test2\", \"test2\")\n",
    "print(diccionario)"
   ]
  },
  {
   "cell_type": "code",
   "execution_count": 104,
   "id": "306078e0-53cd-4f89-ba6e-a1763470833d",
   "metadata": {},
   "outputs": [
    {
     "name": "stdout",
     "output_type": "stream",
     "text": [
      "{'a': 1, 'b': 3, 'c': 4}\n"
     ]
    }
   ],
   "source": [
    "# Diccionaro función update\n",
    "dic1= {\"a\": 1, \"b\": 2}\n",
    "dic2= {\"b\": 3, \"c\": 4}\n",
    "\n",
    "dic1.update(dic2)\n",
    "print(dic1)\n",
    "\n",
    "# Podemos actualizar un diccionario con tuplas\n",
    "dic1.update(((\"d\", 5), (\"e\", 6)))"
   ]
  },
  {
   "cell_type": "code",
   "execution_count": 7,
   "id": "6bcdac44-d09b-4ff6-89ee-da249dd1117d",
   "metadata": {},
   "outputs": [
    {
     "name": "stdout",
     "output_type": "stream",
     "text": [
      "1\n",
      "2\n",
      "1\n",
      "2\n"
     ]
    },
    {
     "data": {
      "text/plain": [
       "{}"
      ]
     },
     "execution_count": 7,
     "metadata": {},
     "output_type": "execute_result"
    }
   ],
   "source": [
    "# Ejercicio borrar las claves de un diccionario: versión 1\n",
    "dic1= {\"a\": 1, \"b\": 2}\n",
    "keys = list(dic1.keys())\n",
    "\n",
    "for k in keys:\n",
    "    print(dic1[k])\n",
    "    del dic1[k]\n",
    "dic1\n",
    "\n",
    "# Ejercicio borrar las claves de un diccionario: versión 2\n",
    "dic1= {\"a\": 1, \"b\": 2}\n",
    "keys = list(dic1.keys())\n",
    "\n",
    "for k in keys:\n",
    "    valueEliminado = dic1.pop(k)\n",
    "    print(valueEliminado)\n",
    "    \n",
    "dic1"
   ]
  },
  {
   "cell_type": "code",
   "execution_count": 10,
   "id": "4a9a870b-e463-4f8b-8c1e-5ce45f802bc1",
   "metadata": {},
   "outputs": [
    {
     "name": "stdout",
     "output_type": "stream",
     "text": [
      "b 2\n",
      "a 1\n"
     ]
    },
    {
     "data": {
      "text/plain": [
       "{}"
      ]
     },
     "execution_count": 10,
     "metadata": {},
     "output_type": "execute_result"
    }
   ],
   "source": [
    "# Diccionarios función popitem\n",
    "dic1= {\"a\": 1, \"b\": 2}\n",
    "\n",
    "while len(dic1):\n",
    "    k,v = dic1.popitem()\n",
    "    print(k,v)\n",
    "dic1"
   ]
  },
  {
   "cell_type": "code",
   "execution_count": 12,
   "id": "fa827802-b123-450a-9c95-577409e53328",
   "metadata": {},
   "outputs": [
    {
     "name": "stdout",
     "output_type": "stream",
     "text": [
      " Last Name : Doe\n",
      " Firts Name : David\n",
      " Company : Samsung\n"
     ]
    }
   ],
   "source": [
    "# Ejercicio diapositivas samsung \n",
    "person_dic= {\n",
    "    \"Last Name\": \"Doe\",\n",
    "    \"Firts Name\": \"David\",\n",
    "    \"Company\": \"Samsung\"\n",
    "}\n",
    "\n",
    "for key, value in person_dic.items():\n",
    "    print(f' {key} : {value}')"
   ]
  },
  {
   "cell_type": "code",
   "execution_count": 15,
   "id": "07c175d1-9518-4deb-9a64-3dd3acfcd363",
   "metadata": {},
   "outputs": [
    {
     "name": "stdout",
     "output_type": "stream",
     "text": [
      "hello\n",
      "     hello\n",
      "hello    \t\n",
      "\n"
     ]
    }
   ],
   "source": [
    "# Método strip(): Quita los espacios de todo un string\n",
    "print(\"     hello    \\t\\n\".strip())\n",
    "\n",
    "# Método rstrip(): Quitados los espacion por la derecha\n",
    "print(\"     hello    \\t\\n\".rstrip())\n",
    "\n",
    "# Método rstrip(): Quitados los espacion por la izquierda\n",
    "print(\"     hello    \\t\\n\".lstrip())"
   ]
  },
  {
   "cell_type": "code",
   "execution_count": 24,
   "id": "a90de9d5-6628-4907-817c-52c781231722",
   "metadata": {},
   "outputs": [
    {
     "data": {
      "text/plain": [
       "['a', 'b', 'c', 'd', 'e', 'f', '', '', ' g', '']"
      ]
     },
     "execution_count": 24,
     "metadata": {},
     "output_type": "execute_result"
    }
   ],
   "source": [
    "# Ejericio profe\n",
    "cadena = \"a,b,c,d,e,f,,,, g,\"\n",
    "cadena = [w.strip()...]\n",
    "\n",
    "cadena"
   ]
  },
  {
   "cell_type": "code",
   "execution_count": 25,
   "id": "3106522d-691f-473c-9a04-290896bb7e8e",
   "metadata": {},
   "outputs": [
    {
     "data": {
      "text/plain": [
       "True"
      ]
     },
     "execution_count": 25,
     "metadata": {},
     "output_type": "execute_result"
    }
   ],
   "source": [
    "# función startwith\n",
    "\"ABCDEFG\".startswith('A')"
   ]
  },
  {
   "cell_type": "code",
   "execution_count": 60,
   "id": "04da44e6-9233-455f-86bd-85d9c215501e",
   "metadata": {},
   "outputs": [
    {
     "name": "stdin",
     "output_type": "stream",
     "text": [
      "1) Revisar stock   2) Almacenar   3) Eliminar   4) Exit sdsd\n"
     ]
    },
    {
     "name": "stdout",
     "output_type": "stream",
     "text": [
      "ERROR: Revisa la opción introducida, es posible que no hayas insertado el valor correctamente\n"
     ]
    },
    {
     "name": "stdin",
     "output_type": "stream",
     "text": [
      "Almacenar más stock: 4\n"
     ]
    },
    {
     "name": "stdout",
     "output_type": "stream",
     "text": [
      "ERROR: Revisa el formato de la cadena introducida\n"
     ]
    },
    {
     "name": "stdin",
     "output_type": "stream",
     "text": [
      "1) Revisar stock   2) Almacenar   3) Eliminar   4) Exit 4\n"
     ]
    },
    {
     "name": "stdout",
     "output_type": "stream",
     "text": [
      "Salimos del programa\n",
      "El almacenamiento que se ha quedado definitivamente es: {'Coffee': 7, 'Pen': 3, 'Paper cup': 2, 'Milk': 1, 'Coke': 4, 'Book': 5}\n"
     ]
    }
   ],
   "source": [
    "# Ejercicio diapositiva 294\n",
    "items={\"Coffee\": 7, \"Pen\": 3, \"Paper cup\": 2, \"Milk\": 1, \"Coke\": 4, \"Book\": 5}\n",
    "\n",
    "while True:\n",
    "    try:\n",
    "        choice = int(input(\"1) Revisar stock   2) Almacenar   3) Eliminar   4) Exit\"))\n",
    "    except ValueError:\n",
    "        print(\"ERROR: Revisa la opción introducida, es posible que no hayas insertado el valor correctamente\")\n",
    "        \n",
    "    if choice == 1:\n",
    "        item = input(\"Introduzca item\")\n",
    "        print(f'Stock: {items.get(item.capitalize(), 0)}')\n",
    "    elif choice == 2:\n",
    "        try:\n",
    "            (item, cantidad) = input(\"Almacenar más stock:\").split()\n",
    "            items[item.capitalize()] += int(cantidad) \n",
    "            print(f'Para {item} su nueva cantidad es: {items[item.capitalize()]}')\n",
    "        except ValueError:\n",
    "            print(\"ERROR: Revisa el formato de la cadena introducida\")\n",
    "    elif choice == 3:\n",
    "        try:\n",
    "            (item, cantidad) = input(\"Eliminar stock:\").split()\n",
    "            items[item.capitalize()] -= int(cantidad)\n",
    "            print(f'Para {item} su nueva cantidad es: {items[item.capitalize()]}')\n",
    "        except:\n",
    "            print(\"ERROR: Revisa el formato de la cadena introducida\")\n",
    "    elif choice == 4:\n",
    "        print(\"Salimos del programa\")\n",
    "        break\n",
    "\n",
    "print(f'El almacenamiento que se ha quedado definitivamente es: {items}')"
   ]
  },
  {
   "cell_type": "code",
   "execution_count": 71,
   "id": "64c4b07f-8629-44c0-83e6-c488572ebc71",
   "metadata": {},
   "outputs": [
    {
     "name": "stdout",
     "output_type": "stream",
     "text": [
      "{'a': None, 'b': None, 'c': None}\n",
      "{'a': 100, 'b': 100, 'c': 100}\n",
      "0\n",
      "['z']\n"
     ]
    }
   ],
   "source": [
    "# Crear un diccionario vacío con las claves que definamos\n",
    "keys = [\"a\", \"b\", \"c\"]\n",
    "print(dict.fromkeys(keys))\n",
    "print(dict.fromkeys(keys, 100))\n",
    "\n",
    "# Crear un diccionario, haciendo que si no se encuentra una clave muestre un valor por defecto\n",
    "# IMPORTANTE: modifica el diccionario\n",
    "from collections import defaultdict\n",
    "newDict = defaultdict(int)\n",
    "print(newDict['z'])\n",
    "print(list(newDict))\n"
   ]
  },
  {
   "cell_type": "code",
   "execution_count": 75,
   "id": "d0982213-6a6f-4c27-b207-e46da0fbf787",
   "metadata": {},
   "outputs": [
    {
     "name": "stdout",
     "output_type": "stream",
     "text": [
      "False\n",
      "True\n",
      "True\n"
     ]
    }
   ],
   "source": [
    "x = { \"a\" : 1, \"c\": {} }\n",
    "y = x.copy()\n",
    "\n",
    "print(x is y)\n",
    "print(x[\"a\"] is y[\"a\"])\n",
    "print(x[\"c\"] is y[\"c\"])\n",
    "\n",
    "# Diferencia entre copy y deepcopy"
   ]
  }
 ],
 "metadata": {
  "kernelspec": {
   "display_name": "Python 3 (ipykernel)",
   "language": "python",
   "name": "python3"
  },
  "language_info": {
   "codemirror_mode": {
    "name": "ipython",
    "version": 3
   },
   "file_extension": ".py",
   "mimetype": "text/x-python",
   "name": "python",
   "nbconvert_exporter": "python",
   "pygments_lexer": "ipython3",
   "version": "3.11.7"
  }
 },
 "nbformat": 4,
 "nbformat_minor": 5
}
