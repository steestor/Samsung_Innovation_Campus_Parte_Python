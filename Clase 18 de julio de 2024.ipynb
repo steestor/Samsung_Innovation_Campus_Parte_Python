{
 "cells": [
  {
   "cell_type": "code",
   "execution_count": 4,
   "id": "429bb734-0426-425b-b2d9-20c39c0efef6",
   "metadata": {},
   "outputs": [
    {
     "ename": "NameError",
     "evalue": "name 'deque' is not defined",
     "output_type": "error",
     "traceback": [
      "\u001b[1;31m---------------------------------------------------------------------------\u001b[0m",
      "\u001b[1;31mNameError\u001b[0m                                 Traceback (most recent call last)",
      "Cell \u001b[1;32mIn[4], line 1\u001b[0m\n\u001b[1;32m----> 1\u001b[0m queue \u001b[38;5;241m=\u001b[39m deque(\u001b[38;5;28mrange\u001b[39m(\u001b[38;5;241m1\u001b[39m,\u001b[38;5;241m11\u001b[39m))\n\u001b[0;32m      2\u001b[0m queue\u001b[38;5;241m.\u001b[39mrotate(\u001b[38;5;241m-\u001b[39m\u001b[38;5;241m2\u001b[39m)\n",
      "\u001b[1;31mNameError\u001b[0m: name 'deque' is not defined"
     ]
    }
   ],
   "source": [
    "import\n",
    "\n",
    "queue = deque(range(1,11))\n",
    "queue.rotate(-2)"
   ]
  },
  {
   "cell_type": "markdown",
   "id": "f3e0aba0-a4cb-4f94-b97a-7256005757cf",
   "metadata": {},
   "source": [
    "Las colas (queues) son estructuras que siguen el principio FIFO (El primero en entrar es el primero en salir)\n",
    "\n",
    "### Implementación usando listas\n",
    "\n",
    "# Usando una lista como cola\r\n",
    "queue = []\r\n",
    "\r\n",
    "# Añadir elementos a la cola (al final de la lista)\r\n",
    "queue.append('a')\r\n",
    "queue.append('b')\r\n",
    "queue.append('c')\r\n",
    "\r\n",
    "# Eliminar elementos de la cola (del principio de la lista)\r\n",
    "first_element = queue.pop(0)\r\n",
    "print(first_element)  # Ou\n",
    "\n",
    "### Implementación usando \"collections.deque\"\n",
    "from collections import deque\r\n",
    "\r\n",
    "# Crear una cola\r\n",
    "queue = deque()\r\n",
    "\r\n",
    "# Añadir elementos a la cola\r\n",
    "queue.append('a')\r\n",
    "queue.append('b')\r\n",
    "queue.append('c')\r\n",
    "\r\n",
    "# Eliminar elementos de la cola\r\n",
    "first_element = queue.popleft()\r\n",
    "print(first_element)  # Output: 'a'\r\n",
    "tput: 'a'\r\n"
   ]
  }
 ],
 "metadata": {
  "kernelspec": {
   "display_name": "Python 3 (ipykernel)",
   "language": "python",
   "name": "python3"
  },
  "language_info": {
   "codemirror_mode": {
    "name": "ipython",
    "version": 3
   },
   "file_extension": ".py",
   "mimetype": "text/x-python",
   "name": "python",
   "nbconvert_exporter": "python",
   "pygments_lexer": "ipython3",
   "version": "3.11.7"
  }
 },
 "nbformat": 4,
 "nbformat_minor": 5
}
