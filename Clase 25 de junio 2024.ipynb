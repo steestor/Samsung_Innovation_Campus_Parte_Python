{
 "cells": [
  {
   "cell_type": "code",
   "execution_count": 4,
   "id": "ae3dd593-84d3-4155-9484-e34751611dad",
   "metadata": {},
   "outputs": [
    {
     "name": "stdout",
     "output_type": "stream",
     "text": [
      "15\n"
     ]
    }
   ],
   "source": [
    "# Suma de listas\n",
    "lista = [1,2,3,4,5]\n",
    "print(sum(lista))\n",
    "\n",
    "# No se pueden sumar listas de caracteres \n",
    "# listaStr= ['a', 'b', 'c', 'd']\n",
    "# print(sum(listaStr))"
   ]
  },
  {
   "cell_type": "code",
   "execution_count": 13,
   "id": "fb4b5b1d-ed15-416c-a40a-67a52ceab0f2",
   "metadata": {},
   "outputs": [
    {
     "name": "stdout",
     "output_type": "stream",
     "text": [
      "0\n",
      "de\n",
      "deasas\n"
     ]
    }
   ],
   "source": [
    "# Sacar el máximo de una lista vacía -> da error\n",
    "# a menos que:\n",
    "lista=[]\n",
    "print(max(lista, default=0))\n",
    "\n",
    "# Si tengo una lista max\n",
    "# 1 - Me sacará el máximo alfabeticamente\n",
    "lista=['ab','bc','cd','de']\n",
    "print(max(lista))\n",
    "# Si quiero la lista más larga tendremos que cambiar el criterio\n",
    "lista=['ab','bac','cdas','deasas']\n",
    "print(max(lista, key=len))"
   ]
  },
  {
   "cell_type": "code",
   "execution_count": 20,
   "id": "9b28bb41-33e5-433c-aa84-afd7e94caa55",
   "metadata": {},
   "outputs": [
    {
     "name": "stdout",
     "output_type": "stream",
     "text": [
      "True\n",
      "True\n",
      "5\n",
      "0\n",
      "0\n",
      "False\n",
      "True\n"
     ]
    }
   ],
   "source": [
    "# Función any: return True si bool(x), revisa que todos los valores sean ciertos\n",
    "print(any([True, True, False]))\n",
    "print(any([1,2,3]))\n",
    "\n",
    "# ¿Que es FALSE para Python?\n",
    "# 0, \"\", [], 0.0, (), {} -> Todo lo que esté vacío\n",
    "\n",
    "# Pruebas curiosas:\n",
    "print(\"hola\" and 5) #-> Si lo primero es cierto, directamente devuelve el segundo\n",
    "print(\"hola\" and 0)\n",
    "print(0 and \"hola\") #-> Si lo primero es falso, directamente lo devuelvo\n",
    "\n",
    "# Función all: retorna True solo si todos los elementos del iterable tienen un valor booleano de True\n",
    "print(all([True, True, False]))\n",
    "print(all([1,2,3]))"
   ]
  },
  {
   "cell_type": "code",
   "execution_count": 28,
   "id": "21eb1116-a4f8-418d-9eca-50fce47ab17e",
   "metadata": {},
   "outputs": [
    {
     "name": "stdout",
     "output_type": "stream",
     "text": [
      "True\n",
      "1 2\n",
      "2 3\n",
      "3 4\n",
      "None\n",
      "prueba\n"
     ]
    }
   ],
   "source": [
    "# Recordatorio Diccionarios:\n",
    "# Esta la clave \"hola\" en el diccionario?\n",
    "print(\"saludo\" in { \"saludo\": \"hola\"})\n",
    "\n",
    "# Recorrer en un diccionario los pares clave/valor\n",
    "d= {1:2, 2:3, 3:4}\n",
    "for k,v in d.items():\n",
    "    print(k, v)\n",
    "# Obtener información de un diccionario sin que de error:\n",
    "# prin(d[5]) # -> Esto falla\n",
    "print(d.get(5)) # -> Esto da None\n",
    "print(d.get(5, \"prueba\"))"
   ]
  },
  {
   "cell_type": "code",
   "execution_count": 29,
   "id": "2c8760be-751d-4460-b4e6-ce06e70b1a06",
   "metadata": {},
   "outputs": [
    {
     "data": {
      "text/plain": [
       "{1: 2, 2: 2, 3: 2, 4: 1, 5: 1, 6: 1, 7: 1, 8: 1}"
      ]
     },
     "execution_count": 29,
     "metadata": {},
     "output_type": "execute_result"
    }
   ],
   "source": [
    "# Cuenta el número de veces que aparece un número en una lista\n",
    "cuenta = {}\n",
    "lista = [1,2,3,4,3,2,5,6,7,8,1]\n",
    "\n",
    "for elem in lista:\n",
    "    if elem in cuenta:\n",
    "        cuenta[elem] += 1\n",
    "    else:\n",
    "        cuenta[elem] = 1 # Es lo mismo: cuenta.get(elem, 0) + 1\n",
    "\n",
    "cuenta"
   ]
  },
  {
   "cell_type": "code",
   "execution_count": 33,
   "id": "5db91387-0342-4db3-b3b0-e79161826d54",
   "metadata": {},
   "outputs": [
    {
     "name": "stdout",
     "output_type": "stream",
     "text": [
      "{'employee': {'name': 'sonoo', 'salary': 56000, 'married': True}}\n"
     ]
    }
   ],
   "source": [
    "# Presentación JSON\n",
    "import json\n",
    "ejemplo= json.loads('''\n",
    "{  \n",
    "    \"employee\": {  \n",
    "        \"name\":       \"sonoo\",   \n",
    "        \"salary\":      56000,   \n",
    "        \"married\":    true  \n",
    "    }  \n",
    "}  \n",
    "''') # Si fuera load a secas sería a partir de un fichero\n",
    "print(ejemplo)"
   ]
  },
  {
   "cell_type": "code",
   "execution_count": 35,
   "id": "2f15512b-e9ea-403a-8a89-f9bdfabb5fea",
   "metadata": {},
   "outputs": [
    {
     "data": {
      "text/plain": [
       "'C:\\\\Users\\\\34665\\\\Documents\\\\curso_samsung2024'"
      ]
     },
     "execution_count": 35,
     "metadata": {},
     "output_type": "execute_result"
    }
   ],
   "source": [
    "cadena = '[1,2,3,true, {\"hola\" : \"5\"}]'\n",
    "json.loads(cadena)\n",
    "\n",
    "# Recordatorio de apertura de fichero\n",
    "# %pwd -> magic de jupyter; te dice donde esta jupyter \n",
    "# %ls -> d\n",
    "with open('ejemplo.json') as f: # -> como estoy imprimiendo con \"with\" no hace falta que cierre el fichero después de leerlo\n",
    "    print(f.read())  # -> leo el fichero y lo imprimo como toda una cadena de texto\n",
    "    obj =print(json.load(f) # -> leo el fichero y obtengo el json\n",
    "\n",
    "with open('resultado.json', mode= 'w') as f # -> El modo de apertura por defecto es lectura, pero lo podemos cambiar\n",
    "    json.dump(obj,f)  # -> dump es serialización en JSON\n"
   ]
  },
  {
   "cell_type": "code",
   "execution_count": null,
   "id": "59ce3975-62f0-403f-817c-9e95a8984905",
   "metadata": {},
   "outputs": [],
   "source": [
    "# La mejor forma de abrir un fichero .json\n",
    "pass"
   ]
  },
  {
   "cell_type": "code",
   "execution_count": 37,
   "id": "2bd970e1-bbd8-416a-bf7c-513b93b6a4e5",
   "metadata": {},
   "outputs": [
    {
     "name": "stdout",
     "output_type": "stream",
     "text": [
      "Seoul\n",
      "Seoul\n"
     ]
    }
   ],
   "source": [
    "capital_dic = {\n",
    "    \"Korea\": \"Seoul\",\n",
    "    \"China\": \"Beijing\",\n",
    "    \"USA\": \"Washington DC\"\n",
    "}\n",
    "\n",
    "print(capital_dic[\"Korea\"])\n",
    "print(capital_dic.get(\"Korea\"))\n",
    "\n"
   ]
  },
  {
   "cell_type": "code",
   "execution_count": 109,
   "id": "7953a78b-2111-48a7-9777-74f304cf67b1",
   "metadata": {},
   "outputs": [
    {
     "name": "stdout",
     "output_type": "stream",
     "text": [
      " hola aparece en las líneas 1, 2, 3\n",
      " mundo aparece en las líneas 2, 4\n",
      " feliz aparece en las líneas 4\n",
      "----------------------------------------------------------------------------\n",
      " hola aparece en las líneas 1, 2, 3\n",
      " mundo aparece en las líneas 2, 4\n",
      " feliz aparece en las líneas 4\n"
     ]
    }
   ],
   "source": [
    "# Ejercicio: Leer el fichero 'lineas.txt' y mostrar, para cada palabra del fichero, la lista de líneas en la que aparece dicha palabra. \n",
    "# Por ejemplo:\n",
    "#    hola\n",
    "#    hola mundo\n",
    "#    hola\n",
    "#    mundo feliz feliz\n",
    "#\n",
    "# el resultado:\n",
    "# 'hola' aparece en las líneas 1,2,3\n",
    "# 'mundo' aparece en las líneas 2,4\n",
    "# 'feliz' aparece en las líneas 4\n",
    "\n",
    "palabras= {}\n",
    "indice = 0\n",
    "\n",
    "with open(\"lineas.txt\") as f:\n",
    "    for lineaFichero in f:\n",
    "        indice += 1\n",
    "        linea = lineaFichero.split()\n",
    "        for palabra in linea:\n",
    "            if palabra in palabras:\n",
    "                if(not(indice in palabras[palabra])): # Si queremos eliminar repetidos (*)\n",
    "                    palabras[palabra].append(indice)\n",
    "            else:\n",
    "                palabras[palabra]= [indice]\n",
    "                \n",
    "for key,value in palabras.items():\n",
    "    print(f' {key} aparece en las líneas {str(value)[1:-1]}') # -> TRUQUITO\n",
    "\n",
    "print(\"----------------------------------------------------------------------------\")\n",
    "\n",
    "# Si queremos eliminar repetidos(*)\n",
    "# Podemos utilizar set\n",
    "\n",
    "palabras= {}\n",
    "indice = 0\n",
    "\n",
    "with open(\"lineas.txt\") as f:\n",
    "    for lineaFichero in f: # Cuando queremos leer linea por linea\n",
    "        indice += 1\n",
    "        linea = lineaFichero.split()\n",
    "        for palabra in set(linea):\n",
    "            if palabra in palabras:\n",
    "                palabras[palabra].append(indice)\n",
    "            else:\n",
    "                palabras[palabra]= [indice]\n",
    "                \n",
    "for key,value in palabras.items():\n",
    "    print(f' {key} aparece en las líneas {str(value)[1:-1]}') # -> TRUQUITO"
   ]
  },
  {
   "cell_type": "code",
   "execution_count": 117,
   "id": "3bc74bda-dbb8-4631-a954-68ba9e6b1004",
   "metadata": {},
   "outputs": [],
   "source": [
    "# Formas de crear un diccionario\n",
    "d = {}\n",
    "d = dict()\n",
    "d = {1:2, 3:4, 4:5}\n",
    "d = dict([(1,2), (2,3), (3,4), (9,8)])"
   ]
  },
  {
   "cell_type": "code",
   "execution_count": 118,
   "id": "83f89435-6390-4a89-b4b6-98eb3665772c",
   "metadata": {},
   "outputs": [
    {
     "name": "stdout",
     "output_type": "stream",
     "text": [
      "{1: 2, 2: 3, 3: 4, 9: 8}\n",
      "{1: 2, 3: 4, 9: 8}\n",
      "{1: 2, 3: 4}\n"
     ]
    }
   ],
   "source": [
    "# Método pop en un diccionario\n",
    "print(d)\n",
    "d.pop(2) # -> extrae y devuelve un valor en un diccionario\n",
    "print(d)\n",
    "\n",
    "#  Si queremos eliminar una pareja de forma random\n",
    "d.popitem()\n",
    "print(d)"
   ]
  },
  {
   "cell_type": "code",
   "execution_count": 119,
   "id": "14376195-f158-4f56-8efd-a47cec1297c3",
   "metadata": {},
   "outputs": [
    {
     "data": {
      "text/plain": [
       "'  123.1235'"
      ]
     },
     "execution_count": 119,
     "metadata": {},
     "output_type": "execute_result"
    }
   ],
   "source": [
    "# Formato\n",
    "f= 123.123456\n",
    "f'{f:10.4f}' #-> El total es que el conjunto de todo puede tener 10 caracteres y el .4f lo redondea a 4 decimales"
   ]
  },
  {
   "cell_type": "code",
   "execution_count": 122,
   "id": "80e818b1-1b68-426e-9ac7-305dc377a956",
   "metadata": {},
   "outputs": [
    {
     "name": "stdout",
     "output_type": "stream",
     "text": [
      "dict_keys(['apple', 'melon', 'banana'])\n",
      "dict_values([6000, 3000, 5000])\n"
     ]
    }
   ],
   "source": [
    "lista = [('apple', 6000), ('melon', 3000), ('banana', 5000)]\n",
    "d = dict(lista)\n",
    "print(d.keys())\n",
    "print(d.values())"
   ]
  },
  {
   "cell_type": "code",
   "execution_count": 128,
   "id": "fb0f5f9f-8552-43c6-bc78-39d9e5aab6db",
   "metadata": {},
   "outputs": [
    {
     "name": "stdout",
     "output_type": "stream",
     "text": [
      "cierto\n"
     ]
    }
   ],
   "source": [
    "# Expresión condicional equivalente a cond ? true: false\n",
    "a = \"cierto\" if 2+2==4 else \"falso\"\n",
    "print(a)"
   ]
  },
  {
   "cell_type": "code",
   "execution_count": 130,
   "id": "c1ad8bfc-da52-48ef-8650-132218ebf14d",
   "metadata": {},
   "outputs": [
    {
     "name": "stdout",
     "output_type": "stream",
     "text": [
      "aloh\n"
     ]
    }
   ],
   "source": [
    "# Sequencias de tipos\n",
    "print(\"hola\"[::-1]) # Devuelve la misma cadena al revés"
   ]
  },
  {
   "cell_type": "code",
   "execution_count": 132,
   "id": "1b4cd304-1cef-4b39-b0c8-8ab107cc9ec4",
   "metadata": {},
   "outputs": [
    {
     "name": "stdout",
     "output_type": "stream",
     "text": [
      "97\n",
      "a\n"
     ]
    }
   ],
   "source": [
    "# ord -> devuelve en ascii lo que le pongas\n",
    "print(ord(\"a\"))\n",
    "\n",
    "#chr -> devuelve de lo que le pongas a qué se identifica en ascii\n",
    "print(chr(97))"
   ]
  },
  {
   "cell_type": "code",
   "execution_count": null,
   "id": "150573b4-80bb-4c95-9d62-1a33d5977f5f",
   "metadata": {},
   "outputs": [],
   "source": []
  },
  {
   "cell_type": "code",
   "execution_count": 136,
   "id": "635db846-09a7-4f2f-aad6-f3089871e5b6",
   "metadata": {},
   "outputs": [
    {
     "name": "stdout",
     "output_type": "stream",
     "text": [
      "True\n",
      "True\n"
     ]
    }
   ],
   "source": [
    "print((2,1) < (3,3)) # Solo compara 2<3\n",
    "print((3,1) < (3,6)) # Como el primer caracter no cumple, probamos con el segundo\n"
   ]
  },
  {
   "cell_type": "code",
   "execution_count": 137,
   "id": "880626c3-8763-49ce-8144-e23413fa6200",
   "metadata": {},
   "outputs": [
    {
     "name": "stdout",
     "output_type": "stream",
     "text": [
      "t1=1\n",
      "t2=[2, 3, 4, 5]\n"
     ]
    }
   ],
   "source": [
    "t1, *t2 = [1,2,3,4,5]\n",
    "print(f't1={t1}')\n",
    "print(f't2={t2}')"
   ]
  },
  {
   "cell_type": "code",
   "execution_count": 144,
   "id": "b5fb9dc6-7a0a-4764-9da8-e6062310e9ed",
   "metadata": {},
   "outputs": [
    {
     "name": "stdout",
     "output_type": "stream",
     "text": [
      "Hay 3 que han reducido sus ventas respecto al dia anterior\n"
     ]
    }
   ],
   "source": [
    "# Saber en cuantas posiciones el valor actual es menor que el día anterior: \n",
    "# (100, 121, 120, 130, 140, 120, 122, 123, 190, 125)\n",
    "# Versión con punteros\n",
    "\n",
    "ventasDia = (100, 121, 120, 130, 140, 120, 122, 123, 190, 125)\n",
    "iAnt = 0\n",
    "iAct = 0\n",
    "posiciones = 0\n",
    "\n",
    "for diaActual in ventasDia:\n",
    "    if iAct == 0:\n",
    "        iAct += 1\n",
    "    else:\n",
    "        if diaActual < ventasDia[iAnt]:\n",
    "            posiciones += 1\n",
    "        iAct += 1\n",
    "        iAnt += 1\n",
    "\n",
    "print(f'Hay {posiciones} que han reducido sus ventas respecto al dia anterior')\n",
    "        \n",
    "        "
   ]
  },
  {
   "cell_type": "code",
   "execution_count": 149,
   "id": "c501f0d7-0813-41e3-a773-7d4311fcd284",
   "metadata": {},
   "outputs": [
    {
     "name": "stdout",
     "output_type": "stream",
     "text": [
      "Hay 3 que han reducido sus ventas respecto al dia anterior\n"
     ]
    }
   ],
   "source": [
    "# Version sin punteros, pero con array de índices\n",
    "c = 0\n",
    "ventasDia = (100, 121, 120, 130, 140, 120, 122, 123, 190, 125)\n",
    "\n",
    "for i in range(1,len(ventasDia)):\n",
    "    if ventasDia[i] < ventasDia[i-1]:\n",
    "       c+=1\n",
    "    \n",
    "print(f'Hay {c} que han reducido sus ventas respecto al dia anterior')\n",
    "    "
   ]
  },
  {
   "cell_type": "code",
   "execution_count": 151,
   "id": "35ecd593-ea4f-47fe-8974-c3b9ef43f25d",
   "metadata": {},
   "outputs": [
    {
     "name": "stdout",
     "output_type": "stream",
     "text": [
      "Hay 6 que han reducido sus ventas respecto al dia anterior\n"
     ]
    }
   ],
   "source": [
    "# Versión con zip\n",
    "c = 0\n",
    "ventasDia = (100, 121, 120, 130, 140, 120, 122, 123, 190, 125)\n",
    "\n",
    "for ayer,hoy in zip(ventasDia,ventasDia[1:]):\n",
    "    if ayer < hoy:\n",
    "        c+=1\n",
    "\n",
    "print(f'Hay {c} que han reducido sus ventas respecto al dia anterior')"
   ]
  },
  {
   "cell_type": "code",
   "execution_count": 154,
   "id": "df0900e2-2aa3-419d-8a28-7f7067f5662d",
   "metadata": {},
   "outputs": [
    {
     "name": "stdout",
     "output_type": "stream",
     "text": [
      "<class 'tuple'>\n",
      "<class 'int'>\n"
     ]
    }
   ],
   "source": [
    "# las tuplas de un solo elemento es recomendable hacerles de la siguiente manera:\n",
    "a=(5,)\n",
    "print(type(a))\n",
    "\n",
    "# Por que sino obtenemos lo siguiente:\n",
    "a= (5)\n",
    "print(type(5))"
   ]
  },
  {
   "cell_type": "code",
   "execution_count": 155,
   "id": "04a65f42-827d-470d-995f-59a94c4a8081",
   "metadata": {},
   "outputs": [
    {
     "data": {
      "text/plain": [
       "(1, 2, 3)"
      ]
     },
     "execution_count": 155,
     "metadata": {},
     "output_type": "execute_result"
    }
   ],
   "source": [
    "# Constructor de tupla\n",
    "tuple([1,2,3])"
   ]
  },
  {
   "cell_type": "code",
   "execution_count": 156,
   "id": "eb864ad6-bb0b-459e-9022-829c5690df64",
   "metadata": {},
   "outputs": [
    {
     "ename": "TypeError",
     "evalue": "'tuple' object does not support item assignment",
     "output_type": "error",
     "traceback": [
      "\u001b[1;31m---------------------------------------------------------------------------\u001b[0m",
      "\u001b[1;31mTypeError\u001b[0m                                 Traceback (most recent call last)",
      "Cell \u001b[1;32mIn[156], line 3\u001b[0m\n\u001b[0;32m      1\u001b[0m \u001b[38;5;66;03m# No se puede modificar una tupla, es inmutable\u001b[39;00m\n\u001b[0;32m      2\u001b[0m tup \u001b[38;5;241m=\u001b[39m\u001b[38;5;28mtuple\u001b[39m([\u001b[38;5;241m1\u001b[39m,\u001b[38;5;241m2\u001b[39m,\u001b[38;5;241m3\u001b[39m])\n\u001b[1;32m----> 3\u001b[0m tup[\u001b[38;5;241m0\u001b[39m]\u001b[38;5;241m=\u001b[39m\u001b[38;5;124m'\u001b[39m\u001b[38;5;124ma\u001b[39m\u001b[38;5;124m'\u001b[39m\n",
      "\u001b[1;31mTypeError\u001b[0m: 'tuple' object does not support item assignment"
     ]
    }
   ],
   "source": [
    "# No se puede modificar una tupla, es inmutable\n",
    "tup =tuple([1,2,3])\n",
    "tup[0]='a'"
   ]
  },
  {
   "cell_type": "code",
   "execution_count": 161,
   "id": "50f93b43-ff54-463b-847b-3ecf97ae8191",
   "metadata": {},
   "outputs": [
    {
     "name": "stdout",
     "output_type": "stream",
     "text": [
      "x: 1\n",
      "y: [2, 3, 4]\n",
      "z:  5\n"
     ]
    }
   ],
   "source": [
    "# Obsrvaciones sobre tuplas\n",
    "x, *y, z = (1,2,3,4,5)\n",
    "\n",
    "print(\"x:\", x)\n",
    "print(\"y:\",y)\n",
    "print(\"z: \", z)\n"
   ]
  },
  {
   "cell_type": "code",
   "execution_count": 168,
   "id": "e23d2467-366d-4ce6-9a3a-7235ec6a6342",
   "metadata": {},
   "outputs": [
    {
     "data": {
      "text/plain": [
       "(1, 1, 2, 2, 4, 5, 7, 9)"
      ]
     },
     "execution_count": 168,
     "metadata": {},
     "output_type": "execute_result"
    }
   ],
   "source": [
    "# Como no se puede ordenador una tupla podemos hacer lo siguiente:\n",
    "tupla =(1,2,5,9,2,4,7,1)\n",
    "tuple(sorted(tupla)) # Sorted genera una nueva lista a parte de la original"
   ]
  },
  {
   "cell_type": "code",
   "execution_count": 170,
   "id": "955c6931-09fa-4aa6-9624-6157679c8faa",
   "metadata": {},
   "outputs": [
    {
     "data": {
      "text/plain": [
       "(4, 1, 23, 4, 5, 8, 7)"
      ]
     },
     "execution_count": 170,
     "metadata": {},
     "output_type": "execute_result"
    }
   ],
   "source": [
    "# Cómo añadir elementos a una tupla\n",
    "tupla= (4,1,23,4,5,8)\n",
    "# tupla.append(8) # Esto fallaría\n",
    "tupla = (4,1,23,4,5,8) + (7,)\n",
    "tupla"
   ]
  },
  {
   "cell_type": "code",
   "execution_count": 210,
   "id": "1c4104bc-b945-478c-a45c-b8eb8f4c9ef7",
   "metadata": {},
   "outputs": [
    {
     "name": "stdout",
     "output_type": "stream",
     "text": [
      "{1: 2, 2: 2, 5: 1, 4: 2, 3: 3, 7: 2, 8: 1, 9: 3}\n"
     ]
    },
    {
     "data": {
      "text/plain": [
       "9"
      ]
     },
     "execution_count": 210,
     "metadata": {},
     "output_type": "execute_result"
    }
   ],
   "source": [
    "# Ejercicio: dada una tupla devuelve el elemento que más se repite y en caso de empate el valor más alto\n",
    "tupla = (1,2,5,4,3,2,1,4,7,8,9,9,3,7,3,9)\n",
    "diccionario = {}\n",
    "\n",
    "for item in tupla:\n",
    "    if item not in diccionario:\n",
    "        diccionario[item] = 1\n",
    "    else:\n",
    "        diccionario[item] +=1\n",
    "\n",
    "print(diccionario)\n",
    "\n",
    "listKeys = list(diccionario.keys())\n",
    "listValues = list(diccionario.values())\n",
    "\n",
    "maxValue=max(listValues)\n",
    "resultIndex= []\n",
    "\n",
    "for i in range(1,len(listValues)):\n",
    "    if listValues[i] == maxValue:\n",
    "        resultIndex.append(listKeys[i])\n",
    "\n",
    "max(resultIndex)"
   ]
  },
  {
   "cell_type": "code",
   "execution_count": null,
   "id": "3155e5db-e1bb-448c-be4d-c379c4568b96",
   "metadata": {},
   "outputs": [],
   "source": [
    "# Otra forma de hacerlo: Mirar en el jupyter del profe "
   ]
  },
  {
   "cell_type": "code",
   "execution_count": 213,
   "id": "9f16a249-9760-4d62-bcaa-59b157026346",
   "metadata": {},
   "outputs": [
    {
     "name": "stdout",
     "output_type": "stream",
     "text": [
      "The most frequent element [(1,), 'abc', (1,), ('a',), ('a', 'b'), ((),)]\n"
     ]
    }
   ],
   "source": [
    "# Devuelve las que sean de longitud mayor que 0\n",
    "list = [(), (1,), [], 'abc', (), (), (1,), ('a',), ('a','b'), ((),), '']\n",
    "listResult = []\n",
    "\n",
    "for item in tupla:\n",
    "    if len(item) > 0:\n",
    "        listResult.append(item)\n",
    "\n",
    "print(f'{listResult}')\n",
    "\n",
    "# Curiosidad: list[:] = listResult\n",
    "# Cambiamos la referencia de list"
   ]
  }
 ],
 "metadata": {
  "kernelspec": {
   "display_name": "Python 3 (ipykernel)",
   "language": "python",
   "name": "python3"
  },
  "language_info": {
   "codemirror_mode": {
    "name": "ipython",
    "version": 3
   },
   "file_extension": ".py",
   "mimetype": "text/x-python",
   "name": "python",
   "nbconvert_exporter": "python",
   "pygments_lexer": "ipython3",
   "version": "3.11.7"
  }
 },
 "nbformat": 4,
 "nbformat_minor": 5
}
