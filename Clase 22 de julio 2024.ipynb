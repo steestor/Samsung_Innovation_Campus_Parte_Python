{
 "cells": [
  {
   "cell_type": "code",
   "execution_count": null,
   "metadata": {},
   "outputs": [],
   "source": [
    "# Expresiones regulares\n",
    "import re\n",
    "\n",
    "regex = re.search('life|Life', 'La life es dura')\n",
    "print(regex)\n",
    "print(regex.group()) # Devuelve la cadena que ha hecho matching\n",
    "print(regex.start()) # Devuekve el índice de la cadena donde ha empezado el matching\n",
    "print(regex.end()) # Devuelve el índice de la cadena donde finaliza el matching\n",
    "print(regex.span()) # Devuelve la tupla rango el final no inclusive"
   ]
  },
  {
   "cell_type": "code",
   "execution_count": null,
   "metadata": {},
   "outputs": [],
   "source": [
    "#re.compile(\"(\\d{3}-d # De dígito, captura los 3 primeros digitos..."
   ]
  },
  {
   "cell_type": "code",
   "execution_count": null,
   "metadata": {},
   "outputs": [],
   "source": [
    "regex = re.search('[Ll]ife', 'La life es dura') # \n",
    "print(regex)\n",
    "print(regex.group())\n",
    "\n",
    "regex = re.search('^life', 'La life es dura') # Devuelveme si está en la primera \n",
    "print(regex)\n",
    "\n",
    "regex = re.search('/d', 'a123') # match con los digitos \n",
    "print(regex)\n",
    "\n",
    "regex = re.search('[0-9]', 'a123') # match con los digitos del 0 al 9\n",
    "print(regex)\n",
    "\n",
    "regex = re.search('[a-z]', 'a123') # match con los digitos del 0 al 9\n",
    "print(regex)\n",
    "\n",
    "\n",
    "# Revisar las diapositivas 227 que está el resumen"
   ]
  },
  {
   "cell_type": "code",
   "execution_count": null,
   "metadata": {},
   "outputs": [],
   "source": [
    "### Buscar la primera palabra que tenga letras o digitos\n",
    "re.search(\"[a-z]\", \"hola hola\")"
   ]
  },
  {
   "cell_type": "code",
   "execution_count": null,
   "metadata": {},
   "outputs": [],
   "source": [
    "# Repetimos el patrón hasta que ya no se cumpla\n",
    "print(re.search(\"\\w+\", \" hols hola1 adios2\"))\n",
    "print(re.match(\"\\w+\", \" hols hola1 adios2\")) # devuelve si se cumple el patrón para toda la cadena\n",
    "\n",
    "regex = re.match(\"(\\w+) (\\w+) (\\w+)\", \" hols hola1 adios2\") # Por agrupaciones\n",
    "print(\"0:\", regex.group(0))\n",
    "print(\"1:\", regex.group(1))\n",
    "print(\"2:\", regex.group(2))"
   ]
  },
  {
   "cell_type": "code",
   "execution_count": null,
   "metadata": {},
   "outputs": [],
   "source": [
    "re.search('A..A', 'ABBA') # cada '.' es un caracter, entonces es que empiece y acabe por A y tenga 2 caracteres enmedio\n",
    "re.search('AB*', 'A') # puede tener una A o B cualquiera de  veces\n",
    "re.findAll(\"[AB*]\", \"ACABAABA\") # si buscas con corchetes estás buscando en el rango A o B\n",
    "\n",
    "# ? el arterisco es como opcional 0 o 1 "
   ]
  },
  {
   "cell_type": "markdown",
   "metadata": {},
   "source": [
    "### 1. Extraer palabras que tengan dígitos y letras\n",
    "\n",
    "Implementar la función `alpha_num_words`, la cual reciba una cadena y devuelva la lista de palabras que contengan dígitos y letras.\n",
    "\n",
    "Example:\n",
    "```python\n",
    "alpha_num_words(\"1st day of the 11th month\") = ['1st', '11th']\n",
    "```"
   ]
  },
  {
   "cell_type": "code",
   "execution_count": 56,
   "metadata": {},
   "outputs": [
    {
     "name": "stdout",
     "output_type": "stream",
     "text": [
      "['1st', '11th']\n"
     ]
    }
   ],
   "source": [
    "def alpha_num_words(cadena):\n",
    "    lista = cadena.split()\n",
    "    listaResult= []\n",
    "    for palabra in lista:\n",
    "        hasDigit = False\n",
    "        hasCharacters = False\n",
    "        for letra in palabra:\n",
    "            if letra.isdigit():\n",
    "                hasDigit = True\n",
    "            elif letra.isalpha():\n",
    "                hasCharacters = True\n",
    "        if hasDigit and hasCharacters:\n",
    "            listaResult.append(palabra)\n",
    "    return print(listaResult)\n",
    "                \n",
    "alpha_num_words(\"1st day of the 11th month\")"
   ]
  },
  {
   "cell_type": "markdown",
   "metadata": {},
   "source": [
    "### 2. Suma y promedio de números en cadena\n",
    "\n",
    "Implementar la función `snum_sum_avg` que recibe una cadena, detecta la presencia de números enteros (positivos o 0) y realiza la suma y el promedio de ellos. La función devolverá una túpla en la que la primera posición será la suma y la segunda el promedio. En caso de no encontrar números se devolerá `0` en la parte de la suma y `None` en la del promedio.\n",
    "\n",
    "Ejemplos:\n",
    "\n",
    "```python\n",
    "snum_sum_avg(\"1abc1c2d7\") = (11, 2.75)\n",
    "snum_sum_avg(\"10abc10c20d7\") = (47, 11.75)\n",
    "snum_sum_avg(\"abccd\") = (0, None)\n",
    "snum_sum_avg(\"00000\") = (0, 0.0)\n",
    "snum_sum_avg(\"0ab0cc0d10\") = (10, 2.5)"
   ]
  },
  {
   "cell_type": "code",
   "execution_count": 2,
   "metadata": {},
   "outputs": [],
   "source": [
    "import re"
   ]
  },
  {
   "cell_type": "code",
   "execution_count": 31,
   "metadata": {},
   "outputs": [
    {
     "name": "stdout",
     "output_type": "stream",
     "text": [
      "(11, 2.75)\n",
      "(47, 11.75)\n",
      "(0, None)\n",
      "(0, 0.0)\n",
      "(10, 2.5)\n"
     ]
    }
   ],
   "source": [
    "\n",
    "def snum_sum_avg(cadena):\n",
    "    listaNumsCharacter = re.findall(\"[0-9]+\",cadena)\n",
    "    listaNums = list(map(lambda x:int(x), listaNumsCharacter))\n",
    "    if len(listaNums) > 0:\n",
    "        print(f'({sum(listaNums)}, {sum(listaNums)/len(listaNums)})')\n",
    "    else:\n",
    "        print(f'({sum(listaNums)}, {None})')\n",
    "        \n",
    "snum_sum_avg(\"1abc1c2d7\") # = (11, 2.75)\n",
    "snum_sum_avg(\"10abc10c20d7\") # = (47, 11.75)\n",
    "snum_sum_avg(\"abccd\") # = (0, None)\n",
    "snum_sum_avg(\"00000\") # = (0, 0.0)\n",
    "snum_sum_avg(\"0ab0cc0d10\") # = (10, 2.5)"
   ]
  },
  {
   "cell_type": "markdown",
   "metadata": {},
   "source": [
    "### 3. Comprobar si es primo\n",
    "\n",
    "Implementar la función `is_prime` que reciba un número entero positivo y devuelva un booleano indicando si el número es primo o no.\n",
    "\n",
    "Un número `n` es primo si solo es múltiplo de 1 y `n`; en caso contrario es un número compuesto. 1 no es un número primo y tampoco compuesto.\n",
    "\n",
    "**NOTA:** No se puede usar la implementación o idea del `is_prime` proporcionado en la prueba del capítulo 3.\n",
    "\n",
    "_Algunos números primos:_ 2 3 5 7 11 13 17 19 23 29 31 37 41 43 47 53 59 61 67 71 73 79 83 89 97 101 103 107 109 113 127 131 137 ... "
   ]
  },
  {
   "cell_type": "code",
   "execution_count": 2,
   "metadata": {},
   "outputs": [
    {
     "name": "stdout",
     "output_type": "stream",
     "text": [
      "True\n"
     ]
    }
   ],
   "source": [
    "def is_prime(numero):\n",
    "    print(len([numero for i in range(2,9) if numero % i == 0]) <= 1) \n",
    "\n",
    "is_prime(19)"
   ]
  },
  {
   "cell_type": "markdown",
   "metadata": {},
   "source": [
    "### 4. Números palíndromos\n",
    "\n",
    "Implementar la función `palindromes` que dado un número entero positivo, devuelva los números palíndromos hasta ese valor. Por ejemplo: de 0 a 9 son palíndromos, y 22 o 2442 son palíndromos. \n",
    "\n",
    "Ejemplos:\n",
    "\n",
    "```python\n",
    "palindromes(115) = [0, 1, 2, 3, 4, 5, 6, 7, 8, 9, 11, 22, 33, 44, 55, 66, 77, 88, 99, 101, 111]\n",
    "```\n",
    "\n",
    "**RETO:** No convertir a candena los números para decir si es palíndromo"
   ]
  },
  {
   "cell_type": "code",
   "execution_count": 64,
   "metadata": {},
   "outputs": [
    {
     "name": "stdout",
     "output_type": "stream",
     "text": [
      "[0, 1, 2, 3, 4, 5, 6, 7, 8, 9, 11, 22, 33, 44, 55, 66, 77, 88, 99, 101, 111]\n"
     ]
    }
   ],
   "source": [
    "def palindromes(numero):\n",
    "    lista = []\n",
    "    for i in range(0, numero+1):\n",
    "        if str(i) == str(i)[::-1]:\n",
    "            lista.append(i)\n",
    "    print(lista)\n",
    "palindromes(111)\n"
   ]
  },
  {
   "cell_type": "markdown",
   "metadata": {},
   "source": [
    "### 5. Descomposición factorial en números primos\n",
    "\n",
    "Implementar la función `prime_decomposition` que reciba un número entero positivo y devuelva en una tupla la descomposición factorial de `n`.\n",
    "\n",
    "Ejemplos:\n",
    "\n",
    "```python\n",
    "prime_decomposition(1) = ( ) # Tupla vacía\n",
    "prime_decomposition(2) = (2, )\n",
    "prime_decomposition(9) = (3, 3)\n",
    "prime_decomposition(12) = (3, 2, 2)\n",
    "prime_decomposition(123) = (41, 3)\n",
    "```\n",
    "\n",
    "**NOTA:** Se puede usar la función `is_prime` del ejercicio 3."
   ]
  },
  {
   "cell_type": "code",
   "execution_count": null,
   "metadata": {},
   "outputs": [],
   "source": [
    "def prime_decomposition(numero):\n",
    "    divisor = 2\n",
    "    cocientes = []\n",
    "    while numero > 1:\n",
    "        if is_prime(numero):\n",
    "            while n % divisor ==0:\n",
    "                cocientes.append(divisor)\n",
    "                numero //= divisor\n",
    "        divisor +=1\n",
    "    return divisor\n",
    "\n",
    "prime_decomposition(12)"
   ]
  },
  {
   "cell_type": "code",
   "execution_count": null,
   "metadata": {},
   "outputs": [],
   "source": [
    "while n > 1:\n",
    "        if is_prime(divisor):\n",
    "            while n % divisor == 0:\n",
    "                factors.append(divisor)\n",
    "                n //= divisor\n",
    "        divisor += 1 "
   ]
  },
  {
   "cell_type": "code",
   "execution_count": 87,
   "metadata": {},
   "outputs": [
    {
     "name": "stdout",
     "output_type": "stream",
     "text": [
      "[6, 4, 3, 2]\n"
     ]
    }
   ],
   "source": [
    "def prime_decomposition(numero):\n",
    "    cocientes=[]\n",
    "    for i in range(2,10):\n",
    "        if numero % i == 0:\n",
    "            cocientes.append(numero // i)\n",
    "    print(cocientes)\n",
    "\n",
    "prime_decomposition(12)"
   ]
  },
  {
   "cell_type": "markdown",
   "metadata": {},
   "source": [
    "### 6. Juego de adivinar el número\n",
    "\n",
    "Implementa la clase `NumberGuessGame`.\n",
    "\n",
    "El constructor recibe dos parámetros:\n",
    "- `players`: número de jugadores que participan (por defecto 2)\n",
    "- `n`: número de veces que el jugador puede intentar adivinar el número (por defecto 3)\n",
    "- `m`: número máximo que puede seleccionarse aleatoriamente (incluido) (por defecto 10)\n",
    "\n",
    "Adicionalmente tendrá dos métodos:\n",
    "\n",
    "- `play_try`: método que elegirá aleatoriamente un número a adivinar (valor entero [0, m]) e irá anternando entre jugadores para preguntarles que adivinen. Al llegar al límite de veces, se terminará el juego y se dirá el número que elegido. En caso de ganar, se dirá qué jugador ha ganado. Para ayudar a los jugadores tendrán los avisos (cada vez que digan un número) de `frío` (distancia > 3), `templado` (distancia 3), `caliente` (distancia 2), `muy caliente` (distancia 1). Devolverá el jugador que ha ganado la rona o `None` en caso de empate.\n",
    "- `play`: método que se encarga de mostrar el menú de juego y las veces que ha ganado cada jugador. El juego se ejecutará mientras los jugadores digan que quieren jugar otra ronda.\n",
    "\n",
    "\n",
    "Ejemplo de ejecución:\n",
    "\n",
    "```python\n",
    "guesser = NumberGuessGame()\n",
    "guesser.play()\n",
    "\n",
    "----------------------------------\n",
    "The Number Guess Game\n",
    "----------------------------------\n",
    "Jugador 1 ha ganado 0 veces\n",
    "Jugador 2 ha ganado 0 veces\n",
    "----------------------------------\n",
    "¿Jugar una partida nueva? (s/n): s\n",
    "Ronda 1\n",
    "[Jugador 1] Elige número entre 0 y 10: 6\n",
    "[Jugador 1] Muy caliente ;D\n",
    "[Jugador 2] Elige número entre 0 y 10: 5\n",
    "[Jugador 2] Encontrado!\n",
    "\n",
    "----------------------------------\n",
    "The Number Guess Game\n",
    "----------------------------------\n",
    "Jugador 1 ha ganado 0 veces\n",
    "Jugador 2 ha ganado 1 veces\n",
    "----------------------------------\n",
    "¿Jugar una partida nueva? (s/n): s\n",
    "Ronda 1\n",
    "[Jugador 1] Elige número entre 0 y 10: 9\n",
    "[Jugador 1] Muy caliente ;D\n",
    "[Jugador 2] Elige número entre 0 y 10: 8\n",
    "[Jugador 2] Encontrado!\n",
    "\n",
    "----------------------------------\n",
    "The Number Guess Game\n",
    "----------------------------------\n",
    "Jugador 1 ha ganado 0 veces\n",
    "Jugador 2 ha ganado 2 veces\n",
    "----------------------------------\n",
    "¿Jugar una partida nueva? (s/n): s\n",
    "Ronda 1\n",
    "[Jugador 1] Elige número entre 0 y 10: 2\n",
    "[Jugador 1] Caliente :)\n",
    "[Jugador 2] Elige número entre 0 y 10: 7\n",
    "[Jugador 2] Frío\n",
    "\n",
    "Ronda 2\n",
    "[Jugador 1] Elige número entre 0 y 10: 6\n",
    "[Jugador 1] Frío\n",
    "[Jugador 2] Elige número entre 0 y 10: 4\n",
    "[Jugador 2] Frío\n",
    "\n",
    "Última ronda!\n",
    "[Jugador 1] Elige número entre 0 y 10: 3\n",
    "[Jugador 1] Templado :o\n",
    "[Jugador 2] Elige número entre 0 y 10: 0\n",
    "[Jugador 2] Encontrado!\n",
    "\n",
    "----------------------------------\n",
    "The Number Guess Game\n",
    "----------------------------------\n",
    "Jugador 1 ha ganado 0 veces\n",
    "Jugador 2 ha ganado 3 veces\n",
    "----------------------------------\n",
    "¿Jugar una partida nueva? (s/n): s\n",
    "Ronda 1\n",
    "[Jugador 1] Elige número entre 0 y 10: 6\n",
    "[Jugador 1] Templado :o\n",
    "[Jugador 2] Elige número entre 0 y 10: 3\n",
    "[Jugador 2] Frío\n",
    "\n",
    "Ronda 2\n",
    "[Jugador 1] Elige número entre 0 y 10: 1\n",
    "[Jugador 1] Frío\n",
    "[Jugador 2] Elige número entre 0 y 10: 0\n",
    "[Jugador 2] Frío\n",
    "\n",
    "Última ronda!\n",
    "[Jugador 1] Elige número entre 0 y 10: 8\n",
    "[Jugador 1] Muy caliente ;D\n",
    "[Jugador 2] Elige número entre 0 y 10: 2\n",
    "[Jugador 2] Frío\n",
    "\n",
    "Fin de la partida. El número era el: 9\n",
    "\n",
    "----------------------------------\n",
    "The Number Guess Game\n",
    "----------------------------------\n",
    "Jugador 1 ha ganado 0 veces\n",
    "Jugador 2 ha ganado 3 veces\n",
    "----------------------------------\n",
    "¿Jugar una partida nueva? (s/n): n\n",
    "\n",
    "```"
   ]
  },
  {
   "cell_type": "code",
   "execution_count": null,
   "metadata": {},
   "outputs": [],
   "source": []
  },
  {
   "cell_type": "markdown",
   "metadata": {},
   "source": [
    "### 7. Convertir RPN a Algebráico\n",
    "\n",
    "Implementar la función `rpn_to_alg` que dada una lista de operaciones en formato RPN, devuelva su homónima en formato algebráico (casos simples). Asumir que solo hay sumas y multiplicaciones, y que se trabaja con enteros no negativos. Utilizar los paréntesis cuando sea necesario.\n",
    "\n",
    "Ejemplos:\n",
    "\n",
    "```python\n",
    "rpn_to_alg(\"2\") = '2'\n",
    "rpn_to_alg(\"2 3 +\") = '2 + 3'\n",
    "rpn_to_alg(\"2 3 + 5 +\") = '2 + 3 + 5'\n",
    "rpn_to_alg(\"2 3 + 5 *\") = '(2 + 3) * 5'\n",
    "rpn_to_alg(\"2 3 + 4 * 2 + 5 *\") = '((2 + 3) * 4 + 2) * 5'\n",
    "```\n",
    "\n",
    "**Recomendación:** usar `deque` del módulo `collections` en formato cola (`popleft`, `appendleft`)"
   ]
  },
  {
   "cell_type": "code",
   "execution_count": 5,
   "metadata": {},
   "outputs": [
    {
     "name": "stdout",
     "output_type": "stream",
     "text": [
      "deque(['2 + 3'])\n",
      "deque(['2 + 3 + 5'])\n",
      "deque(['(2 + 3) * 5'])\n",
      "deque(['((2 + 3) * 4 + 2) * 5'])\n"
     ]
    }
   ],
   "source": [
    "from collections import deque \n",
    "\n",
    "def rpn_to_alg(cadena):\n",
    "    listado = cadena.split()\n",
    "\n",
    "    stack = deque()\n",
    "    for item in listado:\n",
    "        if item.isdigit():\n",
    "            stack.append(item)\n",
    "        elif not item.isdigit():\n",
    "            a = stack.pop()\n",
    "            b = stack.pop()\n",
    "\n",
    "            if item == '+':\n",
    "                new_expr = f'{b} + {a}'\n",
    "            elif item == '*':\n",
    "                new_expr= f'({b}) * {a}'\n",
    "                \n",
    "            stack.append(new_expr)\n",
    "    print(str(stack))\n",
    "\n",
    "rpn_to_alg(\"2 3 +\") # '2 + 3'\n",
    "rpn_to_alg(\"2 3 + 5 +\") #'2 + 3 + 5'\n",
    "rpn_to_alg(\"2 3 + 5 *\") # '(2 + 3) * 5'\n",
    "rpn_to_alg(\"2 3 + 4 * 2 + 5 *\") # '((2 + 3) * 4 + 2) * 5'\n",
    "\n"
   ]
  },
  {
   "cell_type": "code",
   "execution_count": 9,
   "metadata": {},
   "outputs": [
    {
     "data": {
      "text/plain": [
       "deque([1])"
      ]
     },
     "execution_count": 9,
     "metadata": {},
     "output_type": "execute_result"
    }
   ],
   "source": [
    "cola = deque()\n",
    "cola.appendleft(1)\n",
    "cola.appendleft(2)\n",
    "cola.popleft()\n",
    "cola"
   ]
  },
  {
   "cell_type": "markdown",
   "metadata": {},
   "source": [
    "### 8. Primo más frecuente\n",
    "\n",
    "Implementar la función `most_frequent_factor` que reciba una lista de enteros y devuelva el número primo que más números de la lista sean múltiplos de él. En caso de empate devolverá el mayor. En el caso de que no haya ningún número primo devolverá `None`.\n",
    "\n",
    "Ejemplos:\n",
    "```python\n",
    "most_frequent_factor([1,1,1,1,1]) = None\n",
    "most_frequent_factor([1,2,3,4,5,6,7,8,9,10]) = 2\n",
    "most_frequent_factor([1,2,3,4,5,6,7,8,9,12,27]) = 3\n",
    "most_frequent_factor([2,3,5,7,11,13]) = 13 # Son todos primos, devuelve el mayor\n",
    "```\n",
    "\n",
    "**NOTA:**\n",
    "\n",
    "- Se puede usar la función `is_prime` del ejercicio 3.\n",
    "- **NO** se puede usar la función `prime_decomposition` del ejercicio 5.\n",
    "- **NO** se pueden importar funcionalidades extra desde módulos.\n",
    "\n"
   ]
  },
  {
   "cell_type": "code",
   "execution_count": null,
   "metadata": {},
   "outputs": [],
   "source": []
  },
  {
   "cell_type": "markdown",
   "metadata": {},
   "source": [
    "### 9. Primos en común\n",
    "\n",
    "Implementar la función `common_primes` que dada una lista de enteros positivos devuelva el conjunto de primos para el cual todos los números de la lista son múltiplos.\n",
    "\n",
    "Ejemplos:\n",
    "\n",
    "```python\n",
    "common_primes([2,4,8,12]) = {2}\n",
    "common_primes([6,9,12]) = {3}\n",
    "common_primes([6,12,18]) = {2,3}\n",
    "common_primes([4,9,25]) = set() # conjunto vacío \n",
    "common_primes([1,1,1]) = set() # conjunto vacío \n",
    "```\n",
    "\n",
    "\n",
    "**NOTA:**\n",
    "\n",
    "- Se puede usar la función `is_prime` del ejercicio 3.\n",
    "- **NO** se puede usar la función `prime_decomposition` del ejercicio 5.\n",
    "- **NO** se pueden importar funcionalidades extra desde módulos."
   ]
  },
  {
   "cell_type": "code",
   "execution_count": null,
   "metadata": {},
   "outputs": [],
   "source": []
  },
  {
   "cell_type": "markdown",
   "metadata": {},
   "source": [
    "### 10. Número menor con todos los primos\n",
    "\n",
    "Implementar la función `number_with_all_primes` que dada una lista de enteros positivos encuentre en la lista aquel número menor que sea múltiplo de todos los primos para los que uno o más números de la lista son múltiplos. En caso de no encontrarlo, devolverá `None`.\n",
    "\n",
    "\n",
    "Ejemplos:\n",
    "\n",
    "```python\n",
    "number_with_all_primes([2,3,6,8,12]) = 6\n",
    "number_with_all_primes([2,3,8,12]) = 12\n",
    "number_with_all_primes([2,3,25]) = None\n",
    "number_with_all_primes([1,3,9]) = 3\n",
    "number_with_all_primes([1,1,9]) = 9\n",
    "number_with_all_primes([1,1,1]) = None\n",
    "```"
   ]
  },
  {
   "cell_type": "code",
   "execution_count": null,
   "metadata": {},
   "outputs": [],
   "source": []
  },
  {
   "cell_type": "markdown",
   "metadata": {},
   "source": [
    "### 11. Buscar los números que tengan una menor factorización\n",
    "\n",
    "Implementar la función `lowest_factoring_numbers` que reciba una lista de enteros positivos y devuelva una lista filtrada con los números que tenga una menor factorización (menor número de multiplicaciones o factores). Los 1s se eliminarán directamente.\n",
    "\n",
    "Ejemplos:\n",
    "\n",
    "```python\n",
    "lowest_factoring_numbers([2,3,4,5,6,7]) = [2,3,5,7]\n",
    "lowest_factoring_numbers([9,4,8,12,123]) = [9,4,123]\n",
    "lowest_factoring_numbers([1,9,4,8,12,123]) = [9,4,123]\n",
    "lowest_factoring_numbers([1,1,1]) = []\n",
    "```"
   ]
  },
  {
   "cell_type": "code",
   "execution_count": null,
   "metadata": {},
   "outputs": [],
   "source": []
  }
 ],
 "metadata": {
  "kernelspec": {
   "display_name": "Python 3 (ipykernel)",
   "language": "python",
   "name": "python3"
  },
  "language_info": {
   "codemirror_mode": {
    "name": "ipython",
    "version": 3
   },
   "file_extension": ".py",
   "mimetype": "text/x-python",
   "name": "python",
   "nbconvert_exporter": "python",
   "pygments_lexer": "ipython3",
   "version": "3.11.7"
  }
 },
 "nbformat": 4,
 "nbformat_minor": 4
}
