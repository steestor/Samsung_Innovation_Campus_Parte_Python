{
 "cells": [
  {
   "cell_type": "code",
   "execution_count": 1,
   "id": "9807cd26-e228-4a2f-a6d2-02ad3be9d4fd",
   "metadata": {},
   "outputs": [],
   "source": [
    "# Cuando un a función llega return en cualquier punto, incluso dentro de un bucle, la función termina"
   ]
  },
  {
   "cell_type": "code",
   "execution_count": 3,
   "id": "a41c1572-9795-4be3-ac18-023c9ca2534f",
   "metadata": {},
   "outputs": [
    {
     "name": "stdin",
     "output_type": "stream",
     "text": [
      "Introduce un número:  2\n"
     ]
    },
    {
     "data": {
      "text/plain": [
       "2"
      ]
     },
     "execution_count": 3,
     "metadata": {},
     "output_type": "execute_result"
    }
   ],
   "source": [
    "# Esta misma función se hace con un while True\n",
    "\n",
    "def pedir_numero():\n",
    "    try:\n",
    "        cadena = input(\"Introduce un número: \")\n",
    "        n = int(cadena)\n",
    "        return n\n",
    "    except:\n",
    "        print(\"Entrada no válida. Por favor, introduce un número.\")\n",
    "        return pedir_numero()\n",
    "\n",
    "# Llamada a la función\n",
    "pedir_numero()"
   ]
  },
  {
   "cell_type": "code",
   "execution_count": null,
   "id": "bcd538ee-7012-4500-9e98-f85ac49124a1",
   "metadata": {},
   "outputs": [],
   "source": [
    "# try:\n",
    "#    except Exception as e:"
   ]
  },
  {
   "cell_type": "code",
   "execution_count": null,
   "id": "60956115-d3a8-4d2d-8486-83c40ec6a60d",
   "metadata": {},
   "outputs": [],
   "source": [
    "# try -> el finally agrupa todas aquellas instrucciones criticas\n",
    "# except\n",
    "# else  -> Este es si superamos el tramo de las instrucciones criticas continuamos con el código\n",
    "# finally"
   ]
  },
  {
   "cell_type": "code",
   "execution_count": 8,
   "id": "de7faf23-2012-4f6f-9b60-066516303817",
   "metadata": {},
   "outputs": [
    {
     "name": "stdin",
     "output_type": "stream",
     "text": [
      "Introduce un índice 2\n"
     ]
    },
    {
     "name": "stdout",
     "output_type": "stream",
     "text": [
      "30\n"
     ]
    }
   ],
   "source": [
    "# Ejemplo\n",
    "lista =[10,20,30]\n",
    "\n",
    "try:\n",
    "    n = int(input(\"Introduce un índice\"))\n",
    "    print(f'{lista[n]}')\n",
    "except ValueError:\n",
    "    print(\"El número no es válido\")\n",
    "except IndexError: \n",
    "        print(\"El índice no es válido\")\n",
    "except:\n",
    "        print(\"exceptcion no controlada\")"
   ]
  },
  {
   "cell_type": "code",
   "execution_count": 21,
   "id": "a4ef350f-3a89-41dc-a225-72153d3fb3b5",
   "metadata": {},
   "outputs": [
    {
     "name": "stdout",
     "output_type": "stream",
     "text": [
      "['1', '2', '3', '4', '5']\n",
      "['1', '2', '3', '4', '5']\n",
      "1 2 3 4\n",
      "1234\n",
      "1,2,3,4\n",
      "1.2.3.4\n"
     ]
    }
   ],
   "source": [
    "cadena1 =\"1,2,3,4,5\"\n",
    "cadena2 =\"1 2 3 4 5\"\n",
    "\n",
    "lista1= [\"1\",\"2\",\"3\",\"4\"]\n",
    "lista2=[1,2,3,4]\n",
    "\n",
    "print(cadena1.split(','))\n",
    "print(cadena2.split())\n",
    "\n",
    "print(' '.join(lista1))\n",
    "print(''.join(lista1))\n",
    "print(','.join(lista1))\n",
    "print('.'.join(list(map(lambda x: str(x),lista2))))\n",
    "\n"
   ]
  },
  {
   "cell_type": "code",
   "execution_count": 34,
   "id": "b538eb0a-10d6-4ab1-9749-0800a2725425",
   "metadata": {},
   "outputs": [
    {
     "name": "stdout",
     "output_type": "stream",
     "text": [
      "Juan,12,150\n",
      "\n",
      "María,25,172\n",
      "\n",
      "Amparo,30,190\n",
      "\n"
     ]
    }
   ],
   "source": [
    "# Cómo usar next para leer prinera línea aparte\n",
    "with open('ejemplo.csv', encoding=\"utf-8\") as f:\n",
    "    #print(f.read())\n",
    "    cabecera = next(f)  # de un objeto iterable puedes quedarte con la primera iteración\n",
    "    for linea in f:\n",
    "        print(linea)\n"
   ]
  },
  {
   "cell_type": "code",
   "execution_count": 35,
   "id": "6ccf9536-097c-48fe-8ef8-2a1cc61539ed",
   "metadata": {},
   "outputs": [
    {
     "name": "stdout",
     "output_type": "stream",
     "text": [
      "['Juan', '12', '150']\n",
      "['María', '25', '172']\n",
      "['Amparo', '30', '190']\n"
     ]
    }
   ],
   "source": [
    "import csv\n",
    "\n",
    "with open('ejemplo.csv', encoding=\"utf-8\") as f:\n",
    "    reader = csv.reader(f)\n",
    "    next(reader)\n",
    "    for tupla in reader:\n",
    "        print(tupla)\n"
   ]
  },
  {
   "cell_type": "code",
   "execution_count": 38,
   "id": "e186ab61-2786-4ce7-b706-a5e64d938b4d",
   "metadata": {},
   "outputs": [
    {
     "name": "stdout",
     "output_type": "stream",
     "text": [
      "No es iterable\n",
      "Es iterable\n"
     ]
    }
   ],
   "source": [
    "# Probando iter\n",
    "def try_iterable(algo):\n",
    "    try: \n",
    "        iter(algo)\n",
    "    except:\n",
    "        print(\"No es iterable\")\n",
    "    else:\n",
    "        print(\"Es iterable\")\n",
    "\n",
    "try_iterable(100)\n",
    "try_iterable(list(\"100\"))"
   ]
  },
  {
   "cell_type": "code",
   "execution_count": 39,
   "id": "a8eab1c7-07f9-4820-be36-dbd376b078db",
   "metadata": {},
   "outputs": [
    {
     "name": "stdout",
     "output_type": "stream",
     "text": [
      "False\n",
      "True\n"
     ]
    }
   ],
   "source": [
    "# Creación de una función any personalizada: devolverá un True si alguno es distinto de vacío\n",
    "\n",
    "def any2(iterable):\n",
    "    for item in iterable:\n",
    "        if bool(item):\n",
    "            return True\n",
    "        else:\n",
    "            return False\n",
    "\n",
    "print(any([0,'',(),False,[]]))\n",
    "print(any([0,'',(),False,1,[]]))\n"
   ]
  },
  {
   "cell_type": "code",
   "execution_count": 43,
   "id": "42aa416b-1b20-459c-b495-e8606df07354",
   "metadata": {},
   "outputs": [
    {
     "name": "stdout",
     "output_type": "stream",
     "text": [
      "pera\n",
      "u\n"
     ]
    }
   ],
   "source": [
    "print(min([\"pera\", \"manzana\", \"u\"], key= lambda x: x[-1]))\n",
    "print(max([\"pera\", \"manzana\", \"u\"], key= lambda x: x[-1]))"
   ]
  },
  {
   "cell_type": "code",
   "execution_count": 52,
   "id": "cccaf310-3d28-4eb9-9cb3-3d3f1f7fd968",
   "metadata": {},
   "outputs": [
    {
     "name": "stdout",
     "output_type": "stream",
     "text": [
      "Pretty printing has been turned OFF\n"
     ]
    },
    {
     "data": {
      "text/plain": [
       "[9, 25, 36, 81, 100, 144, 225, 324, 400, 441, 576, 625, 729, 900, 1089, 1225, 1296, 1521, 1600, 1764, 2025, 2304, 2500, 2601, 2916, 3025, 3249, 3600, 3969, 4225, 4356, 4761, 4900, 5184, 5625, 6084, 6400, 6561, 7056, 7225, 7569, 8100, 8649, 9025, 9216, 9801, 10000]"
      ]
     },
     "execution_count": 52,
     "metadata": {},
     "output_type": "execute_result"
    }
   ],
   "source": [
    "# Ejercicio: lista de los cuadrados de los números entre 1 y 100 que sean múltiplos 5 o de 3\n",
    "\n",
    "%pprint # esto lo que hace es que printee en horizontal\n",
    "list(filter(lambda x: x%5 == 0 or x%3==0,list(map(lambda x: x**2,list(range(1,101))))))"
   ]
  },
  {
   "cell_type": "code",
   "execution_count": 56,
   "id": "d0d5bd1a-4db3-478b-b02f-504ed9af71b8",
   "metadata": {},
   "outputs": [
    {
     "data": {
      "text/plain": [
       "[9, 25, 36, 81, 100, 144, 225, 324, 400, 441, 576, 625, 729, 900, 1089, 1225, 1296, 1521, 1600, 1764, 2025, 2304, 2500, 2601, 2916, 3025, 3249, 3600, 3969, 4225, 4356, 4761, 4900, 5184, 5625, 6084, 6400, 6561, 7056, 7225, 7569, 8100, 8649, 9025, 9216, 9801, 10000]"
      ]
     },
     "execution_count": 56,
     "metadata": {},
     "output_type": "execute_result"
    }
   ],
   "source": [
    "def cuadrado(x):\n",
    "    return x ** 2\n",
    "\n",
    "[cuadrado(x) for x in range(1,101) if x%5 == 0 or x%3 ==0]"
   ]
  },
  {
   "cell_type": "code",
   "execution_count": 60,
   "id": "34738b30-533c-4268-98ab-ad70d5861b54",
   "metadata": {},
   "outputs": [
    {
     "name": "stdout",
     "output_type": "stream",
     "text": [
      "385\n",
      "385\n",
      "385\n"
     ]
    }
   ],
   "source": [
    "# sumar los cuadrados de los números de los números entre 1 y 10\n",
    "\n",
    "print(sum(item ** 2 for item in range(1,11))) # recibe un generador\n",
    "print(sum([item ** 2 for item in range(1,11)])) # recibe un comprehension list\n",
    "print(sum(list(map(lambda x: x**2, range(1,11)))))"
   ]
  },
  {
   "cell_type": "code",
   "execution_count": 68,
   "id": "c1a4f48a-cc79-453e-a7b1-22b3dcb65c53",
   "metadata": {},
   "outputs": [
    {
     "name": "stdout",
     "output_type": "stream",
     "text": [
      "{400, 900}\n",
      "(400, 400, 900)\n",
      "{20: 400, 30: 900}\n"
     ]
    }
   ],
   "source": [
    "# Podemos devolver el conjunto\n",
    "print({ item** 2 for item in [20,20,30]})\n",
    "print(tuple( item** 2 for item in [20,20,30]))\n",
    "print(dict((item,item** 2) for item in [20,20,30]))"
   ]
  },
  {
   "cell_type": "code",
   "execution_count": 82,
   "id": "ce6a3649-6ddd-4a99-b554-dcfb5bc72fdd",
   "metadata": {},
   "outputs": [
    {
     "name": "stdout",
     "output_type": "stream",
     "text": [
      "['e', 'u', 'c']\n",
      "['e', 'u', 'c']\n"
     ]
    },
    {
     "name": "stdin",
     "output_type": "stream",
     "text": [
      "Escribe una cadena \n"
     ]
    },
    {
     "name": "stdout",
     "output_type": "stream",
     "text": [
      "[]\n"
     ]
    },
    {
     "name": "stdin",
     "output_type": "stream",
     "text": [
      "Escribe una cadena asasa\n"
     ]
    },
    {
     "name": "stdout",
     "output_type": "stream",
     "text": [
      "['a']\n"
     ]
    }
   ],
   "source": [
    "# Función que recibe una cadena y devuelve una lista con las primeras letras de las palabras de longitud mayor o igual a 3\n",
    "\n",
    "# map y filter\n",
    "# y listas intensionales\n",
    "\n",
    "def f(cadena):\n",
    "    return list(map(lambda x: x[0] ,list((filter(lambda x: len(x) >= 3,cadena.split())))))\n",
    "\n",
    "def f2(cadena):\n",
    "    return[palabra[0] for palabra in cadena.split() if len(palabra) >= 3]\n",
    "\n",
    "print(f(\"esto es una cadena\")) #-> e u c\n",
    "print(f2(\"esto es una cadena\")) #-> e u c\n",
    "\n",
    "print(f(input(\"Escribe una cadena\")))\n",
    "print(f2(input(\"Escribe una cadena\")))\n",
    "\n"
   ]
  },
  {
   "cell_type": "code",
   "execution_count": 14,
   "id": "d109e954-25c4-4c9d-8eed-8417ddd38b09",
   "metadata": {},
   "outputs": [
    {
     "name": "stdout",
     "output_type": "stream",
     "text": [
      "The number of total students is 6\n",
      "The number os students with valid scores is 4\n",
      "[[100, 90, 95], [90, 80, 70], [100, 75, 20], [30, 50, 90]]\n"
     ]
    }
   ],
   "source": [
    "# Ejercicio diapo 214\n",
    "\n",
    "scores =[100,90,95,90,80,70,0,80,90,90,0,90,100,75,20,30,50,90]\n",
    "\n",
    "print(f\"The number of total students is {len(scores[::3])}\")\n",
    "\n",
    "students={}\n",
    "\n",
    "for i,score in enumerate(scores):\n",
    "    stepList =scores[i * 3: (i + 1) * 3]\n",
    "    if stepList:\n",
    "        students[f'Student {i + 1}'] = stepList\n",
    "\n",
    "valid_scores = [lista for lista in list(students.values()) if 0 not in lista]\n",
    "print(f'The number os students with valid scores is {len(valid_scores)}')\n",
    "print(valid_scores)\n"
   ]
  },
  {
   "cell_type": "code",
   "execution_count": 21,
   "id": "f729486b-9c98-4d61-b11b-b82e4e76ef3b",
   "metadata": {},
   "outputs": [
    {
     "name": "stdout",
     "output_type": "stream",
     "text": [
      "The number of total students is 6\n",
      "The number os students with valid scores is 4\n",
      "[[100, 90, 95], [90, 80, 70], [100, 75, 20], [30, 50, 90]]\n"
     ]
    }
   ],
   "source": [
    "# Propuesta del profe\n",
    "\n",
    "scores =[100,90,95,90,80,70,0,80,90,90,0,90,100,75,20,30,50,90]\n",
    "total_students = 0\n",
    "valid_scores = []\n",
    "\n",
    "for i in range(0,len(scores), 3):\n",
    "    total_students += 1\n",
    "    student = scores[i:i+3]\n",
    "    if all(student):\n",
    "        valid_scores.append(student)\n",
    "\n",
    "print(f\"The number of total students is {total_students}\")\n",
    "print(f'The number os students with valid scores is {len(valid_scores)}')\n",
    "print(valid_scores)"
   ]
  },
  {
   "cell_type": "code",
   "execution_count": 26,
   "id": "e0531677-03ca-483c-a1d1-8f686ab37973",
   "metadata": {},
   "outputs": [
    {
     "data": {
      "text/plain": [
       "['casa', 'bici']"
      ]
     },
     "execution_count": 26,
     "metadata": {},
     "output_type": "execute_result"
    }
   ],
   "source": [
    "# Dado un diccionario imprime todas las claves cuyos valores sean números enteros\n",
    "\n",
    "d = { 'casa': 5, 'bici': 3, 'gato': True, \"perro\": 3.2, \"coche\": \"hola\" }\n",
    "\n",
    "listado = []\n",
    "for k, v in d.items():\n",
    "    if type(v) == int:\n",
    "        listado.append(k)\n",
    "\n",
    "listado\n"
   ]
  },
  {
   "cell_type": "code",
   "execution_count": 29,
   "id": "0c7a562d-e1d0-4bc5-9916-14e75455a5d7",
   "metadata": {},
   "outputs": [
    {
     "data": {
      "text/plain": [
       "{'queso': 15.4, 'jamon': 24, 'aceite': 12.5, 'atun': 3.9}"
      ]
     },
     "execution_count": 29,
     "metadata": {},
     "output_type": "execute_result"
    }
   ],
   "source": [
    "# Ejercicio\n",
    "# Dada una lista de tuplas (producto, precio)\n",
    "# Obtener un diccionario con el precio más alto para cada producto\n",
    "# Ejemplo:\n",
    "# lista=[('queso',11),('jamon',17),('queso',15.4),('aceite', 8.7),('jamon', 24),('aceite',12.5),('atun', 3.9)]\n",
    "# El resultado sería:\n",
    "# { queso: 15.4 , 'aceite': 12.5, 'jamon': 24, 'atun': 3.9}\n",
    "\n",
    "lista=[('queso',11),('jamon',17),('queso',15.4),('aceite', 8.7),('jamon', 24),('aceite',12.5),('atun', 3.9)]\n",
    "diccionario={}\n",
    "\n",
    "for item, precio in lista:\n",
    "    if diccionario.get(item):\n",
    "        if diccionario.get(item) < precio:\n",
    "            diccionario[item] = precio\n",
    "    else:\n",
    "        diccionario[item] = precio\n",
    "        \n",
    "diccionario"
   ]
  },
  {
   "cell_type": "code",
   "execution_count": 36,
   "id": "a35e2ee1-b623-4afa-98c4-565d301cb430",
   "metadata": {},
   "outputs": [
    {
     "data": {
      "text/plain": [
       "{'queso': 15.4, 'jamon': 24, 'aceite': 12.5, 'atun': 3.9}"
      ]
     },
     "execution_count": 36,
     "metadata": {},
     "output_type": "execute_result"
    }
   ],
   "source": [
    "lista=[('queso',11),('jamon',17),('queso',15.4),('aceite', 8.7),('jamon', 24),('aceite',12.5),('atun', 3.9)]\n",
    "diccionario={}\n",
    "\n",
    "for item, precio in lista:\n",
    "    if diccionario.get(item):\n",
    "            diccionario[item] = max(diccionario[item], precio)\n",
    "    else:\n",
    "        diccionario[item] = precio\n",
    "        \n",
    "diccionario"
   ]
  },
  {
   "cell_type": "code",
   "execution_count": 55,
   "id": "c3d35926-03cb-4320-b579-871c3da15648",
   "metadata": {},
   "outputs": [
    {
     "name": "stdout",
     "output_type": "stream",
     "text": [
      "{'queso': [11, 15.4], 'jamon': [17, 24], 'aceite': [8.7, 12.5], 'atun': [3.9]}\n"
     ]
    },
    {
     "data": {
      "text/plain": [
       "{'queso': 13.2, 'jamon': 20.5, 'aceite': 10.6, 'atun': 3.9}"
      ]
     },
     "execution_count": 55,
     "metadata": {},
     "output_type": "execute_result"
    }
   ],
   "source": [
    "# Toma la lista del ejercicio anterior y calcula el precio medio de cada producto\n",
    "\n",
    "listado=[('queso',11),('jamon',17),('queso',15.4),('aceite', 8.7),('jamon', 24),('aceite',12.5),('atun', 3.9)]\n",
    "diccionario2 = {}\n",
    "\n",
    "for item, precio in listado:\n",
    "    if diccionario2.get(item):\n",
    "        diccionario2[item].append(precio)\n",
    "    else:\n",
    "        diccionario2[item] = [precio]\n",
    "print(diccionario2)\n",
    "valoresMedios = {}\n",
    "for producto, listaPrecios in diccionario2.items():\n",
    "    precioMedio = sum(listaPrecios)/len(listaPrecios)\n",
    "    valoresMedios[producto] = precioMedio\n",
    "\n",
    "valoresMedios\n"
   ]
  },
  {
   "cell_type": "code",
   "execution_count": 87,
   "id": "b2a68cb3-7259-4845-81a9-f4f8b784ecb4",
   "metadata": {},
   "outputs": [
    {
     "name": "stdout",
     "output_type": "stream",
     "text": [
      "{'casa', 'bici', 'boli', 'hola', 'gato'}\n",
      "{'bici', 'hola'}\n"
     ]
    }
   ],
   "source": [
    "# Dado un fichero \"frases0907.txt\" con palabras, se pide:\n",
    "# Saca el conjunto de palabras que aparezcan en 3 o más líneas distintas.\n",
    "# Ejemplo:\n",
    "# hola\n",
    "# gato hola casa casa casa casa\n",
    "# hola bici\n",
    "# gato casa\n",
    "# bici\n",
    "# bici boli\n",
    "\n",
    "# Resultado: {'hola', 'bici'}\n",
    "\n",
    "with open(\"frases0907.txt\") as f:\n",
    "    cadena = f.read()\n",
    "    print(set(cadena.split()))\n",
    "    conjunto = set(cadena.split())\n",
    "    diccionario = {}\n",
    "\n",
    "    diccionario.fromkeys(conjunto)\n",
    "    #for palabra in conjunto:\n",
    "        #diccionario[palabra] = 0\n",
    "        \n",
    "    for frase in cadena.split(\"\\n\"):\n",
    "        palabra = list(set(frase.split()))\n",
    "        for p in palabra:\n",
    "            if p in diccionario:\n",
    "                diccionario[p] += 1\n",
    "            else:\n",
    "                diccionario[p] = 1\n",
    "    \n",
    "    result=[]\n",
    "    for k,v in diccionario.items():\n",
    "        if(v >= 3):\n",
    "            result.append(k)\n",
    "            \n",
    "    print(set(result))    "
   ]
  },
  {
   "cell_type": "code",
   "execution_count": 98,
   "id": "5a2072b3-f8e1-4528-93ea-66eace38c891",
   "metadata": {},
   "outputs": [
    {
     "name": "stdout",
     "output_type": "stream",
     "text": [
      "q. q. q. q. .s\n",
      "q. q. q. q. .s\n",
      "q. q. q. q. .s\n",
      "q. q. q. q. .s\n"
     ]
    }
   ],
   "source": [
    "# Ejercicio\n",
    "# Crea una lista rellena con la cadena '.'\n",
    "# El nº filas es 5 y el columnas es 5\n",
    "# A continuacion lee una lista de tripletas (fila, col, letra) y pon la letra en la posicion correspondiente\n",
    "# Ejemplo:\n",
    "# dibujar = [(0,0,'A'),(0,1,'A'),(2,2,'X'),(3,2,'*')]\n",
    "\n",
    "# AA...\n",
    "# .....\n",
    "# ..X..\n",
    "# ..*..\n",
    "# .....\n",
    "\n",
    "# [['.','.','.','.','.'],\n",
    "#  ['.','.','.','.','.'],\n",
    "#  ['.','.','.','.','.'],\n",
    "#  ['.','.','.','.','.'],\n",
    "#  ['.','.','.','.','.']]\n",
    "\n",
    "dibujar = iter([(0,0,'A'),(0,1,'A'),(2,2,'X'),(3,2,'*')])\n",
    "\n",
    "\n",
    "    \n"
   ]
  },
  {
   "cell_type": "code",
   "execution_count": 100,
   "id": "1d24848f-d3b2-485c-8afd-0065855884ce",
   "metadata": {},
   "outputs": [
    {
     "ename": "AttributeError",
     "evalue": "'set' object has no attribute 'contains'",
     "output_type": "error",
     "traceback": [
      "\u001b[1;31m---------------------------------------------------------------------------\u001b[0m",
      "\u001b[1;31mAttributeError\u001b[0m                            Traceback (most recent call last)",
      "Cell \u001b[1;32mIn[100], line 1\u001b[0m\n\u001b[1;32m----> 1\u001b[0m {\u001b[38;5;241m2\u001b[39m,\u001b[38;5;241m3\u001b[39m,\u001b[38;5;241m4\u001b[39m}\u001b[38;5;241m.\u001b[39mcontains(\u001b[38;5;241m2\u001b[39m)\n",
      "\u001b[1;31mAttributeError\u001b[0m: 'set' object has no attribute 'contains'"
     ]
    }
   ],
   "source": []
  }
 ],
 "metadata": {
  "kernelspec": {
   "display_name": "Python 3 (ipykernel)",
   "language": "python",
   "name": "python3"
  },
  "language_info": {
   "codemirror_mode": {
    "name": "ipython",
    "version": 3
   },
   "file_extension": ".py",
   "mimetype": "text/x-python",
   "name": "python",
   "nbconvert_exporter": "python",
   "pygments_lexer": "ipython3",
   "version": "3.11.7"
  }
 },
 "nbformat": 4,
 "nbformat_minor": 5
}
