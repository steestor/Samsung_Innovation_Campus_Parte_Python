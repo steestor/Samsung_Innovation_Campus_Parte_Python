{
 "cells": [
  {
   "cell_type": "markdown",
   "id": "6269c4f0-492a-43f8-bac0-3a41be060284",
   "metadata": {},
   "source": [
    "## Ejercicio (para practicar, a resolver 8 julio 2024)\n",
    "\n",
    "Escribe una función llamada `procesa_cadena` que recibe obligatoriamente un \n",
    "primer argumento seguido de un nº de argumentos variable.\n",
    "\n",
    "El primer argumetno es una cadena de texto (tipo str).\n",
    "\n",
    "Los argumentos restantes (número variable) son todos tuplas, las \n",
    "tuplas han de ser de uno de estos tipos y se procesarán por orden sobre la \n",
    "cadena, cada una reemplazando el valor obtenido hasta ese momento:\n",
    "\n",
    "```\n",
    "('concat', c) # pone c al final de la cadena, c es otra cadena\n",
    "('upper',) # pasa todo a mayúscula\n",
    "('replace', x, y) # reemplaza x por y, x e y son cadenas\n",
    "('multiply', n) # repite la cadena n veces, n es un entero\n",
    "('strip',) # elimina espacios iniciales y finales\n",
    "```\n",
    "\n",
    "Por ejemplo, la llamada:\n",
    "\n",
    "```python\n",
    "procesa_cadena(\"    esto es una \", \n",
    "               ('upper',), ('multiply',2), \n",
    "               ('concat','prueba'), ('strip',))\n",
    "```\n",
    "\n",
    "devuelve la cadena:\n",
    "\n",
    "```\n",
    "'ESTO ES UNA     ESTO ES UNA prueba'\n",
    "```"
   ]
  },
  {
   "cell_type": "code",
   "execution_count": null,
   "id": "e4a79a13-38d0-47df-8173-96068829e567",
   "metadata": {},
   "outputs": [],
   "source": [
    "def procesa_cadena(cadena, *tuplas):\n",
    "    cadena_resultante = cadena\n",
    "    for tupla in tuplas:\n",
    "        if len(tupla) == 2:\n",
    "            nombre_funcion, num = tupla\n",
    "            if nombre_funcion == 'concat':\n",
    "                cadena_resultante = cadena_resultante + num\n",
    "            elif nombre_funcion == 'multiply':\n",
    "                cadena_resultante = cadena_resultante * num\n",
    "        elif len(tupla) == 3:\n",
    "                nombre_funcion, value1, value2 = tupla\n",
    "                if nombre_funcion == 'replace':\n",
    "                    cadena_resultante.replace(value1, value2)\n",
    "        elif len(tupla) == 1:\n",
    "            nombre_funcion = tupla[0]\n",
    "            if nombre_funcion == 'strip':\n",
    "                cadena_resultante= cadena_resultante.strip()\n",
    "            elif nombre_funcion == 'upper':    \n",
    "                cadena_resultante = cadena_resultante.upper()\n",
    "                \n",
    "    print(cadena_resultante)\n",
    "\n",
    "\n",
    "procesa_cadena(\"    esto es una \",('upper',), ('multiply',2),('concat','prueba'), ('strip',))"
   ]
  },
  {
   "cell_type": "code",
   "execution_count": null,
   "id": "984ad98a-5ba8-4c8b-87a0-6489c44e7d1b",
   "metadata": {},
   "outputs": [],
   "source": [
    "# Recursividad\n",
    "def mi_fn_recursiva(n):\n",
    "    if n==0:\n",
    "        return '!'\n",
    "    else:\n",
    "        y = mi_fn_recursiva(n-1)\n",
    "        x = f'{n} {y}'\n",
    "    return x\n",
    "    \n",
    "mi_fn_recursiva(5)"
   ]
  },
  {
   "cell_type": "code",
   "execution_count": 49,
   "id": "551fa81c-2ac5-4816-bb5c-9366a5bf01e6",
   "metadata": {},
   "outputs": [
    {
     "name": "stdin",
     "output_type": "stream",
     "text": [
      "Enter a number 10\n"
     ]
    },
    {
     "data": {
      "text/plain": [
       "55"
      ]
     },
     "execution_count": 49,
     "metadata": {},
     "output_type": "execute_result"
    }
   ],
   "source": [
    "# Suma con recursividad\n",
    "\n",
    "result = 0\n",
    "def suma_numeros(n):\n",
    "    if n == 0:\n",
    "        return 0\n",
    "    return n + suma_numeros(n-1)\n",
    "    \n",
    "        \n",
    "n = int(input(\"Enter a number\"))\n",
    "suma_numeros(n)"
   ]
  },
  {
   "cell_type": "code",
   "execution_count": 53,
   "id": "98b3180a-308b-49ab-8d99-dd6a94dcb73c",
   "metadata": {},
   "outputs": [
    {
     "name": "stdin",
     "output_type": "stream",
     "text": [
      "Enter a base 2\n",
      "Enter a exponent 10\n"
     ]
    },
    {
     "data": {
      "text/plain": [
       "1024"
      ]
     },
     "execution_count": 53,
     "metadata": {},
     "output_type": "execute_result"
    }
   ],
   "source": [
    "# Elevado recursividad\n",
    "def elevado(base, exponent):\n",
    "    if exponent == 0:\n",
    "        return 1\n",
    "\n",
    "    if exponent == 1:\n",
    "        return base\n",
    "    \n",
    "    return base * elevado(base, exponent -1)\n",
    "    \n",
    "\n",
    "x=int(input(\"Enter a base\"))\n",
    "y=int(input(\"Enter a exponent\"))\n",
    "\n",
    "elevado(x,y)"
   ]
  },
  {
   "cell_type": "code",
   "execution_count": 51,
   "id": "f9e6bc57-175e-49b0-a538-88e866af3da6",
   "metadata": {},
   "outputs": [
    {
     "name": "stdout",
     "output_type": "stream",
     "text": [
      "1024\n"
     ]
    }
   ],
   "source": [
    "print(2**10)"
   ]
  },
  {
   "cell_type": "code",
   "execution_count": 145,
   "id": "a6227642-4507-4327-85d0-f3f362a97bd0",
   "metadata": {},
   "outputs": [
    {
     "name": "stdout",
     "output_type": "stream",
     "text": [
      "6\n",
      "45\n"
     ]
    }
   ],
   "source": [
    "# Escribe la función suma_dig que obtenga la suma de los dígitos de un número entero positivo o cero\n",
    "# suma_dig(123) = 6\n",
    "# suma_dig(91) = 10\n",
    "\n",
    "def suma_dig(numero):\n",
    "    \n",
    "    if type(numero) != list:\n",
    "        cadena_numero = list(str(numero))\n",
    "    else:\n",
    "        cadena_numero = numero\n",
    "        \n",
    "    \n",
    "    if(len(cadena_numero) == 0):\n",
    "        return 0\n",
    "\n",
    "    if(len(cadena_numero) == 1):\n",
    "        return int(cadena_numero[0])\n",
    "    \n",
    "    return int(cadena_numero[-1]) + suma_dig(cadena_numero[0:-1])\n",
    "\n",
    "\n",
    "print(suma_dig(123))\n",
    "print(suma_dig(123456789))\n",
    "\n"
   ]
  },
  {
   "cell_type": "code",
   "execution_count": null,
   "id": "067e7fda-5c08-4fde-a7a4-bba09000eb20",
   "metadata": {},
   "outputs": [],
   "source": [
    "#La solución del profe es más interesante"
   ]
  },
  {
   "cell_type": "code",
   "execution_count": 190,
   "id": "b68b9131-c6e2-46f8-9aad-5da3915e27fa",
   "metadata": {},
   "outputs": [
    {
     "name": "stdout",
     "output_type": "stream",
     "text": [
      "{'a': 0, 'e': 1, 'i': 0, 'o': 2, 'u': 0}\n",
      "Hello World\n"
     ]
    }
   ],
   "source": [
    "# Escribe la función recursiva cuenta_vocales(texto) que obtenga el número de vocales dado un texto\n",
    "# cuenta_vocales (\"Hello World\") = {'a': 0, 'e' : 1 , 'i': 0, 'o': 2, 'u':0}\n",
    "\n",
    "\n",
    "\n",
    "vocales={'a': 0, 'e' : 0 , 'i': 0, 'o': 0, 'u':0}\n",
    "\n",
    "def cuenta_vocales(texto, vocales):\n",
    "    \n",
    "    if type(texto) == str:\n",
    "        lista_texto = list(texto)\n",
    "    else:\n",
    "        lista_texto = texto\n",
    "        \n",
    "    if len(lista_texto) == 0:\n",
    "        return vocales\n",
    "\n",
    "    caracter = lista_texto.pop().lower()\n",
    "    \n",
    "    if caracter in vocales.keys():\n",
    "        vocales[caracter] +=1\n",
    "    \n",
    "    return cuenta_vocales(lista_texto, vocales)\n",
    "    \n",
    "cadena = \"Hello World\"\n",
    "print(cuenta_vocales (cadena, vocales))\n",
    "print(cadena)"
   ]
  },
  {
   "cell_type": "code",
   "execution_count": null,
   "id": "b310eb68-1a52-490d-a8a4-b2ac62488f2f",
   "metadata": {},
   "outputs": [],
   "source": []
  },
  {
   "cell_type": "code",
   "execution_count": 195,
   "id": "83e6ad1a-9edd-4522-a446-dd6768d10cae",
   "metadata": {},
   "outputs": [
    {
     "data": {
      "text/plain": [
       "{'a': 0, 'e': 1, 'i': 0, 'o': 2, 'u': 0}"
      ]
     },
     "execution_count": 195,
     "metadata": {},
     "output_type": "execute_result"
    }
   ],
   "source": [
    "# La solución del profe mola mas que es la de abajo\n",
    "\n",
    "# Escribe la función recursiva cuenta_vocales(texto) que obtenga el número de vocales dado un texto\n",
    "# cuenta_vocales (\"Hello World\") = {'a': 0, 'e' : 1 , 'i': 0, 'o': 2, 'u':0}\n",
    "\n",
    "vocales={'a': 0, 'e' : 0 , 'i': 0, 'o': 0, 'u':0}\n",
    "\n",
    "def cuenta_vocales(texto):\n",
    "    if len(texto) == 0:\n",
    "        return {'a': 0, 'e' : 0 , 'i': 0, 'o': 0, 'u':0}\n",
    "\n",
    "    # Toda la cadena menos el último caracter\n",
    "    left = texto[:-1]\n",
    "    # Último caracter del texto\n",
    "    right = texto[-1]\n",
    "\n",
    "    dic = cuenta_vocales(left)\n",
    "\n",
    "    if right in dic:\n",
    "        dic[right] += 1\n",
    "\n",
    "    return dic\n",
    "    \n",
    "cadena = \"Hello World\"\n",
    "cuenta_vocales (cadena)"
   ]
  },
  {
   "cell_type": "code",
   "execution_count": 200,
   "id": "5a58b6f1-27d6-4c89-903a-aaace0f6ca8d",
   "metadata": {},
   "outputs": [
    {
     "data": {
      "text/plain": [
       "12"
      ]
     },
     "execution_count": 200,
     "metadata": {},
     "output_type": "execute_result"
    }
   ],
   "source": [
    "# Cómo aplicar una función a cada elemento de la lista\n",
    "def aplica_funcion(lista, fn):\n",
    "    return [fn(x) for x in lista]\n",
    "\n",
    "def mult2(x):\n",
    "    return x*2\n",
    "\n",
    "aplica_funcion([1,2,3,4], mult2)\n",
    "\n",
    "# Con lambda lo podriamos hacer así:\n",
    "aplica_funcion([1,2,3,4], lambda x:x*2)\n",
    "\n",
    "# Otra forma de escribirlo:\n",
    "(lambda x,y: x*2+10)(1,2)"
   ]
  },
  {
   "cell_type": "code",
   "execution_count": null,
   "id": "d4ef5be9-893a-4427-9557-661f95f93568",
   "metadata": {},
   "outputs": [],
   "source": [
    "# Explicación del filter\n",
    "# filter(funcion, objIterable)\n",
    "    # la funcion puede ser un def funcion(){ ... } o un lambda x: condicion\n",
    "    # devuelve una lista\n",
    "# map(funcion, objIterable)\n",
    "    # la funcion puede ser un def funcion(){ ... } o un lambda x: condicion\n",
    "    # el map devuelve una lista\n",
    "# ¡OJO! a map se le suele poner un list(map....) porque sino devuelve un iterable\n",
    "\n",
    "# Se pueden combinar filter(map(..))\n",
    "\n",
    "# reduce(funcion con dos parametros, objIterable)\n",
    "    # la funcion puede ser un def funcion(){ ... } o un lambda x: condicion\n",
    "    # El reduce devuelve un resultado unico\n",
    "    # ¡Ojo el import! from functools import reduce"
   ]
  },
  {
   "cell_type": "code",
   "execution_count": 202,
   "id": "6963fd39-9a81-4403-9147-9762fd0f669d",
   "metadata": {},
   "outputs": [
    {
     "name": "stdout",
     "output_type": "stream",
     "text": [
      "2\n",
      "4\n",
      "6\n",
      "8\n",
      "10\n"
     ]
    }
   ],
   "source": [
    "for item in map(mult2, [1,2,3,4,5]):\n",
    "    print(item)"
   ]
  },
  {
   "cell_type": "code",
   "execution_count": 204,
   "id": "fabb670c-d2f1-4d44-b7ed-8c6d3b911738",
   "metadata": {},
   "outputs": [
    {
     "data": {
      "text/plain": [
       "[2, 4, 6, 8, 10]"
      ]
     },
     "execution_count": 204,
     "metadata": {},
     "output_type": "execute_result"
    }
   ],
   "source": [
    "# Ejercicio Diap 140\n",
    "n_list=[1,2,3,4,5,6,7,8,9,10]\n",
    "\n",
    "list(filter(lambda x: x%2 == 0,n_list))"
   ]
  },
  {
   "cell_type": "code",
   "execution_count": 212,
   "id": "b764d5b1-b437-43a1-b223-ed361868c8e6",
   "metadata": {},
   "outputs": [
    {
     "name": "stdout",
     "output_type": "stream",
     "text": [
      "6\n",
      "6\n"
     ]
    }
   ],
   "source": [
    "from functools import reduce\n",
    "\n",
    "print(sum([1,2,3]))\n",
    "print(reduce(lambda x, y: x+y, [1,2,3] ))"
   ]
  },
  {
   "cell_type": "code",
   "execution_count": 214,
   "id": "7f8a4fea-fc52-4bde-9fbb-d3c2d5a5bda8",
   "metadata": {},
   "outputs": [
    {
     "data": {
      "text/plain": [
       "['a', 'b', 'c', 'd']"
      ]
     },
     "execution_count": 214,
     "metadata": {},
     "output_type": "execute_result"
    }
   ],
   "source": [
    "# Ejercicio 141\n",
    "\n",
    "upper_a_list = ['A', 'B', 'C', 'D']\n",
    "list(map(lambda x: x.lower() ,upper_a_list))"
   ]
  },
  {
   "cell_type": "code",
   "execution_count": 217,
   "id": "e80f3ab5-0783-4eb4-86c0-1e47779cf822",
   "metadata": {},
   "outputs": [
    {
     "data": {
      "text/plain": [
       "2550"
      ]
     },
     "execution_count": 217,
     "metadata": {},
     "output_type": "execute_result"
    }
   ],
   "source": [
    "# Ejercio propuesto: Sumar los valores pares entre el rango entre 1 y 100\n",
    "# Utilizando reduce y filter\n",
    "# resultado 2550\n",
    "reduce(lambda x,y: x+y ,filter(lambda x: x%2 == 0 ,range(1,101)))"
   ]
  }
 ],
 "metadata": {
  "kernelspec": {
   "display_name": "Python 3 (ipykernel)",
   "language": "python",
   "name": "python3"
  },
  "language_info": {
   "codemirror_mode": {
    "name": "ipython",
    "version": 3
   },
   "file_extension": ".py",
   "mimetype": "text/x-python",
   "name": "python",
   "nbconvert_exporter": "python",
   "pygments_lexer": "ipython3",
   "version": "3.11.7"
  }
 },
 "nbformat": 4,
 "nbformat_minor": 5
}
