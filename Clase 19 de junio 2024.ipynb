{
 "cells": [
  {
   "cell_type": "code",
   "execution_count": 1,
   "id": "2b4fbd13-f3e3-4738-a75b-214d63cff64e",
   "metadata": {},
   "outputs": [],
   "source": [
    "# Keywords while, random, import command, break, continue, double loop"
   ]
  },
  {
   "cell_type": "code",
   "execution_count": null,
   "id": "47e27e66-bee1-4932-831d-496dd837ae9b",
   "metadata": {},
   "outputs": [],
   "source": [
    "# Creación bucle infinito\n",
    "\n",
    "# i = 0\n",
    "# while i > 0\n",
    "    # print(i)\n",
    "# Es infinito porque siempre se cumple la condición"
   ]
  },
  {
   "cell_type": "code",
   "execution_count": 4,
   "id": "77f3e9f9-4bb4-4a7c-a48c-3f765b37c1f2",
   "metadata": {},
   "outputs": [
    {
     "name": "stdout",
     "output_type": "stream",
     "text": [
      "test\n",
      "test\n",
      "test\n",
      "test\n",
      "test\n"
     ]
    }
   ],
   "source": [
    "# Prueba buble while\n",
    "i = 0\n",
    "\n",
    "while i<5:\n",
    "    i += 1\n",
    "    print(\"test\")"
   ]
  },
  {
   "cell_type": "code",
   "execution_count": 6,
   "id": "a737994c-f194-430d-bbca-9b59ddc6de31",
   "metadata": {},
   "outputs": [
    {
     "name": "stdin",
     "output_type": "stream",
     "text": [
      "Escribe algo: 2\n"
     ]
    },
    {
     "data": {
      "text/plain": [
       "str"
      ]
     },
     "execution_count": 6,
     "metadata": {},
     "output_type": "execute_result"
    }
   ],
   "source": [
    "# ¿De qué tipo es el dato que recoje e input?\n",
    "a = input(\"Escribe algo:\")\n",
    "type(a)"
   ]
  },
  {
   "cell_type": "code",
   "execution_count": 8,
   "id": "46f8252a-5dd8-4e6f-9b4a-9b548a9309d1",
   "metadata": {},
   "outputs": [
    {
     "name": "stdin",
     "output_type": "stream",
     "text": [
      "Escribeme un elemento por saber si está en la lista aa\n",
      "Escribeme un elemento por saber si está en la lista aa\n",
      "Escribeme un elemento por saber si está en la lista rock\n"
     ]
    },
    {
     "name": "stdout",
     "output_type": "stream",
     "text": [
      "rock Está en la lista\n"
     ]
    }
   ],
   "source": [
    "# Introducción a None\n",
    "selected = None\n",
    "\n",
    "while selected not in ['scissors', 'rock', 'paper']:\n",
    "    selected= input(\"Escribeme un elemento por saber si está en la lista\")\n",
    "print(selected, \"Está en la lista\")"
   ]
  },
  {
   "cell_type": "code",
   "execution_count": 11,
   "id": "9ad69029-02b9-4cbf-bf2c-24a9aeea42ee",
   "metadata": {},
   "outputs": [
    {
     "data": {
      "text/plain": [
       "'piedra, papel, tijeras'"
      ]
     },
     "execution_count": 11,
     "metadata": {},
     "output_type": "execute_result"
    }
   ],
   "source": [
    "# Como pasamos de una lista a una cadena  -> [\"piedra\", \"papel\", \"tijeras\"] a \"piedra papel tijeras\"\n",
    "', '.join([\"piedra\", \"papel\",\"tijeras\"])"
   ]
  },
  {
   "cell_type": "code",
   "execution_count": 13,
   "id": "67efae3b-78e3-4168-9203-367ded72eb12",
   "metadata": {},
   "outputs": [
    {
     "name": "stdin",
     "output_type": "stream",
     "text": [
      "Dime un dato que esté en:piedra, papel, tijeras h\n"
     ]
    },
    {
     "name": "stdout",
     "output_type": "stream",
     "text": [
      "Te has equivocado. Te lo vuelvo a pedir\n"
     ]
    },
    {
     "name": "stdin",
     "output_type": "stream",
     "text": [
      "Dime un dato que esté en:piedra, papel, tijeras papel\n"
     ]
    }
   ],
   "source": [
    "# Ejercicio  while: Utilizamos el None\n",
    "\n",
    "cosas_a_pedir= [\"piedra\", \"papel\", \"tijeras\"]\n",
    "eleccion = None\n",
    "\n",
    "while eleccion not in cosas_a_pedir:\n",
    "    eleccion = (input(\"Dime un dato que esté en:\" + ', '.join(cosas_a_pedir))).lower()\n",
    "    if eleccion not in cosas_a_pedir:\n",
    "        print(\"Te has equivocado. Te lo vuelvo a pedir\")     "
   ]
  },
  {
   "cell_type": "code",
   "execution_count": 17,
   "id": "7cd5f275-a936-4ab1-a18f-6ecacd0b6123",
   "metadata": {},
   "outputs": [
    {
     "name": "stdin",
     "output_type": "stream",
     "text": [
      "Escribe piedra, papel o tijeras papel\n"
     ]
    },
    {
     "name": "stdout",
     "output_type": "stream",
     "text": [
      "Has elegido papel\n"
     ]
    }
   ],
   "source": [
    "# Ejercicio while: Hacemos que la primera iteración entre\n",
    "# Repetimos hasta que se cumpla algo -> Es un patrón que se usa en python que se asemeja al do while\n",
    "\n",
    "while True:\n",
    "    eleccion = input(\"Escribe piedra, papel o tijeras\")\n",
    "    if eleccion in [\"piedra\", \"papel\", \"tijeras\"]:\n",
    "        break\n",
    "print(\"Has elegido\", eleccion)"
   ]
  },
  {
   "cell_type": "code",
   "execution_count": null,
   "id": "1b17fe60-00b4-47bb-84e3-15ed116298bb",
   "metadata": {},
   "outputs": [],
   "source": [
    "# Ejercicio while: marcamos a true cuando el valor es correcto\n",
    "\n",
    "valor_correcto = False\n",
    "\n",
    "while not valor_corrector:\n",
    "    eleccion = input(\"Escribe piedra, papel o tijeras\")\n",
    "    if eleccion in [\"piedra\", \"papel\", \"tijeras\"]:\n",
    "        valor_correcto = True\n",
    "print(\"Has elegido\", eleccion)\n",
    "    "
   ]
  },
  {
   "cell_type": "code",
   "execution_count": 3,
   "id": "fd011679-59d2-4c81-a313-48f336f87cbb",
   "metadata": {},
   "outputs": [
    {
     "name": "stdin",
     "output_type": "stream",
     "text": [
      "Dame la nota del examen 20\n"
     ]
    },
    {
     "name": "stdout",
     "output_type": "stream",
     "text": [
      "La nota que has indicado NO es correcta\n"
     ]
    },
    {
     "name": "stdin",
     "output_type": "stream",
     "text": [
      "Dame la nota del examen 1\n"
     ]
    },
    {
     "name": "stdout",
     "output_type": "stream",
     "text": [
      "La nota que has indicado SÍ es correcta\n"
     ]
    }
   ],
   "source": [
    "# Nota al usuario una nota que esté entre 0 y 10\n",
    "\n",
    "nota= -1\n",
    "nota_correcta = False\n",
    "\n",
    "while not nota_correcta :\n",
    "    nota = float(input(\"Dame la nota del examen\"))\n",
    "    nota_correcta = nota >= 0 and nota <=10  # 0 <= nota <= 10\n",
    "    if nota_correcta:\n",
    "        print(\"La nota que has indicado SÍ es correcta\")\n",
    "    else:\n",
    "        print(\"La nota que has indicado NO es correcta\")    "
   ]
  },
  {
   "cell_type": "code",
   "execution_count": 18,
   "id": "86d2b4cb-2caa-4aeb-9259-3becd21133a1",
   "metadata": {},
   "outputs": [
    {
     "name": "stdout",
     "output_type": "stream",
     "text": [
      "Para llegar a un valor 1015 he necesitado sumar 14 cuadrados\n"
     ]
    }
   ],
   "source": [
    "# Sumar cuadrados de los enteros hasta que la suma sea superior a 1000\n",
    "# 1^2 + 2^2 +...\n",
    "\n",
    "contador = 0\n",
    "enteroActual = 0\n",
    "\n",
    "while(contador <= 1000):\n",
    "    contador += enteroActual ** 2\n",
    "    enteroActual += 1\n",
    "\n",
    "print(\"Para llegar a un valor\", contador, \"he necesitado sumar\", enteroActual-1, \"cuadrados\")\n",
    "\n",
    "# Cuidado con poner 5^2 y no 5**2 --> el circunflejo hace una operacion de bits "
   ]
  },
  {
   "cell_type": "code",
   "execution_count": 20,
   "id": "8894aef9-0c5a-4255-8b5b-af627bf22ed7",
   "metadata": {},
   "outputs": [
    {
     "name": "stdout",
     "output_type": "stream",
     "text": [
      "Para llegar a un valor 333833500 he necesitado sumar 1000 cuadrados\n"
     ]
    }
   ],
   "source": [
    "# ESTO ESTARÍA MAL\n",
    "enteros = 0\n",
    "suma = 0\n",
    "\n",
    "for num in list(range(0,1001)):\n",
    "    enteros += 1\n",
    "    suma += num **2\n",
    "print(\"Para llegar a un valor\", suma, \"he necesitado sumar\", enteros-1, \"cuadrados\")\n"
   ]
  },
  {
   "cell_type": "code",
   "execution_count": 38,
   "id": "63585a68-e200-45a9-a30d-63e3248c1a51",
   "metadata": {},
   "outputs": [
    {
     "name": "stdout",
     "output_type": "stream",
     "text": [
      "4\n",
      "2\n",
      "[20, 30, 10]\n"
     ]
    },
    {
     "data": {
      "text/plain": [
       "[10, 20, 30]"
      ]
     },
     "execution_count": 38,
     "metadata": {},
     "output_type": "execute_result"
    }
   ],
   "source": [
    "import random;\n",
    "# Tambien podemos importarlo así: import random as rd\n",
    "\n",
    "# Después del punto podemos acceder a la ayuda con tab + mayus\n",
    "print(random.randint(1,5)) # incluye tanto 1 como 5\n",
    "print(random.randrange(1,5)) # incluye tanto 1 pero no 5\n",
    "\n",
    "seq = [10,20,30]\n",
    "random.shuffle(seq) # Coje una secuencia y la baraja NO DEVUELVE NADA\n",
    "print(seq)\n",
    "\n",
    "random.choice(seq) # Devuelve un item seleccionado de forma random\n",
    "random.choices(seq)\n",
    "\n",
    "random.sample(seq,3)\n"
   ]
  },
  {
   "cell_type": "code",
   "execution_count": 40,
   "id": "7e1c9614-bd10-4c55-b8b3-0f71c8c798fc",
   "metadata": {},
   "outputs": [
    {
     "data": {
      "text/plain": [
       "'Left'"
      ]
     },
     "execution_count": 40,
     "metadata": {},
     "output_type": "execute_result"
    }
   ],
   "source": [
    "# mismo ejer que la diapositiva 281 pero refactorizado\n",
    "computer_choice = random.choice([\"Left\", \"Middle\",\"Right\"])\n",
    "computer_choice"
   ]
  },
  {
   "cell_type": "code",
   "execution_count": 47,
   "id": "2b4f79af-56c2-4443-8e76-02f1777d136d",
   "metadata": {},
   "outputs": [],
   "source": [
    "# El break puede estar dentro de un if o un while.\n",
    "# El break sale del bucle más interno, si está dentro de un if y ese if está dentro de un bucle, saldremos del bucle\n",
    "# Se considera feo, si hay otra alternativa será mejor que utilizar un break"
   ]
  },
  {
   "cell_type": "code",
   "execution_count": 50,
   "id": "b2246299-4502-48e0-b883-a048a50a07fb",
   "metadata": {},
   "outputs": [
    {
     "name": "stdout",
     "output_type": "stream",
     "text": [
      "Tabla de multiplicar del 7\n",
      "0 x 7 = 0\n",
      "1 x 7 = 7\n",
      "2 x 7 = 14\n",
      "3 x 7 = 21\n",
      "4 x 7 = 28\n",
      "5 x 7 = 35\n",
      "6 x 7 = 42\n",
      "7 x 7 = 49\n",
      "8 x 7 = 56\n",
      "9 x 7 = 63\n",
      "10 x 7 = 70\n"
     ]
    }
   ],
   "source": [
    "# Dame la tabla de multiplicar del 7\n",
    "x= 7\n",
    "\n",
    "print(f'Tabla de multiplicar del {x}')\n",
    "for i in range(11):\n",
    "    print(f'{i} x {x} = {i*x}')\n",
    "    # print(f'{i:2} x {x} = {i*x:2}') # este ejemplo tabula a la derecha"
   ]
  },
  {
   "cell_type": "code",
   "execution_count": 54,
   "id": "e17738b5-efae-48e2-81c4-6e5e969750b8",
   "metadata": {},
   "outputs": [
    {
     "name": "stdout",
     "output_type": "stream",
     "text": [
      "Tabla de multiplicar del 7\n",
      " 0 x 7 =  0\n",
      " 1 x 7 =  7\n",
      " 2 x 7 = 14\n",
      " 3 x 7 = 21\n",
      " 4 x 7 = 28\n",
      " 5 x 7 = 35\n",
      " 6 x 7 = 42\n",
      " 7 x 7 = 49\n",
      " 8 x 7 = 56\n",
      " 9 x 7 = 63\n",
      "10 x 7 = 70\n"
     ]
    }
   ],
   "source": [
    "# Dame la tabla de multiplicar del 7 alineada\n",
    "\n",
    "x= 7\n",
    "\n",
    "print(f'Tabla de multiplicar del {x}')\n",
    "for i in range(11):\n",
    "    #print(f'{i} x {x} = {i*x}')\n",
    "    print(f'{i:2} x {x} = {i*x:2}') # este ejemplo tabula a la derecha"
   ]
  },
  {
   "cell_type": "code",
   "execution_count": 53,
   "id": "30ddde71-b0fd-4a24-a56d-96e5fe5689d2",
   "metadata": {},
   "outputs": [
    {
     "name": "stdout",
     "output_type": "stream",
     "text": [
      "Tabla de multiplicar del 7\n",
      "0 x 7 = 0\n",
      "1 x 7 = 7\n",
      "2 x 7 = 14\n",
      "3 x 7 = 21\n",
      "4 x 7 = 28\n",
      "5 x 7 = 35\n",
      "6 x 7 = 42\n",
      "7 x 7 = 49\n",
      "8 x 7 = 56\n",
      "9 x 7 = 63\n",
      "10 x 7 = 70\n",
      "Tabla de multiplicar del 9\n",
      "0 x 9 = 0\n",
      "1 x 9 = 9\n",
      "2 x 9 = 18\n",
      "3 x 9 = 27\n",
      "4 x 9 = 36\n",
      "5 x 9 = 45\n",
      "6 x 9 = 54\n",
      "7 x 9 = 63\n",
      "8 x 9 = 72\n",
      "9 x 9 = 81\n",
      "10 x 9 = 90\n"
     ]
    }
   ],
   "source": [
    "x= 7\n",
    "\n",
    "for i in [7,9]:\n",
    "    x= i\n",
    "    print(f'Tabla de multiplicar del {x}')\n",
    "    for i in range(11):\n",
    "        print(f'{i} x {x} = {i*x}')\n",
    "    # print(f'{i:2} x {x} = {i*x:2}') # este ejemplo tabula a la derecha"
   ]
  },
  {
   "cell_type": "code",
   "execution_count": 56,
   "id": "50270ca2-3bbf-4678-8389-b225674f2b30",
   "metadata": {},
   "outputs": [
    {
     "name": "stdout",
     "output_type": "stream",
     "text": [
      "P\n",
      "r\n",
      "g\n",
      "r\n",
      "m\n",
      "m\n",
      "n\n",
      "g\n",
      "Final\n"
     ]
    }
   ],
   "source": [
    "# Ejemplo con continue: No suele ser común y no es muy recomendable\n",
    "# El continue actua igual que el break, continuamos en e bucle más interno\n",
    "\n",
    "st= \"Programming\"\n",
    "\n",
    "for c in st:\n",
    "    if c in [\"a\",\"e\",\"i\",\"o\",\"u\"]:\n",
    "        continue # no continues con el resto del código sino que itera una vez más\n",
    "    print(c)\n",
    "print(\"Final\")"
   ]
  },
  {
   "cell_type": "code",
   "execution_count": 57,
   "id": "627e4f94-44cb-4fbc-a9e4-25f1ecafb47d",
   "metadata": {},
   "outputs": [
    {
     "name": "stdout",
     "output_type": "stream",
     "text": [
      "hola que tal\n"
     ]
    }
   ],
   "source": [
    "# Recuerda: cada print al final pone por defecto una salto de línea, si queremos sobreescribir esto deberemos definir el end\n",
    "print(\"hola\", end=\" \")\n",
    "print(\"que tal\")"
   ]
  },
  {
   "cell_type": "code",
   "execution_count": 78,
   "id": "5b3a007d-e945-4b10-92a9-dd063841532a",
   "metadata": {},
   "outputs": [
    {
     "name": "stdout",
     "output_type": "stream",
     "text": [
      " 1x1=2,  1x2=3,  1x3=4,  1x4=5,  1x5=6,  1x6=7,  1x7=8,  1x8=9,  1x9=10,  1x10=11, \n",
      " 2x1=3,  2x2=4,  2x3=5,  2x4=6,  2x5=7,  2x6=8,  2x7=9,  2x8=10,  2x9=11,  2x10=12, \n"
     ]
    }
   ],
   "source": [
    "# Doble bucle: tablas de multiplicar del 1 y del 2\n",
    "# Las tablas de multiplicar es coger el número especificado y multiplicarlo [1..10]\n",
    "\n",
    "for i in range(1,3): # filas\n",
    "    for j in range(1,11): # columnas\n",
    "        print(f'{i:2}x{j}={i+j},', end=' ')\n",
    "    print()"
   ]
  },
  {
   "cell_type": "code",
   "execution_count": null,
   "id": "5405356d-d941-4809-859a-b89389bd7e07",
   "metadata": {},
   "outputs": [],
   "source": []
  },
  {
   "cell_type": "code",
   "execution_count": 92,
   "id": "e7e4b77c-1874-480c-8be2-39fe778a6ad2",
   "metadata": {},
   "outputs": [
    {
     "name": "stdin",
     "output_type": "stream",
     "text": [
      "Escribe el password: qw\n"
     ]
    },
    {
     "name": "stdout",
     "output_type": "stream",
     "text": [
      "No puedes entrar, te quedan 4 intentos\n"
     ]
    },
    {
     "name": "stdin",
     "output_type": "stream",
     "text": [
      "Escribe el password: w\n"
     ]
    },
    {
     "name": "stdout",
     "output_type": "stream",
     "text": [
      "No puedes entrar, te quedan 3 intentos\n"
     ]
    },
    {
     "name": "stdin",
     "output_type": "stream",
     "text": [
      "Escribe el password: aeiou\n"
     ]
    },
    {
     "name": "stdout",
     "output_type": "stream",
     "text": [
      "Estas dentro del sistema\n"
     ]
    }
   ],
   "source": [
    "# Si el password coincide, login devolverá True. Sino volveremos a preguntar por el mensaje. Tenemos 5 intentos. \n",
    "\n",
    "passOk = 'aeiou'\n",
    "intentos = 5\n",
    "\n",
    "for i in range(6):\n",
    "    if(intentos > 0): \n",
    "        passAux = input(\"Escribe el password:\")\n",
    "        if passAux == passOk:\n",
    "            print(\"Estas dentro del sistema\")\n",
    "            break\n",
    "        else:\n",
    "            intentos -= 1\n",
    "            print(\"No puedes entrar, te quedan \" + str(intentos) + \" intentos\")\n",
    "    else:\n",
    "        print(\"Has terminado tus intentos\")\n",
    "        break"
   ]
  },
  {
   "cell_type": "code",
   "execution_count": 91,
   "id": "c2f00e2c-82e3-4405-9eba-4719ba15cc1d",
   "metadata": {},
   "outputs": [
    {
     "name": "stdout",
     "output_type": "stream",
     "text": [
      "[0, 1, 2, 3, 4, 5]\n",
      "[0, 1, 2, 3, 4, 5]\n"
     ]
    }
   ],
   "source": [
    "print(list(range(0,6)))\n",
    "print(list(range(6)))"
   ]
  },
  {
   "cell_type": "code",
   "execution_count": 2,
   "id": "48ec16e3-c16b-4da9-a433-6de6a2448374",
   "metadata": {},
   "outputs": [
    {
     "name": "stdin",
     "output_type": "stream",
     "text": [
      "Escribe el password: sds\n"
     ]
    },
    {
     "name": "stdout",
     "output_type": "stream",
     "text": [
      "No puedes entrar, te quedan 4 intentos\n"
     ]
    },
    {
     "name": "stdin",
     "output_type": "stream",
     "text": [
      "Escribe el password: aeiou\n"
     ]
    },
    {
     "name": "stdout",
     "output_type": "stream",
     "text": [
      "Estas dentro del sistema\n"
     ]
    }
   ],
   "source": [
    "# Si el password coincide, login devolverá True. Sino volveremos a preguntar por el mensaje. Tenemos 5 intentos. \n",
    "\n",
    "login = False\n",
    "passOk = \"aeiou\"\n",
    "intentos = 5\n",
    "\n",
    "while not login and intentos > 0:\n",
    "    passAux = input(\"Escribe el password:\")\n",
    "    if(passOk == passAux):\n",
    "        login = True\n",
    "    else:\n",
    "        intentos -= 1\n",
    "        print(\"No puedes entrar, te quedan \" + str(intentos) + \" intentos\")\n",
    "\n",
    "if login:\n",
    "    print(\"Estas dentro del sistema\")\n",
    "else:\n",
    "    print(\"No puedes entrar\")\n",
    "    \n",
    "    "
   ]
  },
  {
   "cell_type": "code",
   "execution_count": 18,
   "id": "a7c91379-6a8e-44ac-9eb9-e168783d54d2",
   "metadata": {},
   "outputs": [
    {
     "name": "stdout",
     "output_type": "stream",
     "text": [
      "<class 'list'>\n",
      "<class 'list'>\n",
      "4\n",
      "[1, 2, 3, 4, 5, 6]\n",
      "[1, 2, 3, 1, 2, 3, 1, 2, 3, 1, 2, 3]\n",
      "None\n",
      "[2, 3, 4, 5, 6, 8]\n",
      "[2, 3, 4, 5, 6, 8]\n",
      "[8, 6, 5, 4, 3, 2]\n",
      "['h', 'o', 'l', 'a']\n"
     ]
    }
   ],
   "source": [
    "# En python podemos crear listas con elementos con diferente tipado\n",
    "lista1 = [1,2,3]\n",
    "lista2 = [\"hola\", 1, True, [\"otra\"]]\n",
    "\n",
    "# El tipo de la lista es 'list'\n",
    "print(type(lista1))\n",
    "print(type(lista2))\n",
    "\n",
    "# El largo de la lista se obtiene con la función len\n",
    "print(len(lista2))\n",
    "\n",
    "# Se pueden concatenar listas con el +\n",
    "print([1,2,3] + [4,5,6])\n",
    "\n",
    "# Puedo ampliar la lista * 4\n",
    "print([1,2,3] * 4)\n",
    "\n",
    "# Podemos ordenar una lista, no se va pintar pero realmente si la vuelvo a pedir estará ordenada\n",
    "cadenaA = [4,5,6,2,3,8]\n",
    "print(cadenaA.sort()) # método \n",
    "print(cadenaA)\n",
    "\n",
    "print(sorted([4,5,6,2,3,8])) # función\n",
    "print(sorted([4,5,6,2,3,8], reverse=True)) # Ordenar la lista al reves\n",
    "\n",
    "# Podemos convertir un string en una lista,\n",
    "# Cualquier cosa que se pueda recorrer se puede convertir en lista\n",
    "print(list(\"hola\"))\n"
   ]
  },
  {
   "cell_type": "code",
   "execution_count": 20,
   "id": "f631a069-0e4e-41bf-8467-994c7198b304",
   "metadata": {},
   "outputs": [
    {
     "name": "stdout",
     "output_type": "stream",
     "text": [
      "[1, 2, 3]\n",
      "[10000000000, 2, 3]\n",
      "[10000000000, 2, 3]\n"
     ]
    }
   ],
   "source": [
    "# las listas son mutables -> SI CAMBIAMOS LA REFERENCIA LA COPIA TMB SE CAMBIARÁ, se mutan los valores\n",
    "a=[1,2,3]\n",
    "b=a\n",
    "\n",
    "print(b)\n",
    "\n",
    "a[0] = 10000000000\n",
    "print(a)\n",
    "print(b)"
   ]
  },
  {
   "cell_type": "code",
   "execution_count": 21,
   "id": "8b4dc1e7-738a-4f37-9a2c-084035c47765",
   "metadata": {},
   "outputs": [
    {
     "name": "stdout",
     "output_type": "stream",
     "text": [
      "True\n",
      "False\n",
      "True\n"
     ]
    }
   ],
   "source": [
    "a = [1,2]\n",
    "b=a\n",
    "c=[1,2]\n",
    "\n",
    "print(a == b) # son iguales, misma longitud y mismos elementos posición a posición\n",
    "print(a is c) # FALSE: no son la misma referencia\n",
    "print (a is b) # TRUE: son la misma referencia"
   ]
  },
  {
   "cell_type": "code",
   "execution_count": 22,
   "id": "eeec7d58-69df-48e8-ae9d-4ef9e1ce4059",
   "metadata": {},
   "outputs": [
    {
     "name": "stdout",
     "output_type": "stream",
     "text": [
      "10\n",
      "5\n"
     ]
    }
   ],
   "source": [
    "# Mutable:  Listas, diccionarios y librerias\n",
    "# InMutable: Números, cadenas y tuplas\n",
    "\n",
    "x=5\n",
    "y=x\n",
    "x+=5\n",
    "\n",
    "print(x)\n",
    "print(y)"
   ]
  },
  {
   "cell_type": "code",
   "execution_count": 27,
   "id": "62f04125-eec2-40d3-b208-509febfcaa26",
   "metadata": {},
   "outputs": [
    {
     "name": "stdout",
     "output_type": "stream",
     "text": [
      "[1, 2, [3, 4], 5, 6]\n"
     ]
    }
   ],
   "source": [
    "# el + concatena listas\n",
    "# append añade un solo elemento a la lista\n",
    "# extend extiende una lista\n",
    "lista1 = [1,2]\n",
    "\n",
    "lista1.append([3,4]) # -> [1,2,[3,4]]\n",
    "lista1.extend([5,6]) # -> [1,2,[3,4],5,6]\n",
    "\n",
    "print(lista1)\n"
   ]
  },
  {
   "cell_type": "code",
   "execution_count": 43,
   "id": "7659aa59-8584-41f9-b66a-4a8b4aef454c",
   "metadata": {},
   "outputs": [
    {
     "name": "stdout",
     "output_type": "stream",
     "text": [
      "[2, 4, 5]\n",
      "[9, 8, 7]\n",
      "[8, 7]\n",
      "[7, 8, 10]\n",
      "[0, 1, 2]\n",
      "[3, 4, 5, 6, 7]\n",
      "[5, 6, 7]\n",
      "[0, 2, 4, 6]\n"
     ]
    }
   ],
   "source": [
    "# Formas de borrar\n",
    "\n",
    "# Usando la instruccion de python\n",
    "lista3= [1,2,4,5]\n",
    "del lista3[0]\n",
    "print(lista3)\n",
    "\n",
    "# Utilizando pop\n",
    "lista6=[9,8,7,6] \n",
    "lista6.pop() #--> Por defecto extraemos el último\n",
    "print(lista6)\n",
    "lista6.pop(0) # --> Extraigo el elemento 0; Decimos extraer porque si pinto esta instruccion me devuelve 9\n",
    "print(lista6)\n",
    "\n",
    "# Utilizando remove\n",
    "lista5= [7,8,9,10]\n",
    "lista5.remove(9) # --> Buscamos el primer 9 en la lista y lo eliminamos; si intentamos borrar un número que no existe da ERROR\n",
    "print(lista5)\n",
    "\n",
    "# Utilizando slice -> No modifica la lista original sino que obtienes una parte crea una copia nueva en memoria\n",
    "# Slice [start : end]; \n",
    "# start está incluido\n",
    "# end no está incluido  (Como en el range)\n",
    "lista7= [0,1,2,3,4,5,6,7]\n",
    "print(lista7[0:3]) #--> [0,1,2]\n",
    "print(lista7[3:])\n",
    "print(lista7[-3:])\n",
    "print(lista7[::2]) # --> Va cogiendo los elementos de 2 en 2\n",
    "\n"
   ]
  },
  {
   "cell_type": "code",
   "execution_count": null,
   "id": "b952205e-3d1b-4306-9461-e9643fcccd6a",
   "metadata": {},
   "outputs": [],
   "source": [
    "# Un objeto se elimina cuando desde ninguna variable se puede acceder a el. El garbage collector se encarga de esto\n",
    "a = [1,2]\n",
    "b = a\n",
    "del a\n",
    "\n",
    "print(b) # b EXISTE! --> La referencia NUNCA MUERE"
   ]
  },
  {
   "cell_type": "code",
   "execution_count": 28,
   "id": "4f3548d5-2e8d-4983-98f9-1f836365a222",
   "metadata": {},
   "outputs": [
    {
     "name": "stdout",
     "output_type": "stream",
     "text": [
      "[2]\n"
     ]
    }
   ],
   "source": [
    "a = [1,2]\n",
    "b = a\n",
    "del a[0]\n",
    "\n",
    "print(b) # b printa [2] --> La referncia siempre esta activa pero nunca muere"
   ]
  },
  {
   "cell_type": "code",
   "execution_count": 46,
   "id": "5c4cef07-ebf4-4ad5-932d-d1308c0052e7",
   "metadata": {},
   "outputs": [
    {
     "name": "stdin",
     "output_type": "stream",
     "text": [
      "Dame una lista separada por comas 1,2,3,4,5,6,7,8,9,10\n"
     ]
    },
    {
     "name": "stdout",
     "output_type": "stream",
     "text": [
      "Hay 5 elementos pares en la lista que has pasado\n",
      "Hay 5 elementos pares en la lista que has pasado\n"
     ]
    }
   ],
   "source": [
    "# Ejercicio: Pedir al usuario una serie de números enteros separados por comas.\n",
    "# Crear una lista con esos números (convertirlos a número)\n",
    "# Decir cuantos son pares y cuantos impares\n",
    "\n",
    "#Para ver si un nº es par basta con ver si el resto de devir entre 2 es 0. Ej: num%2 == 0\n",
    "\n",
    "lista = input(\"Dame una lista separada por comas\").split(',')\n",
    "\n",
    "listaPares = []\n",
    "listaImpares = []\n",
    "\n",
    "for num in lista:\n",
    "    if int(num) % 2 == 0:\n",
    "        listaPares.append(int(num))\n",
    "    else:\n",
    "        listaImpares.append(int(num))\n",
    "\n",
    "print(f'Hay {len(listaPares)} elementos pares en la lista que has pasado')\n",
    "print(f'Hay {len(lista)} elementos pares en la lista que has pasado')"
   ]
  }
 ],
 "metadata": {
  "kernelspec": {
   "display_name": "Python 3 (ipykernel)",
   "language": "python",
   "name": "python3"
  },
  "language_info": {
   "codemirror_mode": {
    "name": "ipython",
    "version": 3
   },
   "file_extension": ".py",
   "mimetype": "text/x-python",
   "name": "python",
   "nbconvert_exporter": "python",
   "pygments_lexer": "ipython3",
   "version": "3.11.7"
  }
 },
 "nbformat": 4,
 "nbformat_minor": 5
}
