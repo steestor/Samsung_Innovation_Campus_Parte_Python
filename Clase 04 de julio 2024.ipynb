{
 "cells": [
  {
   "cell_type": "code",
   "execution_count": 1,
   "id": "712305ca-f4b0-4ae2-8ec0-0427e3293096",
   "metadata": {},
   "outputs": [
    {
     "name": "stdout",
     "output_type": "stream",
     "text": [
      "Help on built-in function print in module builtins:\n",
      "\n",
      "print(*args, sep=' ', end='\\n', file=None, flush=False)\n",
      "    Prints the values to a stream, or to sys.stdout by default.\n",
      "    \n",
      "    sep\n",
      "      string inserted between values, default a space.\n",
      "    end\n",
      "      string appended after the last value, default a newline.\n",
      "    file\n",
      "      a file-like object (stream); defaults to the current sys.stdout.\n",
      "    flush\n",
      "      whether to forcibly flush the stream.\n",
      "\n"
     ]
    }
   ],
   "source": [
    "help(print)"
   ]
  },
  {
   "cell_type": "code",
   "execution_count": null,
   "id": "f126cce1-3148-42f7-ae38-b814acaccc03",
   "metadata": {},
   "outputs": [],
   "source": [
    "# 1,2,3 son parámetros posicionales\n",
    "# sep es de tipo keyword\n",
    "print(1,2,3, sep= ', ')"
   ]
  },
  {
   "cell_type": "code",
   "execution_count": 2,
   "id": "8c920e74-afe2-43a2-973b-c0f305b0bf00",
   "metadata": {},
   "outputs": [],
   "source": [
    "# Recuerda: en las funciones los parámetros son copias. Así que no se sobreescriben al menos los INMUTABLES\n",
    "def f(x):\n",
    "    x = 3\n",
    "    x += 1\n",
    "x=4 \n",
    "f(x)\n",
    "\n",
    "# Recuerda: En este caso el valor de la lista se modifica ya que son MUTABLES\n",
    "def fun(a):\n",
    "    a.append(10)\n",
    "    \n",
    "lista = [1]\n",
    "f(lista)"
   ]
  },
  {
   "cell_type": "code",
   "execution_count": 3,
   "id": "bec6919d-0995-4c02-811d-37b5cf6e203c",
   "metadata": {},
   "outputs": [
    {
     "name": "stdout",
     "output_type": "stream",
     "text": [
      "estoy en f(3)\n",
      "estoy en g(2)\n",
      "estoy en h((6, 4))\n"
     ]
    }
   ],
   "source": [
    "# Si tu le pases a una función argumentos, y esos argumentos son funciones, hasta que las funciones del argumento no se ejecutan\n",
    "# no se llama a la función\n",
    "\n",
    "def f(x):\n",
    "    print(f'estoy en f({x})')\n",
    "    return x*2\n",
    "\n",
    "def g(x):\n",
    "    print(f'estoy en g({x})')\n",
    "    return x*2\n",
    "\n",
    "def h(x,y):  # ------> hasta que no se evaluan las funciones no se ejecuta la función\n",
    "    print(f'estoy en h({x,y})')\n",
    "\n",
    "h(f(3),g(2))\n",
    "    "
   ]
  },
  {
   "cell_type": "code",
   "execution_count": 4,
   "id": "0f9f308e-6e8a-4595-b993-44361866e9f3",
   "metadata": {},
   "outputs": [
    {
     "name": "stdout",
     "output_type": "stream",
     "text": [
      "***\n",
      "***\n",
      "***\n"
     ]
    }
   ],
   "source": [
    "#¡Ojito a la notación!\n",
    "# la _ significa que no te interesa la variable porque no la vas a usar\n",
    "for _ in range(3):\n",
    "    print('***')"
   ]
  },
  {
   "cell_type": "code",
   "execution_count": null,
   "id": "0aafebb2-01e8-413f-884b-ed74acb1c7ab",
   "metadata": {},
   "outputs": [],
   "source": [
    "# A python le mola mas Snake Case --> esto_es_una_prueba"
   ]
  },
  {
   "cell_type": "code",
   "execution_count": 9,
   "id": "248f7138-e3c2-4beb-9006-c4fd1d3e173a",
   "metadata": {},
   "outputs": [
    {
     "name": "stdout",
     "output_type": "stream",
     "text": [
      "2\n",
      "3\n",
      "(4,)\n",
      "\n",
      "a = 2\n",
      "b = 3\n",
      "c = (4,)\n",
      "\n",
      "a = 2\n",
      "b = 3\n",
      "c = (4, 4, 6, 7)\n",
      "d = 'hola'\n"
     ]
    }
   ],
   "source": [
    "# Función con argumentos variables: Puedo añadir todos los argumentos de tipo posicional que yo quiera, todos esos argumentos se los quedará la variable c\n",
    "def f(a,b, *c):\n",
    "    print(f'{a}')\n",
    "    print(f'{b}')\n",
    "    print(f'{c}')\n",
    "f(2,3,4)\n",
    "\n",
    "print()\n",
    "\n",
    "def f(a,b, *c):\n",
    "    print(f'{a = }')\n",
    "    print(f'{b = }')\n",
    "    print(f'{c = }')  # -> tupla\n",
    "f(2,3,4)\n",
    "\n",
    "print()\n",
    "\n",
    "def f(a,b, *c, d): # -> después del arterisco todos los parámetros serán de tipo keyword\n",
    "    print(f'{a = }')\n",
    "    print(f'{b = }')\n",
    "    print(f'{c = }')  # -> tupla\n",
    "    print(f'{d = }')\n",
    "    \n",
    "f(2,3,4,4,6,7,d='hola') # -> después del arterisco todos los parámetros serán de tipo keyword\n",
    "\n"
   ]
  },
  {
   "cell_type": "code",
   "execution_count": 13,
   "id": "00ed32bf-7c85-4af9-acb2-687e4392fde2",
   "metadata": {},
   "outputs": [
    {
     "name": "stdout",
     "output_type": "stream",
     "text": [
      "a = 1\n",
      "b = 3\n",
      "c = ()\n",
      "d = 'hola'\n",
      "None\n",
      "a = 1\n",
      "b = 3\n",
      "c = (4, 5, 6, 7)\n",
      "d = 3\n",
      "None\n"
     ]
    }
   ],
   "source": [
    "# Podemos asignar valores por defecto a los parámetros\n",
    "def fun_test(a,b,*c, d = \"hola\"):\n",
    "    print(f'{a = }')\n",
    "    print(f'{b = }')\n",
    "    print(f'{c = }')\n",
    "    print(f'{d = }')\n",
    "\n",
    "print(fun_test(1,3))\n",
    "print(fun_test(1,3,4,5,6,7, d=3))\n"
   ]
  },
  {
   "cell_type": "code",
   "execution_count": 14,
   "id": "6dd1cdfa-9054-4eac-8d93-f7badce037ff",
   "metadata": {},
   "outputs": [
    {
     "name": "stdout",
     "output_type": "stream",
     "text": [
      "a = 2\n",
      "b = 3\n",
      "a = 7\n",
      "b = 3\n"
     ]
    }
   ],
   "source": [
    "# Podemos llamar a la función con los parámetros desordenadors si los llamamos de tipo keyword\n",
    "def f(a,b):\n",
    "    print(f'{a = }')\n",
    "    print(f'{b = }')\n",
    "f(2,3)\n",
    "\n",
    "f(b=3,a=7)\n"
   ]
  },
  {
   "cell_type": "code",
   "execution_count": 15,
   "id": "5618f6b2-803b-4227-9561-8b9017a03799",
   "metadata": {},
   "outputs": [
    {
     "ename": "SyntaxError",
     "evalue": "non-default argument follows default argument (938300868.py, line 3)",
     "output_type": "error",
     "traceback": [
      "\u001b[1;36m  Cell \u001b[1;32mIn[15], line 3\u001b[1;36m\u001b[0m\n\u001b[1;33m    def divisionn(a=2, b):\u001b[0m\n\u001b[1;37m                       ^\u001b[0m\n\u001b[1;31mSyntaxError\u001b[0m\u001b[1;31m:\u001b[0m non-default argument follows default argument\n"
     ]
    }
   ],
   "source": [
    "# Si tu le da sun valor por defecto a una variable todos los que vengan despues deben ser por defecto\n",
    "# Lo siguiente FALLARÍA\n",
    "def divisionn(a=2, b):\n",
    "    return a/b\n",
    "divisiones(3,4)"
   ]
  },
  {
   "cell_type": "code",
   "execution_count": null,
   "id": "2a40452c-9fcb-4a34-a2a3-6f1d446aaf15",
   "metadata": {},
   "outputs": [],
   "source": [
    "# Primero van los argumentos posicionales y luego las de tipo keywords."
   ]
  },
  {
   "cell_type": "code",
   "execution_count": null,
   "id": "1ac28f20-5d4a-40a8-8cdb-05d3dca975c6",
   "metadata": {},
   "outputs": [],
   "source": [
    "# RESUMEN\n",
    "def nombre_funcion(argumentos_position_only, /, como_me_de_la_gana, *, keyword_only)\n",
    "def nombre_funcion(como_me_de_la_gana, *, keyword_only)\n",
    "def nombre_funcion(argumentos_position_only, /, como_me_de_la_gana)\n",
    "def nombre_funcion(*, keyword_only)\n"
   ]
  },
  {
   "cell_type": "code",
   "execution_count": 17,
   "id": "ffce72b1-896d-4609-bf0c-93cddd214b20",
   "metadata": {},
   "outputs": [
    {
     "name": "stdout",
     "output_type": "stream",
     "text": [
      "a = 2\n",
      "b = {'color': 'white', 'altura': 2}\n"
     ]
    }
   ],
   "source": [
    "# El doble arterisco es para que todos los argumentos que le pase sean de tipo objeto\n",
    "def f(a,**b):\n",
    "    print(f'{a = }')\n",
    "    print(f'{b = }')\n",
    "    \n",
    "f(2, color='white', altura=2)"
   ]
  },
  {
   "cell_type": "code",
   "execution_count": 30,
   "id": "c1ecb6cb-402b-4078-81d1-5aa95856b1fb",
   "metadata": {},
   "outputs": [
    {
     "name": "stdout",
     "output_type": "stream",
     "text": [
      "+++++\n",
      "+...+\n",
      "+++++\n",
      "None\n"
     ]
    }
   ],
   "source": [
    "# EJERCICIOS\n",
    "# Crear una funcion rectangle que recibe:\n",
    "#  -\n",
    "#  -\n",
    "#  -\n",
    "#  -\n",
    "\n",
    "# rectangle(3)\n",
    "# ***\n",
    "# * *\n",
    "# ***\n",
    "\n",
    "def rectangle(alto, ancho=None, border='*', fill= ''):\n",
    "    if ancho is None:\n",
    "        ancho= alto\n",
    "    print(border*ancho)\n",
    "    for _ in range(alto-2):\n",
    "        if ancho==1:\n",
    "            print(border)\n",
    "        else:\n",
    "            print(f'{border}{fill*(ancho-2)}{border}')\n",
    "    print(border*ancho)\n",
    "\n",
    "print(rectangle(3,5,border='+', fill='.'))"
   ]
  },
  {
   "cell_type": "code",
   "execution_count": 26,
   "id": "e0bf2c59-80e7-4132-b9ec-8ec307cf0698",
   "metadata": {},
   "outputs": [
    {
     "name": "stdout",
     "output_type": "stream",
     "text": [
      "+++++\n",
      "+...+\n",
      "+++++\n"
     ]
    }
   ],
   "source": []
  },
  {
   "cell_type": "code",
   "execution_count": 33,
   "id": "bcc3181c-287d-4fe0-abfc-48def9d7c83a",
   "metadata": {},
   "outputs": [
    {
     "name": "stdout",
     "output_type": "stream",
     "text": [
      "[1, 2, 3]\n",
      "[1, 2, 3, 'ostraaas']\n"
     ]
    }
   ],
   "source": [
    "# Cosa curiosa: ES UN PELIGRO USAR COMO VALOR POR DEFECTO ALGO MUTABLE\n",
    "def f(a=[1,2,3]):\n",
    "    print(a)\n",
    "    return a\n",
    "\n",
    "b = f()\n",
    "\n",
    "b.append(\"ostraaas\")\n",
    "\n",
    "print(b)"
   ]
  },
  {
   "cell_type": "code",
   "execution_count": 49,
   "id": "7e923934-4862-48dd-9565-2d66df4ce20a",
   "metadata": {},
   "outputs": [
    {
     "name": "stdout",
     "output_type": "stream",
     "text": [
      "[1, 2, 3, 4]\n",
      "[1, 2, 3, 4, 5]\n",
      "[3, 4, 5, 3, 4, 5]\n",
      "[3, 4, 5, 3, 4, 5]\n",
      "\n",
      "[1, 2, 3, 4]\n",
      "[1, 2, 3, 4, 5]\n",
      "[3, 4, 5, 3, 4, 5]\n",
      "[3, 4, 5, 3, 4, 5]\n"
     ]
    }
   ],
   "source": [
    "# EJERCICIO:\n",
    "# haz una función que reciba dos listas y devuelva una lista nueva con el resultado\n",
    "# Si una de las listas está vacía el valor por defecto sera la lista ['hola']\n",
    "\n",
    "# En este caso los valores por defecto nunca podrán ser accesibles por nadie desde fuera de la función porque no las devolvemos \n",
    "# la mejor manera de hacerlo es a + b para concatenar cadenas\n",
    "# 1) Los valores por defecto no se altera (extend, append..)\n",
    "def funcion_listas(a = [3,4,5], b=[3,4,5]):\n",
    "    aux = a.copy()\n",
    "    aux2 = b.copy()\n",
    "    aux.extend(aux2)\n",
    "    print(aux)\n",
    "\n",
    "funcion_listas([1,2],[3,4])\n",
    "funcion_listas([1,2])\n",
    "funcion_listas()\n",
    "funcion_listas()\n",
    "\n",
    "print()\n",
    "\n",
    "# Al final vale la pena que si hay que pasar valores por defecto de tipo lista se opte por una solución de este estilo:\n",
    "def funcion_listas(a = None, b=None):\n",
    "    if a is None:\n",
    "        a = [3,4,5]\n",
    "    if b is None:\n",
    "        b = [3,4,5]\n",
    "    return print(a + b)\n",
    "    \n",
    "funcion_listas([1,2],[3,4])\n",
    "funcion_listas([1,2])\n",
    "funcion_listas()\n",
    "funcion_listas()"
   ]
  },
  {
   "cell_type": "code",
   "execution_count": 69,
   "id": "0de218b8-dc62-4c57-a3e0-14dfde449523",
   "metadata": {},
   "outputs": [
    {
     "name": "stdout",
     "output_type": "stream",
     "text": [
      "d: 10.0\n",
      "t: 2.0\n",
      "v: 5.0\n",
      "No hay suficientes argumentos\n"
     ]
    }
   ],
   "source": [
    "# Haz una función llamada resolver que le pasas 3 parametros distancia, velocidad y tiempo..\n",
    "# distancia = velocidad * tiempo\n",
    "\n",
    "def resolver(d= None, v=None, t=None):\n",
    "    if d != None and v != None and t != None:\n",
    "        return v*t == d\n",
    "    elif d == None:\n",
    "        if v == None and t != None or v != None and t == None:\n",
    "            print(\"No hay suficientes argumentos\")\n",
    "        else:\n",
    "            print(f'd: {v*t}')\n",
    "    elif t == None:\n",
    "        if v == None and d != None or v != None and d == None:\n",
    "            print(\"No hay suficientes argumentos\")\n",
    "        else:\n",
    "            print(f't: {d/v}')\n",
    "    elif v == None:\n",
    "        if t == None and d != None or t != None and d == None:\n",
    "            print(\"No hay suficientes argumentos\")\n",
    "        else:\n",
    "            print(f'v: {d/t}')\n",
    "        \n",
    "\n",
    "resolver(d=10.0, v=5.0, t=2.0)\n",
    "resolver(d=10.0, v=15.0, t=2.0)\n",
    "resolver(v=5.0, t=2.0)\n",
    "resolver(d=10.0, v=5.0)\n",
    "resolver(d=10.0, t=2.0)\n",
    "resolver(d=10.0)"
   ]
  },
  {
   "cell_type": "code",
   "execution_count": 70,
   "id": "ddc8281d-17ab-487b-b146-efe626b69f77",
   "metadata": {},
   "outputs": [
    {
     "name": "stdout",
     "output_type": "stream",
     "text": [
      "dato1: 3, dato2: 4\n",
      "dato1: radio, dato2: altura\n"
     ]
    }
   ],
   "source": [
    "# Si queremos desempaquetar los valores de la lista para pasarlo como argumentos de una funcion\n",
    "def volumen_cilindro(dato1, dato2):\n",
    "    print(f'dato1: {dato1}, dato2: {dato2}')\n",
    "\n",
    "lista=[3,4]\n",
    "volumen_cilindro(*lista)  # --> es equivalente a lista[0] lista[1\n",
    "\n",
    "diccionario = {'radio': 2.5, 'altura': 10}\n",
    "volumen_cilindro(*diccionario)"
   ]
  },
  {
   "cell_type": "code",
   "execution_count": 74,
   "id": "b9e1bd51-0ab1-4524-8dfa-c44f1b7ff85d",
   "metadata": {},
   "outputs": [
    {
     "name": "stdout",
     "output_type": "stream",
     "text": [
      "10 degrees Celsius = 50.0 degrees Fahrenheit\n",
      "20 degrees Celsius = 68.0 degrees Fahrenheit\n",
      "30 degrees Celsius = 86.0 degrees Fahrenheit\n",
      "40 degrees Celsius = 104.0 degrees Fahrenheit\n",
      "50 degrees Celsius = 122.0 degrees Fahrenheit\n"
     ]
    }
   ],
   "source": [
    "# Ejercicio diapositiva \n",
    "\n",
    "def cel2fah(cel):\n",
    "    return cel * 9/5 +32\n",
    "\n",
    "    \n",
    "for num in range(10,60, 10):\n",
    "    print(f'{num} degrees Celsius = {cel2fah(num)} degrees Fahrenheit')"
   ]
  },
  {
   "cell_type": "code",
   "execution_count": 81,
   "id": "fbfca6a7-e6b0-4e3a-8b6a-eb766f7545da",
   "metadata": {},
   "outputs": [
    {
     "name": "stdout",
     "output_type": "stream",
     "text": [
      "['estupendamente', 'COMPLETAMENTE', 'Completamente', 'CoMpLeTaMeNtE']\n"
     ]
    }
   ],
   "source": [
    "# Escribe una función que recibe texto y extrae todos los adverbios terminados en -mente\n",
    "\n",
    "def adverbios(frase):\n",
    "    frase_aux = frase\n",
    "    lista_palabras = frase_aux.lower().split()\n",
    "    lista_result = []\n",
    "    for index,palabra in enumerate(lista_palabras):\n",
    "        if palabra.endswith(\"mente\") and palabra != 'mente':\n",
    "            lista_result.append(frase.split()[index])\n",
    "    return lista_result    \n",
    "\n",
    "print(adverbios(\"la mente está estupendamente estoy COMPLETAMENTE Completamente seguro CoMpLeTaMeNtE\"))"
   ]
  },
  {
   "cell_type": "code",
   "execution_count": null,
   "id": "18980a4b-fcf5-49f3-bd37-74f5461c8ec2",
   "metadata": {},
   "outputs": [],
   "source": [
    "def son_anagramas(fraseA, fraseB):\n",
    "    \"devuelve True si una frase es anagrama de la otra\"\n",
    "    \n",
    "    "
   ]
  }
 ],
 "metadata": {
  "kernelspec": {
   "display_name": "Python 3 (ipykernel)",
   "language": "python",
   "name": "python3"
  },
  "language_info": {
   "codemirror_mode": {
    "name": "ipython",
    "version": 3
   },
   "file_extension": ".py",
   "mimetype": "text/x-python",
   "name": "python",
   "nbconvert_exporter": "python",
   "pygments_lexer": "ipython3",
   "version": "3.11.7"
  }
 },
 "nbformat": 4,
 "nbformat_minor": 5
}
