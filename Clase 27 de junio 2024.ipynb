{
 "cells": [
  {
   "cell_type": "markdown",
   "id": "90f084a3-d86c-47e3-a3c6-0292cfd8938c",
   "metadata": {
    "jp-MarkdownHeadingCollapsed": true
   },
   "source": [
    "### 5. Total Sales of Product\n",
    "\n",
    "Given a table of sells as below. The first row lists the names of products, and each of row after that lists the sales of the product for each day (over some time range).\n",
    "\n",
    "```python\n",
    "[\n",
    "  [\"A\", \"B\", \"C\"],\n",
    "  [ 2 ,  7 ,  1 ],\n",
    "  [ 3 ,  6 ,  6 ],\n",
    "  [ 4 ,  5 ,  5 ]\n",
    "]\n",
    "```\n",
    "\n",
    "Write a function that receives:\n",
    "\n",
    "- A sales table sales_table as shown above.\n",
    "- The name of a product product.\n",
    "\n",
    "and returns the total sales if the product is on the list, otherwise return the string \"Product not found\".\n",
    "\n",
    "Examples\n",
    "\n",
    "```python\n",
    "total_sales([\n",
    "  [\"A\", \"B\", \"C\"],\n",
    "  [ 2 ,  7 ,  1 ],\n",
    "  [ 3 ,  6 ,  6 ],\n",
    "  [ 4 ,  5 ,  5 ]\n",
    "], \"A\") ➞ 9 # 2 + 3 + 4 = 9\n",
    "\n",
    "total_sales([\n",
    "  [\"A\", \"B\", \"C\"],\n",
    "  [ 2 ,  7 ,  1 ],\n",
    "  [ 3 ,  6 ,  6 ],\n",
    "  [ 4 ,  5 ,  5 ]\n",
    "], \"C\") ➞ 12 # 1 + 6 + 5 = 12\n",
    "\n",
    "total_sales([\n",
    "  [\"A\", \"B\", \"C\"],\n",
    "  [ 2 ,  7 ,  1 ],\n",
    "  [ 3 ,  6 ,  6 ],\n",
    "  [ 4 ,  5 ,  5 ]\n",
    "], \"D\") ➞ None # Since the producto was not found\n",
    "```"
   ]
  },
  {
   "cell_type": "code",
   "execution_count": 18,
   "id": "9b70d7e5-dcb0-49b1-b1ef-eeb4e6f65635",
   "metadata": {},
   "outputs": [
    {
     "name": "stdout",
     "output_type": "stream",
     "text": [
      "Sumatorio final es:  9\n",
      "Sumatorio final es:  18\n",
      "Sumatorio final es:  12\n",
      "Producto no encontrado\n"
     ]
    }
   ],
   "source": [
    "sales= [\n",
    "  [\"A\", \"B\", \"C\"],\n",
    "  [ 2 ,  7 ,  1 ],\n",
    "  [ 3 ,  6 ,  6 ],\n",
    "  [ 4 ,  5 ,  5 ]\n",
    "]\n",
    "\n",
    "def total_sales(sales , product):\n",
    "    index = None\n",
    "    sumatorio = 0\n",
    "    \n",
    "    for i,item in enumerate(sales[0]):\n",
    "        if item == product:\n",
    "            index = i\n",
    "    # Otra forma de encontrar el indice donde se encuentra algo -> sales[0].index(product)\n",
    "\n",
    "    if index != None:\n",
    "        for i, item in enumerate(sales):\n",
    "            for j, item2 in enumerate(item):\n",
    "                if(j == index and i != 0):\n",
    "                    sumatorio += int(item2)\n",
    "        print(f'Sumatorio final es: ', sumatorio)\n",
    "    else:\n",
    "        print(\"Producto no encontrado\")\n",
    "\n",
    "total_sales(sales, 'A')\n",
    "total_sales(sales, 'B')\n",
    "total_sales(sales, 'C')\n",
    "total_sales(sales, 'D')\n",
    "\n",
    "#Curiosidad para poder recorrer:\n",
    "# sales[1:] -> con eso puedo recorrer todas las filas de sales exceptuando la primera"
   ]
  },
  {
   "cell_type": "code",
   "execution_count": null,
   "id": "98550b02-16d7-42b0-9c2e-5f184f1862ae",
   "metadata": {},
   "outputs": [],
   "source": [
    "# Forma facil de resolverlo: Revisar fichero del profe"
   ]
  },
  {
   "cell_type": "code",
   "execution_count": 20,
   "id": "4ca0a805-e90c-47b3-9161-96cc40349e47",
   "metadata": {},
   "outputs": [
    {
     "name": "stdout",
     "output_type": "stream",
     "text": [
      "True\n",
      "False\n"
     ]
    }
   ],
   "source": [
    "# Como sales si es una lista\n",
    "print(isinstance(sales, list))\n",
    "print(isinstance(sales, str))"
   ]
  },
  {
   "cell_type": "code",
   "execution_count": 30,
   "id": "fcdda8d9-8c18-46d4-884a-24720e9fcc8f",
   "metadata": {},
   "outputs": [],
   "source": [
    "def is_matrix(obj):\n",
    "    \"\"\"\n",
    "    devuelve True si el objeto es una lista\n",
    "    esta lista únicamente contiene listas\n",
    "    y todas las listas tienen la misma longitud\n",
    "    \"\"\"\n",
    "    if not isinstance(obj, list):\n",
    "        return False\n",
    "    else:\n",
    "        for elem in obj:\n",
    "            if not isinstance(elem, list) or len(elem) != len(elem) != len(obj[0]):\n",
    "                return False\n",
    "\n",
    "is_matrix(sales)"
   ]
  },
  {
   "cell_type": "code",
   "execution_count": null,
   "id": "8e9c4dbb-e26f-427c-a773-ba91dc4bf313",
   "metadata": {},
   "outputs": [],
   "source": [
    "# RECUERDO: la función all le pasas una lista y te devuelve si todos los elementos son ciertos\n",
    "def is_matrix(objeto):\n",
    "    return (isinstance(objeto,list)) and all((isinstance(elem,list) and len(elem) == len(objeto[0]))\n",
    "                                             for elem in objeto))"
   ]
  },
  {
   "cell_type": "code",
   "execution_count": 32,
   "id": "2bbf16b8-1ea7-4b1e-961a-cb90373da1ca",
   "metadata": {},
   "outputs": [
    {
     "name": "stdout",
     "output_type": "stream",
     "text": [
      "Ejecuto la función\n",
      "Ejecuto la función\n"
     ]
    }
   ],
   "source": [
    "# CURIOSIDADES: Evaluación perezosa\n",
    "def f():\n",
    "    print(\"Ejecuto la función\")\n",
    "\n",
    "# True or f() <- no ejecuta f\n",
    "# False and f() <- no ejecuta f\n",
    "True and f() # <- sí que ejecuta\n",
    "False or f() # <- sí que ejecuta"
   ]
  },
  {
   "cell_type": "code",
   "execution_count": null,
   "id": "4a955b33-9cb4-4540-b1a1-3133be692a6b",
   "metadata": {},
   "outputs": [],
   "source": [
    "### 3. Rotate the List by One\n",
    "\n",
    "Given a list, rotate the values clockwise by one (the last value is sent to the first position).\n",
    "\n",
    "Check the examples for a better understanding.\n",
    "\n",
    "```python\n",
    "rotate_by_one([1, 2, 3, 4, 5]) ➞ [5, 1, 2, 3, 4]\n",
    "\n",
    "rotate_by_one([6, 5, 8, 9, 7]) ➞ [7, 6, 5, 8, 9]\n",
    "\n",
    "rotate_by_one([20, 15, 26, 8, 4]) ➞ [4, 20, 15, 26, 8]\n",
    "```"
   ]
  },
  {
   "cell_type": "code",
   "execution_count": 43,
   "id": "4ff2a3a0-ae33-488d-855f-5be0d80f9317",
   "metadata": {},
   "outputs": [
    {
     "name": "stdout",
     "output_type": "stream",
     "text": [
      "[5, 1, 2, 3, 4]\n"
     ]
    }
   ],
   "source": [
    "def rotate_by_one(lista):\n",
    "    newList = []\n",
    "    copyList = lista.copy()\n",
    "    lastItem = copyList.pop()\n",
    "    newList.append(lastItem) # copia.insert(0, ultimo)\n",
    "    newList += copyList\n",
    "    print(newList)\n",
    "    \n",
    "rotate_by_one([1, 2, 3, 4, 5])"
   ]
  },
  {
   "cell_type": "code",
   "execution_count": null,
   "id": "306a7caf-ffef-4c30-bd7b-3cc9f10d5552",
   "metadata": {},
   "outputs": [],
   "source": [
    "def rotate_by_one(lista)\n",
    "    return lista[-1:] + lista[:-1]  # devuelve el último + devuelve todos menos el último "
   ]
  },
  {
   "cell_type": "code",
   "execution_count": 61,
   "id": "744b43dd-30e8-4bae-a5af-82e2151e7383",
   "metadata": {},
   "outputs": [
    {
     "name": "stdout",
     "output_type": "stream",
     "text": [
      "[2, 3, 4, 1]\n"
     ]
    }
   ],
   "source": [
    "def rotate_left(lista):\n",
    "    # [1,2,3,4] -> daría [2,3,4,1]\n",
    "    firtsItem = lista[0]\n",
    "    auxList = []\n",
    "    auxList.append(firtsItem)\n",
    "    newList = lista[1:]\n",
    "    return newList +auxList\n",
    "\n",
    "print(rotate_left([1,2,3,4]))"
   ]
  },
  {
   "cell_type": "code",
   "execution_count": 63,
   "id": "4c38c8f3-07cc-421a-96ab-be4ac071e00a",
   "metadata": {},
   "outputs": [
    {
     "name": "stdout",
     "output_type": "stream",
     "text": [
      "[2, 3, 4, 1]\n"
     ]
    }
   ],
   "source": [
    "#Solución del profe\n",
    "def rotate_left(lista):\n",
    "    return lista[1:] + lista[:1]\n",
    "\n",
    "print(rotate_left([1,2,3,4]))"
   ]
  },
  {
   "cell_type": "code",
   "execution_count": null,
   "id": "cf39ea8f-44ab-45ab-a2f9-1cf579d643a0",
   "metadata": {},
   "outputs": [],
   "source": [
    "# Teoría de conjuntos\n",
    "a = {1,2,3,4}\n",
    "b =  {3,4,5,6}\n",
    "\n",
    "print(\"unión\", a | b) \n",
    "print(\"Intersección\", a & b)\n",
    "print(\"A menos B\", a - b)\n",
    "print(\"Diferencia simétrica\", a ^ b)"
   ]
  },
  {
   "cell_type": "code",
   "execution_count": null,
   "id": "4a1fcd78-4de1-4c35-9006-157eee2c7305",
   "metadata": {},
   "outputs": [],
   "source": [
    "### 2. Total Number of Not in Common Characters\n",
    "\n",
    "Given two strings, create a function that returns the total number of \n",
    "characters that not appear in both strings.\n",
    "\n",
    "```python\n",
    "count_not_in_common(\"apple\", \"play\") ➞ 2\n",
    "# 'e' and 'y'\n",
    "\n",
    "count_not_in_common(\"light\", \"flight\") ➞ 1\n",
    "\n",
    "count_not_in_common(\"yaw\", \"way\") ➞ 0\n",
    "```"
   ]
  },
  {
   "cell_type": "code",
   "execution_count": 70,
   "id": "398524c0-bf79-4499-8a3a-dffd37446ab5",
   "metadata": {},
   "outputs": [
    {
     "name": "stdout",
     "output_type": "stream",
     "text": [
      "2\n",
      "{'e', 'y'}\n",
      "{'e'}\n",
      "{'y'}\n"
     ]
    }
   ],
   "source": [
    "def count_not_in_common(string1, string2):\n",
    "    cjt1 = set(string1)\n",
    "    cjt2 = set(string2)\n",
    "    \n",
    "    print(len((cjt1 ^ cjt2)))\n",
    "\n",
    "    print(cjt1 ^ cjt2)\n",
    "    print(cjt1 -cjt2)\n",
    "    print(cjt2- cjt1)\n",
    "    \n",
    "    \n",
    "\n",
    "\n",
    "count_not_in_common(\"apple\", \"play\")\n",
    "#count_not_in_common(\"light\", \"flight\")\n",
    "#count_not_in_common(\"yaw\", \"way\")"
   ]
  },
  {
   "cell_type": "code",
   "execution_count": null,
   "id": "79bc22c9-8cd4-4840-93b2-b903fcf6bb23",
   "metadata": {},
   "outputs": [],
   "source": []
  },
  {
   "cell_type": "code",
   "execution_count": null,
   "id": "f71060d9-deeb-4b29-bb3d-1f546a6f31aa",
   "metadata": {},
   "outputs": [],
   "source": [
    "### 8. Count the Letters and Digits\n",
    "\n",
    "Write a function that takes a string and calculates the number of letters and digits within it. Return the result in a dictionary.\n",
    "\n",
    "Examples\n",
    "\n",
    "```python\n",
    "count_all(\"Hello World\") ➞ { \"LETTERS\":  10, \"DIGITS\": 0 }\n",
    "\n",
    "count_all(\"H3ll0 Wor1d\") ➞ { \"LETTERS\":  7, \"DIGITS\": 3 }\n",
    "\n",
    "count_all(\"149990\") ➞ { \"LETTERS\": 0, \"DIGITS\": 6 }\n",
    "```"
   ]
  },
  {
   "cell_type": "code",
   "execution_count": 81,
   "id": "3270074e-355a-4ecf-a02e-a0d8d156770c",
   "metadata": {},
   "outputs": [],
   "source": [
    "diccionario = {\n",
    "    \"LETTERS\": 0,\n",
    "    \"DIGITS\": 0\n",
    "}\n",
    "\n",
    "def count_all(cadena):\n",
    "    for letra in cadena:\n",
    "        if letra.isnumeric():\n",
    "            diccionario[\"DIGITS\"] += 1\n",
    "        elif letra.isalpha():\n",
    "            diccionario[\"LETTERS\"] += 1\n",
    "    return diccionario\n",
    "\n"
   ]
  },
  {
   "cell_type": "code",
   "execution_count": 82,
   "id": "988ab611-5968-4f05-abf3-319a8f4536fa",
   "metadata": {},
   "outputs": [
    {
     "data": {
      "text/plain": [
       "{'LETTERS': 10, 'DIGITS': 0}"
      ]
     },
     "execution_count": 82,
     "metadata": {},
     "output_type": "execute_result"
    }
   ],
   "source": [
    "count_all(\"Hello World\") #➞ { \"LETTERS\":  10, \"DIGITS\": 0 }"
   ]
  },
  {
   "cell_type": "code",
   "execution_count": null,
   "id": "a3223a4d-478a-4282-a38c-c9eff18578aa",
   "metadata": {},
   "outputs": [],
   "source": [
    "str.find"
   ]
  },
  {
   "cell_type": "markdown",
   "id": "2ebb1833-c970-488c-91f9-29e8a7627f01",
   "metadata": {},
   "source": [
    "### 7. Letter Occurrences Per Word\n",
    "\n",
    "Create a function that takes in a sentence and a character to find. Return a dictionary of each word in the sentence, with the number of the specified character as the value.\n",
    "\n",
    "Examples\n",
    "\n",
    "```python\n",
    "find_occurrences(\"Hello World\", \"o\") ➞ {\n",
    "  \"hello\" : 1,\n",
    "  \"world\" : 1\n",
    "}\n",
    "\n",
    "find_occurrences(\"Create a nice JUICY function\", \"c\") ➞  {\n",
    "  \"create\" : 1,\n",
    "  \"a\" : 0,\n",
    "  \"nice\" : 1,\n",
    "  \"juicy\" : 1,\n",
    "  \"function\" : 1\n",
    "}\n",
    "\n",
    "find_occurrences(\"An APPLE a day keeps an Archeologist AWAY...\", \"A\") ➞ {\n",
    "  \"an\" : 1,\n",
    "  \"apple\" : 1,\n",
    "  \"a\" : 1,\n",
    "  \"day\" : 1,\n",
    "  \"keeps\" : 0,\n",
    "  \"archeologist\" : 1,\n",
    "  \"away...\" : 2\n",
    "}\n",
    "```"
   ]
  },
  {
   "cell_type": "code",
   "execution_count": 98,
   "id": "98643ef0-8b96-441d-b4a3-383a5373bb5b",
   "metadata": {},
   "outputs": [
    {
     "name": "stdout",
     "output_type": "stream",
     "text": [
      "{'hello': 1, 'world': 1}\n",
      "{'create': 1, 'a': 0, 'nice': 1, 'juicy': 1, 'function': 1}\n",
      "{'an': 2, 'apple': 1, 'a': 1, 'day': 1, 'keeps': 0, 'archeologist': 1, 'away...': 2}\n"
     ]
    }
   ],
   "source": [
    "def find_occurrences(frase, letter): # todos los argumentos de una función son copias nuevas sin referencias\n",
    "    diccionario = {}\n",
    "    frase = frase.lower()\n",
    "    letter = letter.lower()\n",
    "    for palabra in frase.split():\n",
    "        if palabra not in diccionario:\n",
    "            diccionario[palabra] = 0        \n",
    "            \n",
    "        for caracter in palabra:\n",
    "                if caracter == letter:\n",
    "                    diccionario[palabra] +=1\n",
    "    return diccionario\n",
    "\n",
    "# for palabra in frase.split()\n",
    "#    diccioanrio[palabra] = palabra.count(letter)\n",
    "\n",
    "print(find_occurrences(\"Hello World\", \"o\")) #➞ { \"hello\" : 1, \"world\" : 1}\n",
    "print(find_occurrences(\"Create a nice JUICY function\", \"c\"))\n",
    "print(find_occurrences(\"An APPLE a day keeps an Archeologist AWAY...\", \"A\"))"
   ]
  },
  {
   "cell_type": "code",
   "execution_count": 118,
   "id": "c82975c4-9852-4391-96e4-93d01519c4ce",
   "metadata": {},
   "outputs": [],
   "source": [
    "# Ejercicio en clase\n",
    "# hacer una función llamada grep que recibe:\n",
    "# nombre de un fichero para leer\n",
    "# una palabra para buscar\n",
    "# nombre de un fichero para escribir\n",
    "\n",
    "# Desde escribier en el 2º fichero todas las líneas del primero que tenga la palabra a buscar\n",
    "\n",
    "# Ejemplo:\n",
    "# esto es una frase\n",
    "# otra frase\n",
    "# es\n",
    "# una\n",
    "# hola mundo\n",
    "\n",
    "# y ejecuto:\n",
    "# grep('frases.txt', 'frase', 'resultado.txt')\n",
    "# en el fichero resultado estará:\n",
    "# esto es una frase \n",
    "# otra frase\n",
    "\n",
    "def grep(nombreFicheroR, palabra, nombreFicheroW):\n",
    "    ficheroR = open(nombreFicheroR)\n",
    "    ficheroW = open(nombreFicheroW, mode='w')\n",
    "\n",
    "    for frase in ficheroR:\n",
    "        if palabra in frase:\n",
    "            ficheroW.write(frase)\n",
    "    \n",
    "    ficheroR.close()\n",
    "    ficheroW.close()\n",
    "\n",
    "grep('frases.txt', 'frase', 'resultado.txt')"
   ]
  },
  {
   "cell_type": "code",
   "execution_count": 124,
   "id": "b826334b-5b68-42a7-ab47-986e4e2a1f50",
   "metadata": {},
   "outputs": [],
   "source": [
    "# Otra forma de hacer lo mismo con open with\n",
    "# es mas seguro utilizar with ya que este siempre cierra los ficheros\n",
    "# en el otro caso si diese un error en el bucle se quedarían por cerrar\n",
    "def grep(nombreFicheroR, palabra, nombreFicheroW):\n",
    "    with( open(nombreFicheroR) as ficheroR,  \n",
    "          open(nombreFicheroW, mode='w') as ficheroW):\n",
    "                for frase in ficheroR:\n",
    "                    if palabra in frase:\n",
    "                        ficheroW.write(frase)\n",
    "\n",
    "grep('frases.txt', 'frase', 'resultado.txt')"
   ]
  },
  {
   "cell_type": "code",
   "execution_count": null,
   "id": "9a01a9ce-ab2e-4cdf-a53a-e1d1b1ca00fa",
   "metadata": {},
   "outputs": [],
   "source": [
    "# RESUMEN:\n",
    "# Hay dos formas de abrir ficheros:\n",
    "\n",
    "# 1ª FORMA:\n",
    "#    f = open('nombreFichero', mode='w')\n",
    "#    ...\n",
    "#    f.close()\n",
    "\n",
    "# 2ª FORMA:\n",
    "#   with open('nombreFichero', mode='w') as f:\n",
    "#       ...\n",
    "# "
   ]
  },
  {
   "cell_type": "code",
   "execution_count": 126,
   "id": "a39704be-a663-4f4f-b85a-b5e4899bfe3d",
   "metadata": {},
   "outputs": [
    {
     "name": "stdin",
     "output_type": "stream",
     "text": [
      "Escribeme un número: hola\n"
     ]
    },
    {
     "name": "stdout",
     "output_type": "stream",
     "text": [
      "Se ha producido un error\n"
     ]
    }
   ],
   "source": [
    "# TRATAMIENTO DE EXCEPCIONES\n",
    "try:\n",
    "    numero= int(input(\"Escribeme un número:\"))\n",
    "except ValueError: # Debe escribirse el ValueError\n",
    "    print(\"Se ha producido un error\")"
   ]
  },
  {
   "cell_type": "code",
   "execution_count": 129,
   "id": "a8ab7140-3c51-4f94-bcc2-c5a968c7fd42",
   "metadata": {},
   "outputs": [
    {
     "name": "stdout",
     "output_type": "stream",
     "text": [
      "1368\n"
     ]
    }
   ],
   "source": [
    "# EJERCICIO abrir el fichero, considerar todos los elementos separados por espacios y sumar aquellos\n",
    "# que sean un número int válido\n",
    "\n",
    "def enteros_fichero(nombre_fichero):\n",
    "    sumatorio = 0\n",
    "    with open(nombre_fichero) as file:\n",
    "        for frase in file:\n",
    "            for palabra in frase.split():\n",
    "                if palabra.isdigit():\n",
    "                     sumatorio += int(palabra)   \n",
    "    print(sumatorio)\n",
    "                    \n",
    "enteros_fichero('frases2.txt')"
   ]
  },
  {
   "cell_type": "code",
   "execution_count": 130,
   "id": "c48ba55b-516a-4c61-9637-99741043a86e",
   "metadata": {},
   "outputs": [
    {
     "name": "stdout",
     "output_type": "stream",
     "text": [
      "1368\n"
     ]
    }
   ],
   "source": [
    "# Otra manera interesante\n",
    "\n",
    "def enteros_fichero(nombre_fichero):\n",
    "    sumatorio = 0\n",
    "    with open(nombre_fichero) as file:\n",
    "        for frase in file:\n",
    "            for palabra in frase.split():\n",
    "                try:\n",
    "                     sumatorio += int(palabra)\n",
    "                except ValueError:\n",
    "                    pass\n",
    "    print(sumatorio)\n",
    "                    \n",
    "enteros_fichero('frases2.txt')"
   ]
  },
  {
   "cell_type": "code",
   "execution_count": 154,
   "id": "8842dfc2-ccbe-49f2-99ec-37c1f7d62c51",
   "metadata": {},
   "outputs": [
    {
     "name": "stdout",
     "output_type": "stream",
     "text": [
      "El número de palabras distintas es: 3, y son {'casa', 'hola', 'gato'}\n"
     ]
    }
   ],
   "source": [
    "# Ejercicio\n",
    "# Escribe una función 'palabras_distintas' que recibe el nombre de un fichero y devuelve el nº de palabras distintas ignorando\n",
    "# mayúsuclas y minúsuclas que hay en el fichero\n",
    "\n",
    "def palabras_distintas(nombreFichero):\n",
    "    listadoFinal = []\n",
    "    with open(nombreFichero) as file:\n",
    "        for frase in file:\n",
    "            listado = list(frase.lower().split())\n",
    "            listadoFinal += listado\n",
    "        print(f'El número de palabras distintas es: {len(set(listadoFinal))}, y son {set(listadoFinal)}')\n",
    "\n",
    "palabras_distintas('frases3.txt')"
   ]
  },
  {
   "cell_type": "code",
   "execution_count": 157,
   "id": "782594b3-dcb1-4032-aed4-146407332cdd",
   "metadata": {},
   "outputs": [
    {
     "name": "stdout",
     "output_type": "stream",
     "text": [
      "El número de palabras distintas es: 3\n"
     ]
    }
   ],
   "source": [
    "# De otra manera: con f.read() podemos leer todo el fichero de primeras\n",
    "def palabras_distintas(nombreFichero):\n",
    "    palabras_distintas = 0\n",
    "    with open(nombreFichero) as file:\n",
    "        palabras_distintas= len(set(file.read().lower().split()))\n",
    "        print(f'El número de palabras distintas es: {palabras_distintas}')\n",
    "\n",
    "palabras_distintas('frases3.txt')"
   ]
  },
  {
   "cell_type": "code",
   "execution_count": 2,
   "id": "3b20a58f-8c93-405c-a745-c7f853b52ba5",
   "metadata": {},
   "outputs": [
    {
     "name": "stdout",
     "output_type": "stream",
     "text": [
      "Counter({'prueba': 2, 'esto': 1, 'es': 1, 'una': 1})\n",
      "Counter({'prueba': 1})\n",
      "Counter({'prueba': 2, '2': 2, 'esto': 1, 'es': 1, 'una': 1})\n",
      "Counter({'esto': 1, 'es': 1})\n",
      "Counter({'prueba': 1})\n",
      "El número de líneas que tienen palabras repetidas son 2\n"
     ]
    }
   ],
   "source": [
    "# Ejercicios para el fin de semana:\n",
    "# Haz una función para: \n",
    "#    - Leer un fichero y contar nº líneas donde hay palabras repetidas cuántas líneas tienen alguna palabra repetida\n",
    "#      en la misma línea\n",
    "import collections\n",
    "\n",
    "def read_repeat_count():\n",
    "    contador = 0\n",
    "    with open(\"ejer_fin_semana_1.txt\") as file:\n",
    "        for fila in file:\n",
    "            aux = collections.Counter(fila.split())\n",
    "            # contar las líneas donde hay palabras repetidas\n",
    "            print(aux)\n",
    "            for key,value in aux.items():\n",
    "                if int(value) > 1: \n",
    "                    contador += 1\n",
    "                    break\n",
    "    print(f'El número de líneas que tienen palabras repetidas son {contador}')\n",
    "    \n",
    "read_repeat_count()"
   ]
  },
  {
   "cell_type": "code",
   "execution_count": 86,
   "id": "2170590a-e24e-4d7b-973b-9e46cc6f310c",
   "metadata": {},
   "outputs": [
    {
     "name": "stdout",
     "output_type": "stream",
     "text": [
      "El número de líneas que tienen palabras con la misma longitud son: 2\n"
     ]
    }
   ],
   "source": [
    "# Ejercicios para el fin de semana:\n",
    "#\n",
    "# Haz una función para leer un fichero y contar el nº de líneas donde hay varias palabras con la misma longitud.\n",
    "# Si todas las palabras de una línea tienen longitudes distintas no se cuenta la línea, en otro caso sí.\n",
    "\n",
    "def words_same_len(fila):\n",
    "    diccionario={}\n",
    "    filaArray = fila.split()\n",
    "    for i,palabra in enumerate(filaArray):\n",
    "        diccionario[palabra] = len(palabra)\n",
    "\n",
    "    if(len(set(diccionario.values())) < len(diccionario.values())):\n",
    "        return True\n",
    "    else:\n",
    "        return False\n",
    "        \n",
    "def read_count_lines_same_len():\n",
    "    contador=0\n",
    "    with open(\"ejer_fin_semana_2.txt\") as file:\n",
    "        for i,fila in enumerate(file):\n",
    "            if words_same_len(fila):\n",
    "                contador +=1\n",
    "            \n",
    "    print(f'El número de líneas que tienen palabras con la misma longitud son: {contador}')\n",
    "\n",
    "read_count_lines_same_len()"
   ]
  },
  {
   "cell_type": "code",
   "execution_count": null,
   "id": "affc22ef-9940-49d4-b737-05eacb56644c",
   "metadata": {},
   "outputs": [],
   "source": []
  },
  {
   "cell_type": "code",
   "execution_count": 101,
   "id": "394f4581-0786-4ca8-9edb-da7e87a2dd7b",
   "metadata": {},
   "outputs": [
    {
     "name": "stdin",
     "output_type": "stream",
     "text": [
      "Escribe una cadena separada por comas 12,hola,4,gato,2\n"
     ]
    },
    {
     "name": "stdout",
     "output_type": "stream",
     "text": [
      "El resultado de multiplicar todos los enteros de la cadena es: 96\n"
     ]
    }
   ],
   "source": [
    "# Ejercicios para el fin de semana:\n",
    "# Haz una función que recibe una cadena de texto con valores separados por coma \",\" tome aquellos que sean números enteros \n",
    "# y los multiplique todos.\n",
    "# Ej:\n",
    "# producto(\"12,hola,4,gato,2\"\n",
    "# devuelve 96 (resultado de 1242)\n",
    "# si no hay números devulve 1\n",
    "\n",
    "def multiply_ints():\n",
    "    cadena = input(\"Escribe una cadena separada por comas\")\n",
    "    listInts = []\n",
    "    result = 0\n",
    "    for i, item in enumerate(cadena.split(\",\")):\n",
    "        if item.isdigit():\n",
    "            if i == 0:\n",
    "                result = int(item)\n",
    "            else:\n",
    "                result *= int(item)\n",
    "            listInts.append(int(item))\n",
    "    print(f'El resultado de multiplicar todos los enteros de la cadena es: {result}')\n",
    "\n",
    "multiply_ints()"
   ]
  },
  {
   "cell_type": "code",
   "execution_count": null,
   "id": "803edd39-e6df-4f6e-ae66-c1c71fc8864b",
   "metadata": {},
   "outputs": [],
   "source": []
  },
  {
   "cell_type": "code",
   "execution_count": 134,
   "id": "60475293-e196-469c-9fdf-064f25620a38",
   "metadata": {},
   "outputs": [
    {
     "name": "stdout",
     "output_type": "stream",
     "text": [
      "Cierto\n",
      "1...4\n",
      "Otra cosa\n",
      "[1, 2]\n"
     ]
    }
   ],
   "source": [
    "# Ejercicios para el fin de semana:\n",
    "# Haz una función que recibe una lista Python. Por cada elemento de la lista escribe por pantalla:\n",
    "#  - Si el valor es booleano imprimirá \"Cierto\" o \"Falso\" según sea True o False\n",
    "#  - Si es una lista con 2 o más elementos imrprimirá el primero \"...\" y el último\n",
    "#  - Una lista con menos de 2 la imprime tal cual\n",
    "#  - Cualquier otro valor pondrá \"Otra cosa\"\n",
    "#\n",
    "# PISTA:\n",
    "# 'isinstance(obj, tipo)'\n",
    "# \n",
    "# Ejemplo:\n",
    "# mostrar([True, [1,2,3,4], \"casa\"])\n",
    "#\n",
    "# Devuelve:\n",
    "# Cierto\n",
    "# 1....4\n",
    "# Otra cosa\n",
    "\n",
    "def get_values_of_items(lista):\n",
    "    for item in lista:\n",
    "        if isinstance(item, bool):\n",
    "            if item:\n",
    "                print(\"Cierto\")\n",
    "            else:\n",
    "                print(\"Falso\")\n",
    "        elif isinstance(item, list):\n",
    "            if len(item) >2:\n",
    "                print(f'{item[0]}...{item[-1]}')\n",
    "            else:\n",
    "                print(item)\n",
    "        else:\n",
    "            print(\"Otra cosa\")\n",
    "        \n",
    "\n",
    "sampleList = ([True, [1,2,3,4], \"casa\", [1,2]])\n",
    "get_values_of_items(sampleList)"
   ]
  }
 ],
 "metadata": {
  "kernelspec": {
   "display_name": "Python 3 (ipykernel)",
   "language": "python",
   "name": "python3"
  },
  "language_info": {
   "codemirror_mode": {
    "name": "ipython",
    "version": 3
   },
   "file_extension": ".py",
   "mimetype": "text/x-python",
   "name": "python",
   "nbconvert_exporter": "python",
   "pygments_lexer": "ipython3",
   "version": "3.11.7"
  }
 },
 "nbformat": 4,
 "nbformat_minor": 5
}
